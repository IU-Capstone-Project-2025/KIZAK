{
 "cells": [
  {
   "metadata": {
    "ExecuteTime": {
     "end_time": "2025-07-12T16:38:51.400936Z",
     "start_time": "2025-07-12T16:38:51.388619Z"
    }
   },
   "cell_type": "code",
   "source": [
    "import json\n",
    "\n",
    "from torch.ao.nn.quantized.functional import threshold\n",
    "\n",
    "# open and read content job_skills\n",
    "with open(\"job_skill.json\", \"r\", encoding='utf-8') as f:\n",
    "    job_skills = json.load(f)\n",
    "\n",
    "job_skills = [job for job in job_skills.values()]\n",
    "import pandas as pd\n",
    "import json\n",
    "\n",
    "# open and read content job_skills\n",
    "with open(\"job_skill.json\", \"r\", encoding='utf-8') as f:\n",
    "    job_skills = json.load(f)\n",
    "\n",
    "all_job_skills = [skill[\"skill\"] for profession in job_skills.values() for skill in profession]\n",
    "unique_job_skills = list(set(all_job_skills))\n",
    "\n",
    "print(unique_job_skills)\n",
    "print(len(all_job_skills), len(unique_job_skills))"
   ],
   "id": "bd5a6007ccb3b1bb",
   "outputs": [
    {
     "name": "stdout",
     "output_type": "stream",
     "text": [
      "['kotlin', 'sap', 'azure functions', 'python', 'github', 'nosql', 'airflow', 'ci cd', 'vba', 'unreal engine', 'livedata', 'animation basics', 'confluence', 'cloud security', 'ssrs', 'navigation component', 'java ee', 'prototyping', '1с документооборот', 'data modeling', 'cassandra', 'sas', 'blueprints', 'user research', 'yii', 'r', 'databricks', 'golang', 'rxswift', 'azure data factory', 'git', 'helpdesk', 'ssis', 'viper', 'kubernetes', 'penetration testing', 'linq', 'ab testing', 'puppet', 'data cleaning', 'elk stack', 'multithreading', 'quantitative research', 'azure blob', 'webpack', 'cybersecurity', 'rxjava', 'tensorflow', 'postman', 'persona creation', 'windows', 'feature engineering', 'graphics programming', 'scrum', 'keras', 'angular', 'presentation', 'test case', '1c предприятие', 'branding basics', 'message queues', 'sql', 'laravel', 'express.js', 'data pipelines', 'network configuration', 'elasticsearch', 'power bi', 'message brokers', 'data visualization', 'etl tools', 'scss', 'client management', 'kpi metrics', 'api', 'mvp', 'forecasting', 'swift', 'обновление конфигурации 1с', 'unit testing', 'user management', 'helm', 'scripting', 'gitlab', 'etl design', 'grafana', 'jest', 'scala', 'apache maven', 'ооп', 'rest', '1с битрикс', 'deep learning', 'encryption', 'spark', 'деловая коммуникация', 'shell', 'interaction design', 'bootstrap', 'hibernate orm', 'azure synapse', 'seaborn', 'shader programming', 'jetpack compose', 'android sdk', 'database security', 'json', 'matlab', 'java core', 'node.js', 'protobuf', 'figma', 'php', 'настройка по', 'sharepoint', 'razor', 'system architecture', 'alamofire', 'vmware', '1с программирование', 'solid', 'unix', '.net framework', 'flow', 'dagger', 'oauth', 'java', 'kafka', 'mlflow', 'hadoop', 'terraform', 'prometheus', 'regression testing', 'ui testing', 'ремонт пк', 'debugging', 'yii2', 'financial modeling', 'mvvm', 'xcode', 'настройка сетевых подключений', 'mongodb', 'functional testing', 'performance tuning', 'react', 'markdown', 'color theory', 'postgresql', 'kpi tracking', 'scikit-learn', 'photoshop', 'es6', 'ansible', 'pytorch', 'jquery', 'powershell', 'jenkins', 'mvc', 'asp.net', 'uikit', 'accessibility', 'настройка пк', 'cloud architecture', 'product thinking', 'erp системы на базе 1с', 'android', '1c бухгалтерия', 'entity framework', 'graphql', 'analytics tools', 'oracle', 'symfony', 'illustrator', '3d modeling basics', 'outlook', 'grpc', 'cocoapods', 'performance optimization', 'combine', 'django', 't sql', 'firewall management', 'субд', 'product management', 'siem tools', 'aws', 'looker', 'spss', 'etl', 'управление проектами', 'numpy', 'backup and recovery', 'excel', 'coroutines', 'javascript', 'pandas', 'oracle pl sql', 'firebase', 'typescript', 'room', 'gradle', 'budgeting', 'leadership', 'usability testing', 'gcp', '1с управление торговлей', 'c++', 'angularjs', 'typography', 'sql server', 'word', 'azure devops', 'pyspark', 'ajax', 'oop', 'redshift', 'cloud storage', 'project management', 'performance testing', 'delta lake', 'vulnerability assessment', 'jira', 'vue.js', 'viewmodel', 'docker', 'snowflake', 'bash', 'ms sql', 'xml', 'junit', 'api gateway', 'html', 'dax', 'flask', 'tableau', 'security audit', 'ruby', 'c#', 'wireframing', 'next.js', 'logstash', 'matplotlib', 'sqlalchemy', '1с зарплата и управление персоналом', 'manual testing', 'английский язык', 'rabbitmq', 'game physics', 'qlik', '.net', 'go', 'responsive design', 'security', 'incident response', 'tcp ip', 'rest api', 'system monitoring', 'dynamodb', 'css', 'data governance', '1с управление предприятием', 'redux', 'powerpoint', '.net core', 'api documentation', 'tailwind css', 'spring', 'scikit learn', 'retrofit', 'клиентоориентированность', '1с комплексная автоматизация', 'nginx', 'selenium', 'network programming', 'design thinking', 'statistics', 'physics engines', 'mysql', 'logging', 'chef', 'azure', 'bigquery', 'qualitative research', 'unity', 'ui design', 'ведение переговоров', 'java se', 'linux', 'lambda', '1с управление производственным предприятием', 'core data', 'cisco', 'alertmanager', 'information architecture', 'dbt', 'redis']\n",
      "1331 296\n"
     ]
    }
   ],
   "execution_count": 21
  },
  {
   "metadata": {
    "ExecuteTime": {
     "end_time": "2025-07-12T16:38:51.580066Z",
     "start_time": "2025-07-12T16:38:51.424135Z"
    }
   },
   "cell_type": "code",
   "source": [
    "import pandas as pd\n",
    "import ast\n",
    "\n",
    "df = pd.read_csv(\"courses_final.csv\")\n",
    "\n",
    "df['skills'] = df['skills'].apply(lambda x: ast.literal_eval(x) if isinstance(x, str) else x)\n",
    "\n",
    "all_courses_skills = df['skills'].explode()\n",
    "unique_course_skills = all_courses_skills.dropna().unique().tolist()\n",
    "\n",
    "print(unique_course_skills)\n",
    "print(len(all_courses_skills), len(unique_course_skills))\n"
   ],
   "id": "875f229d185b9580",
   "outputs": [
    {
     "name": "stdout",
     "output_type": "stream",
     "text": [
      "['NumPy', 'Data Manipulation', 'File Management', 'Data Structures', 'Application Programming Interface (API)', 'Data Analysis', 'Programming Principles', 'Web Scraping', 'Restful API', 'Object Oriented Programming (OOP)', 'Computer Programming', 'Jupyter', 'Python Programming', 'Data Import/Export', 'Pandas (Python Package)', 'Development Environment', 'Computational Thinking', 'Integrated Development Environments', 'Debugging', 'Algorithms', 'Problem Management', 'Network Protocols', 'Database Design', 'SQL', 'Data Collection', 'Data Visualization Software', 'Data Processing', 'Data Modeling', 'Test Driven Development (TDD)', 'Software Testing', 'Unit Testing', 'Plotly', 'Docker (Software)', 'Scripting', 'Git (Version Control System)', 'Data Ethics', 'Agile Methodology', 'Flask (Web Framework)', 'Web Development', 'Matplotlib', 'Statistical Modeling', 'Supervised Learning', 'Predictive Modeling', 'Regression Analysis', 'Data Cleansing', 'Data Pipelines', 'Descriptive Statistics', 'Feature Engineering', 'Scikit Learn (Machine Learning Library)', 'Data Wrangling', 'Exploratory Data Analysis', 'Data-Driven Decision-Making', 'Scripting Languages', 'Image Analysis', 'Unified Modeling Language', 'Software Design', 'Object Oriented Design', 'Computer Graphics', 'Pseudocode', 'Infrastructure as Code (IaC)', 'Technical Communication', 'Cloud Computing', 'Interviewing Skills', 'Puppet (Configuration Management Tool)', 'GitHub', 'Command-Line Interface', 'Unsupervised Learning', 'Applied Machine Learning', 'Dimensionality Reduction', 'Decision Tree Learning', 'Classification And Regression Tree (CART)', 'Machine Learning', 'Query Languages', 'Databases', 'Relational Databases', 'Transaction Processing', 'Stored Procedure', 'Database Management', 'Program Development', 'Application Development', 'Data Science', 'Artificial Intelligence', 'Scientific Visualization', 'Generative AI', 'ChatGPT', 'Large Language Modeling', 'Prompt Engineering', 'Automation', 'Software Development Tools', 'Dashboard', 'Data Literacy', 'Interactive Data Visualization', 'Cybersecurity', 'Cyber Security Assessment', 'Risk Analysis', 'Financial Data', 'Statistical Inference', 'Probability & Statistics', 'Financial Trading', 'Financial Analysis', 'Statistical Analysis', 'Financial Modeling', 'Statistical Methods', 'Network Monitoring', 'Threat Detection', 'Incident Response', 'Intrusion Detection and Prevention', 'Continuous Monitoring', 'Cyber Threat Intelligence', 'Data Access', 'Cyber Threat Hunting', 'Cyber Operations', 'Computational Logic', 'Computer Science', 'Unstructured Data', 'Graph Theory', 'Network Model', 'Text Mining', 'Data Visualization', 'Scatter Plots', 'Box Plots', 'Data Presentation', 'Heat Maps', 'Seaborn', 'Geospatial Information and Technology', 'Histogram', 'User Interface (UI) Design', 'Data Mining', 'Version Control', 'Business Logic', 'Persona (User Experience)', 'Productivity', 'Ingenuity', 'Agentic systems', 'Brainstorming', 'Tensorflow', 'Verification And Validation', 'Keras (Neural Network Library)', 'Deep Learning', 'Reinforcement Learning', 'Generative AI Agents', 'Bayesian Statistics', 'Statistical Programming', 'Sampling (Statistics)', 'Tableau Software', 'Data Storytelling', 'Game Design', 'Package and Software Management', 'Software Installation', 'Data Integration', 'Java', 'Pivot Tables And Charts', 'Statistics', 'Business Analytics', 'Correlation Analysis', 'Time Series Analysis and Forecasting', 'Style Guides', 'Web Applications', 'IBM Cloud', 'Software Development Life Cycle', 'Application Deployment', 'Code Review', 'Istio', 'HTML and CSS', 'Software Architecture', 'Full-Stack Web Development', 'Django (Web Framework)', 'Kubernetes', 'Probability Distribution', 'Web Services', 'Extensible Markup Language (XML)', 'TCP/IP', 'JSON', 'Hypertext Markup Language (HTML)', 'Data Capture', 'Extract, Transform, Load', 'Google Sheets', 'Spreadsheet Software', 'Excel Formulas', 'Big Data', 'Random Forest Algorithm', 'Machine Learning Methods', 'Inventory Control', 'Information Management', 'Operations Management', 'Business Operations', 'Decision Making', 'Transportation Operations', 'Production Planning', 'Information Systems', 'Logistics', 'Software Development', 'Microsoft Development Tools', 'Software Documentation', 'Data Storage', 'Functional Testing', 'Animation and Game Design', 'Software Engineering', 'Video Game Development', 'Software Quality (SQA/SQC)', 'Test Planning', 'Bootstrap (Front-End Framework)', 'Back-End Web Development', 'Maintainability', 'Test Engineering', 'Theoretical Computer Science', 'Network Routing', 'Operations Research', 'Test Case', 'Development Testing', 'Shell Script', 'Linux Commands', 'Unix', 'Operating Systems', 'Unix Commands', 'Unix Shell', 'OS Process Management', 'Bash (Scripting Language)', 'Data Validation', 'Data Transformation', 'Professional Development', 'Engineering Software', 'Stakeholder Communications', 'Cyber Attacks', 'Computer Security Incident Management', 'Security Controls', 'Asset Management', 'Investment Management', 'Advanced Analytics', 'Financial Market', 'Portfolio Management', 'Mathematical Modeling', 'Combinatorics', 'Cryptography', 'Applied Mathematics', 'Tree Maps', 'Linear Algebra', 'Application Security', 'Selenium (Software)', 'Object-Relational Mapping', 'JavaScript Frameworks', 'Front-End Web Development', 'Vue.JS', 'Secure Coding', 'Microsoft Azure', 'Cloud Applications', 'Musical Composition', 'Music', 'Trend Analysis', 'Marketing Analytics', 'Social Media', 'Social Media Marketing', 'Natural Language Processing', 'Bioinformatics', 'Customer Analysis', 'Analytical Skills', 'Simulations', 'OpenAI', 'Artificial Intelligence and Machine Learning (AI/ML)', 'Network Security', 'MITRE ATT&CK Framework', 'IT Automation', 'Design Strategies', 'Systems Integration', 'Prototyping', 'Interoperability', 'Forecasting', 'Technical Support', 'IT Infrastructure', 'Computer Hardware', 'Applicant Tracking Systems', 'Microsoft Windows', 'Computer Security', 'Network Administration', 'Information Systems Security', 'File Systems', 'Risk Management', 'Data Analysis Software', 'Virtual Environment', 'Artificial Neural Networks', 'Computer Vision', 'Computer Programming Tools', 'Probability', 'Statistical Hypothesis Testing', 'Database Systems', 'Plot (Graphics)', 'Data Mapping', 'Event-Driven Programming', 'Interactive Design', 'Peer Review', 'Test Automation', 'UI Components', 'Apache Hadoop', 'Apache Airflow', 'MySQL', 'Apache Kafka', 'Data Warehousing', 'Apache Spark', 'Data Store', 'IBM DB2', 'Collaborative Software', 'MongoDB', 'Grafana', 'OpenShift', 'Performance Tuning', 'Statistical Visualization', 'Graphing', 'Visualization (Computer Graphics)', 'Machine Learning Algorithms', 'Shiny (R Package)', 'Ggplot2', 'Animations', 'User Interface (UI)', 'Stress Management', 'Open Source Technology', 'Jest (JavaScript Testing Framework)', 'React.js', 'Mobile Development', 'Responsive Web Design', 'Javascript', 'Network Analysis', 'Penetration Testing', 'Authentications', 'Self Service Technologies', 'Cloud API', 'Predictive Analytics', 'Microservices', 'Service Oriented Architecture', 'API Gateway', 'Amazon DynamoDB', 'NoSQL', 'Serverless Computing', 'Amazon Web Services', 'Anomaly Detection', 'Numerical Analysis', 'MLOps (Machine Learning Operations)', 'Ideation', 'Expense Management', 'Document Management', 'Scalability', 'Content Creation', 'Microsoft Visual Studio', 'Infectious Diseases', 'Web Development Tools', 'Cloud Technologies', 'Cloud-Native Computing', 'Cloud Security', 'Node.JS', 'Embedded Systems', 'Linux', 'Internet Of Things', 'Functional Requirement', 'Electronic Hardware', 'System Design and Implementation', 'Hardware Design', 'Requirements Analysis', 'Embedded Software', 'Basic Electrical Systems', 'Calculus', 'PyTorch (Machine Learning Library)', 'Performance Metric', 'Performance Testing', 'Snowflake Schema', 'Site Reliability Engineering', 'Devops Tools', 'Databricks', 'R Programming', 'Other Programming Languages', 'Agile Software Development', 'Gherkin (Scripting Language)', 'Continuous Integration', 'Jenkins', 'Java Programming', 'Business Economics', 'Operational Analysis', 'Biostatistics', 'Data Management', 'Database Application', 'User Feedback', 'Data Quality', 'Stakeholder Engagement', 'Business Analysis', 'Target Audience', 'Marketing Strategies', 'A/B Testing', 'Business Metrics', 'Estimation', 'Return On Investment', 'Cloud Computing Architecture', 'Mathematical Software', 'Advanced Mathematics', 'Derivatives', 'Integral Calculus', 'Linux Administration', 'Encryption', 'Threat Modeling', 'Engineering Analysis', 'Vibrations', 'Mechanics', 'Finite Element Methods', 'Differential Equations', 'Distributed Computing', 'Scenario Testing', 'Hardware Architecture', 'Arithmetic', 'Logical Reasoning', 'Software Design Patterns', 'Systems Development', 'Software Development Methodologies', 'Design', '3D Modeling', 'Graphic and Visual Design', 'Functional Design', 'Descriptive Analytics', 'Database Development', 'Analysis', 'Biology', 'Molecular Biology', 'C++ (Programming Language)', 'Medical Imaging', 'Persona Development', 'Plan Execution', 'Information Architecture', 'Ajax', 'Life Sciences', 'Biochemistry', 'Markov Model', 'Medical Science and Research', 'Pharmacology', 'Radiology', 'Systems Architecture', 'Safety Assurance', 'Control Systems', 'Risk Management Framework', 'Microsoft Excel', 'Scala Programming', 'Neurology', 'Matlab', 'Technical Documentation', 'Application Performance Management', 'Network Troubleshooting', 'Incident Management', 'System Support', 'System Monitoring', 'Statistical Machine Learning', 'Accounting', 'Market Trend', 'Technical Analysis', 'Google Cloud Platform', 'Deductive Reasoning', 'Cyber Security Strategy', 'Software Visualization', 'Creative Design', 'Integration Testing', 'Mac OS', 'Cross Platform Development', 'Augmented Reality', 'Electronics', 'Digital Communications', 'Electrical Engineering', 'Engineering Calculations', 'Data Integrity', 'Rust (Programming Language)', 'Cloud Solutions', 'Analytics', 'Statistical Software', 'Sample Size Determination', 'Market Data', 'Finance', 'Equities', 'Risk Modeling', 'IBM Cognos Analytics', 'Containerization', 'DevOps', 'CI/CD', 'Application Frameworks', 'Web Servers', 'Model View Controller', 'Remote Access Systems', 'Go (Programming Language)', 'Angular', 'Torque (Physics)', 'Engineering', 'Simulation and Simulation Software', 'Infrastructure Architecture', 'Quantitative Research', 'Financial Forecasting', 'Securities Trading', 'Variance Analysis', 'Data Storage Technologies', 'Spatial Data Analysis', 'Computer Engineering', 'Computer Architecture', 'Application Specific Integrated Circuits', 'E-Commerce', 'Customer Service', 'User Flows', 'Semantic Web', 'Python', 'Resource Management', 'JavaScript (Programming Language)', 'Forensic Sciences', 'SQL (Programming Language)', 'HyperText Markup Language (HTML)', 'Python (Programming Language)', 'C (Programming Language)', 'Security Software', 'Cascading Style Sheets (CSS)', 'IBM Cognos Business Intelligence', 'Spreadsheets', 'Personal Computers', 'Boolean Expression', 'Web Browsers', 'Regular Expressions', 'Business Marketing', 'User Experience', 'Web Accessibility Initiative', 'Rich Internet Application', 'Information Technology', 'International Standards', 'Web Content Accessibility Guidelines', 'Cooperation', 'Assistive Technology', 'Web Accessibility', 'Mathematical Optimization', 'Proofreading', 'Intelligent Systems', 'Search Algorithms', 'Handwriting Recognition', 'Medical Diagnosis', 'Machine Translation', 'Google Cloud', 'Cloud Services', 'Github', 'Usability', 'Cyber Security', 'Watson Studio', 'Speech Recognition', 'Principal Component Analysis', 'Recommender Systems', 'Visual Programming Language (VPL)', 'Java (Programming Language)', 'Typing', 'Dplyr', 'Sorting', 'R (Programming Language)', 'Document Preparations', 'RStudio', 'File Organization', 'Parsing', 'Scikit-learn (Machine Learning Library)', 'Scientific Methods', 'Data Entry', 'Vlookups', 'Basic Math', 'Anatomy', 'Excel Macros', 'Keyboard Shortcuts', 'Conditional Formatting', 'Troubleshooting (Problem Solving)', 'Internet Protocols Suite', 'Multitier Architecture', 'Infrastructure', 'SQLite', 'PostgreSQL', 'Foreign Keys', 'Experimentation', 'Linux Distribution', 'Mainframe Computing', 'Supercomputing', 'Graphical User Interface', 'Android (Operating System)', 'Health Economics', 'Online Analytical Processing', 'Data Abstraction', 'Persistence', 'Reliability', 'Concurrency Controls', 'Authorization (Computing)', 'Full Stack Development', 'Cloud Development', 'Front End (Software Engineering)', 'HTML5', 'Back End (Software Engineering)', 'Project Files', 'Gitlab', 'User Interface', 'Language Translation', 'Chatbot', 'Blog Posts', 'Language Model', 'Communications', 'Writing', 'Extract Transform Load (ETL)', 'Data Lakes', 'Critical Thinking', 'Divide And Conquer', 'Dynamic Programming', 'Power BI', 'Report Writing', 'Microsoft 365', 'Infographics', 'Virtual Machines', 'Tax Collections', 'Securities (Finance)', 'Monte Carlo Methods', 'Probability Theories', 'Financial Crisis', 'Random Variables', 'Lasso (Programming Language)', 'Support Vector Machine', 'Linear Discriminant Analysis', 'Logistic Regression', 'Boosting', 'Polynomial Regression', 'K-Means Clustering', 'Lecturing', 'Statistical Learning Theory', 'Sales', 'Scrum (Software Development)', 'Systems Development Life Cycle', 'Marketing', 'Business Case', 'Blockchain', 'Platform as a Service (PaaS)', 'Software as a Service (SaaS)', 'Cloud Security Infrastructure', 'Multi-Cloud', 'Hybrid Cloud Computing', 'Infrastructure As A Service (IaaS)', 'IBM Cloud Computing', 'Cloud Computing Security', 'Cloud Engineering', 'File Explorer', 'Virtualization', 'Cloud Infrastructure', 'Reliability Engineering', 'Private Cloud', 'Public Cloud', 'Cloud Security Architecture', 'Prediction', 'Economics', 'Stochastic Process', 'Medical Testing', 'Engineering Economics', 'Research', 'Transfer Learning', 'Problem Solving', 'Object-Oriented Programming (OOP)', 'Abstract Data Types', 'Time Complexity', 'Nodes (Networking)', 'Operations', 'SciPy', 'Web Pages', 'Multimedia', 'User Interface Design', 'Node.js', 'Linear Regression', 'Open-Source Software', 'Cloud Foundry', 'Software Defined Networking (SDN)', 'OpenStack', 'Network Computing', 'Tooling', 'Social Sciences', 'Normal Distribution', 'Management', 'Ping (Networking Utility)', 'Grep', 'cURL', 'Access Controls', 'Cron', 'Shell Commands', 'Linux Servers', 'Wget', 'Text Processing', 'Ifconfig', 'Internet Of Things (IoT)', 'Sourcing', 'Smart Device', '5G Technology', 'Pulse-Width Modulation', 'Connected Devices', 'Digital Audio Player', 'Peripheral Devices', 'Web Standards', 'Web Design', 'Look And Feel', 'Top Secret-Sensitive Compartmented Information (TS/SCI Clearance)', 'Built Environment', 'Stack Overflow', 'Server-Side', 'Continuous Delivery', 'JavaScript Libraries', 'Web Application Frameworks', 'ECMAScript 2015', 'RESTful API', 'Callback Functions', 'WordPress', 'Selling Techniques', 'Business Intelligence', 'Data Engineering', 'Reporting Tools', 'Workflow Management', 'Directed Acyclic Graph (Directed Graphs)', 'Clinical Study Design', 'Causal Inference', 'GraphQL', 'Front End Design', 'Reference Cards', 'Curiosity', 'Autoencoders', 'Feed Forward', 'Convolutional Neural Networks', 'Quantum Computing', 'Quantum Physics', 'Elementary Algebra', 'Bitcoin', 'Ethereum', 'Sustainable Development', 'Lean Manufacturing', 'Kanban Principles', 'Iterative And Incremental Development', 'Planning', 'Continuous Improvement Process', 'User Story', 'Refining', 'Test-Driven Development (TDD)', 'Business Requirements', 'Database Storage Structures', 'Fault Tolerance', 'TensorFlow', 'Audio Signal Processing', 'ARM Architecture', 'Screen Capture', 'Hard Disk Drives', 'Expansion Cards', 'Motherboard', 'Help Desk Support', 'Graphic Communication', 'Algebra', 'Design Theory', 'Market Research', 'Syntax', 'Collections', 'Procedural Programming', 'Local Area Networks', 'Communications Protocols', 'Security Policies', 'Risk Mitigation', 'Computer Networks', 'Metropolitan Area Networks', 'Virtual Private Networks (VPN)', 'Wide Area Networks', 'Network Topology', 'Metro Ethernet', 'Vulnerability', 'eSports Management', 'eSports', 'Innovation', 'Templates', 'Probability And Statistics', 'Set Theory', 'Information Privacy', 'Endpoint Security', 'Patch Management', 'System Administration', 'Cybersecurity Compliance', 'Server Administration', 'Smartphone Operation', 'Security Systems', 'Open Systems Interconnection', 'SQL Injection', 'Database Security', 'Eigenvalues And Eigenvectors', 'Systems Of Equations', 'Abstractions', 'Integration', 'Addressing Ethical Concerns', 'Semantics', 'DirectX (Software)', 'Visual Impairment Education', '3D Computer Graphics', 'Autodesk Maya', 'OpenGL', 'Autodesk 3DS Max (3D Graphics Software)', 'Ray Tracing', 'Virtual Reality', 'OpenGL Shading Language', 'Computer-Aided Design', 'Programming Concepts', 'Medical Research', 'Digital Data', 'Diabetes Mellitus', 'Electronic Medical Record', 'Clinical Trials', 'Blood Pressure', 'Population Health', 'Blood Sugar', 'Packaging And Labeling', 'Control Structures', 'Standard Deviation', 'Exception Handling', 'Web UI', 'AWS CodeBuild', 'Infrastructure Management', 'Staging Area', 'Workflows', 'Data Pipeline', 'Benchmarking', 'Product Lifecycle', 'Parallel Processing', 'Satellite Imagery', 'Spark Streaming', 'Apache Hive', 'Resilience', 'Pyspark', 'Motivational Skills', 'JQuery', 'Code Editor', 'Curve Fitting', 'Dataflow', 'Presentations', 'Character Encodings In HTML', 'Rapid Prototyping', 'Web Platforms', 'Actuarial Science', 'Quality Assurance', 'Service-Level Agreement', 'AWS Lambda', 'Amazon Elastic Container Service', 'Amazon API Gateway', 'Amazon Elastic Compute Cloud', 'Hosting', 'Amazon Cognito', 'Cloud-Native Applications', 'Internet Hosting Service', 'Amazon Elastic Kubernetes Service', 'Boundary Testing', 'System Testing', 'Code Coverage', 'Testability', 'Motion Planning', 'Localization', 'Kinematics', 'Emerging Technologies', 'Digital Logic', 'Logic Synthesis', 'Circuit Design', 'Reduced Instruction Set Computing', 'Verilog', 'Open Source Development', 'Microarchitecture', 'Polymorphism', 'Microprocessor', 'WebAssembly', 'Circuit Breakers', 'Creativity', 'Autonomous Vehicles', 'Asynchronous Serial Communication', 'Real-Time Operating Systems', 'Multitasking', 'Bill Of Materials', 'Data Transmissions', 'Financial Technology (FinTech)', 'Association Of Chartered Certified Accountants', 'Business Strategies', 'Data Auditing', 'Mobile Application Development', 'UX Research', 'Research Design', 'User Experience Design (UX)', 'Human-Centered Design', 'Design Thinking', 'Human Factors', 'Information Visualization', 'Human Factors Engineering', 'Design Elements And Principles', 'Interface Design', 'Cognitive Load Theory', 'Psychology', 'Cryptanalysis', 'DNA Sequencing', 'Computer Simulation', 'English Language', 'Ruby (Programming Language)', 'Relational Database Management Systems', 'Relational Database Design', 'Binary Search Trees', 'Java Object Oriented Querying', 'Data Warehouse Systems', 'Star Schema', 'Materialized View', 'Business Intelligence Tools', 'Jupyter Notebook', 'Markdown', 'Cash Flow Management', 'Cost Management', 'Customer Demand Planning', 'Purchasing', 'Accountability', 'Procurement', 'Financial Management', 'Cloud Financial Management (FinOps)', 'Compilers', 'Autoscaling', 'Applications Of Artificial Intelligence', 'Business Valuation', 'Electronic Music', 'MIDI', 'Music Technology', 'Computational Tools', 'Software Release Life Cycle', 'Behavior-Driven Development', 'On-Time Performance', 'Data Preprocessing', 'Statistical Packages', 'Account Strategy', 'AWS Certified Solutions Architect Associate', 'Architectural Design', 'Operational Efficiency', 'Solution Architecture', 'Algorithm Design', 'Greedy Algorithm', 'Automated Teller Machine', 'Supply Chain', 'Voice Assistant Technology', 'Database Administration', 'Backup Devices', 'Linux Kernel', 'Disk Cloning', 'Pattern Recognition', 'Image Processing', 'Anaconda (Software)', 'XPath', 'Telecommunications', 'Extensible Stylesheet Language Transformations (XSLT)', 'Human Readable', 'XQuery', 'Database as a Service (DBaaS)', 'Database Permissions', 'Apache Cassandra', 'Cloudant', 'Data as a Service (DaaS)', 'Space Stations', 'Diversity Management', 'User Accounts', 'Ledgers (Accounting)', 'Distributed Ledgers', 'Hyperledger', 'Microsoft Outlook', 'Information Extraction', 'Financial Services', 'Mathematical Finance', 'Cost Reduction', 'Static Files', 'Monoliths', 'Spanning Tree Protocols', 'Graph Algorithms', 'Shortest Path Problem', 'Pattern Matching', 'Brute Force Attacks', 'Computing Platforms', 'Android Applications', 'Bluetooth Low Energy (Bluetooth)', 'Device Management', 'Zigbee', 'Fertilizers', 'Agriculture', 'Soil Science', 'Animal Science', 'Pesticides', 'Hadoop Distributed File System (HDFS)', 'Written Composition', 'Immutability', 'Foods', 'Precision Agriculture', 'MapReduce', 'Process Improvement', 'Medical Records', 'Health Care Industry', 'Health Information Technology', 'Informatics', 'Health Informatics', 'Toolchain', 'Model Validation', 'Data Ingestion', 'Sampling Design', 'Chi-Squared Tests', 'Contingency Tables', 'C Dynamic Memory Allocation', 'Memory Management', 'Programming Environments', 'Unity Engine', '3d Engine', 'C# (Programming Language)', 'Stereophonic Sound System', 'Balancing (Ledger/Billing)', 'Sorting Algorithm', 'Digital Transformation', 'Persuasive Communication', 'Network Operating System (NOS)', 'Network Switches', 'Systems Engineering', 'Network Automation', 'Network Functions Virtualization', 'Service Provider', 'Textiles', 'Networking Hardware', 'Data Cube', 'Epidemiology', 'Political Sciences', 'Ecology', 'Markov Chain Monte Carlo', 'Software Construction', 'Software Systems', 'Object-Oriented Design', 'Online Service Provider', 'Flow Control', 'User Research', 'Qualitative Research', 'Web Analytics', 'Qualitative Data Analysis', 'Usability Testing', 'Storage Devices', 'Open Web Application Security Project (OWASP)', 'Static Application Security Testing (SAST)', 'Dynamic Program Analysis', 'DevSecOps', 'Maximum Likelihood', 'CompTIA IT Fundamentals', 'Grammar', 'Pie Charts', 'Leaflet (Software)', 'Linked Lists', 'Statistical Reporting', 'Public Policies', 'Cryptocurrency', 'Design Software', 'Security Requirements Analysis', 'Service-Oriented', 'Digital Electronics', 'Assembly Language', 'Digital Systems', 'Leadership', 'Higher Education', 'Public Service', 'Technology Ecosystems', 'Software Versioning', 'Nested Queries', 'Cloud Automation']\n",
      "6561 1052\n"
     ]
    }
   ],
   "execution_count": 22
  },
  {
   "metadata": {
    "ExecuteTime": {
     "end_time": "2025-07-12T16:38:51.612451Z",
     "start_time": "2025-07-12T16:38:51.599273Z"
    }
   },
   "cell_type": "code",
   "source": [
    "import re\n",
    "\n",
    "def clean_skill(skill: str) -> str:\n",
    "    cleaned = re.sub(r'\\s*\\(.*?\\)', '', skill)\n",
    "    return cleaned.strip().lower()\n",
    "\n",
    "cleaned_course_skills = list(set([clean_skill(skill) for skill in unique_course_skills]))\n",
    "print(cleaned_course_skills)"
   ],
   "id": "1a1a72fe652ef836",
   "outputs": [
    {
     "name": "stdout",
     "output_type": "stream",
     "text": [
      "['sales', 'divide and conquer', 'embedded software', 'semantic web', 'data entry', 'language translation', 'nodes', 'user story', 'technical analysis', 'data as a service', 'network topology', 'statistical programming', 'prediction', '3d computer graphics', 'pesticides', 'securities trading', 'data storage', 'prototyping', 'blood pressure', 'linear discriminant analysis', 'full-stack web development', 'data processing', 'programming concepts', 'event-driven programming', 'localization', 'database permissions', 'user research', 'extensible markup language', 'statistical hypothesis testing', 'peer review', 'cron', 'computer-aided design', 'voice assistant technology', 'data analysis', 'language model', 'online service provider', 'usability', 'version control', 'analysis', 'software design', 'tensorflow', 'test automation', 'c', 'ecmascript 2015', 'customer service', 'microsoft 365', 'computer security', 'human readable', 'persuasive communication', 'applicant tracking systems', 'openshift', 'biostatistics', 'software development', 'financial data', 'data capture', 'generative ai agents', 'sorting', 'critical thinking', 'system testing', 'react.js', 'probability distribution', 'authorization', 'data mapping', 'transportation operations', 'web development tools', 'process improvement', 'apache cassandra', 'applied machine learning', 'unit testing', 'microsoft windows', '3d engine', 'parallel processing', 'autoscaling', 'amazon cognito', 'information technology', 'presentations', 'network computing', 'statistical reporting', 'logistics', 'apache kafka', 'service-level agreement', 'resource management', 'internet protocols suite', 'deep learning', 'random variables', 'software versioning', 'dashboard', 'digital electronics', 'computer programming tools', 'technical communication', 'linear regression', 'bootstrap', 'feed forward', 'game design', 'support vector machine', 'large language modeling', 'microservices', 'distributed ledgers', 'other programming languages', 'materialized view', 'medical testing', 'statistical methods', 'dataflow', 'tooling', 'database security', 'application frameworks', 'software development methodologies', 'business economics', 'document preparations', 'web platforms', 'integrated development environments', 'actuarial science', 'operational efficiency', 'precision agriculture', 'eigenvalues and eigenvectors', 'technology ecosystems', 'compilers', 'animations', 'responsive web design', 'human factors', 'unix', 'logical reasoning', 'return on investment', 'style guides', 'data cube', 'nested queries', 'callback functions', 'dna sequencing', 'debugging', 'digital transformation', 'software quality', 'application programming interface', 'algorithms', 'digital communications', 'automation', 'ethereum', 'agentic systems', 'mobile development', 'cyber security assessment', 'satellite imagery', 'user interface design', 'deductive reasoning', 'data preprocessing', 'motivational skills', 'statistical machine learning', 'international standards', 'business valuation', 'pytorch', 'look and feel', 'workflow management', 'interactive design', 'ledgers', 'back-end web development', 'wget', 'esports', 'kinematics', 'html and css', 'webassembly', 'remote access systems', 'addressing ethical concerns', 'cloud technologies', 'torque', 'rust', 'restful api', 'functional design', 'hard disk drives', 'it infrastructure', 'geospatial information and technology', 'statistical inference', 'iterative and incremental development', 'qualitative data analysis', 'django', 'english language', 'authentications', 'ggplot2', 'pseudocode', 'internet hosting service', 'access controls', 'data visualization software', 'standard deviation', 'multitier architecture', 'open source technology', 'templates', 'linear algebra', 'network protocols', 'virtual machines', 'interactive data visualization', 'devops tools', 'interface design', 'k-means clustering', 'static application security testing', 'unified modeling language', 'lean manufacturing', 'cloudant', 'leadership', 'program development', 'computer engineering', 'web standards', 'syntax', 'pyspark', 'operations', 'performance testing', 'open-source software', 'typing', 'infrastructure management', 'istio', 'mobile application development', 'human factors engineering', 'hyperledger', 'cloud foundry', 'problem management', 'predictive analytics', 'pharmacology', 'classification and regression tree', 'boolean expression', 'aws certified solutions architect associate', 'computing platforms', 'speech recognition', 'scipy', 'security requirements analysis', 'data integration', 'stored procedure', 'reporting tools', 'principal component analysis', 'front-end web development', 'private cloud', 'risk modeling', 'data abstraction', 'microprocessor', 'reliability engineering', 'product lifecycle', 'bioinformatics', 'scientific methods', 'keyboard shortcuts', 'java programming', 'radiology', 'multitasking', 'data wrangling', 'financial analysis', 'object-relational mapping', 'stack overflow', 'agile software development', 'design thinking', 'statistics', 'cloud api', 'safety assurance', 'population health', 'mac os', 'natural language processing', 'financial crisis', 'data management', 'internet of things', 'boundary testing', 'network automation', 'polymorphism', 'data presentation', 'scatter plots', 'dynamic program analysis', 'cloud computing', 'project files', 'data warehouse systems', 'ibm cloud', 'immutability', 'cash flow management', 'reduced instruction set computing', 'python', 'development testing', 'java object oriented querying', 'boosting', 'business intelligence tools', 'purchasing', 'design strategies', 'market research', 'development environment', 'estimation', 'amazon elastic container service', 'planning', 'model validation', 'mechanics', 'database development', 'digital audio player', 'data transformation', 'javascript libraries', 'software development tools', 'web development', 'virtual environment', 'content creation', 'databricks', 'r', 'wide area networks', 'cloud engineering', 'r programming', 'motion planning', 'databases', 'kubernetes', 'penetration testing', 'software systems', 'business analytics', 'supercomputing', 'political sciences', 'python programming', 'esports management', 'operations management', 'apache hadoop', 'decision tree learning', 'quantitative research', 'cloud solutions', 'motherboard', 'algebra', 'aws codebuild', 'unstructured data', 'bluetooth low energy', 'cybersecurity', 'recommender systems', 'computer security incident management', 'database systems', 'scrum', 'angular', 'extract transform load', 'cryptanalysis', 'user interface', 'staging area', 'storage devices', 'sql', 'information systems security', 'user accounts', 'transaction processing', 'zigbee', 'web ui', 'forensic sciences', 'file explorer', 'basic math', 'built environment', 'generative ai', 'a/b testing', 'database administration', 'shiny', 'scripting', 'gitlab', 'space stations', 'soil science', 'software release life cycle', 'hardware architecture', 'market data', 'anaconda', 'bitcoin', 'linux distribution', 'cyber threat intelligence', 'amazon web services', 'portfolio management', 'ping', 'neurology', 'animation and game design', 'software development life cycle', 'document management', 'application performance management', 'software visualization', 'software construction', 'character encodings in html', 'computer architecture', 'front end', 'pattern recognition', 'computer networks', 'persistence', 'causal inference', 'excel macros', 'personal computers', 'intelligent systems', 'patch management', 'medical records', 'music technology', 'amazon api gateway', 'autodesk maya', 'textiles', 'regression analysis', 'web servers', 'java', 'interviewing skills', 'management', 'report writing', 'anatomy', 'image analysis', 'wordpress', 'problem solving', 'financial modeling', 'jupyter', 'mathematical optimization', 'design elements and principles', 'balancing', 'business requirements', 'tcp/ip', 'systems engineering', 'packaging and labeling', 'information privacy', 'scikit-learn', 'extensible stylesheet language transformations', 'cyber security strategy', 'asset management', 'ideation', 'markov model', 'markov chain monte carlo', 'grammar', 'open web application security project', 'jenkins', 'finance', 'cooperation', 'algorithm design', 'financial technology', 'financial management', 'graphql', 'collections', 'virtual reality', 'shell commands', 'chi-squared tests', 'memory management', 'leaflet', 'service provider', 'linux administration', 'continuous improvement process', 'electronic hardware', 'box plots', 'cyber security', 'dplyr', 'bill of materials', 'smartphone operation', 'smart device', 'model view controller', 'refining', 'code editor', 'probability', 'mathematical software', 'vibrations', 'stereophonic sound system', 'serverless computing', 'chatbot', 'quality assurance', '3d modeling', 'intrusion detection and prevention', 'blog posts', 'network security', 'full stack development', 'greedy algorithm', 'database storage structures', 'life sciences', 'health economics', 'engineering software', 'ibm cognos business intelligence', 'testability', 'computational thinking', 'network monitoring', 'jupyter notebook', 'ifconfig', 'machine learning algorithms', 'data access', 'ajax', 'systems architecture', 'web browsers', 'cloud automation', 'autodesk 3ds max', 'data store', 'spatial data analysis', 'infrastructure as code', 'regular expressions', 'grep', 'docker', 'user feedback', 'web accessibility', 'tree maps', 'reference cards', 'api gateway', 'statistical packages', 'online analytical processing', 'virtualization', 'flask', 'applications of artificial intelligence', 'public service', 'social sciences', 'circuit design', 'metro ethernet', 'scientific visualization', 'sample size determination', 'health informatics', 'systems development', 'diversity management', 'cloud security infrastructure', 'data validation', 'infectious diseases', 'agile methodology', 'technical documentation', 'data warehousing', 'devops', 'audio signal processing', 'concurrency controls', 'blockchain', 'amazon elastic kubernetes service', 'customer demand planning', 'software architecture', 'data import/export', 'incident response', 'test-driven development', 'descriptive analytics', 'image processing', 'simulation and simulation software', 'exploratory data analysis', 'financial forecasting', 'ray tracing', 'integral calculus', 'augmented reality', 'disk cloning', 'scikit learn', 'directed acyclic graph', 'cloud applications', 'plan execution', 'apache spark', 'software testing', 'analytics', 'ux research', 'design software', 'customer analysis', 'design theory', 'business analysis', 'procurement', 'foreign keys', 'rstudio', 'information architecture', 'network administration', 'video game development', 'sqlite', 'search algorithms', 'advanced analytics', 'comptia it fundamentals', 'ui components', 'operational analysis', 'nosql', 'verification and validation', 'shell script', 'molecular biology', 'query languages', 'electronic medical record', 'toolchain', 'javascript frameworks', 'machine translation', 'web content accessibility guidelines', 'lecturing', 'cognitive load theory', 'health information technology', 'control structures', 'risk mitigation', 'interoperability', 'data modeling', 'integration testing', 'rich internet application', 'chatgpt', 'ibm cognos analytics', 'curiosity', 'business intelligence', 'cryptography', 'web accessibility initiative', 'lasso', 'data cleansing', 'git', 'text processing', 'device management', 'artificial intelligence', 'engineering analysis', 'test planning', 'pulse-width modulation', 'design', 'plot', 'supervised learning', 'data quality', 'data ethics', 'object oriented design', 'microsoft outlook', 'backup devices', 'engineering calculations', 'scripting languages', 'probability theories', 'feature engineering', 'amazon elastic compute cloud', 'histogram', 'keras', 'metropolitan area networks', 'apache hive', 'test case', 'production planning', 'systems integration', 'accountability', 'hosting', 'functional requirement', 'cloud financial management', 'web services', 'information management', 'fault tolerance', 'network model', 'data visualization', 'marketing analytics', 'accounting', 'electrical engineering', 'power bi', 'benchmarking', 'unsupervised learning', 'calculus', 'database design', 'forecasting', 'application security', 'stakeholder communications', 'mainframe computing', 'verilog', 'jest', 'unix commands', 'monoliths', 'spark streaming', 'digital systems', 'infrastructure architecture', 'graphic communication', 'openstack', 'probability & statistics', 'brainstorming', 'software engineering', 'file systems', 'back end', 'security policies', 'encryption', 'research design', 'star schema', 'top secret-sensitive compartmented information', 'data analysis software', 'expense management', 'assistive technology', 'heat maps', 'curl', 'linux kernel', 'expansion cards', 'midi', 'json', 'communications', 'applied mathematics', 'visual programming language', 'bayesian statistics', 'system administration', 'networking hardware', 'excel formulas', 'distributed computing', 'binary search trees', 'reinforcement learning', 'statistical software', 'business logic', 'procedural programming', 'information visualization', 'computational tools', 'web pages', 'sampling', 'basic electrical systems', 'differential equations', 'endpoint security', 'web design', 'real-time operating systems', 'predictive modeling', 'microarchitecture', 'association of chartered certified accountants', 'data storytelling', 'spanning tree protocols', 'mongodb', 'file management', 'functional testing', 'performance tuning', 'markdown', 'network troubleshooting', 'service-oriented', 'public policies', 'help desk support', 'persona', 'web application frameworks', 'integration', 'quantum physics', 'workflows', 'jquery', 'creativity', 'linux servers', 'application development', 'collaborative software', 'software defined networking', 'autonomous vehicles', 'psychology', 'cryptocurrency', 'user experience', 'android', 'cloud computing security', 'screen capture', 'devsecops', 'machine learning', 'front end design', 'pattern matching', 'abstract data types', 'autoencoders', 'programming principles', 'computer graphics', 'systems of equations', 'sorting algorithm', 'automated teller machine', 'plotly', 'hardware design', 'engineering', 'normal distribution', 'descriptive statistics', 'sourcing', 'numpy', 'application specific integrated circuits', 'artificial intelligence and machine learning', 'convolutional neural networks', 'machine learning methods', 'trend analysis', 'javascript', 'graph algorithms', 'animal science', 'embedded systems', 'cascading style sheets', 'infrastructure', 'platform as a service', 'statistical visualization', 'server administration', 'user flows', 'computational logic', 'object-oriented programming', 'operating systems', 'data science', 'higher education', 'extract, transform, load', 'computer vision', 'electronic music', 'web analytics', 'microsoft visual studio', 'relational databases', 'agriculture', 'simulations', 'cyber attacks', 'health care industry', 'resilience', 'software documentation', 'biology', 'bash', 'parsing', 'performance metric', 'computer simulation', 'database management', 'text mining', 'polynomial regression', 'stress management', 'hypertext markup language', 'test driven development', 'relational database management systems', 'peripheral devices', 'snowflake schema', 'ruby', 'c#', 'containerization', 'cloud development', 'self service technologies', 'data collection', 'public cloud', 'matplotlib', 'computer science', 'tableau software', 'opengl', 'open systems interconnection', 'software design patterns', 'go', 'code review', 'system monitoring', 'stochastic process', 'social media', 'medical science and research', 'dynamic programming', 'virtual private networks', 'professional development', 'security controls', 'software as a service', 'scalability', 'mathematical finance', 'computer programming', 'artificial neural networks', 'business operations', 'service oriented architecture', 'static files', 'equities', 'google cloud platform', 'unix shell', 'selenium', 'data storage technologies', 'graph theory', 'application deployment', 'spreadsheet software', 'secure coding', 'biochemistry', 'risk management', 'cloud computing architecture', 'vulnerability', 'mysql', 'sustainable development', 'qualitative research', 'monte carlo methods', 'multimedia', 'os process management', 'linux', 'cybersecurity compliance', 'rapid prototyping', 'linux commands', 'github', 'hybrid cloud computing', 'music', 'incident management', 'anomaly detection', 'written composition', 'network operating system', 'telecommunications', 'random forest algorithm', 'risk analysis', 'arithmetic', 'network functions virtualization', 'investment management', 'cloud security', 'connected devices', 'user experience design', 'mapreduce', 'flow control', 'statistical modeling', 'economics', 'dimensionality reduction', 'clinical trials', 'systems development life cycle', 'data ingestion', 'diabetes mellitus', 'continuous monitoring', 'medical research', 'ibm db2', 'business metrics', 'computer hardware', 'network switches', 'ibm cloud computing', 'data structures', 'cloud-native applications', 'data transmissions', 'musical composition', 'aws lambda', 'puppet', 'arm architecture', 'threat modeling', 'infrastructure as a service', 'social media marketing', 'data manipulation', 'spreadsheets', 'numerical analysis', 'variance analysis', 'data mining', 'time series analysis and forecasting', 'cyber operations', '5g technology', 'logic synthesis', 'security software', 'shortest path problem', 'research', 'unity engine', 'risk management framework', 'foods', 'supply chain', 'data pipelines', 'information systems', 'ci/cd', 'exception handling', 'behavior-driven development', 'mlops', 'visualization', 'system support', 'information extraction', 'logistic regression', 'marketing strategies', 'web scraping', 'google cloud', 'grafana', 'sampling design', 'continuous integration', 'digital data', 'financial trading', 'network routing', 'statistical learning theory', 'test engineering', 'data engineering', 'microsoft excel', 'local area networks', 'directx', 'relational database design', 'financial services', 'object oriented programming', 'sql injection', 'data-driven decision-making', 'correlation analysis', 'communications protocols', 'business marketing', 'emerging technologies', 'seaborn', 'set theory', 'open source development', 'matlab', 'cloud infrastructure', 'tax collections', 'node.js', 'android applications', 'kanban principles', 'software installation', 'cost management', 'data integrity', 'microsoft development tools', 'account strategy', 'semantics', 'opengl shading language', 'engineering economics', 'multi-cloud', 'reliability', 'inventory control', 'derivatives', 'securities', 'innovation', 'market trend', 'selling techniques', 'maximum likelihood', 'postgresql', 'analytical skills', 'scala programming', 'abstractions', 'theoretical computer science', 'writing', 'maintainability', 'operations research', 'electronics', 'cloud-native computing', 'server-side', 'quantum computing', 'handwriting recognition', 'conditional formatting', 'mathematical modeling', 'amazon dynamodb', 'gherkin', 'vlookups', 'contingency tables', 'target audience', 'marketing', 'data pipeline', 'digital logic', 'business strategies', 'network analysis', 'architectural design', 'proofreading', 'pivot tables and charts', 'database application', 'visual impairment education', 'google sheets', 'pie charts', 'security systems', 'apache airflow', 'xquery', 'pandas', 'scenario testing', 'persona development', 'linked lists', 'finite element methods', 'command-line interface', 'blood sugar', 'c dynamic memory allocation', 'usability testing', 'fertilizers', 'c++', 'graphical user interface', 'cross platform development', 'human-centered design', 'hadoop distributed file system', 'brute force attacks', 'mitre att&ck framework', 'it automation', 'statistical analysis', 'requirements analysis', 'vue.js', 'medical imaging', 'watson studio', 'control systems', 'web applications', 'xpath', 'programming environments', 'clinical study design', 'site reliability engineering', 'advanced mathematics', 'ingenuity', 'cloud security architecture', 'elementary algebra', 'time complexity', 'graphing', 'prompt engineering', 'transfer learning', 'data literacy', 'productivity', 'decision making', 'database as a service', 'stakeholder engagement', 'ecology', 'data lakes', 'infographics', 'cyber threat hunting', 'experimentation', 'big data', 'financial market', 'e-commerce', 'graphic and visual design', 'package and software management', 'probability and statistics', 'cost reduction', 'creative design', 'business case', 'troubleshooting', 'threat detection', 'continuous delivery', 'file organization', 'epidemiology', 'medical diagnosis', 'data auditing', 'system design and implementation', 'html5', 'on-time performance', 'microsoft azure', 'circuit breakers', 'code coverage', 'cloud services', 'combinatorics', 'openai', 'curve fitting', 'informatics', 'assembly language', 'technical support', 'solution architecture', 'object-oriented design', 'asynchronous serial communication']\n"
     ]
    }
   ],
   "execution_count": 23
  },
  {
   "metadata": {
    "ExecuteTime": {
     "end_time": "2025-07-12T16:38:56.580016Z",
     "start_time": "2025-07-12T16:38:51.627546Z"
    }
   },
   "cell_type": "code",
   "source": [
    "from sentence_transformers import SentenceTransformer\n",
    "\n",
    "model = SentenceTransformer('intfloat/multilingual-e5-large')\n",
    "# model = SentenceTransformer('multilingual-e5-large')"
   ],
   "id": "a6e92e045f5c49a0",
   "outputs": [],
   "execution_count": 24
  },
  {
   "metadata": {
    "collapsed": true,
    "ExecuteTime": {
     "end_time": "2025-07-12T16:39:20.073436Z",
     "start_time": "2025-07-12T16:38:56.596957Z"
    }
   },
   "cell_type": "code",
   "source": [
    "course_embeddings = model.encode(cleaned_course_skills, normalize_embeddings=True)\n",
    "job_embeddings = model.encode(unique_job_skills, normalize_embeddings=True)\n"
   ],
   "id": "initial_id",
   "outputs": [],
   "execution_count": 25
  },
  {
   "metadata": {
    "ExecuteTime": {
     "end_time": "2025-07-12T16:39:20.099577Z",
     "start_time": "2025-07-12T16:39:20.085482Z"
    }
   },
   "cell_type": "code",
   "source": [
    "from sklearn.metrics.pairwise import cosine_similarity\n",
    "\n",
    "similarity_matrix = cosine_similarity(job_embeddings, course_embeddings)"
   ],
   "id": "28fa3cbfd0053e4a",
   "outputs": [],
   "execution_count": 26
  },
  {
   "metadata": {
    "ExecuteTime": {
     "end_time": "2025-07-13T18:09:59.896056Z",
     "start_time": "2025-07-13T18:09:59.809021Z"
    }
   },
   "cell_type": "code",
   "source": [
    "import numpy as np\n",
    "\n",
    "skill_map = {}\n",
    "threshold = 0.90\n",
    "for i, prof_skill in enumerate(unique_job_skills):\n",
    "    if any(np.isclose(similarity_matrix[i], 1.0)):\n",
    "        continue\n",
    "    top_indices = [\n",
    "        idx for idx in np.argsort(similarity_matrix[i])[::-1]\n",
    "            if threshold < similarity_matrix[i][idx] and not np.isclose(similarity_matrix[i][idx], 1.0)\n",
    "    ][:3]\n",
    "    if top_indices:\n",
    "        skill_map[prof_skill] = [\n",
    "            (cleaned_course_skills[idx], round(float(similarity_matrix[i][idx]), 2))\n",
    "            for idx in top_indices\n",
    "        ]\n",
    "\n",
    "print(skill_map)\n",
    "for prof_skill, matches in skill_map.items():\n",
    "    print(f\"Skill from job: {prof_skill}\")\n",
    "    for course_skill, score in matches:\n",
    "        print(f\"  --> {course_skill} (accuracy: {score})\")\n",
    "    print()"
   ],
   "id": "1022291bc9dca051",
   "outputs": [
    {
     "name": "stdout",
     "output_type": "stream",
     "text": [
      "{'airflow': [('dataflow', 0.9)], 'ci cd': [('ci/cd', 0.94)], 'unreal engine': [('unity engine', 0.91), ('3d engine', 0.9)], 'ab testing': [('a/b testing', 0.92), ('medical testing', 0.91), ('system testing', 0.9)], 'data cleaning': [('data cleansing', 0.96)], 'multithreading': [('multitasking', 0.93)], 'azure blob': [('microsoft azure', 0.91)], 'persona creation': [('persona development', 0.94), ('persona', 0.91)], 'windows': [('microsoft windows', 0.9)], 'graphics programming': [('computer programming', 0.92), ('statistical programming', 0.9), ('python programming', 0.9)], 'presentation': [('presentations', 0.94), ('data presentation', 0.94)], 'express.js': [('react.js', 0.94), ('node.js', 0.91), ('vue.js', 0.91)], 'network configuration': [('network administration', 0.92), ('network routing', 0.91), ('network operating system', 0.91)], 'client management': [('resource management', 0.91), ('problem management', 0.91), ('information management', 0.91)], 'api': [('cloud api', 0.9)], 'user management': [('device management', 0.93), ('data management', 0.93), ('resource management', 0.93)], 'apache maven': [('apache hive', 0.94), ('apache hadoop', 0.94), ('apache kafka', 0.93)], 'spark': [('spark streaming', 0.91)], 'interaction design': [('interface design', 0.97), ('interactive design', 0.96), ('user interface design', 0.94)], 'azure synapse': [('microsoft azure', 0.9)], 'shader programming': [('scala programming', 0.91)], 'php': [('wordpress', 0.91)], 'system architecture': [('systems architecture', 0.99), ('software architecture', 0.95), ('computer architecture', 0.95)], '.net framework': [('application frameworks', 0.91), ('javascript frameworks', 0.91), ('web application frameworks', 0.9)], 'flow': [('flow control', 0.9)], 'kafka': [('apache kafka', 0.91)], 'mlflow': [('dataflow', 0.91)], 'hadoop': [('apache hadoop', 0.94)], 'regression testing': [('regression analysis', 0.93), ('performance testing', 0.91), ('system testing', 0.91)], 'ui testing': [('a/b testing', 0.93), ('usability testing', 0.93), ('unit testing', 0.92)], 'color theory': [('design theory', 0.92)], 'accessibility': [('web accessibility', 0.94), ('usability', 0.91), ('maintainability', 0.9)], 'cloud architecture': [('cloud computing architecture', 0.97), ('cloud security architecture', 0.96), ('software architecture', 0.94)], 'product thinking': [('design thinking', 0.94)], 'entity framework': [('application frameworks', 0.92), ('web application frameworks', 0.9)], 'analytics tools': [('business intelligence tools', 0.94), ('reporting tools', 0.92), ('analytics', 0.92)], '3d modeling basics': [('3d modeling', 0.92)], 'outlook': [('microsoft outlook', 0.95)], 'performance optimization': [('performance testing', 0.92), ('performance tuning', 0.92), ('mathematical optimization', 0.9)], 't sql': [('sql', 0.92), ('mysql', 0.92)], 'firewall management': [('network administration', 0.92), ('patch management', 0.92), ('file management', 0.91)], 'product management': [('problem management', 0.93), ('resource management', 0.92), ('device management', 0.92)], 'backup and recovery': [('backup devices', 0.92)], 'excel': [('microsoft excel', 0.92)], 'typescript': [('javascript', 0.91)], 'budgeting': [('accounting', 0.9)], 'angularjs': [('javascript', 0.92), ('node.js', 0.91)], 'typography': [('typing', 0.9)], 'sql server': [('mysql', 0.92), ('sql', 0.91), ('sql injection', 0.91)], 'azure devops': [('devops', 0.92), ('devops tools', 0.92), ('microsoft azure', 0.91)], 'redshift': [('openshift', 0.9)], 'cloud storage': [('data storage', 0.93), ('cloud services', 0.92), ('cloud security', 0.91)], 'project management': [('problem management', 0.94), ('risk management', 0.93), ('resource management', 0.93)], 'vulnerability assessment': [('vulnerability', 0.93)], 'ms sql': [('mysql', 0.94), ('sql', 0.92), ('microsoft excel', 0.91)], 'html': [('html5', 0.92)], 'tableau': [('tableau software', 0.92)], 'security audit': [('data auditing', 0.91)], 'next.js': [('react.js', 0.92), ('vue.js', 0.91), ('node.js', 0.9)], 'manual testing': [('medical testing', 0.92), ('functional testing', 0.92), ('system testing', 0.92)], 'game physics': [('quantum physics', 0.9)], 'responsive design': [('responsive web design', 0.98), ('interactive design', 0.93), ('interface design', 0.91)], 'security': [('computer security', 0.93), ('security systems', 0.92), ('network security', 0.92)], 'tcp ip': [('tcp/ip', 0.94)], 'rest api': [('restful api', 0.94), ('cloud api', 0.93)], 'dynamodb': [('amazon dynamodb', 0.95)], 'css': [('javascript', 0.91), ('html and css', 0.91)], 'data governance': [('data ethics', 0.92), ('data literacy', 0.91), ('data integrity', 0.91)], 'api documentation': [('software documentation', 0.93), ('technical documentation', 0.92)], 'network programming': [('computer programming', 0.91), ('network protocols', 0.91), ('scala programming', 0.9)], 'azure': [('microsoft azure', 0.93)], 'bigquery': [('xquery', 0.92)], 'ui design': [('user interface design', 0.93), ('interface design', 0.93), ('web ui', 0.92)], 'java se': [('java', 0.91)], 'lambda': [('aws lambda', 0.9)]}\n",
      "Skill from job: airflow\n",
      "  --> dataflow (accuracy: 0.9)\n",
      "\n",
      "Skill from job: ci cd\n",
      "  --> ci/cd (accuracy: 0.94)\n",
      "\n",
      "Skill from job: unreal engine\n",
      "  --> unity engine (accuracy: 0.91)\n",
      "  --> 3d engine (accuracy: 0.9)\n",
      "\n",
      "Skill from job: ab testing\n",
      "  --> a/b testing (accuracy: 0.92)\n",
      "  --> medical testing (accuracy: 0.91)\n",
      "  --> system testing (accuracy: 0.9)\n",
      "\n",
      "Skill from job: data cleaning\n",
      "  --> data cleansing (accuracy: 0.96)\n",
      "\n",
      "Skill from job: multithreading\n",
      "  --> multitasking (accuracy: 0.93)\n",
      "\n",
      "Skill from job: azure blob\n",
      "  --> microsoft azure (accuracy: 0.91)\n",
      "\n",
      "Skill from job: persona creation\n",
      "  --> persona development (accuracy: 0.94)\n",
      "  --> persona (accuracy: 0.91)\n",
      "\n",
      "Skill from job: windows\n",
      "  --> microsoft windows (accuracy: 0.9)\n",
      "\n",
      "Skill from job: graphics programming\n",
      "  --> computer programming (accuracy: 0.92)\n",
      "  --> statistical programming (accuracy: 0.9)\n",
      "  --> python programming (accuracy: 0.9)\n",
      "\n",
      "Skill from job: presentation\n",
      "  --> presentations (accuracy: 0.94)\n",
      "  --> data presentation (accuracy: 0.94)\n",
      "\n",
      "Skill from job: express.js\n",
      "  --> react.js (accuracy: 0.94)\n",
      "  --> node.js (accuracy: 0.91)\n",
      "  --> vue.js (accuracy: 0.91)\n",
      "\n",
      "Skill from job: network configuration\n",
      "  --> network administration (accuracy: 0.92)\n",
      "  --> network routing (accuracy: 0.91)\n",
      "  --> network operating system (accuracy: 0.91)\n",
      "\n",
      "Skill from job: client management\n",
      "  --> resource management (accuracy: 0.91)\n",
      "  --> problem management (accuracy: 0.91)\n",
      "  --> information management (accuracy: 0.91)\n",
      "\n",
      "Skill from job: api\n",
      "  --> cloud api (accuracy: 0.9)\n",
      "\n",
      "Skill from job: user management\n",
      "  --> device management (accuracy: 0.93)\n",
      "  --> data management (accuracy: 0.93)\n",
      "  --> resource management (accuracy: 0.93)\n",
      "\n",
      "Skill from job: apache maven\n",
      "  --> apache hive (accuracy: 0.94)\n",
      "  --> apache hadoop (accuracy: 0.94)\n",
      "  --> apache kafka (accuracy: 0.93)\n",
      "\n",
      "Skill from job: spark\n",
      "  --> spark streaming (accuracy: 0.91)\n",
      "\n",
      "Skill from job: interaction design\n",
      "  --> interface design (accuracy: 0.97)\n",
      "  --> interactive design (accuracy: 0.96)\n",
      "  --> user interface design (accuracy: 0.94)\n",
      "\n",
      "Skill from job: azure synapse\n",
      "  --> microsoft azure (accuracy: 0.9)\n",
      "\n",
      "Skill from job: shader programming\n",
      "  --> scala programming (accuracy: 0.91)\n",
      "\n",
      "Skill from job: php\n",
      "  --> wordpress (accuracy: 0.91)\n",
      "\n",
      "Skill from job: system architecture\n",
      "  --> systems architecture (accuracy: 0.99)\n",
      "  --> software architecture (accuracy: 0.95)\n",
      "  --> computer architecture (accuracy: 0.95)\n",
      "\n",
      "Skill from job: .net framework\n",
      "  --> application frameworks (accuracy: 0.91)\n",
      "  --> javascript frameworks (accuracy: 0.91)\n",
      "  --> web application frameworks (accuracy: 0.9)\n",
      "\n",
      "Skill from job: flow\n",
      "  --> flow control (accuracy: 0.9)\n",
      "\n",
      "Skill from job: kafka\n",
      "  --> apache kafka (accuracy: 0.91)\n",
      "\n",
      "Skill from job: mlflow\n",
      "  --> dataflow (accuracy: 0.91)\n",
      "\n",
      "Skill from job: hadoop\n",
      "  --> apache hadoop (accuracy: 0.94)\n",
      "\n",
      "Skill from job: regression testing\n",
      "  --> regression analysis (accuracy: 0.93)\n",
      "  --> performance testing (accuracy: 0.91)\n",
      "  --> system testing (accuracy: 0.91)\n",
      "\n",
      "Skill from job: ui testing\n",
      "  --> a/b testing (accuracy: 0.93)\n",
      "  --> usability testing (accuracy: 0.93)\n",
      "  --> unit testing (accuracy: 0.92)\n",
      "\n",
      "Skill from job: color theory\n",
      "  --> design theory (accuracy: 0.92)\n",
      "\n",
      "Skill from job: accessibility\n",
      "  --> web accessibility (accuracy: 0.94)\n",
      "  --> usability (accuracy: 0.91)\n",
      "  --> maintainability (accuracy: 0.9)\n",
      "\n",
      "Skill from job: cloud architecture\n",
      "  --> cloud computing architecture (accuracy: 0.97)\n",
      "  --> cloud security architecture (accuracy: 0.96)\n",
      "  --> software architecture (accuracy: 0.94)\n",
      "\n",
      "Skill from job: product thinking\n",
      "  --> design thinking (accuracy: 0.94)\n",
      "\n",
      "Skill from job: entity framework\n",
      "  --> application frameworks (accuracy: 0.92)\n",
      "  --> web application frameworks (accuracy: 0.9)\n",
      "\n",
      "Skill from job: analytics tools\n",
      "  --> business intelligence tools (accuracy: 0.94)\n",
      "  --> reporting tools (accuracy: 0.92)\n",
      "  --> analytics (accuracy: 0.92)\n",
      "\n",
      "Skill from job: 3d modeling basics\n",
      "  --> 3d modeling (accuracy: 0.92)\n",
      "\n",
      "Skill from job: outlook\n",
      "  --> microsoft outlook (accuracy: 0.95)\n",
      "\n",
      "Skill from job: performance optimization\n",
      "  --> performance testing (accuracy: 0.92)\n",
      "  --> performance tuning (accuracy: 0.92)\n",
      "  --> mathematical optimization (accuracy: 0.9)\n",
      "\n",
      "Skill from job: t sql\n",
      "  --> sql (accuracy: 0.92)\n",
      "  --> mysql (accuracy: 0.92)\n",
      "\n",
      "Skill from job: firewall management\n",
      "  --> network administration (accuracy: 0.92)\n",
      "  --> patch management (accuracy: 0.92)\n",
      "  --> file management (accuracy: 0.91)\n",
      "\n",
      "Skill from job: product management\n",
      "  --> problem management (accuracy: 0.93)\n",
      "  --> resource management (accuracy: 0.92)\n",
      "  --> device management (accuracy: 0.92)\n",
      "\n",
      "Skill from job: backup and recovery\n",
      "  --> backup devices (accuracy: 0.92)\n",
      "\n",
      "Skill from job: excel\n",
      "  --> microsoft excel (accuracy: 0.92)\n",
      "\n",
      "Skill from job: typescript\n",
      "  --> javascript (accuracy: 0.91)\n",
      "\n",
      "Skill from job: budgeting\n",
      "  --> accounting (accuracy: 0.9)\n",
      "\n",
      "Skill from job: angularjs\n",
      "  --> javascript (accuracy: 0.92)\n",
      "  --> node.js (accuracy: 0.91)\n",
      "\n",
      "Skill from job: typography\n",
      "  --> typing (accuracy: 0.9)\n",
      "\n",
      "Skill from job: sql server\n",
      "  --> mysql (accuracy: 0.92)\n",
      "  --> sql (accuracy: 0.91)\n",
      "  --> sql injection (accuracy: 0.91)\n",
      "\n",
      "Skill from job: azure devops\n",
      "  --> devops (accuracy: 0.92)\n",
      "  --> devops tools (accuracy: 0.92)\n",
      "  --> microsoft azure (accuracy: 0.91)\n",
      "\n",
      "Skill from job: redshift\n",
      "  --> openshift (accuracy: 0.9)\n",
      "\n",
      "Skill from job: cloud storage\n",
      "  --> data storage (accuracy: 0.93)\n",
      "  --> cloud services (accuracy: 0.92)\n",
      "  --> cloud security (accuracy: 0.91)\n",
      "\n",
      "Skill from job: project management\n",
      "  --> problem management (accuracy: 0.94)\n",
      "  --> risk management (accuracy: 0.93)\n",
      "  --> resource management (accuracy: 0.93)\n",
      "\n",
      "Skill from job: vulnerability assessment\n",
      "  --> vulnerability (accuracy: 0.93)\n",
      "\n",
      "Skill from job: ms sql\n",
      "  --> mysql (accuracy: 0.94)\n",
      "  --> sql (accuracy: 0.92)\n",
      "  --> microsoft excel (accuracy: 0.91)\n",
      "\n",
      "Skill from job: html\n",
      "  --> html5 (accuracy: 0.92)\n",
      "\n",
      "Skill from job: tableau\n",
      "  --> tableau software (accuracy: 0.92)\n",
      "\n",
      "Skill from job: security audit\n",
      "  --> data auditing (accuracy: 0.91)\n",
      "\n",
      "Skill from job: next.js\n",
      "  --> react.js (accuracy: 0.92)\n",
      "  --> vue.js (accuracy: 0.91)\n",
      "  --> node.js (accuracy: 0.9)\n",
      "\n",
      "Skill from job: manual testing\n",
      "  --> medical testing (accuracy: 0.92)\n",
      "  --> functional testing (accuracy: 0.92)\n",
      "  --> system testing (accuracy: 0.92)\n",
      "\n",
      "Skill from job: game physics\n",
      "  --> quantum physics (accuracy: 0.9)\n",
      "\n",
      "Skill from job: responsive design\n",
      "  --> responsive web design (accuracy: 0.98)\n",
      "  --> interactive design (accuracy: 0.93)\n",
      "  --> interface design (accuracy: 0.91)\n",
      "\n",
      "Skill from job: security\n",
      "  --> computer security (accuracy: 0.93)\n",
      "  --> security systems (accuracy: 0.92)\n",
      "  --> network security (accuracy: 0.92)\n",
      "\n",
      "Skill from job: tcp ip\n",
      "  --> tcp/ip (accuracy: 0.94)\n",
      "\n",
      "Skill from job: rest api\n",
      "  --> restful api (accuracy: 0.94)\n",
      "  --> cloud api (accuracy: 0.93)\n",
      "\n",
      "Skill from job: dynamodb\n",
      "  --> amazon dynamodb (accuracy: 0.95)\n",
      "\n",
      "Skill from job: css\n",
      "  --> javascript (accuracy: 0.91)\n",
      "  --> html and css (accuracy: 0.91)\n",
      "\n",
      "Skill from job: data governance\n",
      "  --> data ethics (accuracy: 0.92)\n",
      "  --> data literacy (accuracy: 0.91)\n",
      "  --> data integrity (accuracy: 0.91)\n",
      "\n",
      "Skill from job: api documentation\n",
      "  --> software documentation (accuracy: 0.93)\n",
      "  --> technical documentation (accuracy: 0.92)\n",
      "\n",
      "Skill from job: network programming\n",
      "  --> computer programming (accuracy: 0.91)\n",
      "  --> network protocols (accuracy: 0.91)\n",
      "  --> scala programming (accuracy: 0.9)\n",
      "\n",
      "Skill from job: azure\n",
      "  --> microsoft azure (accuracy: 0.93)\n",
      "\n",
      "Skill from job: bigquery\n",
      "  --> xquery (accuracy: 0.92)\n",
      "\n",
      "Skill from job: ui design\n",
      "  --> user interface design (accuracy: 0.93)\n",
      "  --> interface design (accuracy: 0.93)\n",
      "  --> web ui (accuracy: 0.92)\n",
      "\n",
      "Skill from job: java se\n",
      "  --> java (accuracy: 0.91)\n",
      "\n",
      "Skill from job: lambda\n",
      "  --> aws lambda (accuracy: 0.9)\n",
      "\n"
     ]
    }
   ],
   "execution_count": 70
  },
  {
   "metadata": {
    "ExecuteTime": {
     "end_time": "2025-07-13T18:10:05.374Z",
     "start_time": "2025-07-13T18:10:05.367813Z"
    }
   },
   "cell_type": "code",
   "source": [
    "from collections import defaultdict\n",
    "\n",
    "reverse_skill_map = defaultdict(list)\n",
    "\n",
    "for prof_skill, course_matches in skill_map.items():\n",
    "    for course_skill, score in course_matches:\n",
    "        reverse_skill_map[course_skill].append((prof_skill, score))\n",
    "\n",
    "final_map = {}\n",
    "for course_skill, skills_scores in reverse_skill_map.items():\n",
    "    skills_scores.sort(key=lambda x: x[1], reverse=True)\n",
    "    most_relevant_skill = skills_scores[0][0]\n",
    "    final_map[course_skill] = most_relevant_skill\n",
    "\n",
    "print(final_map)"
   ],
   "id": "ad52bf32a83c721b",
   "outputs": [
    {
     "name": "stdout",
     "output_type": "stream",
     "text": [
      "{'dataflow': 'mlflow', 'ci/cd': 'ci cd', 'unity engine': 'unreal engine', '3d engine': 'unreal engine', 'a/b testing': 'ui testing', 'medical testing': 'manual testing', 'system testing': 'manual testing', 'data cleansing': 'data cleaning', 'multitasking': 'multithreading', 'microsoft azure': 'azure', 'persona development': 'persona creation', 'persona': 'persona creation', 'microsoft windows': 'windows', 'computer programming': 'graphics programming', 'statistical programming': 'graphics programming', 'python programming': 'graphics programming', 'presentations': 'presentation', 'data presentation': 'presentation', 'react.js': 'express.js', 'node.js': 'express.js', 'vue.js': 'express.js', 'network administration': 'network configuration', 'network routing': 'network configuration', 'network operating system': 'network configuration', 'resource management': 'user management', 'problem management': 'project management', 'information management': 'client management', 'cloud api': 'rest api', 'device management': 'user management', 'data management': 'user management', 'apache hive': 'apache maven', 'apache hadoop': 'apache maven', 'apache kafka': 'apache maven', 'spark streaming': 'spark', 'interface design': 'interaction design', 'interactive design': 'interaction design', 'user interface design': 'interaction design', 'scala programming': 'shader programming', 'wordpress': 'php', 'systems architecture': 'system architecture', 'software architecture': 'system architecture', 'computer architecture': 'system architecture', 'application frameworks': 'entity framework', 'javascript frameworks': '.net framework', 'web application frameworks': '.net framework', 'flow control': 'flow', 'regression analysis': 'regression testing', 'performance testing': 'performance optimization', 'usability testing': 'ui testing', 'unit testing': 'ui testing', 'design theory': 'color theory', 'web accessibility': 'accessibility', 'usability': 'accessibility', 'maintainability': 'accessibility', 'cloud computing architecture': 'cloud architecture', 'cloud security architecture': 'cloud architecture', 'design thinking': 'product thinking', 'business intelligence tools': 'analytics tools', 'reporting tools': 'analytics tools', 'analytics': 'analytics tools', '3d modeling': '3d modeling basics', 'microsoft outlook': 'outlook', 'performance tuning': 'performance optimization', 'mathematical optimization': 'performance optimization', 'sql': 't sql', 'mysql': 'ms sql', 'patch management': 'firewall management', 'file management': 'firewall management', 'backup devices': 'backup and recovery', 'microsoft excel': 'excel', 'javascript': 'angularjs', 'accounting': 'budgeting', 'typing': 'typography', 'sql injection': 'sql server', 'devops': 'azure devops', 'devops tools': 'azure devops', 'openshift': 'redshift', 'data storage': 'cloud storage', 'cloud services': 'cloud storage', 'cloud security': 'cloud storage', 'risk management': 'project management', 'vulnerability': 'vulnerability assessment', 'html5': 'html', 'tableau software': 'tableau', 'data auditing': 'security audit', 'functional testing': 'manual testing', 'quantum physics': 'game physics', 'responsive web design': 'responsive design', 'computer security': 'security', 'security systems': 'security', 'network security': 'security', 'tcp/ip': 'tcp ip', 'restful api': 'rest api', 'amazon dynamodb': 'dynamodb', 'html and css': 'css', 'data ethics': 'data governance', 'data literacy': 'data governance', 'data integrity': 'data governance', 'software documentation': 'api documentation', 'technical documentation': 'api documentation', 'network protocols': 'network programming', 'xquery': 'bigquery', 'web ui': 'ui design', 'java': 'java se', 'aws lambda': 'lambda'}\n"
     ]
    }
   ],
   "execution_count": 71
  },
  {
   "metadata": {
    "ExecuteTime": {
     "end_time": "2025-07-13T18:11:00.370550Z",
     "start_time": "2025-07-13T18:11:00.366401Z"
    }
   },
   "cell_type": "code",
   "source": [
    "with open(\"reverse_skill_map.json\", 'w', encoding='utf-8') as file:\n",
    "    json.dump(final_map, file, ensure_ascii=False, indent=4)"
   ],
   "id": "c6c60be9690703a4",
   "outputs": [],
   "execution_count": 73
  },
  {
   "metadata": {},
   "cell_type": "markdown",
   "source": "Key как записано названи е у нас в курсах, value -- на что надо заменить для ранжирования",
   "id": "9d6a50b49fd0b980"
  },
  {
   "metadata": {
    "ExecuteTime": {
     "end_time": "2025-07-12T17:20:21.174126Z",
     "start_time": "2025-07-12T17:20:21.093646Z"
    }
   },
   "cell_type": "code",
   "source": [
    "import ast\n",
    "\n",
    "df = pd.read_csv(\"courses_final.csv\")\n",
    "\n",
    "def normalize_and_map(skill_list):\n",
    "    normalized = []\n",
    "    for skill in skill_list:\n",
    "        cleaned = re.sub(r'\\s*\\(.*?\\)', '', skill).strip().lower()\n",
    "        mapped = reverse_skill_map.get(cleaned, cleaned)\n",
    "        normalized.append(mapped if isinstance(mapped, str) else mapped[0])\n",
    "    return normalized\n",
    "\n",
    "df['skills'] = df['skills'].apply(\n",
    "    lambda x: ast.literal_eval(x) if isinstance(x, str) else x\n",
    ")\n",
    "\n",
    "df['mapped_skills'] = df['skills'].apply(normalize_and_map)\n",
    "\n",
    "print(\"Пример замены:\")\n",
    "print(df[['skills', 'mapped_skills']].head(15))\n",
    "\n",
    "df.to_csv('courses_normalized_skills.csv', index=False, encoding='utf-8-sig')"
   ],
   "id": "82ad64347e1d1ed3",
   "outputs": [
    {
     "name": "stdout",
     "output_type": "stream",
     "text": [
      "Пример замены:\n",
      "                                               skills  \\\n",
      "0   [NumPy, Data Manipulation, File Management, Da...   \n",
      "1   [Development Environment, Computational Thinki...   \n",
      "2   [Network Protocols, Database Design, SQL, Appl...   \n",
      "3   [Debugging, Test Driven Development (TDD), Int...   \n",
      "4   [Plotly, Debugging, Test Driven Development (T...   \n",
      "5   [Scripting, Data Analysis, Object Oriented Pro...   \n",
      "6   [Data Import/Export, Matplotlib, Pandas (Pytho...   \n",
      "7   [Development Environment, Programming Principl...   \n",
      "8   [Unit Testing, Debugging, Image Analysis, Pyth...   \n",
      "9   [Python Programming, Computer Programming, Dat...   \n",
      "10  [Unit Testing, Debugging, Infrastructure as Co...   \n",
      "11  [Scripting, Scripting Languages, Programming P...   \n",
      "12  [Unsupervised Learning, Applied Machine Learni...   \n",
      "13  [SQL, Query Languages, Jupyter, Databases, Dat...   \n",
      "14  [Program Development, Application Development,...   \n",
      "\n",
      "                                        mapped_skills  \n",
      "0   [numpy, data manipulation, firewall management...  \n",
      "1   [development environment, product thinking, ne...  \n",
      "2   [network programming, database design, t sql, ...  \n",
      "3   [logging, test driven development, integrated ...  \n",
      "4   [ansible, logging, test driven development, на...  \n",
      "5   [scripting, data analysis, object oriented pro...  \n",
      "6   [data import/export, scikit-learn, pandas, sta...  \n",
      "7   [development environment, programming principl...  \n",
      "8   [ui testing, logging, image analysis, python, ...  \n",
      "9   [python, network programming, data structures,...  \n",
      "10  [ui testing, logging, infrastructure as code, ...  \n",
      "11  [scripting, scripting, programming principles,...  \n",
      "12  [unsupervised learning, deep learning, redux, ...  \n",
      "13  [t sql, query languages, numpy, databases, dat...  \n",
      "14  [program development, application development,...  \n"
     ]
    }
   ],
   "execution_count": 35
  },
  {
   "metadata": {
    "ExecuteTime": {
     "end_time": "2025-07-13T08:50:11.767198Z",
     "start_time": "2025-07-13T08:50:11.759584Z"
    }
   },
   "cell_type": "code",
   "source": "",
   "id": "b665e054b51c48e3",
   "outputs": [],
   "execution_count": 58
  },
  {
   "metadata": {
    "ExecuteTime": {
     "end_time": "2025-07-13T11:51:17.520681Z",
     "start_time": "2025-07-13T11:51:17.515930Z"
    }
   },
   "cell_type": "code",
   "source": "",
   "id": "ff239b35c54e1818",
   "outputs": [
    {
     "name": "stdout",
     "output_type": "stream",
     "text": [
      "225.0\n",
      "python programming 10\n",
      "sql 15\n",
      "dataflow 20\n",
      "ci/cd ci cd\n",
      "unity engine unreal engine\n",
      "3d engine unreal engine\n"
     ]
    }
   ],
   "execution_count": 67
  }
 ],
 "metadata": {
  "kernelspec": {
   "display_name": "Python 3",
   "language": "python",
   "name": "python3"
  },
  "language_info": {
   "codemirror_mode": {
    "name": "ipython",
    "version": 2
   },
   "file_extension": ".py",
   "mimetype": "text/x-python",
   "name": "python",
   "nbconvert_exporter": "python",
   "pygments_lexer": "ipython2",
   "version": "2.7.6"
  }
 },
 "nbformat": 4,
 "nbformat_minor": 5
}
