{
 "cells": [
  {
   "metadata": {
    "ExecuteTime": {
     "end_time": "2025-07-11T09:14:47.179896Z",
     "start_time": "2025-07-11T09:14:45.928013Z"
    }
   },
   "cell_type": "code",
   "source": [
    "import json\n",
    "\n",
    "from torch.ao.nn.quantized.functional import threshold\n",
    "\n",
    "# open and read content job_skills\n",
    "with open(\"job_skill.json\", \"r\", encoding='utf-8') as f:\n",
    "    job_skills = json.load(f)\n",
    "\n",
    "job_skills = [job for job in job_skills.values()]\n",
    "import pandas as pd\n",
    "import json\n",
    "\n",
    "# open and read content job_skills\n",
    "with open(\"job_skill.json\", \"r\", encoding='utf-8') as f:\n",
    "    job_skills = json.load(f)\n",
    "\n",
    "all_job_skills = [skill[\"skill\"] for profession in job_skills.values() for skill in profession]\n",
    "unique_job_skills = list(set(all_job_skills))\n",
    "\n",
    "print(unique_job_skills)\n",
    "print(len(all_job_skills), len(unique_job_skills))"
   ],
   "id": "bd5a6007ccb3b1bb",
   "outputs": [
    {
     "name": "stdout",
     "output_type": "stream",
     "text": [
      "['1с управление производственным предприятием', 'wireframing', 'go', 'java core', 'bash', 'oracle pl sql', 'viper', 'cisco', 'api documentation', 'data governance', '.net framework', 'core data', 'matlab', 'настройка по', 'etl', 'ui design', 'data pipelines', 'scss', 'webpack', 'chef', 'backup and recovery', 'dbt', 'pyspark', 'azure functions', 'lambda', 'dynamodb', '1с комплексная автоматизация', 'bigquery', 'unity', 'functional testing', 'xcode', 'java ee', 'java se', 'information architecture', 'quantitative research', 'html', 'cocoapods', 'unreal engine', 'angular', 'responsive design', 'yii2', 'xml', 'erp системы на базе 1с', 'powershell', 'user management', 'prototyping', 'c#', 'usability testing', 'test case', 'ssis', 'tcp ip', 'vue.js', 'sql', 'combine', 'python', 'субд', 'jetpack compose', 'azure devops', 'numpy', 'firebase', 'product management', 'cybersecurity', 'siem tools', 'android', 'helm', 'git', 'node.js', 'accessibility', 'elasticsearch', 'razor', 'mysql', 'azure', '1с битрикс', 'linux', 'cassandra', 'sas', 'elk stack', 'es6', 'data cleaning', 'keras', 'etl design', 'qualitative research', 'entity framework', 'tableau', 'delta lake', 'api', 'управление проектами', 'azure data factory', 'multithreading', 'kafka', 'windows', 'express.js', 'tailwind css', 'api gateway', 'kubernetes', 'nosql', 'unix', 'oauth', 'typography', 'qlik', 'persona creation', 'financial modeling', 'ms sql', 'photoshop', 'etl tools', 'presentation', 'aws', 'confluence', 'looker', 'json', 'scripting', 'обновление конфигурации 1с', 'linq', 'c++', 'data modeling', 'r', 'dax', 'navigation component', 'vmware', 'interaction design', 'solid', 'incident response', 'kpi metrics', 'regression testing', '1с управление предприятием', 'firewall management', 'клиентоориентированность', '3d modeling basics', 'jira', 'cloud architecture', 'database security', 'sharepoint', 'terraform', 'laravel', 'vba', 'apache maven', 'security', 'product thinking', 'selenium', 'scala', 'ci cd', 'postman', 'mlflow', 'настройка сетевых подключений', '1c предприятие', 'redis', 'dagger', 'oracle', 'forecasting', 'symfony', 'ремонт пк', 'data visualization', 'ооп', 'network programming', 'puppet', 'figma', 'junit', 'kpi tracking', 'performance optimization', 'shell', 'logstash', 'network configuration', 'kotlin', 'php', 'penetration testing', 'blueprints', 'java', 'mongodb', 'viewmodel', 'design thinking', 'pytorch', 'deep learning', 'seaborn', 'uikit', 'sql server', 'graphics programming', 'azure synapse', '1с документооборот', 'docker', 'cloud security', 'ansible', 'performance tuning', 'oop', 'rabbitmq', 'alamofire', 'rest api', 'angularjs', 'hibernate orm', 'message queues', 'analytics tools', 'hadoop', 'azure blob', 'bootstrap', 'tensorflow', 'ведение переговоров', 'illustrator', 'react', 'room', 'django', 'logging', '.net core', 'leadership', 'flask', 'helpdesk', 'color theory', 'yii', 'android sdk', 'excel', 'ssrs', 'markdown', 'alertmanager', 'rxswift', 'budgeting', 'flow', 'mvvm', 'protobuf', 'grafana', 'power bi', 'system monitoring', 'gcp', 'английский язык', 'деловая коммуникация', 'spark', 'scrum', 'css', 'mvc', 'game physics', 'system architecture', 'ui testing', 'sqlalchemy', 'encryption', '.net', 'gitlab', 'golang', 'snowflake', 'nginx', 'mvp', 'scikit learn', 'matplotlib', 'coroutines', 'pandas', 'postgresql', 'feature engineering', 't sql', 'jquery', 'user research', 'project management', 'next.js', 'vulnerability assessment', 'redux', 'branding basics', 'typescript', 'graphql', 'swift', 'message brokers', 'gradle', 'word', 'airflow', 'jest', 'rest', 'javascript', 'retrofit', 'rxjava', 'настройка пк', 'asp.net', '1с управление торговлей', 'jenkins', 'cloud storage', 'grpc', 'sap', 'powerpoint', 'client management', '1c бухгалтерия', 'spss', 'scikit-learn', 'performance testing', 'github', 'livedata', 'ab testing', '1с программирование', 'redshift', 'security audit', 'physics engines', 'ruby', 'animation basics', 'spring', 'databricks', 'manual testing', 'ajax', '1с зарплата и управление персоналом', 'debugging', 'prometheus', 'shader programming', 'statistics', 'outlook', 'unit testing']\n",
      "1331 296\n"
     ]
    }
   ],
   "execution_count": 1
  },
  {
   "metadata": {
    "ExecuteTime": {
     "end_time": "2025-07-11T09:14:47.460802Z",
     "start_time": "2025-07-11T09:14:47.389853Z"
    }
   },
   "cell_type": "code",
   "source": [
    "import pandas as pd\n",
    "import ast\n",
    "\n",
    "df = pd.read_csv(\"courses_final.csv\")\n",
    "\n",
    "df['skills'] = df['skills'].apply(lambda x: ast.literal_eval(x) if isinstance(x, str) else x)\n",
    "\n",
    "all_courses_skills = df['skills'].explode()\n",
    "unique_course_skills = all_courses_skills.dropna().unique().tolist()\n",
    "\n",
    "print(unique_course_skills)\n",
    "print(len(all_courses_skills), len(unique_course_skills))\n"
   ],
   "id": "875f229d185b9580",
   "outputs": [
    {
     "name": "stdout",
     "output_type": "stream",
     "text": [
      "['NumPy', 'Data Manipulation', 'File Management', 'Data Structures', 'Application Programming Interface (API)', 'Data Analysis', 'Programming Principles', 'Web Scraping', 'Restful API', 'Object Oriented Programming (OOP)', 'Computer Programming', 'Jupyter', 'Python Programming', 'Data Import/Export', 'Pandas (Python Package)', 'Development Environment', 'Computational Thinking', 'Integrated Development Environments', 'Debugging', 'Algorithms', 'Problem Management', 'Network Protocols', 'Database Design', 'SQL', 'Data Collection', 'Data Visualization Software', 'Data Processing', 'Data Modeling', 'Test Driven Development (TDD)', 'Software Testing', 'Unit Testing', 'Plotly', 'Docker (Software)', 'Scripting', 'Git (Version Control System)', 'Data Ethics', 'Agile Methodology', 'Flask (Web Framework)', 'Web Development', 'Matplotlib', 'Statistical Modeling', 'Supervised Learning', 'Predictive Modeling', 'Regression Analysis', 'Data Cleansing', 'Data Pipelines', 'Descriptive Statistics', 'Feature Engineering', 'Scikit Learn (Machine Learning Library)', 'Data Wrangling', 'Exploratory Data Analysis', 'Data-Driven Decision-Making', 'Scripting Languages', 'Image Analysis', 'Unified Modeling Language', 'Software Design', 'Object Oriented Design', 'Computer Graphics', 'Pseudocode', 'Infrastructure as Code (IaC)', 'Technical Communication', 'Cloud Computing', 'Interviewing Skills', 'Puppet (Configuration Management Tool)', 'GitHub', 'Command-Line Interface', 'Unsupervised Learning', 'Applied Machine Learning', 'Dimensionality Reduction', 'Decision Tree Learning', 'Classification And Regression Tree (CART)', 'Machine Learning', 'Query Languages', 'Databases', 'Relational Databases', 'Transaction Processing', 'Stored Procedure', 'Database Management', 'Program Development', 'Application Development', 'Data Science', 'Artificial Intelligence', 'Scientific Visualization', 'Generative AI', 'ChatGPT', 'Large Language Modeling', 'Prompt Engineering', 'Automation', 'Software Development Tools', 'Dashboard', 'Data Literacy', 'Interactive Data Visualization', 'Cybersecurity', 'Cyber Security Assessment', 'Risk Analysis', 'Financial Data', 'Statistical Inference', 'Probability & Statistics', 'Financial Trading', 'Financial Analysis', 'Statistical Analysis', 'Financial Modeling', 'Statistical Methods', 'Network Monitoring', 'Threat Detection', 'Incident Response', 'Intrusion Detection and Prevention', 'Continuous Monitoring', 'Cyber Threat Intelligence', 'Data Access', 'Cyber Threat Hunting', 'Cyber Operations', 'Computational Logic', 'Computer Science', 'Unstructured Data', 'Graph Theory', 'Network Model', 'Text Mining', 'Data Visualization', 'Scatter Plots', 'Box Plots', 'Data Presentation', 'Heat Maps', 'Seaborn', 'Geospatial Information and Technology', 'Histogram', 'User Interface (UI) Design', 'Data Mining', 'Version Control', 'Business Logic', 'Persona (User Experience)', 'Productivity', 'Ingenuity', 'Agentic systems', 'Brainstorming', 'Tensorflow', 'Verification And Validation', 'Keras (Neural Network Library)', 'Deep Learning', 'Reinforcement Learning', 'Generative AI Agents', 'Bayesian Statistics', 'Statistical Programming', 'Sampling (Statistics)', 'Tableau Software', 'Data Storytelling', 'Game Design', 'Package and Software Management', 'Software Installation', 'Data Integration', 'Java', 'Pivot Tables And Charts', 'Statistics', 'Business Analytics', 'Correlation Analysis', 'Time Series Analysis and Forecasting', 'Style Guides', 'Web Applications', 'IBM Cloud', 'Software Development Life Cycle', 'Application Deployment', 'Code Review', 'Istio', 'HTML and CSS', 'Software Architecture', 'Full-Stack Web Development', 'Django (Web Framework)', 'Kubernetes', 'Probability Distribution', 'Web Services', 'Extensible Markup Language (XML)', 'TCP/IP', 'JSON', 'Hypertext Markup Language (HTML)', 'Data Capture', 'Extract, Transform, Load', 'Google Sheets', 'Spreadsheet Software', 'Excel Formulas', 'Big Data', 'Random Forest Algorithm', 'Machine Learning Methods', 'Inventory Control', 'Information Management', 'Operations Management', 'Business Operations', 'Decision Making', 'Transportation Operations', 'Production Planning', 'Information Systems', 'Logistics', 'Software Development', 'Microsoft Development Tools', 'Software Documentation', 'Data Storage', 'Functional Testing', 'Animation and Game Design', 'Software Engineering', 'Video Game Development', 'Software Quality (SQA/SQC)', 'Test Planning', 'Bootstrap (Front-End Framework)', 'Back-End Web Development', 'Maintainability', 'Test Engineering', 'Theoretical Computer Science', 'Network Routing', 'Operations Research', 'Test Case', 'Development Testing', 'Shell Script', 'Linux Commands', 'Unix', 'Operating Systems', 'Unix Commands', 'Unix Shell', 'OS Process Management', 'Bash (Scripting Language)', 'Data Validation', 'Data Transformation', 'Professional Development', 'Engineering Software', 'Stakeholder Communications', 'Cyber Attacks', 'Computer Security Incident Management', 'Security Controls', 'Asset Management', 'Investment Management', 'Advanced Analytics', 'Financial Market', 'Portfolio Management', 'Mathematical Modeling', 'Combinatorics', 'Cryptography', 'Applied Mathematics', 'Tree Maps', 'Linear Algebra', 'Application Security', 'Selenium (Software)', 'Object-Relational Mapping', 'JavaScript Frameworks', 'Front-End Web Development', 'Vue.JS', 'Secure Coding', 'Microsoft Azure', 'Cloud Applications', 'Musical Composition', 'Music', 'Trend Analysis', 'Marketing Analytics', 'Social Media', 'Social Media Marketing', 'Natural Language Processing', 'Bioinformatics', 'Customer Analysis', 'Analytical Skills', 'Simulations', 'OpenAI', 'Artificial Intelligence and Machine Learning (AI/ML)', 'Network Security', 'MITRE ATT&CK Framework', 'IT Automation', 'Design Strategies', 'Systems Integration', 'Prototyping', 'Interoperability', 'Forecasting', 'Technical Support', 'IT Infrastructure', 'Computer Hardware', 'Applicant Tracking Systems', 'Microsoft Windows', 'Computer Security', 'Network Administration', 'Information Systems Security', 'File Systems', 'Risk Management', 'Data Analysis Software', 'Virtual Environment', 'Artificial Neural Networks', 'Computer Vision', 'Computer Programming Tools', 'Probability', 'Statistical Hypothesis Testing', 'Database Systems', 'Plot (Graphics)', 'Data Mapping', 'Event-Driven Programming', 'Interactive Design', 'Peer Review', 'Test Automation', 'UI Components', 'Apache Hadoop', 'Apache Airflow', 'MySQL', 'Apache Kafka', 'Data Warehousing', 'Apache Spark', 'Data Store', 'IBM DB2', 'Collaborative Software', 'MongoDB', 'Grafana', 'OpenShift', 'Performance Tuning', 'Statistical Visualization', 'Graphing', 'Visualization (Computer Graphics)', 'Machine Learning Algorithms', 'Shiny (R Package)', 'Ggplot2', 'Animations', 'User Interface (UI)', 'Stress Management', 'Open Source Technology', 'Jest (JavaScript Testing Framework)', 'React.js', 'Mobile Development', 'Responsive Web Design', 'Javascript', 'Network Analysis', 'Penetration Testing', 'Authentications', 'Self Service Technologies', 'Cloud API', 'Predictive Analytics', 'Microservices', 'Service Oriented Architecture', 'API Gateway', 'Amazon DynamoDB', 'NoSQL', 'Serverless Computing', 'Amazon Web Services', 'Anomaly Detection', 'Numerical Analysis', 'MLOps (Machine Learning Operations)', 'Ideation', 'Expense Management', 'Document Management', 'Scalability', 'Content Creation', 'Microsoft Visual Studio', 'Infectious Diseases', 'Web Development Tools', 'Cloud Technologies', 'Cloud-Native Computing', 'Cloud Security', 'Node.JS', 'Embedded Systems', 'Linux', 'Internet Of Things', 'Functional Requirement', 'Electronic Hardware', 'System Design and Implementation', 'Hardware Design', 'Requirements Analysis', 'Embedded Software', 'Basic Electrical Systems', 'Calculus', 'PyTorch (Machine Learning Library)', 'Performance Metric', 'Performance Testing', 'Snowflake Schema', 'Site Reliability Engineering', 'Devops Tools', 'Databricks', 'R Programming', 'Other Programming Languages', 'Agile Software Development', 'Gherkin (Scripting Language)', 'Continuous Integration', 'Jenkins', 'Java Programming', 'Business Economics', 'Operational Analysis', 'Biostatistics', 'Data Management', 'Database Application', 'User Feedback', 'Data Quality', 'Stakeholder Engagement', 'Business Analysis', 'Target Audience', 'Marketing Strategies', 'A/B Testing', 'Business Metrics', 'Estimation', 'Return On Investment', 'Cloud Computing Architecture', 'Mathematical Software', 'Advanced Mathematics', 'Derivatives', 'Integral Calculus', 'Linux Administration', 'Encryption', 'Threat Modeling', 'Engineering Analysis', 'Vibrations', 'Mechanics', 'Finite Element Methods', 'Differential Equations', 'Distributed Computing', 'Scenario Testing', 'Hardware Architecture', 'Arithmetic', 'Logical Reasoning', 'Software Design Patterns', 'Systems Development', 'Software Development Methodologies', 'Design', '3D Modeling', 'Graphic and Visual Design', 'Functional Design', 'Descriptive Analytics', 'Database Development', 'Analysis', 'Biology', 'Molecular Biology', 'C++ (Programming Language)', 'Medical Imaging', 'Persona Development', 'Plan Execution', 'Information Architecture', 'Ajax', 'Life Sciences', 'Biochemistry', 'Markov Model', 'Medical Science and Research', 'Pharmacology', 'Radiology', 'Systems Architecture', 'Safety Assurance', 'Control Systems', 'Risk Management Framework', 'Microsoft Excel', 'Scala Programming', 'Neurology', 'Matlab', 'Technical Documentation', 'Application Performance Management', 'Network Troubleshooting', 'Incident Management', 'System Support', 'System Monitoring', 'Statistical Machine Learning', 'Accounting', 'Market Trend', 'Technical Analysis', 'Google Cloud Platform', 'Deductive Reasoning', 'Cyber Security Strategy', 'Software Visualization', 'Creative Design', 'Integration Testing', 'Mac OS', 'Cross Platform Development', 'Augmented Reality', 'Electronics', 'Digital Communications', 'Electrical Engineering', 'Engineering Calculations', 'Data Integrity', 'Rust (Programming Language)', 'Cloud Solutions', 'Analytics', 'Statistical Software', 'Sample Size Determination', 'Market Data', 'Finance', 'Equities', 'Risk Modeling', 'IBM Cognos Analytics', 'Containerization', 'DevOps', 'CI/CD', 'Application Frameworks', 'Web Servers', 'Model View Controller', 'Remote Access Systems', 'Go (Programming Language)', 'Angular', 'Torque (Physics)', 'Engineering', 'Simulation and Simulation Software', 'Infrastructure Architecture', 'Quantitative Research', 'Financial Forecasting', 'Securities Trading', 'Variance Analysis', 'Data Storage Technologies', 'Spatial Data Analysis', 'Computer Engineering', 'Computer Architecture', 'Application Specific Integrated Circuits', 'E-Commerce', 'Customer Service', 'User Flows', 'Semantic Web', 'Python', 'Resource Management', 'JavaScript (Programming Language)', 'Forensic Sciences', 'SQL (Programming Language)', 'HyperText Markup Language (HTML)', 'Python (Programming Language)', 'C (Programming Language)', 'Security Software', 'Cascading Style Sheets (CSS)', 'IBM Cognos Business Intelligence', 'Spreadsheets', 'Personal Computers', 'Boolean Expression', 'Web Browsers', 'Regular Expressions', 'Business Marketing', 'User Experience', 'Web Accessibility Initiative', 'Rich Internet Application', 'Information Technology', 'International Standards', 'Web Content Accessibility Guidelines', 'Cooperation', 'Assistive Technology', 'Web Accessibility', 'Mathematical Optimization', 'Proofreading', 'Intelligent Systems', 'Search Algorithms', 'Handwriting Recognition', 'Medical Diagnosis', 'Machine Translation', 'Google Cloud', 'Cloud Services', 'Github', 'Usability', 'Cyber Security', 'Watson Studio', 'Speech Recognition', 'Principal Component Analysis', 'Recommender Systems', 'Visual Programming Language (VPL)', 'Java (Programming Language)', 'Typing', 'Dplyr', 'Sorting', 'R (Programming Language)', 'Document Preparations', 'RStudio', 'File Organization', 'Parsing', 'Scikit-learn (Machine Learning Library)', 'Scientific Methods', 'Data Entry', 'Vlookups', 'Basic Math', 'Anatomy', 'Excel Macros', 'Keyboard Shortcuts', 'Conditional Formatting', 'Troubleshooting (Problem Solving)', 'Internet Protocols Suite', 'Multitier Architecture', 'Infrastructure', 'SQLite', 'PostgreSQL', 'Foreign Keys', 'Experimentation', 'Linux Distribution', 'Mainframe Computing', 'Supercomputing', 'Graphical User Interface', 'Android (Operating System)', 'Health Economics', 'Online Analytical Processing', 'Data Abstraction', 'Persistence', 'Reliability', 'Concurrency Controls', 'Authorization (Computing)', 'Full Stack Development', 'Cloud Development', 'Front End (Software Engineering)', 'HTML5', 'Back End (Software Engineering)', 'Project Files', 'Gitlab', 'User Interface', 'Language Translation', 'Chatbot', 'Blog Posts', 'Language Model', 'Communications', 'Writing', 'Extract Transform Load (ETL)', 'Data Lakes', 'Critical Thinking', 'Divide And Conquer', 'Dynamic Programming', 'Power BI', 'Report Writing', 'Microsoft 365', 'Infographics', 'Virtual Machines', 'Tax Collections', 'Securities (Finance)', 'Monte Carlo Methods', 'Probability Theories', 'Financial Crisis', 'Random Variables', 'Lasso (Programming Language)', 'Support Vector Machine', 'Linear Discriminant Analysis', 'Logistic Regression', 'Boosting', 'Polynomial Regression', 'K-Means Clustering', 'Lecturing', 'Statistical Learning Theory', 'Sales', 'Scrum (Software Development)', 'Systems Development Life Cycle', 'Marketing', 'Business Case', 'Blockchain', 'Platform as a Service (PaaS)', 'Software as a Service (SaaS)', 'Cloud Security Infrastructure', 'Multi-Cloud', 'Hybrid Cloud Computing', 'Infrastructure As A Service (IaaS)', 'IBM Cloud Computing', 'Cloud Computing Security', 'Cloud Engineering', 'File Explorer', 'Virtualization', 'Cloud Infrastructure', 'Reliability Engineering', 'Private Cloud', 'Public Cloud', 'Cloud Security Architecture', 'Prediction', 'Economics', 'Stochastic Process', 'Medical Testing', 'Engineering Economics', 'Research', 'Transfer Learning', 'Problem Solving', 'Object-Oriented Programming (OOP)', 'Abstract Data Types', 'Time Complexity', 'Nodes (Networking)', 'Operations', 'SciPy', 'Web Pages', 'Multimedia', 'User Interface Design', 'Node.js', 'Linear Regression', 'Open-Source Software', 'Cloud Foundry', 'Software Defined Networking (SDN)', 'OpenStack', 'Network Computing', 'Tooling', 'Social Sciences', 'Normal Distribution', 'Management', 'Ping (Networking Utility)', 'Grep', 'cURL', 'Access Controls', 'Cron', 'Shell Commands', 'Linux Servers', 'Wget', 'Text Processing', 'Ifconfig', 'Internet Of Things (IoT)', 'Sourcing', 'Smart Device', '5G Technology', 'Pulse-Width Modulation', 'Connected Devices', 'Digital Audio Player', 'Peripheral Devices', 'Web Standards', 'Web Design', 'Look And Feel', 'Top Secret-Sensitive Compartmented Information (TS/SCI Clearance)', 'Built Environment', 'Stack Overflow', 'Server-Side', 'Continuous Delivery', 'JavaScript Libraries', 'Web Application Frameworks', 'ECMAScript 2015', 'RESTful API', 'Callback Functions', 'WordPress', 'Selling Techniques', 'Business Intelligence', 'Data Engineering', 'Reporting Tools', 'Workflow Management', 'Directed Acyclic Graph (Directed Graphs)', 'Clinical Study Design', 'Causal Inference', 'GraphQL', 'Front End Design', 'Reference Cards', 'Curiosity', 'Autoencoders', 'Feed Forward', 'Convolutional Neural Networks', 'Quantum Computing', 'Quantum Physics', 'Elementary Algebra', 'Bitcoin', 'Ethereum', 'Sustainable Development', 'Lean Manufacturing', 'Kanban Principles', 'Iterative And Incremental Development', 'Planning', 'Continuous Improvement Process', 'User Story', 'Refining', 'Test-Driven Development (TDD)', 'Business Requirements', 'Database Storage Structures', 'Fault Tolerance', 'TensorFlow', 'Audio Signal Processing', 'ARM Architecture', 'Screen Capture', 'Hard Disk Drives', 'Expansion Cards', 'Motherboard', 'Help Desk Support', 'Graphic Communication', 'Algebra', 'Design Theory', 'Market Research', 'Syntax', 'Collections', 'Procedural Programming', 'Local Area Networks', 'Communications Protocols', 'Security Policies', 'Risk Mitigation', 'Computer Networks', 'Metropolitan Area Networks', 'Virtual Private Networks (VPN)', 'Wide Area Networks', 'Network Topology', 'Metro Ethernet', 'Vulnerability', 'eSports Management', 'eSports', 'Innovation', 'Templates', 'Probability And Statistics', 'Set Theory', 'Information Privacy', 'Endpoint Security', 'Patch Management', 'System Administration', 'Cybersecurity Compliance', 'Server Administration', 'Smartphone Operation', 'Security Systems', 'Open Systems Interconnection', 'SQL Injection', 'Database Security', 'Eigenvalues And Eigenvectors', 'Systems Of Equations', 'Abstractions', 'Integration', 'Addressing Ethical Concerns', 'Semantics', 'DirectX (Software)', 'Visual Impairment Education', '3D Computer Graphics', 'Autodesk Maya', 'OpenGL', 'Autodesk 3DS Max (3D Graphics Software)', 'Ray Tracing', 'Virtual Reality', 'OpenGL Shading Language', 'Computer-Aided Design', 'Programming Concepts', 'Medical Research', 'Digital Data', 'Diabetes Mellitus', 'Electronic Medical Record', 'Clinical Trials', 'Blood Pressure', 'Population Health', 'Blood Sugar', 'Packaging And Labeling', 'Control Structures', 'Standard Deviation', 'Exception Handling', 'Web UI', 'AWS CodeBuild', 'Infrastructure Management', 'Staging Area', 'Workflows', 'Data Pipeline', 'Benchmarking', 'Product Lifecycle', 'Parallel Processing', 'Satellite Imagery', 'Spark Streaming', 'Apache Hive', 'Resilience', 'Pyspark', 'Motivational Skills', 'JQuery', 'Code Editor', 'Curve Fitting', 'Dataflow', 'Presentations', 'Character Encodings In HTML', 'Rapid Prototyping', 'Web Platforms', 'Actuarial Science', 'Quality Assurance', 'Service-Level Agreement', 'AWS Lambda', 'Amazon Elastic Container Service', 'Amazon API Gateway', 'Amazon Elastic Compute Cloud', 'Hosting', 'Amazon Cognito', 'Cloud-Native Applications', 'Internet Hosting Service', 'Amazon Elastic Kubernetes Service', 'Boundary Testing', 'System Testing', 'Code Coverage', 'Testability', 'Motion Planning', 'Localization', 'Kinematics', 'Emerging Technologies', 'Digital Logic', 'Logic Synthesis', 'Circuit Design', 'Reduced Instruction Set Computing', 'Verilog', 'Open Source Development', 'Microarchitecture', 'Polymorphism', 'Microprocessor', 'WebAssembly', 'Circuit Breakers', 'Creativity', 'Autonomous Vehicles', 'Asynchronous Serial Communication', 'Real-Time Operating Systems', 'Multitasking', 'Bill Of Materials', 'Data Transmissions', 'Financial Technology (FinTech)', 'Association Of Chartered Certified Accountants', 'Business Strategies', 'Data Auditing', 'Mobile Application Development', 'UX Research', 'Research Design', 'User Experience Design (UX)', 'Human-Centered Design', 'Design Thinking', 'Human Factors', 'Information Visualization', 'Human Factors Engineering', 'Design Elements And Principles', 'Interface Design', 'Cognitive Load Theory', 'Psychology', 'Cryptanalysis', 'DNA Sequencing', 'Computer Simulation', 'English Language', 'Ruby (Programming Language)', 'Relational Database Management Systems', 'Relational Database Design', 'Binary Search Trees', 'Java Object Oriented Querying', 'Data Warehouse Systems', 'Star Schema', 'Materialized View', 'Business Intelligence Tools', 'Jupyter Notebook', 'Markdown', 'Cash Flow Management', 'Cost Management', 'Customer Demand Planning', 'Purchasing', 'Accountability', 'Procurement', 'Financial Management', 'Cloud Financial Management (FinOps)', 'Compilers', 'Autoscaling', 'Applications Of Artificial Intelligence', 'Business Valuation', 'Electronic Music', 'MIDI', 'Music Technology', 'Computational Tools', 'Software Release Life Cycle', 'Behavior-Driven Development', 'On-Time Performance', 'Data Preprocessing', 'Statistical Packages', 'Account Strategy', 'AWS Certified Solutions Architect Associate', 'Architectural Design', 'Operational Efficiency', 'Solution Architecture', 'Algorithm Design', 'Greedy Algorithm', 'Automated Teller Machine', 'Supply Chain', 'Voice Assistant Technology', 'Database Administration', 'Backup Devices', 'Linux Kernel', 'Disk Cloning', 'Pattern Recognition', 'Image Processing', 'Anaconda (Software)', 'XPath', 'Telecommunications', 'Extensible Stylesheet Language Transformations (XSLT)', 'Human Readable', 'XQuery', 'Database as a Service (DBaaS)', 'Database Permissions', 'Apache Cassandra', 'Cloudant', 'Data as a Service (DaaS)', 'Space Stations', 'Diversity Management', 'User Accounts', 'Ledgers (Accounting)', 'Distributed Ledgers', 'Hyperledger', 'Microsoft Outlook', 'Information Extraction', 'Financial Services', 'Mathematical Finance', 'Cost Reduction', 'Static Files', 'Monoliths', 'Spanning Tree Protocols', 'Graph Algorithms', 'Shortest Path Problem', 'Pattern Matching', 'Brute Force Attacks', 'Computing Platforms', 'Android Applications', 'Bluetooth Low Energy (Bluetooth)', 'Device Management', 'Zigbee', 'Fertilizers', 'Agriculture', 'Soil Science', 'Animal Science', 'Pesticides', 'Hadoop Distributed File System (HDFS)', 'Written Composition', 'Immutability', 'Foods', 'Precision Agriculture', 'MapReduce', 'Process Improvement', 'Medical Records', 'Health Care Industry', 'Health Information Technology', 'Informatics', 'Health Informatics', 'Toolchain', 'Model Validation', 'Data Ingestion', 'Sampling Design', 'Chi-Squared Tests', 'Contingency Tables', 'C Dynamic Memory Allocation', 'Memory Management', 'Programming Environments', 'Unity Engine', '3d Engine', 'C# (Programming Language)', 'Stereophonic Sound System', 'Balancing (Ledger/Billing)', 'Sorting Algorithm', 'Digital Transformation', 'Persuasive Communication', 'Network Operating System (NOS)', 'Network Switches', 'Systems Engineering', 'Network Automation', 'Network Functions Virtualization', 'Service Provider', 'Textiles', 'Networking Hardware', 'Data Cube', 'Epidemiology', 'Political Sciences', 'Ecology', 'Markov Chain Monte Carlo', 'Software Construction', 'Software Systems', 'Object-Oriented Design', 'Online Service Provider', 'Flow Control', 'User Research', 'Qualitative Research', 'Web Analytics', 'Qualitative Data Analysis', 'Usability Testing', 'Storage Devices', 'Open Web Application Security Project (OWASP)', 'Static Application Security Testing (SAST)', 'Dynamic Program Analysis', 'DevSecOps', 'Maximum Likelihood', 'CompTIA IT Fundamentals', 'Grammar', 'Pie Charts', 'Leaflet (Software)', 'Linked Lists', 'Statistical Reporting', 'Public Policies', 'Cryptocurrency', 'Design Software', 'Security Requirements Analysis', 'Service-Oriented', 'Digital Electronics', 'Assembly Language', 'Digital Systems', 'Leadership', 'Higher Education', 'Public Service', 'Technology Ecosystems', 'Software Versioning', 'Nested Queries', 'Cloud Automation']\n",
      "6561 1052\n"
     ]
    }
   ],
   "execution_count": 2
  },
  {
   "metadata": {
    "ExecuteTime": {
     "end_time": "2025-07-11T10:26:18.575979Z",
     "start_time": "2025-07-11T10:26:18.571106Z"
    }
   },
   "cell_type": "code",
   "source": [
    "import re\n",
    "\n",
    "def clean_skill(skill: str) -> str:\n",
    "    cleaned = re.sub(r'\\s*\\(.*?\\)', '', skill)\n",
    "    return cleaned.strip().lower()\n",
    "\n",
    "cleaned_course_skills = list(set([clean_skill(skill) for skill in unique_course_skills]))\n",
    "print(cleaned_course_skills)"
   ],
   "id": "1a1a72fe652ef836",
   "outputs": [
    {
     "name": "stdout",
     "output_type": "stream",
     "text": [
      "['electronic hardware', 'data analysis', 'text mining', 'computer-aided design', 'heat maps', 'matlab', 'business valuation', 'hadoop distributed file system', 'interface design', 'feed forward', 'artificial neural networks', 'radiology', 'sales', 'integrated development environments', 'semantic web', 'research design', 'cyber security strategy', 'opengl shading language', 'market trend', 'statistical software', 'handwriting recognition', 'cloud foundry', 'computational logic', 'business intelligence tools', 'clinical trials', 'functional testing', 'soil science', 'musical composition', 'mobile development', 'quantitative research', 'recommender systems', 'distributed computing', 'unified modeling language', 'lean manufacturing', 'data transmissions', 'game design', 'data science', 'information management', 'technical communication', 'ggplot2', 'business analysis', 'cloud infrastructure', 'information technology', 'mathematical finance', 'c#', 'sqlite', 'directed acyclic graph', 'linux kernel', 'computer security incident management', 'collaborative software', 'user story', 'social sciences', 'vue.js', 'snowflake schema', 'graph algorithms', 'top secret-sensitive compartmented information', 'analysis', 'scientific visualization', 'android', 'database application', 'network model', 'wordpress', 'compilers', 'persona development', 'graph theory', 'unity engine', 'qualitative research', 'data pipeline', 'web servers', 'computer programming', 'data capture', 'circuit design', 'dynamic program analysis', 'data integrity', 'kubernetes', 'xquery', 'restful api', 'software documentation', 'vulnerability', 'java object oriented querying', 'personal computers', 'accounting', 'hypertext markup language', 'statistical programming', 'motivational skills', 'data engineering', 'cross platform development', 'infrastructure architecture', 'spatial data analysis', 'character encodings in html', 'scripting', 'statistical visualization', 'english language', 'digital transformation', 'dashboard', 'estimation', 'r', 'application security', 'microsoft visual studio', 'arm architecture', 'rstudio', 'data cleansing', 'graphical user interface', 'ibm cloud', 'database security', 'resource management', 'visualization', 'customer demand planning', 'spreadsheets', 'data wrangling', 'regular expressions', 'software architecture', 'reporting tools', 'simulation and simulation software', 'data entry', 'machine translation', 'esports management', 'writing', 'accountability', 'agile methodology', 'other programming languages', 'workflows', 'technical analysis', 'forecasting', 'rich internet application', 'amazon web services', 'expansion cards', 'machine learning methods', 'system administration', 'authentications', 'troubleshooting', 'continuous monitoring', 'ibm cloud computing', 'business requirements', 'reduced instruction set computing', 'cybersecurity compliance', 'mongodb', 'systems development', 'sourcing', 'precision agriculture', 'data visualization software', 'infrastructure as code', 'animal science', 'pharmacology', 'productivity', 'solution architecture', 'risk management framework', 'bioinformatics', 'service provider', 'microsoft development tools', 'financial data', 'infrastructure management', 'syntax', 'emerging technologies', 'intrusion detection and prevention', 'database development', 'securities', 'design strategies', 'abstractions', 'data literacy', 'computer simulation', 'materialized view', 'apache airflow', 'markdown', 'assembly language', 'intelligent systems', 'smartphone operation', 'google sheets', 'k-means clustering', 'fertilizers', 'model validation', 'medical diagnosis', 'financial management', 'predictive modeling', 'reliability', 'react.js', 'service oriented architecture', 'internet of things', 'connected devices', 'advanced analytics', 'benchmarking', 'computer hardware', 'software development life cycle', 'data integration', 'mathematical software', 'data store', 'operations', 'innovation', 'html5', 'sampling design', 'text processing', 'health care industry', 'persuasive communication', 'financial analysis', 'object oriented programming', 'ingenuity', 'virtual reality', 'satellite imagery', 'javascript frameworks', 'engineering', 'data as a service', 'version control', 'extensible markup language', 'computing platforms', 'actuarial science', 'watson studio', 'network operating system', 'decision tree learning', 'securities trading', 'r programming', 'openshift', 'autoencoders', 'gitlab', 'brainstorming', 'gherkin', 'remote access systems', 'stakeholder communications', 'threat detection', 'application specific integrated circuits', 'tax collections', 'pandas', 'performance metric', 'web accessibility initiative', 'ifconfig', 'lasso', 'microsoft azure', 'plot', 'curiosity', 'jquery', 'applicant tracking systems', 'site reliability engineering', 'electronic medical record', 'higher education', 'parallel processing', 'spark streaming', 'operating systems', 'probability and statistics', 'multi-cloud', 'software as a service', 'information systems', 'eigenvalues and eigenvectors', 'javascript', 'algorithms', 'statistical machine learning', 'software visualization', 'grep', 'application deployment', 'descriptive statistics', 'cost management', 'equities', 'markov chain monte carlo', 'back end', 'performance testing', 'forensic sciences', 'circuit breakers', 'shortest path problem', 'hard disk drives', 'medical records', 'software development methodologies', 'ruby', 'random forest algorithm', 'debugging', 'divide and conquer', 'data mapping', 'statistics', 'integral calculus', 'infrastructure', 'architectural design', 'deductive reasoning', 'random variables', 'cryptocurrency', 'cyber threat hunting', 'bash', 'amazon elastic container service', 'java programming', 'server administration', 'large language modeling', 'local area networks', 'cyber operations', 'cloud computing', 'qualitative data analysis', 'resilience', 'databases', 'cloud financial management', 'microsoft excel', 'package and software management', 'sampling', 'cloud services', 'data preprocessing', 'bluetooth low energy', 'technical documentation', 'programming concepts', 'tree maps', 'computer graphics', 'histogram', 'immutability', 'mainframe computing', 'blockchain', 'social media', 'responsive web design', 'unix shell', 'cryptography', 'basic electrical systems', 'ethereum', 'neurology', 'zigbee', 'object-oriented design', 'incident management', 'public policies', 'devsecops', 'health economics', 'logistic regression', 'procurement', 'open source technology', 'functional design', 'tableau software', 'theoretical computer science', 'test case', 'continuous delivery', 'investment management', 'functional requirement', 'event-driven programming', 'cloud applications', 'set theory', 'quantum physics', 'international standards', 'web standards', 'arithmetic', 'git', 'node.js', 'dataflow', 'flow control', 'mysql', 'medical imaging', 'probability & statistics', 'apache cassandra', 'applied machine learning', 'mac os', 'cyber security', 'network protocols', 'ui components', 'unix', 'memory management', 'excel formulas', 'applications of artificial intelligence', 'database administration', 'mobile application development', 'space stations', 'risk modeling', 'cyber security assessment', 'bayesian statistics', 'normal distribution', 'written composition', 'stakeholder engagement', 'linked lists', 'json', 'apache kafka', 'applied mathematics', 'c++', 'planning', 'analytical skills', 'business operations', 'statistical reporting', 'molecular biology', 'secure coding', 'jupyter notebook', 'ecmascript 2015', 'full stack development', 'animations', 'aws codebuild', 'anomaly detection', 'design', 'financial forecasting', 'data abstraction', 'refining', 'dplyr', 'screen capture', 'open systems interconnection', 'cloud api', 'maintainability', 'programming environments', 'software installation', 'quality assurance', 'service-oriented', 'data presentation', 'data collection', 'puppet', 'application programming interface', 'plotly', 'box plots', 'asset management', 'customer service', 'online analytical processing', 'scipy', 'peripheral devices', 'probability distribution', 'mapreduce', 'cash flow management', 'clinical study design', 'java', 'query languages', 'virtual private networks', 'differential equations', 'model view controller', 'creativity', 'statistical modeling', 'seaborn', 'test engineering', 'cron', 'user accounts', 'dynamic programming', 'performance tuning', 'docker', 'cloud security', 'bill of materials', 'trend analysis', 'requirements analysis', 'agriculture', 'data quality', 'vlookups', 'conditional formatting', 'network administration', 'digital logic', 'threat modeling', 'biostatistics', 'bootstrap', 'tensorflow', 'sql injection', 'flask', 'semantics', 'security requirements analysis', 'peer review', 'metro ethernet', 'leadership', 'collections', 'polynomial regression', 'inventory control', 'diversity management', 'electronic music', 'computer vision', 'systems development life cycle', 'mitre att&ck framework', 'statistical learning theory', 'web design', 'cloud-native applications', 'user flows', 'life sciences', 'system monitoring', 'production planning', 'excel macros', 'integration testing', 'scrum', 'selling techniques', 'continuous integration', 'iterative and incremental development', 'cyber attacks', 'multitasking', 'relational database management systems', 'programming principles', 'financial market', 'online service provider', 'software engineering', 'algorithm design', 'predictive analytics', 'graphing', 'information visualization', 'self service technologies', 'virtual environment', 'search algorithms', 'kanban principles', 'engineering analysis', 'software defined networking', 'communications', 'reference cards', 'sustainable development', 'data storytelling', 'principal component analysis', 'esports', 'system support', 'speech recognition', 'postgresql', 'basic math', 'time series analysis and forecasting', 'feature engineering', 'operations management', 'platform as a service', 'maximum likelihood', 'elementary algebra', 'user research', 'causal inference', 'customer analysis', 'web application frameworks', 'android applications', 'product lifecycle', 'medical research', 'static application security testing', 'ibm cognos analytics', 'autodesk 3ds max', 'market data', 'html and css', 'extract transform load', 'medical testing', 'webassembly', 'logistics', 'addressing ethical concerns', 'chi-squared tests', 'data import/export', 'web services', 'scikit-learn', 'network switches', 'proofreading', 'grammar', 'software release life cycle', 'standard deviation', 'data validation', 'automation', 'monoliths', 'social media marketing', 'content creation', 'foods', 'interoperability', 'internet protocols suite', 'unit testing', 'extract, transform, load', 'nested queries', 'go', 'smart device', 'supply chain', 'comptia it fundamentals', 'technology ecosystems', 'packaging and labeling', 'asynchronous serial communication', 'software development', 'storage devices', 'spreadsheet software', 'binary search trees', 'pseudocode', 'web accessibility', 'software versioning', 'boolean expression', 'report writing', 'testability', 'cloud security infrastructure', 'risk management', 'finite element methods', 'it infrastructure', 'pyspark', 'public cloud', 'financial trading', 'linux servers', 'computer science', 'user interface design', 'information architecture', 'convolutional neural networks', 'contingency tables', 'amazon elastic compute cloud', 'control systems', 'expense management', 'apache hive', 'bitcoin', 'usability', 'server-side', 'probability theories', 'blood sugar', 'usability testing', 'reliability engineering', 'application performance management', 'access controls', 'regression analysis', 'abstract data types', 'purchasing', 'engineering software', 'built environment', 'digital electronics', 'sql', 'python', 'istio', 'foreign keys', 'numpy', 'development environment', 'leaflet', 'scatter plots', 'mathematical optimization', 'extensible stylesheet language transformations', 'boosting', 'metropolitan area networks', 'information privacy', 'supervised learning', 'verification and validation', 'pulse-width modulation', 'keyboard shortcuts', 'nodes', 'security policies', 'software testing', 'authorization', 'style guides', 'os process management', 'cloudant', 'typing', 'c', 'relational database design', 'hardware design', 'decision making', 'api gateway', 'nosql', 'support vector machine', 'openstack', 'cooperation', 'private cloud', 'linear discriminant analysis', 'autoscaling', 'business intelligence', 'blog posts', 'on-time performance', 'data analysis software', 'linux commands', 'quantum computing', 'operational efficiency', 'full-stack web development', 'natural language processing', 'a/b testing', '3d engine', 'ideation', 'continuous improvement process', 'relational databases', 'data modeling', 'front end design', 'human factors engineering', 'aws lambda', 'autodesk maya', 'incident response', 'chatbot', 'cost reduction', 'data warehousing', 'marketing', 'risk mitigation', 'code coverage', 'network automation', 'dna sequencing', 'torque', 'finance', 'business analytics', 'boundary testing', 'unstructured data', 'plan execution', 'transfer learning', 'selenium', 'music', 'logical reasoning', 'file explorer', 'automated teller machine', 'data access', 'file systems', 'cascading style sheets', 'design theory', 'marketing strategies', 'financial crisis', 'business marketing', 'prompt engineering', 'machine learning', 'data visualization', 'data management', 'cloud computing security', 'data auditing', 'language translation', 'business logic', 'economics', 'sample size determination', 'geospatial information and technology', '3d modeling', 'audio signal processing', 'jupyter', 'probability', 'penetration testing', 'business strategies', 'critical thinking', 'networking hardware', 'graphic communication', 'vibrations', 'pytorch', 'computer networks', 'test planning', 'linux administration', 'animation and game design', 'hyperledger', 'agile software development', 'embedded systems', 'user interface', 'amazon dynamodb', 'user experience design', 'dimensionality reduction', 'stack overflow', 'safety assurance', 'design elements and principles', 'balancing', 'cyber threat intelligence', 'front-end web development', 'transaction processing', 'project files', 'shell commands', 'verilog', 'video game development', 'data cube', 'serverless computing', 'program development', 'back-end web development', 'persistence', 'motherboard', 'data-driven decision-making', 'creative design', 'object-relational mapping', 'informatics', 'virtualization', 'design software', 'google cloud platform', 'microservices', 'wget', 'sorting algorithm', 'machine learning algorithms', 'microarchitecture', 'cognitive load theory', 'test-driven development', 'mathematical modeling', 'integration', 'textiles', 'anaconda', 'computer engineering', 'hardware architecture', 'encryption', 'advanced mathematics', 'polymorphism', 'graphic and visual design', 'scala programming', 'ray tracing', 'data processing', 'big data', 'scientific methods', 'cloud engineering', 'scikit learn', 'matplotlib', 'rapid prototyping', 'unix commands', 'internet hosting service', 'derivatives', 'data storage technologies', 'real-time operating systems', 'chatgpt', 'software development tools', 'application frameworks', 'toolchain', 'communications protocols', 'data transformation', 'user feedback', 'development testing', 'electronics', 'computational thinking', 'analytics', 'return on investment', 'graphql', 'reinforcement learning', 'network security', '3d computer graphics', 'endpoint security', 'ledgers', '5g technology', 'combinatorics', 'data ethics', 'jenkins', 'motion planning', 'disk cloning', 'ping', 'github', 'operations research', 'statistical hypothesis testing', 'business economics', 'ecology', 'web platforms', 'pivot tables and charts', 'human factors', 'distributed ledgers', 'procedural programming', 'open web application security project', 'microsoft 365', 'behavior-driven development', 'system testing', 'google cloud', 'lecturing', 'time complexity', 'professional development', 'security software', 'interviewing skills', 'persona', 'database storage structures', 'stereophonic sound system', 'digital systems', 'process improvement', 'data pipelines', 'correlation analysis', 'network analysis', 'blood pressure', 'web analytics', 'numerical analysis', 'digital audio player', 'cloud technologies', 'linux distribution', 'object-oriented programming', 'music technology', 'kinematics', 'open-source software', 'devops', 'unsupervised learning', 'information extraction', 'network monitoring', 'code review', 'angular', 'interactive data visualization', 'generative ai', 'presentations', 'xpath', 'financial services', 'microprocessor', 'assistive technology', 'prototyping', 'network functions virtualization', 'data storage', 'templates', 'openai', 'look and feel', 'amazon api gateway', 'database permissions', 'device management', 'multitier architecture', 'statistical inference', 'research', 'software design patterns', 'object oriented design', 'voice assistant technology', 'systems of equations', 'front end', 'cybersecurity', 'fault tolerance', 'infectious diseases', 'software design', 'electrical engineering', 'workflow management', 'market research', 'engineering calculations', 'autonomous vehicles', 'variance analysis', 'infrastructure as a service', 'linux', 'cryptanalysis', 'engineering economics', 'pie charts', 'keras', 'diabetes mellitus', 'cloud-native computing', 'backup devices', 'software construction', 'technical support', 'digital data', 'python programming', 'multimedia', 'financial modeling', 'web content accessibility guidelines', 'file organization', 'opengl', 'star schema', 'apache hadoop', 'simulations', 'language model', 'monte carlo methods', 'human-centered design', 'pesticides', 'network troubleshooting', 'operational analysis', 'statistical analysis', 'pattern matching', 'software systems', 'tooling', 'database systems', 'cloud solutions', 'devops tools', 'ci/cd', 'security systems', 'transportation operations', 'document preparations', 'hosting', 'amazon elastic kubernetes service', 'prediction', 'control structures', 'biology', 'test driven development', 'visual programming language', 'health information technology', 'test automation', 'spanning tree protocols', 'code editor', 'linear algebra', 'marketing analytics', 'artificial intelligence and machine learning', 'microsoft windows', 'document management', 'service-level agreement', 'javascript libraries', 'logic synthesis', 'static files', 'stored procedure', 'scalability', 'systems engineering', 'data lakes', 'exception handling', 'design thinking', 'shell script', 'stochastic process', 'curve fitting', 'deep learning', 'information systems security', 'markov model', 'ux research', 'database design', 'callback functions', 'visual impairment education', 'stress management', 'classification and regression tree', 'financial technology', 'staging area', 'descriptive analytics', 'system design and implementation', 'supercomputing', 'statistical packages', 'microsoft outlook', 'image analysis', 'directx', 'brute force attacks', 'agentic systems', 'web development', 'data structures', 'web applications', 'network routing', 'django', 'aws certified solutions architect associate', 'command-line interface', 'scenario testing', 'rust', 'anatomy', 'data ingestion', 'generative ai agents', 'population health', 'cloud automation', 'security controls', 'hybrid cloud computing', 'biochemistry', 'account strategy', 'mlops', 'c dynamic memory allocation', 'systems architecture', 'target audience', 'data manipulation', 'scripting languages', 'grafana', 'cloud computing architecture', 'web development tools', 'cloud development', 'power bi', 'data mining', 'ibm db2', 'parsing', 'cloud security architecture', 'telecommunications', 'amazon cognito', 'exploratory data analysis', 'psychology', 'political sciences', 'problem solving', 'concurrency controls', 'e-commerce', 'software quality', 'embedded software', 'calculus', 'open source development', 'file management', 'web browsers', 'database as a service', 'shiny', 'web pages', 'linear regression', 'business metrics', 'algebra', 'human readable', 'epidemiology', 'network computing', 'pattern recognition', 'portfolio management', 'artificial intelligence', 'medical science and research', 'sorting', 'infographics', 'ibm cognos business intelligence', 'image processing', 'curl', 'database management', 'patch management', 'application development', 'experimentation', 'user experience', 'business case', 'computational tools', 'web ui', 'computer architecture', 'risk analysis', 'apache spark', 'wide area networks', 'jest', 'digital communications', 'interactive design', 'public service', 'augmented reality', 'containerization', 'statistical methods', 'mechanics', 'virtual machines', 'tcp/ip', 'network topology', 'systems integration', 'problem management', 'web scraping', 'help desk support', 'association of chartered certified accountants', 'databricks', 'localization', 'ajax', 'data warehouse systems', 'management', 'computer security', 'midi', 'it automation', 'greedy algorithm', 'health informatics', 'computer programming tools']\n"
     ]
    }
   ],
   "execution_count": 19
  },
  {
   "metadata": {
    "ExecuteTime": {
     "end_time": "2025-07-11T10:25:47.264980Z",
     "start_time": "2025-07-11T10:25:43.475547Z"
    }
   },
   "cell_type": "code",
   "source": [
    "from sentence_transformers import SentenceTransformer\n",
    "\n",
    "model = SentenceTransformer('paraphrase-multilingual-mpnet-base-v2')\n",
    "# model = SentenceTransformer('multilingual-e5-large')"
   ],
   "id": "a6e92e045f5c49a0",
   "outputs": [],
   "execution_count": 17
  },
  {
   "metadata": {
    "collapsed": true,
    "ExecuteTime": {
     "end_time": "2025-07-11T10:26:26.470582Z",
     "start_time": "2025-07-11T10:26:20.545626Z"
    }
   },
   "cell_type": "code",
   "source": [
    "course_embeddings = model.encode(cleaned_course_skills, normalize_embeddings=True)\n",
    "job_embeddings = model.encode(unique_job_skills, normalize_embeddings=True)\n"
   ],
   "id": "initial_id",
   "outputs": [],
   "execution_count": 20
  },
  {
   "metadata": {
    "ExecuteTime": {
     "end_time": "2025-07-11T10:26:34.071408Z",
     "start_time": "2025-07-11T10:26:34.063624Z"
    }
   },
   "cell_type": "code",
   "source": [
    "from sklearn.metrics.pairwise import cosine_similarity\n",
    "\n",
    "similarity_matrix = cosine_similarity(job_embeddings, course_embeddings)"
   ],
   "id": "28fa3cbfd0053e4a",
   "outputs": [],
   "execution_count": 22
  },
  {
   "metadata": {
    "ExecuteTime": {
     "end_time": "2025-07-11T10:39:15.342474Z",
     "start_time": "2025-07-11T10:39:15.239537Z"
    }
   },
   "cell_type": "code",
   "source": [
    "import numpy as np\n",
    "\n",
    "skill_map = {}\n",
    "threshold = 0.85\n",
    "for i, prof_skill in enumerate(unique_job_skills):\n",
    "    top_indices = [\n",
    "        idx for idx in np.argsort(similarity_matrix[i])[::-1]\n",
    "            if threshold < similarity_matrix[i][idx] and not np.isclose(similarity_matrix[i][idx], 1.0)\n",
    "    ][:3]\n",
    "    if top_indices:\n",
    "        skill_map[prof_skill] = [\n",
    "            (cleaned_course_skills[idx], round(float(similarity_matrix[i][idx]), 2))\n",
    "            for idx in top_indices\n",
    "        ]\n",
    "\n",
    "print(skill_map)\n",
    "for prof_skill, matches in skill_map.items():\n",
    "    print(f\"Skill from job: {prof_skill}\")\n",
    "    for course_skill, score in matches:\n",
    "        print(f\"  --> {course_skill} (accuracy: {score})\")\n",
    "    print()"
   ],
   "id": "1022291bc9dca051",
   "outputs": [
    {
     "name": "stdout",
     "output_type": "stream",
     "text": [
      "{'go': [('git', 0.95)], 'data pipelines': [('data pipeline', 0.99)], '1с комплексная автоматизация': [('automation', 0.91)], 'java ee': [('jest', 0.94)], 'java se': [('jest', 0.88)], 'html': [('html5', 0.89)], 'responsive design': [('responsive web design', 0.89)], 'prototyping': [('rapid prototyping', 0.9)], 'tcp ip': [('tcp/ip', 0.96)], 'python': [('python programming', 0.91)], 'cybersecurity': [('cyber security', 1.0), ('cyber security strategy', 0.94), ('cyber security assessment', 0.91)], 'siem tools': [('tooling', 0.86)], 'android': [('android applications', 0.89)], 'git': [('go', 0.95)], 'linux': [('linux kernel', 0.86)], 'data cleaning': [('data cleansing', 0.94)], 'windows': [('microsoft windows', 0.89)], 'financial modeling': [('financial analysis', 0.87)], 'ms sql': [('sql', 0.87)], 'presentation': [('presentations', 0.97)], '3d modeling basics': [('3d modeling', 0.95)], 'cloud architecture': [('cloud computing architecture', 0.97), ('cloud computing', 0.92), ('cloud engineering', 0.9)], 'security': [('security systems', 0.9), ('security policies', 0.88), ('computer security', 0.86)], 'ci cd': [('ci/cd', 0.96)], 'forecasting': [('prediction', 0.86)], 'data visualization': [('data visualization software', 0.95), ('interactive data visualization', 0.93), ('information visualization', 0.89)], 'network programming': [('network computing', 0.88), ('computer networks', 0.85)], 'java': [('jest', 0.87), ('verilog', 0.85)], 'design thinking': [('design theory', 0.92), ('design strategies', 0.87)], 'graphics programming': [('computer graphics', 0.91)], 'cloud security': [('cloud computing security', 0.98), ('cloud security infrastructure', 0.96), ('cloud security architecture', 0.96)], 'rest api': [('restful api', 0.92)], 'angularjs': [('angular', 0.92)], 'analytics tools': [('analytics', 0.93), ('advanced analytics', 0.92)], 'android sdk': [('android', 0.89)], 'excel': [('excel formulas', 0.88), ('microsoft excel', 0.87)], 'английский язык': [('english language', 0.96)], 'system architecture': [('systems architecture', 0.98), ('computer architecture', 0.86)], 'encryption': [('cryptography', 0.9)], 'snowflake': [('snowflake schema', 0.9)], 'scikit learn': [('scikit-learn', 0.95)], 'vulnerability assessment': [('vulnerability', 0.87)], 'gradle': [('verilog', 0.88), ('grep', 0.86)], 'jest': [('java', 0.87)], 'scikit-learn': [('scikit learn', 0.95)], 'animation basics': [('animations', 0.9)]}\n",
      "Skill from job: go\n",
      "  --> git (accuracy: 0.95)\n",
      "\n",
      "Skill from job: data pipelines\n",
      "  --> data pipeline (accuracy: 0.99)\n",
      "\n",
      "Skill from job: 1с комплексная автоматизация\n",
      "  --> automation (accuracy: 0.91)\n",
      "\n",
      "Skill from job: java ee\n",
      "  --> jest (accuracy: 0.94)\n",
      "\n",
      "Skill from job: java se\n",
      "  --> jest (accuracy: 0.88)\n",
      "\n",
      "Skill from job: html\n",
      "  --> html5 (accuracy: 0.89)\n",
      "\n",
      "Skill from job: responsive design\n",
      "  --> responsive web design (accuracy: 0.89)\n",
      "\n",
      "Skill from job: prototyping\n",
      "  --> rapid prototyping (accuracy: 0.9)\n",
      "\n",
      "Skill from job: tcp ip\n",
      "  --> tcp/ip (accuracy: 0.96)\n",
      "\n",
      "Skill from job: python\n",
      "  --> python programming (accuracy: 0.91)\n",
      "\n",
      "Skill from job: cybersecurity\n",
      "  --> cyber security (accuracy: 1.0)\n",
      "  --> cyber security strategy (accuracy: 0.94)\n",
      "  --> cyber security assessment (accuracy: 0.91)\n",
      "\n",
      "Skill from job: siem tools\n",
      "  --> tooling (accuracy: 0.86)\n",
      "\n",
      "Skill from job: android\n",
      "  --> android applications (accuracy: 0.89)\n",
      "\n",
      "Skill from job: git\n",
      "  --> go (accuracy: 0.95)\n",
      "\n",
      "Skill from job: linux\n",
      "  --> linux kernel (accuracy: 0.86)\n",
      "\n",
      "Skill from job: data cleaning\n",
      "  --> data cleansing (accuracy: 0.94)\n",
      "\n",
      "Skill from job: windows\n",
      "  --> microsoft windows (accuracy: 0.89)\n",
      "\n",
      "Skill from job: financial modeling\n",
      "  --> financial analysis (accuracy: 0.87)\n",
      "\n",
      "Skill from job: ms sql\n",
      "  --> sql (accuracy: 0.87)\n",
      "\n",
      "Skill from job: presentation\n",
      "  --> presentations (accuracy: 0.97)\n",
      "\n",
      "Skill from job: 3d modeling basics\n",
      "  --> 3d modeling (accuracy: 0.95)\n",
      "\n",
      "Skill from job: cloud architecture\n",
      "  --> cloud computing architecture (accuracy: 0.97)\n",
      "  --> cloud computing (accuracy: 0.92)\n",
      "  --> cloud engineering (accuracy: 0.9)\n",
      "\n",
      "Skill from job: security\n",
      "  --> security systems (accuracy: 0.9)\n",
      "  --> security policies (accuracy: 0.88)\n",
      "  --> computer security (accuracy: 0.86)\n",
      "\n",
      "Skill from job: ci cd\n",
      "  --> ci/cd (accuracy: 0.96)\n",
      "\n",
      "Skill from job: forecasting\n",
      "  --> prediction (accuracy: 0.86)\n",
      "\n",
      "Skill from job: data visualization\n",
      "  --> data visualization software (accuracy: 0.95)\n",
      "  --> interactive data visualization (accuracy: 0.93)\n",
      "  --> information visualization (accuracy: 0.89)\n",
      "\n",
      "Skill from job: network programming\n",
      "  --> network computing (accuracy: 0.88)\n",
      "  --> computer networks (accuracy: 0.85)\n",
      "\n",
      "Skill from job: java\n",
      "  --> jest (accuracy: 0.87)\n",
      "  --> verilog (accuracy: 0.85)\n",
      "\n",
      "Skill from job: design thinking\n",
      "  --> design theory (accuracy: 0.92)\n",
      "  --> design strategies (accuracy: 0.87)\n",
      "\n",
      "Skill from job: graphics programming\n",
      "  --> computer graphics (accuracy: 0.91)\n",
      "\n",
      "Skill from job: cloud security\n",
      "  --> cloud computing security (accuracy: 0.98)\n",
      "  --> cloud security infrastructure (accuracy: 0.96)\n",
      "  --> cloud security architecture (accuracy: 0.96)\n",
      "\n",
      "Skill from job: rest api\n",
      "  --> restful api (accuracy: 0.92)\n",
      "\n",
      "Skill from job: angularjs\n",
      "  --> angular (accuracy: 0.92)\n",
      "\n",
      "Skill from job: analytics tools\n",
      "  --> analytics (accuracy: 0.93)\n",
      "  --> advanced analytics (accuracy: 0.92)\n",
      "\n",
      "Skill from job: android sdk\n",
      "  --> android (accuracy: 0.89)\n",
      "\n",
      "Skill from job: excel\n",
      "  --> excel formulas (accuracy: 0.88)\n",
      "  --> microsoft excel (accuracy: 0.87)\n",
      "\n",
      "Skill from job: английский язык\n",
      "  --> english language (accuracy: 0.96)\n",
      "\n",
      "Skill from job: system architecture\n",
      "  --> systems architecture (accuracy: 0.98)\n",
      "  --> computer architecture (accuracy: 0.86)\n",
      "\n",
      "Skill from job: encryption\n",
      "  --> cryptography (accuracy: 0.9)\n",
      "\n",
      "Skill from job: snowflake\n",
      "  --> snowflake schema (accuracy: 0.9)\n",
      "\n",
      "Skill from job: scikit learn\n",
      "  --> scikit-learn (accuracy: 0.95)\n",
      "\n",
      "Skill from job: vulnerability assessment\n",
      "  --> vulnerability (accuracy: 0.87)\n",
      "\n",
      "Skill from job: gradle\n",
      "  --> verilog (accuracy: 0.88)\n",
      "  --> grep (accuracy: 0.86)\n",
      "\n",
      "Skill from job: jest\n",
      "  --> java (accuracy: 0.87)\n",
      "\n",
      "Skill from job: scikit-learn\n",
      "  --> scikit learn (accuracy: 0.95)\n",
      "\n",
      "Skill from job: animation basics\n",
      "  --> animations (accuracy: 0.9)\n",
      "\n"
     ]
    }
   ],
   "execution_count": 24
  },
  {
   "metadata": {
    "ExecuteTime": {
     "end_time": "2025-07-11T10:58:40.625090Z",
     "start_time": "2025-07-11T10:58:40.621829Z"
    }
   },
   "cell_type": "code",
   "source": [
    "from collections import defaultdict\n",
    "\n",
    "reverse_skill_map = defaultdict(list)\n",
    "\n",
    "for prof_skill, course_matches in skill_map.items():\n",
    "    for course_skill, score in course_matches:\n",
    "        reverse_skill_map[course_skill].append(prof_skill)\n",
    "\n",
    "for course in reverse_skill_map:\n",
    "    reverse_skill_map[course].sort(key=lambda x: x[1], reverse=True)\n",
    "\n",
    "reverse_skill_map = dict(reverse_skill_map)\n",
    "\n",
    "print(reverse_skill_map)"
   ],
   "id": "ad52bf32a83c721b",
   "outputs": [
    {
     "name": "stdout",
     "output_type": "stream",
     "text": [
      "{'git': ['go'], 'data pipeline': ['data pipelines'], 'automation': ['1с комплексная автоматизация'], 'jest': ['java ee', 'java se', 'java'], 'html5': ['html'], 'responsive web design': ['responsive design'], 'rapid prototyping': ['prototyping'], 'tcp/ip': ['tcp ip'], 'python programming': ['python'], 'cyber security': ['cybersecurity'], 'cyber security strategy': ['cybersecurity'], 'cyber security assessment': ['cybersecurity'], 'tooling': ['siem tools'], 'android applications': ['android'], 'go': ['git'], 'linux kernel': ['linux'], 'data cleansing': ['data cleaning'], 'microsoft windows': ['windows'], 'financial analysis': ['financial modeling'], 'sql': ['ms sql'], 'presentations': ['presentation'], '3d modeling': ['3d modeling basics'], 'cloud computing architecture': ['cloud architecture'], 'cloud computing': ['cloud architecture'], 'cloud engineering': ['cloud architecture'], 'security systems': ['security'], 'security policies': ['security'], 'computer security': ['security'], 'ci/cd': ['ci cd'], 'prediction': ['forecasting'], 'data visualization software': ['data visualization'], 'interactive data visualization': ['data visualization'], 'information visualization': ['data visualization'], 'network computing': ['network programming'], 'computer networks': ['network programming'], 'verilog': ['gradle', 'java'], 'design theory': ['design thinking'], 'design strategies': ['design thinking'], 'computer graphics': ['graphics programming'], 'cloud computing security': ['cloud security'], 'cloud security infrastructure': ['cloud security'], 'cloud security architecture': ['cloud security'], 'restful api': ['rest api'], 'angular': ['angularjs'], 'analytics': ['analytics tools'], 'advanced analytics': ['analytics tools'], 'android': ['android sdk'], 'excel formulas': ['excel'], 'microsoft excel': ['excel'], 'english language': ['английский язык'], 'systems architecture': ['system architecture'], 'computer architecture': ['system architecture'], 'cryptography': ['encryption'], 'snowflake schema': ['snowflake'], 'scikit-learn': ['scikit learn'], 'vulnerability': ['vulnerability assessment'], 'grep': ['gradle'], 'java': ['jest'], 'scikit learn': ['scikit-learn'], 'animations': ['animation basics']}\n"
     ]
    }
   ],
   "execution_count": 31
  },
  {
   "metadata": {
    "ExecuteTime": {
     "end_time": "2025-07-11T10:11:11.065223Z",
     "start_time": "2025-07-11T10:11:11.061113Z"
    }
   },
   "cell_type": "code",
   "source": [
    "with open('skill_mapping.json', 'w', encoding='utf-8') as f:\n",
    "    json.dump(skill_map, f, ensure_ascii=False, indent=2)"
   ],
   "id": "82ad64347e1d1ed3",
   "outputs": [],
   "execution_count": 11
  },
  {
   "metadata": {},
   "cell_type": "code",
   "outputs": [],
   "execution_count": null,
   "source": "",
   "id": "b665e054b51c48e3"
  }
 ],
 "metadata": {
  "kernelspec": {
   "display_name": "Python 3",
   "language": "python",
   "name": "python3"
  },
  "language_info": {
   "codemirror_mode": {
    "name": "ipython",
    "version": 2
   },
   "file_extension": ".py",
   "mimetype": "text/x-python",
   "name": "python",
   "nbconvert_exporter": "python",
   "pygments_lexer": "ipython2",
   "version": "2.7.6"
  }
 },
 "nbformat": 4,
 "nbformat_minor": 5
}
