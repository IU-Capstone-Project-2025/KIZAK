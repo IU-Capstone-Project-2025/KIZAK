{
 "cells": [
  {
   "metadata": {},
   "cell_type": "markdown",
   "source": [
    "\n",
    "### 1. Read & clean up data\n",
    "\n",
    "Datasets is open-source and were taken from https://huggingface.co/datasets/arkodeep/jobdata (english vacancies) and https://www.kaggle.com/datasets/vyacheslavpanteleev1/hhru-it-vacancies-from-20211025-to-20211202 (russian vacancies)"
   ],
   "id": "b523da5e64c7fc5"
  },
  {
   "metadata": {},
   "cell_type": "markdown",
   "source": [
    "\n",
    "#### 1. Read\n",
    "\n",
    "We do not need all the data in the tables, so will throw out some (most) of the columns. Also it is good idea to combine datasets\n"
   ],
   "id": "f8029ece1f62066d"
  },
  {
   "cell_type": "code",
   "id": "initial_id",
   "metadata": {
    "collapsed": true,
    "ExecuteTime": {
     "end_time": "2025-06-20T11:17:49.912468Z",
     "start_time": "2025-06-20T11:17:36.447549Z"
    }
   },
   "source": [
    "import pandas as pd\n",
    "\n",
    "data_en = pd.read_csv('vacancies-skills_datasets/jobs_all.csv')\n",
    "data_ru = pd.read_csv('vacancies-skills_datasets/IT_vacancies_full.csv')"
   ],
   "outputs": [],
   "execution_count": 11
  },
  {
   "metadata": {
    "ExecuteTime": {
     "end_time": "2025-06-20T11:17:50.016827Z",
     "start_time": "2025-06-20T11:17:49.979614Z"
    }
   },
   "cell_type": "code",
   "source": "data_en.columns",
   "id": "27ca819255a74d32",
   "outputs": [
    {
     "data": {
      "text/plain": [
       "Index(['job_title_short', 'job_title', 'job_location', 'job_via',\n",
       "       'job_schedule_type', 'job_work_from_home', 'search_location',\n",
       "       'job_posted_date', 'job_no_degree_mention', 'job_health_insurance',\n",
       "       'job_country', 'salary_rate', 'salary_year_avg', 'salary_hour_avg',\n",
       "       'company_name', 'job_skills', 'job_type_skills', 'key_id'],\n",
       "      dtype='object')"
      ]
     },
     "execution_count": 12,
     "metadata": {},
     "output_type": "execute_result"
    }
   ],
   "execution_count": 12
  },
  {
   "metadata": {
    "ExecuteTime": {
     "end_time": "2025-06-20T11:17:50.061545Z",
     "start_time": "2025-06-20T11:17:50.048826Z"
    }
   },
   "cell_type": "code",
   "source": "data_ru.columns",
   "id": "7cb29e3eb11a287d",
   "outputs": [
    {
     "data": {
      "text/plain": [
       "Index(['Ids', 'Employer', 'Name', 'Salary', 'From', 'To', 'Experience',\n",
       "       'Schedule', 'Keys', 'Description', 'Area', 'Professional roles',\n",
       "       'Specializations', 'Profarea names', 'Published at'],\n",
       "      dtype='object')"
      ]
     },
     "execution_count": 13,
     "metadata": {},
     "output_type": "execute_result"
    }
   ],
   "execution_count": 13
  },
  {
   "metadata": {
    "ExecuteTime": {
     "end_time": "2025-06-20T11:17:51.031469Z",
     "start_time": "2025-06-20T11:17:50.110646Z"
    }
   },
   "cell_type": "code",
   "source": [
    "data_en = data_en[['job_title','job_skills']]\n",
    "data_ru = data_ru[['Name','Keys']]"
   ],
   "id": "18e52568f9c2fbe8",
   "outputs": [],
   "execution_count": 14
  },
  {
   "metadata": {
    "ExecuteTime": {
     "end_time": "2025-06-20T11:17:51.139130Z",
     "start_time": "2025-06-20T11:17:51.113338Z"
    }
   },
   "cell_type": "code",
   "source": "data_en.head()",
   "id": "eb7e802570bf3dd8",
   "outputs": [
    {
     "data": {
      "text/plain": [
       "                                           job_title  \\\n",
       "0  Senior Clinical Data Engineer / Principal Clin...   \n",
       "1                                       Data Analyst   \n",
       "2  Data Engineer/Scientist/Analyst, Mid or Senior...   \n",
       "3  LEAD ENGINEER - PRINCIPAL ANALYST - PRINCIPAL ...   \n",
       "4                             Data Engineer- Sr Jobs   \n",
       "\n",
       "                                          job_skills  \n",
       "0                                                NaN  \n",
       "1  ['r', 'python', 'sql', 'nosql', 'power bi', 't...  \n",
       "2  ['python', 'sql', 'c#', 'azure', 'airflow', 'd...  \n",
       "3  ['python', 'c++', 'java', 'matlab', 'aws', 'te...  \n",
       "4  ['bash', 'python', 'oracle', 'aws', 'ansible',...  "
      ],
      "text/html": [
       "<div>\n",
       "<style scoped>\n",
       "    .dataframe tbody tr th:only-of-type {\n",
       "        vertical-align: middle;\n",
       "    }\n",
       "\n",
       "    .dataframe tbody tr th {\n",
       "        vertical-align: top;\n",
       "    }\n",
       "\n",
       "    .dataframe thead th {\n",
       "        text-align: right;\n",
       "    }\n",
       "</style>\n",
       "<table border=\"1\" class=\"dataframe\">\n",
       "  <thead>\n",
       "    <tr style=\"text-align: right;\">\n",
       "      <th></th>\n",
       "      <th>job_title</th>\n",
       "      <th>job_skills</th>\n",
       "    </tr>\n",
       "  </thead>\n",
       "  <tbody>\n",
       "    <tr>\n",
       "      <th>0</th>\n",
       "      <td>Senior Clinical Data Engineer / Principal Clin...</td>\n",
       "      <td>NaN</td>\n",
       "    </tr>\n",
       "    <tr>\n",
       "      <th>1</th>\n",
       "      <td>Data Analyst</td>\n",
       "      <td>['r', 'python', 'sql', 'nosql', 'power bi', 't...</td>\n",
       "    </tr>\n",
       "    <tr>\n",
       "      <th>2</th>\n",
       "      <td>Data Engineer/Scientist/Analyst, Mid or Senior...</td>\n",
       "      <td>['python', 'sql', 'c#', 'azure', 'airflow', 'd...</td>\n",
       "    </tr>\n",
       "    <tr>\n",
       "      <th>3</th>\n",
       "      <td>LEAD ENGINEER - PRINCIPAL ANALYST - PRINCIPAL ...</td>\n",
       "      <td>['python', 'c++', 'java', 'matlab', 'aws', 'te...</td>\n",
       "    </tr>\n",
       "    <tr>\n",
       "      <th>4</th>\n",
       "      <td>Data Engineer- Sr Jobs</td>\n",
       "      <td>['bash', 'python', 'oracle', 'aws', 'ansible',...</td>\n",
       "    </tr>\n",
       "  </tbody>\n",
       "</table>\n",
       "</div>"
      ]
     },
     "execution_count": 15,
     "metadata": {},
     "output_type": "execute_result"
    }
   ],
   "execution_count": 15
  },
  {
   "metadata": {
    "ExecuteTime": {
     "end_time": "2025-06-20T11:17:51.195425Z",
     "start_time": "2025-06-20T11:17:51.181220Z"
    }
   },
   "cell_type": "code",
   "source": "data_ru.head()",
   "id": "3d4165c67e869260",
   "outputs": [
    {
     "data": {
      "text/plain": [
       "                              Name  \\\n",
       "0          Golang Developer (Кипр)   \n",
       "1                Е-mail маркетолог   \n",
       "2  Оператор call-центра (удаленно)   \n",
       "3           Ведущий SMM специалист   \n",
       "4                   UX/UI Designer   \n",
       "\n",
       "                                                Keys  \n",
       "0  ['Docker', 'Golang', 'Redis', 'Английский язык...  \n",
       "1  ['Грамотность', 'Написание текстов', 'Грамотна...  \n",
       "2  ['Клиентоориентированность', 'Ориентация на ре...  \n",
       "3  ['Продвижение бренда', 'Креативность', 'Adobe ...  \n",
       "4  ['UI', 'UX', 'gamedev', 'game design', 'проект...  "
      ],
      "text/html": [
       "<div>\n",
       "<style scoped>\n",
       "    .dataframe tbody tr th:only-of-type {\n",
       "        vertical-align: middle;\n",
       "    }\n",
       "\n",
       "    .dataframe tbody tr th {\n",
       "        vertical-align: top;\n",
       "    }\n",
       "\n",
       "    .dataframe thead th {\n",
       "        text-align: right;\n",
       "    }\n",
       "</style>\n",
       "<table border=\"1\" class=\"dataframe\">\n",
       "  <thead>\n",
       "    <tr style=\"text-align: right;\">\n",
       "      <th></th>\n",
       "      <th>Name</th>\n",
       "      <th>Keys</th>\n",
       "    </tr>\n",
       "  </thead>\n",
       "  <tbody>\n",
       "    <tr>\n",
       "      <th>0</th>\n",
       "      <td>Golang Developer (Кипр)</td>\n",
       "      <td>['Docker', 'Golang', 'Redis', 'Английский язык...</td>\n",
       "    </tr>\n",
       "    <tr>\n",
       "      <th>1</th>\n",
       "      <td>Е-mail маркетолог</td>\n",
       "      <td>['Грамотность', 'Написание текстов', 'Грамотна...</td>\n",
       "    </tr>\n",
       "    <tr>\n",
       "      <th>2</th>\n",
       "      <td>Оператор call-центра (удаленно)</td>\n",
       "      <td>['Клиентоориентированность', 'Ориентация на ре...</td>\n",
       "    </tr>\n",
       "    <tr>\n",
       "      <th>3</th>\n",
       "      <td>Ведущий SMM специалист</td>\n",
       "      <td>['Продвижение бренда', 'Креативность', 'Adobe ...</td>\n",
       "    </tr>\n",
       "    <tr>\n",
       "      <th>4</th>\n",
       "      <td>UX/UI Designer</td>\n",
       "      <td>['UI', 'UX', 'gamedev', 'game design', 'проект...</td>\n",
       "    </tr>\n",
       "  </tbody>\n",
       "</table>\n",
       "</div>"
      ]
     },
     "execution_count": 16,
     "metadata": {},
     "output_type": "execute_result"
    }
   ],
   "execution_count": 16
  },
  {
   "metadata": {
    "ExecuteTime": {
     "end_time": "2025-06-20T11:29:53.283189Z",
     "start_time": "2025-06-20T11:29:53.237315Z"
    }
   },
   "cell_type": "code",
   "source": [
    "data_ru.rename(columns = {'Name': 'job_title', 'Keys': 'job_skills'}, inplace = True)\n",
    "\n",
    "data_combined = pd.concat([data_en, data_ru], ignore_index=True)\n",
    "data_combined.head()"
   ],
   "id": "4ef2ab8090a283ac",
   "outputs": [
    {
     "data": {
      "text/plain": [
       "                                           job_title  \\\n",
       "0  Senior Clinical Data Engineer / Principal Clin...   \n",
       "1                                       Data Analyst   \n",
       "2  Data Engineer/Scientist/Analyst, Mid or Senior...   \n",
       "3  LEAD ENGINEER - PRINCIPAL ANALYST - PRINCIPAL ...   \n",
       "4                             Data Engineer- Sr Jobs   \n",
       "\n",
       "                                          job_skills  \n",
       "0                                                NaN  \n",
       "1  ['r', 'python', 'sql', 'nosql', 'power bi', 't...  \n",
       "2  ['python', 'sql', 'c#', 'azure', 'airflow', 'd...  \n",
       "3  ['python', 'c++', 'java', 'matlab', 'aws', 'te...  \n",
       "4  ['bash', 'python', 'oracle', 'aws', 'ansible',...  "
      ],
      "text/html": [
       "<div>\n",
       "<style scoped>\n",
       "    .dataframe tbody tr th:only-of-type {\n",
       "        vertical-align: middle;\n",
       "    }\n",
       "\n",
       "    .dataframe tbody tr th {\n",
       "        vertical-align: top;\n",
       "    }\n",
       "\n",
       "    .dataframe thead th {\n",
       "        text-align: right;\n",
       "    }\n",
       "</style>\n",
       "<table border=\"1\" class=\"dataframe\">\n",
       "  <thead>\n",
       "    <tr style=\"text-align: right;\">\n",
       "      <th></th>\n",
       "      <th>job_title</th>\n",
       "      <th>job_skills</th>\n",
       "    </tr>\n",
       "  </thead>\n",
       "  <tbody>\n",
       "    <tr>\n",
       "      <th>0</th>\n",
       "      <td>Senior Clinical Data Engineer / Principal Clin...</td>\n",
       "      <td>NaN</td>\n",
       "    </tr>\n",
       "    <tr>\n",
       "      <th>1</th>\n",
       "      <td>Data Analyst</td>\n",
       "      <td>['r', 'python', 'sql', 'nosql', 'power bi', 't...</td>\n",
       "    </tr>\n",
       "    <tr>\n",
       "      <th>2</th>\n",
       "      <td>Data Engineer/Scientist/Analyst, Mid or Senior...</td>\n",
       "      <td>['python', 'sql', 'c#', 'azure', 'airflow', 'd...</td>\n",
       "    </tr>\n",
       "    <tr>\n",
       "      <th>3</th>\n",
       "      <td>LEAD ENGINEER - PRINCIPAL ANALYST - PRINCIPAL ...</td>\n",
       "      <td>['python', 'c++', 'java', 'matlab', 'aws', 'te...</td>\n",
       "    </tr>\n",
       "    <tr>\n",
       "      <th>4</th>\n",
       "      <td>Data Engineer- Sr Jobs</td>\n",
       "      <td>['bash', 'python', 'oracle', 'aws', 'ansible',...</td>\n",
       "    </tr>\n",
       "  </tbody>\n",
       "</table>\n",
       "</div>"
      ]
     },
     "execution_count": 27,
     "metadata": {},
     "output_type": "execute_result"
    }
   ],
   "execution_count": 27
  },
  {
   "metadata": {},
   "cell_type": "markdown",
   "source": [
    "\n",
    "#### 2. Clean up text\n",
    "\n",
    "Transfer everything to the lower register, remove Nans and excess punctiation, convert skills into arrays etc"
   ],
   "id": "11f164d08e1d4358"
  },
  {
   "metadata": {
    "ExecuteTime": {
     "end_time": "2025-06-20T11:30:44.092346Z",
     "start_time": "2025-06-20T11:29:56.046372Z"
    }
   },
   "cell_type": "code",
   "source": [
    "import re\n",
    "import ast\n",
    "\n",
    "data_combined = data_combined.dropna()\n",
    "data_combined['job_skills'] = data_combined['job_skills'].apply(ast.literal_eval)\n",
    "\n",
    "def clean_text(text):\n",
    "    text = text.lower()\n",
    "    text = re.sub(r'[-/()]', ' ', text)\n",
    "    text = re.sub(r'[^a-zA-Zа-яА-Я0-9+#+.]', ' ', text)\n",
    "    text = re.sub(r'\\b\\d+\\b', '', text)\n",
    "    text = re.sub(r'\\s+', ' ', text).strip()\n",
    "    return text\n",
    "\n",
    "def clean_cell(cell):\n",
    "    if isinstance(cell, list):\n",
    "        return [clean_text(item) for item in cell if isinstance(item, str)]\n",
    "    elif isinstance(cell, str):\n",
    "        return clean_text(cell)\n",
    "    else:\n",
    "        return cell\n",
    "\n",
    "for col in data_combined.columns:\n",
    "    data_combined[col] = data_combined[col].apply(clean_cell)\n"
   ],
   "id": "9c4b62654dc8df13",
   "outputs": [],
   "execution_count": 28
  },
  {
   "metadata": {
    "ExecuteTime": {
     "end_time": "2025-06-20T11:46:50.335558Z",
     "start_time": "2025-06-20T11:46:50.292317Z"
    }
   },
   "cell_type": "code",
   "source": "data_combined.head(10)",
   "id": "3a7125f9cfc7c6f3",
   "outputs": [
    {
     "data": {
      "text/plain": [
       "                                            job_title  \\\n",
       "1                                        data analyst   \n",
       "2   data engineer scientist analyst mid or senior ...   \n",
       "3   lead engineer principal analyst principal engi...   \n",
       "4                               data engineer sr jobs   \n",
       "5                                   gcp data engineer   \n",
       "6                      senior data engineer gcp cloud   \n",
       "7                                       data engineer   \n",
       "8              technology operations business analyst   \n",
       "9                                   data scientist ii   \n",
       "10                 erfahrene r data engineer in m w d   \n",
       "\n",
       "                                           job_skills  \n",
       "1          [r, python, sql, nosql, power bi, tableau]  \n",
       "2   [python, sql, c#, azure, airflow, dax, docker,...  \n",
       "3   [python, c++, java, matlab, aws, tensorflow, k...  \n",
       "4   [bash, python, oracle, aws, ansible, puppet, j...  \n",
       "5                                  [python, sql, gcp]  \n",
       "6   [sql, python, java, sql server, gcp, bigquery,...  \n",
       "7   [sql, nosql, gcp, azure, aws, bigquery, databr...  \n",
       "8                       [excel, powerpoint, power bi]  \n",
       "9   [sql, python, r, mongodb, mongodb, sql server,...  \n",
       "10                 [python, databricks, azure, spark]  "
      ],
      "text/html": [
       "<div>\n",
       "<style scoped>\n",
       "    .dataframe tbody tr th:only-of-type {\n",
       "        vertical-align: middle;\n",
       "    }\n",
       "\n",
       "    .dataframe tbody tr th {\n",
       "        vertical-align: top;\n",
       "    }\n",
       "\n",
       "    .dataframe thead th {\n",
       "        text-align: right;\n",
       "    }\n",
       "</style>\n",
       "<table border=\"1\" class=\"dataframe\">\n",
       "  <thead>\n",
       "    <tr style=\"text-align: right;\">\n",
       "      <th></th>\n",
       "      <th>job_title</th>\n",
       "      <th>job_skills</th>\n",
       "    </tr>\n",
       "  </thead>\n",
       "  <tbody>\n",
       "    <tr>\n",
       "      <th>1</th>\n",
       "      <td>data analyst</td>\n",
       "      <td>[r, python, sql, nosql, power bi, tableau]</td>\n",
       "    </tr>\n",
       "    <tr>\n",
       "      <th>2</th>\n",
       "      <td>data engineer scientist analyst mid or senior ...</td>\n",
       "      <td>[python, sql, c#, azure, airflow, dax, docker,...</td>\n",
       "    </tr>\n",
       "    <tr>\n",
       "      <th>3</th>\n",
       "      <td>lead engineer principal analyst principal engi...</td>\n",
       "      <td>[python, c++, java, matlab, aws, tensorflow, k...</td>\n",
       "    </tr>\n",
       "    <tr>\n",
       "      <th>4</th>\n",
       "      <td>data engineer sr jobs</td>\n",
       "      <td>[bash, python, oracle, aws, ansible, puppet, j...</td>\n",
       "    </tr>\n",
       "    <tr>\n",
       "      <th>5</th>\n",
       "      <td>gcp data engineer</td>\n",
       "      <td>[python, sql, gcp]</td>\n",
       "    </tr>\n",
       "    <tr>\n",
       "      <th>6</th>\n",
       "      <td>senior data engineer gcp cloud</td>\n",
       "      <td>[sql, python, java, sql server, gcp, bigquery,...</td>\n",
       "    </tr>\n",
       "    <tr>\n",
       "      <th>7</th>\n",
       "      <td>data engineer</td>\n",
       "      <td>[sql, nosql, gcp, azure, aws, bigquery, databr...</td>\n",
       "    </tr>\n",
       "    <tr>\n",
       "      <th>8</th>\n",
       "      <td>technology operations business analyst</td>\n",
       "      <td>[excel, powerpoint, power bi]</td>\n",
       "    </tr>\n",
       "    <tr>\n",
       "      <th>9</th>\n",
       "      <td>data scientist ii</td>\n",
       "      <td>[sql, python, r, mongodb, mongodb, sql server,...</td>\n",
       "    </tr>\n",
       "    <tr>\n",
       "      <th>10</th>\n",
       "      <td>erfahrene r data engineer in m w d</td>\n",
       "      <td>[python, databricks, azure, spark]</td>\n",
       "    </tr>\n",
       "  </tbody>\n",
       "</table>\n",
       "</div>"
      ]
     },
     "execution_count": 35,
     "metadata": {},
     "output_type": "execute_result"
    }
   ],
   "execution_count": 35
  },
  {
   "metadata": {},
   "cell_type": "markdown",
   "source": [
    "\n",
    "### 3. Work with job titles\n",
    "Plan is follows:\n",
    "1. Remove stop-words\n",
    "2. Start combining by using n-grams. They help to match patterns like 'pyhon developer' and 'developer python'\n",
    "3. Create embeddings using sentence transformers or tf-idf\n",
    "4. Apply clusterization to embeddings using dbscan or hdbscan or agglomerative clustering"
   ],
   "id": "e56cd7eb427c068d"
  },
  {
   "metadata": {},
   "cell_type": "markdown",
   "source": "#### 3.1 No stop words",
   "id": "141ebf84175224ef"
  },
  {
   "metadata": {
    "ExecuteTime": {
     "end_time": "2025-06-20T11:43:56.189919Z",
     "start_time": "2025-06-20T11:43:52.192977Z"
    }
   },
   "cell_type": "code",
   "source": [
    "import nltk\n",
    "from nltk.corpus import stopwords\n",
    "nltk.download('stopwords')\n",
    "\n",
    "stop_words_en = set(stopwords.words('english'))\n",
    "stop_words_ru = set(stopwords.words('russian'))"
   ],
   "id": "14b8eef59ed8d73f",
   "outputs": [
    {
     "name": "stderr",
     "output_type": "stream",
     "text": [
      "[nltk_data] Downloading package stopwords to\n",
      "[nltk_data]     C:\\Users\\user\\AppData\\Roaming\\nltk_data...\n",
      "[nltk_data]   Package stopwords is already up-to-date!\n"
     ]
    }
   ],
   "execution_count": 30
  },
  {
   "metadata": {
    "ExecuteTime": {
     "end_time": "2025-06-20T11:44:18.181253Z",
     "start_time": "2025-06-20T11:44:18.173437Z"
    }
   },
   "cell_type": "code",
   "source": [
    "def remove_stopwords(text):\n",
    "    words = text.lower().split()\n",
    "    filtered_words = [w for w in words if w not in stop_words_en and w not in stop_words_ru]\n",
    "    return filtered_words"
   ],
   "id": "54929e3958974d66",
   "outputs": [],
   "execution_count": 31
  },
  {
   "metadata": {
    "ExecuteTime": {
     "end_time": "2025-06-20T11:47:35.662938Z",
     "start_time": "2025-06-20T11:47:33.970893Z"
    }
   },
   "cell_type": "code",
   "source": [
    "sentences = data_combined['job_title'].apply(remove_stopwords).tolist()\n",
    "\n",
    "print(sentences[:10])\n",
    "print(sentences[-10:])"
   ],
   "id": "d89886978f5b5dba",
   "outputs": [
    {
     "name": "stdout",
     "output_type": "stream",
     "text": [
      "[['data', 'analyst'], ['data', 'engineer', 'scientist', 'analyst', 'mid', 'senior', 'f', 'x'], ['lead', 'engineer', 'principal', 'analyst', 'principal', 'engineer', 'data...'], ['data', 'engineer', 'sr', 'jobs'], ['gcp', 'data', 'engineer'], ['senior', 'data', 'engineer', 'gcp', 'cloud'], ['data', 'engineer'], ['technology', 'operations', 'business', 'analyst'], ['data', 'scientist', 'ii'], ['erfahrene', 'r', 'data', 'engineer', 'w']]\n",
      "[['администратор', 'баз', 'данных', 'database', 'administrator'], ['lead', 'data', 'scientist'], ['инженер', 'категории'], ['специалист', 'поддержки', 'приложений'], ['системный', 'аналитик', 'dwh'], ['монтажник', 'слаботочных', 'систем'], ['системный', 'администратор'], ['менеджер', 'работе', 'маркетплейсами', 'офис'], ['менеджер', 'продажам', 'серверное', 'оборудование', 'b2b'], ['product', 'analyst']]\n"
     ]
    }
   ],
   "execution_count": 37
  },
  {
   "metadata": {},
   "cell_type": "markdown",
   "source": [
    "#### 3.2 N-gramms\n",
    "\n",
    "* gensim - not cool\n",
    "* Scikit-learn CountVectorizer - applied\n",
    "* RAKE / TextRank / YAKE (Unsupervised Keyword Extractors) - not tried"
   ],
   "id": "b1416de6166fcf15"
  },
  {
   "metadata": {},
   "cell_type": "markdown",
   "source": "##### gensim",
   "id": "454702840af367b4"
  },
  {
   "metadata": {
    "ExecuteTime": {
     "end_time": "2025-06-20T11:55:05.651937Z",
     "start_time": "2025-06-20T11:55:05.646425Z"
    }
   },
   "cell_type": "code",
   "source": [
    "from gensim.models import Phrases\n",
    "from gensim.models.phrases import Phraser"
   ],
   "id": "6b6a058017fea6ff",
   "outputs": [],
   "execution_count": 45
  },
  {
   "metadata": {
    "ExecuteTime": {
     "end_time": "2025-06-20T12:09:11.325035Z",
     "start_time": "2025-06-20T12:09:05.010539Z"
    }
   },
   "cell_type": "code",
   "source": [
    "# create bi-gram model\n",
    "bigram_model = Phrases(sentences, min_count=2, threshold=1)\n",
    "# min_count=50 — ignore pairs that apper <= 50 times\n",
    "# threshold=10 — less phrazes\n",
    "\n",
    "bigram_model.add_vocab(sentences)\n",
    "\n",
    "\n",
    "bigram_phraser = Phraser(bigram_model)  # to fasten up\n"
   ],
   "id": "35258df4d17a2f07",
   "outputs": [],
   "execution_count": 69
  },
  {
   "metadata": {
    "ExecuteTime": {
     "end_time": "2025-06-20T12:09:14.267987Z",
     "start_time": "2025-06-20T12:09:11.348046Z"
    }
   },
   "cell_type": "code",
   "source": [
    "data_combined['job_title_bigram'] = [bigram_phraser[sentence] for sentence in sentences]\n",
    "\n",
    "print(len(bigram_phraser.phrasegrams))\n",
    "print(list(bigram_phraser.phrasegrams)[:20])  # первые 20 биграмм\n"
   ],
   "id": "11ba6c1e2eab4864",
   "outputs": [
    {
     "name": "stdout",
     "output_type": "stream",
     "text": [
      "34384\n",
      "['f_x', 'erfahrene_r', 'h_f', 'team_lead', 'veloppeur_euse', 'euse_big', 'f_h', 'phd_position', 'datalab_team', 'knowledge_graphs', 'work_home', 'home_eligible', 'full_time', 'time_part', 'part_time', 'royal_canin', 'binance_accelerator', 'accelerator_program', 'risk_management', 'bangkok_based']\n"
     ]
    }
   ],
   "execution_count": 70
  },
  {
   "metadata": {
    "ExecuteTime": {
     "end_time": "2025-06-20T12:09:14.343382Z",
     "start_time": "2025-06-20T12:09:14.315631Z"
    }
   },
   "cell_type": "code",
   "source": "data_combined.head(20)",
   "id": "249bb87c7e4da720",
   "outputs": [
    {
     "data": {
      "text/plain": [
       "                                            job_title  \\\n",
       "1                                        data analyst   \n",
       "2   data engineer scientist analyst mid or senior ...   \n",
       "3   lead engineer principal analyst principal engi...   \n",
       "4                               data engineer sr jobs   \n",
       "5                                   gcp data engineer   \n",
       "6                      senior data engineer gcp cloud   \n",
       "7                                       data engineer   \n",
       "8              technology operations business analyst   \n",
       "9                                   data scientist ii   \n",
       "10                 erfahrene r data engineer in m w d   \n",
       "11                                      data engineer   \n",
       "12                    stagiaire data analyst h f lyon   \n",
       "13                               senior data engineer   \n",
       "14                                      data engineer   \n",
       "15                                      data engineer   \n",
       "16                                  big data engineer   \n",
       "17                             data science team lead   \n",
       "18                                       data analyst   \n",
       "19                                     data scientist   \n",
       "20                                     data scientist   \n",
       "\n",
       "                                           job_skills  \\\n",
       "1          [r, python, sql, nosql, power bi, tableau]   \n",
       "2   [python, sql, c#, azure, airflow, dax, docker,...   \n",
       "3   [python, c++, java, matlab, aws, tensorflow, k...   \n",
       "4   [bash, python, oracle, aws, ansible, puppet, j...   \n",
       "5                                  [python, sql, gcp]   \n",
       "6   [sql, python, java, sql server, gcp, bigquery,...   \n",
       "7   [sql, nosql, gcp, azure, aws, bigquery, databr...   \n",
       "8                       [excel, powerpoint, power bi]   \n",
       "9   [sql, python, r, mongodb, mongodb, sql server,...   \n",
       "10                 [python, databricks, azure, spark]   \n",
       "11                                     [python, qlik]   \n",
       "12             [sql, php, excel, power bi, sap, jira]   \n",
       "13  [python, sql, go, ruby, ruby, javascript, aws,...   \n",
       "14                                 [mongodb, mongodb]   \n",
       "15                            [python, sql, power bi]   \n",
       "16  [powershell, python, sql, mysql, sql server, d...   \n",
       "17                                   [go, apl, excel]   \n",
       "18  [sql, python, r, redshift, pandas, excel, look...   \n",
       "19  [r, sql, python, scala, java, c++, hadoop, tab...   \n",
       "20  [r, python, sql, pandas, numpy, scikit learn, ...   \n",
       "\n",
       "                                     job_title_bigram  \n",
       "1                                     [data, analyst]  \n",
       "2   [data, engineer, scientist, analyst, mid, seni...  \n",
       "3   [lead, engineer, principal, analyst, principal...  \n",
       "4                          [data, engineer, sr, jobs]  \n",
       "5                               [gcp, data, engineer]  \n",
       "6                [senior, data, engineer, gcp, cloud]  \n",
       "7                                    [data, engineer]  \n",
       "8         [technology, operations, business, analyst]  \n",
       "9                               [data, scientist, ii]  \n",
       "10                   [erfahrene_r, data, engineer, w]  \n",
       "11                                   [data, engineer]  \n",
       "12              [stagiaire, data, analyst, h_f, lyon]  \n",
       "13                           [senior, data, engineer]  \n",
       "14                                   [data, engineer]  \n",
       "15                                   [data, engineer]  \n",
       "16                              [big, data, engineer]  \n",
       "17                         [data, science, team_lead]  \n",
       "18                                    [data, analyst]  \n",
       "19                                  [data, scientist]  \n",
       "20                                  [data, scientist]  "
      ],
      "text/html": [
       "<div>\n",
       "<style scoped>\n",
       "    .dataframe tbody tr th:only-of-type {\n",
       "        vertical-align: middle;\n",
       "    }\n",
       "\n",
       "    .dataframe tbody tr th {\n",
       "        vertical-align: top;\n",
       "    }\n",
       "\n",
       "    .dataframe thead th {\n",
       "        text-align: right;\n",
       "    }\n",
       "</style>\n",
       "<table border=\"1\" class=\"dataframe\">\n",
       "  <thead>\n",
       "    <tr style=\"text-align: right;\">\n",
       "      <th></th>\n",
       "      <th>job_title</th>\n",
       "      <th>job_skills</th>\n",
       "      <th>job_title_bigram</th>\n",
       "    </tr>\n",
       "  </thead>\n",
       "  <tbody>\n",
       "    <tr>\n",
       "      <th>1</th>\n",
       "      <td>data analyst</td>\n",
       "      <td>[r, python, sql, nosql, power bi, tableau]</td>\n",
       "      <td>[data, analyst]</td>\n",
       "    </tr>\n",
       "    <tr>\n",
       "      <th>2</th>\n",
       "      <td>data engineer scientist analyst mid or senior ...</td>\n",
       "      <td>[python, sql, c#, azure, airflow, dax, docker,...</td>\n",
       "      <td>[data, engineer, scientist, analyst, mid, seni...</td>\n",
       "    </tr>\n",
       "    <tr>\n",
       "      <th>3</th>\n",
       "      <td>lead engineer principal analyst principal engi...</td>\n",
       "      <td>[python, c++, java, matlab, aws, tensorflow, k...</td>\n",
       "      <td>[lead, engineer, principal, analyst, principal...</td>\n",
       "    </tr>\n",
       "    <tr>\n",
       "      <th>4</th>\n",
       "      <td>data engineer sr jobs</td>\n",
       "      <td>[bash, python, oracle, aws, ansible, puppet, j...</td>\n",
       "      <td>[data, engineer, sr, jobs]</td>\n",
       "    </tr>\n",
       "    <tr>\n",
       "      <th>5</th>\n",
       "      <td>gcp data engineer</td>\n",
       "      <td>[python, sql, gcp]</td>\n",
       "      <td>[gcp, data, engineer]</td>\n",
       "    </tr>\n",
       "    <tr>\n",
       "      <th>6</th>\n",
       "      <td>senior data engineer gcp cloud</td>\n",
       "      <td>[sql, python, java, sql server, gcp, bigquery,...</td>\n",
       "      <td>[senior, data, engineer, gcp, cloud]</td>\n",
       "    </tr>\n",
       "    <tr>\n",
       "      <th>7</th>\n",
       "      <td>data engineer</td>\n",
       "      <td>[sql, nosql, gcp, azure, aws, bigquery, databr...</td>\n",
       "      <td>[data, engineer]</td>\n",
       "    </tr>\n",
       "    <tr>\n",
       "      <th>8</th>\n",
       "      <td>technology operations business analyst</td>\n",
       "      <td>[excel, powerpoint, power bi]</td>\n",
       "      <td>[technology, operations, business, analyst]</td>\n",
       "    </tr>\n",
       "    <tr>\n",
       "      <th>9</th>\n",
       "      <td>data scientist ii</td>\n",
       "      <td>[sql, python, r, mongodb, mongodb, sql server,...</td>\n",
       "      <td>[data, scientist, ii]</td>\n",
       "    </tr>\n",
       "    <tr>\n",
       "      <th>10</th>\n",
       "      <td>erfahrene r data engineer in m w d</td>\n",
       "      <td>[python, databricks, azure, spark]</td>\n",
       "      <td>[erfahrene_r, data, engineer, w]</td>\n",
       "    </tr>\n",
       "    <tr>\n",
       "      <th>11</th>\n",
       "      <td>data engineer</td>\n",
       "      <td>[python, qlik]</td>\n",
       "      <td>[data, engineer]</td>\n",
       "    </tr>\n",
       "    <tr>\n",
       "      <th>12</th>\n",
       "      <td>stagiaire data analyst h f lyon</td>\n",
       "      <td>[sql, php, excel, power bi, sap, jira]</td>\n",
       "      <td>[stagiaire, data, analyst, h_f, lyon]</td>\n",
       "    </tr>\n",
       "    <tr>\n",
       "      <th>13</th>\n",
       "      <td>senior data engineer</td>\n",
       "      <td>[python, sql, go, ruby, ruby, javascript, aws,...</td>\n",
       "      <td>[senior, data, engineer]</td>\n",
       "    </tr>\n",
       "    <tr>\n",
       "      <th>14</th>\n",
       "      <td>data engineer</td>\n",
       "      <td>[mongodb, mongodb]</td>\n",
       "      <td>[data, engineer]</td>\n",
       "    </tr>\n",
       "    <tr>\n",
       "      <th>15</th>\n",
       "      <td>data engineer</td>\n",
       "      <td>[python, sql, power bi]</td>\n",
       "      <td>[data, engineer]</td>\n",
       "    </tr>\n",
       "    <tr>\n",
       "      <th>16</th>\n",
       "      <td>big data engineer</td>\n",
       "      <td>[powershell, python, sql, mysql, sql server, d...</td>\n",
       "      <td>[big, data, engineer]</td>\n",
       "    </tr>\n",
       "    <tr>\n",
       "      <th>17</th>\n",
       "      <td>data science team lead</td>\n",
       "      <td>[go, apl, excel]</td>\n",
       "      <td>[data, science, team_lead]</td>\n",
       "    </tr>\n",
       "    <tr>\n",
       "      <th>18</th>\n",
       "      <td>data analyst</td>\n",
       "      <td>[sql, python, r, redshift, pandas, excel, look...</td>\n",
       "      <td>[data, analyst]</td>\n",
       "    </tr>\n",
       "    <tr>\n",
       "      <th>19</th>\n",
       "      <td>data scientist</td>\n",
       "      <td>[r, sql, python, scala, java, c++, hadoop, tab...</td>\n",
       "      <td>[data, scientist]</td>\n",
       "    </tr>\n",
       "    <tr>\n",
       "      <th>20</th>\n",
       "      <td>data scientist</td>\n",
       "      <td>[r, python, sql, pandas, numpy, scikit learn, ...</td>\n",
       "      <td>[data, scientist]</td>\n",
       "    </tr>\n",
       "  </tbody>\n",
       "</table>\n",
       "</div>"
      ]
     },
     "execution_count": 71,
     "metadata": {},
     "output_type": "execute_result"
    }
   ],
   "execution_count": 71
  },
  {
   "metadata": {},
   "cell_type": "markdown",
   "source": "##### count vectorizer",
   "id": "a460ce7f08a944dc"
  },
  {
   "metadata": {
    "ExecuteTime": {
     "end_time": "2025-06-20T12:17:24.504284Z",
     "start_time": "2025-06-20T12:17:24.497584Z"
    }
   },
   "cell_type": "code",
   "source": [
    "from sklearn.feature_extraction.text import CountVectorizer\n",
    "vectorizer = CountVectorizer(ngram_range=(2, 2), min_df=3)"
   ],
   "id": "d71481bda1bcb925",
   "outputs": [],
   "execution_count": 73
  },
  {
   "metadata": {},
   "cell_type": "code",
   "source": [
    "texts = [' '.join(tokens) for tokens in sentences]\n",
    "# text -> frequency matrix\n",
    "X = vectorizer.fit_transform(texts)\n",
    "\n",
    "# get bigrams and frequences\n",
    "bigrams = vectorizer.get_feature_names_out()\n",
    "counts = X.sum(axis=0).A1\n",
    "\n",
    "# to see\n",
    "bigrams = vectorizer.get_feature_names_out()\n",
    "bigram_freq = pd.DataFrame({'bigram': bigrams, 'count': counts})\n",
    "bigram_freq = bigram_freq.sort_values(by='count', ascending=False)\n",
    "print(bigram_freq.head(20))\n"
   ],
   "id": "45364c78b39984c2",
   "outputs": [],
   "execution_count": null
  },
  {
   "metadata": {
    "ExecuteTime": {
     "end_time": "2025-06-20T13:02:53.903816Z",
     "start_time": "2025-06-20T13:02:53.839502Z"
    }
   },
   "cell_type": "code",
   "source": "print(bigram_freq.head(20))",
   "id": "35e2cf4c22743fe8",
   "outputs": [
    {
     "name": "stdout",
     "output_type": "stream",
     "text": [
      "                      bigram   count\n",
      "10337          data engineer  182609\n",
      "10106           data analyst  144815\n",
      "10740         data scientist  137974\n",
      "35841            senior data   70995\n",
      "10732           data science   21799\n",
      "36950      software engineer   15301\n",
      "23428              lead data   15266\n",
      "10118         data analytics   12603\n",
      "24403       machine learning   11211\n",
      "37743                sr data   11123\n",
      "6494                big data   10615\n",
      "6909        business analyst    9563\n",
      "14128          engineer data    9115\n",
      "6965   business intelligence    8519\n",
      "22738            junior data    7911\n",
      "10341       data engineering    7783\n",
      "5714              azure data    7314\n",
      "2004            analyst data    6490\n",
      "23760      learning engineer    6483\n",
      "6934           business data    6159\n"
     ]
    }
   ],
   "execution_count": 77
  },
  {
   "metadata": {
    "ExecuteTime": {
     "end_time": "2025-06-20T13:22:27.747462Z",
     "start_time": "2025-06-20T13:22:27.578823Z"
    }
   },
   "cell_type": "code",
   "source": [
    "def normalize_bigram_str(bigram):\n",
    "    words = bigram.split()\n",
    "    if len(words) == 2:\n",
    "        return \" \".join(sorted(words))\n",
    "    return bigram\n",
    "\n",
    "bigram_freq['bigram_normalized'] = bigram_freq['bigram'].apply(normalize_bigram_str)\n",
    "\n",
    "bigram_freq_norm = bigram_freq.groupby('bigram_normalized', as_index=False)['count'].sum()\n",
    "bigram_freq_norm = bigram_freq_norm.sort_values(by='count', ascending=False)\n",
    "\n",
    "print(bigram_freq_norm.head(100))"
   ],
   "id": "aaa1efe9f1fedaaa",
   "outputs": [
    {
     "name": "stdout",
     "output_type": "stream",
     "text": [
      "       bigram_normalized   count\n",
      "15655      data engineer  191724\n",
      "3141        analyst data  151305\n",
      "17061     data scientist  140094\n",
      "17102        data senior   71258\n",
      "17052       data science   22392\n",
      "...                  ...     ...\n",
      "12467      clinical data    1398\n",
      "31509  machine scientist    1395\n",
      "7262    associate senior    1393\n",
      "3325    analyst engineer    1379\n",
      "15973          data head    1368\n",
      "\n",
      "[100 rows x 2 columns]\n"
     ]
    }
   ],
   "execution_count": 96
  },
  {
   "metadata": {
    "ExecuteTime": {
     "end_time": "2025-06-20T13:19:04.307521Z",
     "start_time": "2025-06-20T13:19:02.879610Z"
    }
   },
   "cell_type": "code",
   "source": [
    "if 'job_title_bigram' in data_combined.columns:\n",
    "    data_combined.drop(columns=['job_title_bigram'], inplace=True)\n",
    "\n",
    "data_combined.head()"
   ],
   "id": "45f83ffd75a152c8",
   "outputs": [
    {
     "data": {
      "text/plain": [
       "                                           job_title  \\\n",
       "1                                       data analyst   \n",
       "2  data engineer scientist analyst mid or senior ...   \n",
       "3  lead engineer principal analyst principal engi...   \n",
       "4                              data engineer sr jobs   \n",
       "5                                  gcp data engineer   \n",
       "\n",
       "                                          job_skills  \n",
       "1         [r, python, sql, nosql, power bi, tableau]  \n",
       "2  [python, sql, c#, azure, airflow, dax, docker,...  \n",
       "3  [python, c++, java, matlab, aws, tensorflow, k...  \n",
       "4  [bash, python, oracle, aws, ansible, puppet, j...  \n",
       "5                                 [python, sql, gcp]  "
      ],
      "text/html": [
       "<div>\n",
       "<style scoped>\n",
       "    .dataframe tbody tr th:only-of-type {\n",
       "        vertical-align: middle;\n",
       "    }\n",
       "\n",
       "    .dataframe tbody tr th {\n",
       "        vertical-align: top;\n",
       "    }\n",
       "\n",
       "    .dataframe thead th {\n",
       "        text-align: right;\n",
       "    }\n",
       "</style>\n",
       "<table border=\"1\" class=\"dataframe\">\n",
       "  <thead>\n",
       "    <tr style=\"text-align: right;\">\n",
       "      <th></th>\n",
       "      <th>job_title</th>\n",
       "      <th>job_skills</th>\n",
       "    </tr>\n",
       "  </thead>\n",
       "  <tbody>\n",
       "    <tr>\n",
       "      <th>1</th>\n",
       "      <td>data analyst</td>\n",
       "      <td>[r, python, sql, nosql, power bi, tableau]</td>\n",
       "    </tr>\n",
       "    <tr>\n",
       "      <th>2</th>\n",
       "      <td>data engineer scientist analyst mid or senior ...</td>\n",
       "      <td>[python, sql, c#, azure, airflow, dax, docker,...</td>\n",
       "    </tr>\n",
       "    <tr>\n",
       "      <th>3</th>\n",
       "      <td>lead engineer principal analyst principal engi...</td>\n",
       "      <td>[python, c++, java, matlab, aws, tensorflow, k...</td>\n",
       "    </tr>\n",
       "    <tr>\n",
       "      <th>4</th>\n",
       "      <td>data engineer sr jobs</td>\n",
       "      <td>[bash, python, oracle, aws, ansible, puppet, j...</td>\n",
       "    </tr>\n",
       "    <tr>\n",
       "      <th>5</th>\n",
       "      <td>gcp data engineer</td>\n",
       "      <td>[python, sql, gcp]</td>\n",
       "    </tr>\n",
       "  </tbody>\n",
       "</table>\n",
       "</div>"
      ]
     },
     "execution_count": 88,
     "metadata": {},
     "output_type": "execute_result"
    }
   ],
   "execution_count": 88
  },
  {
   "metadata": {
    "ExecuteTime": {
     "end_time": "2025-06-20T13:20:35.265485Z",
     "start_time": "2025-06-20T13:19:57.526869Z"
    }
   },
   "cell_type": "code",
   "source": [
    "top_bigrams_set = set(bigram_freq['bigram_normalized'])\n",
    "\n",
    "def extract_normalized_bigrams(text):\n",
    "    words = re.findall(r'\\w+', text.lower())\n",
    "    pairs = set()\n",
    "    for i in range(len(words) - 1):\n",
    "        bigram = \" \".join(sorted([words[i], words[i+1]]))\n",
    "        if bigram in top_bigrams_set:\n",
    "            pairs.add(bigram)\n",
    "    return list(pairs)\n",
    "\n",
    "data_combined['normalized_bigrams'] = data_combined['job_title'].apply(extract_normalized_bigrams)"
   ],
   "id": "f88a72e11b516f10",
   "outputs": [],
   "execution_count": 90
  },
  {
   "metadata": {
    "ExecuteTime": {
     "end_time": "2025-06-20T13:20:35.327610Z",
     "start_time": "2025-06-20T13:20:35.286027Z"
    }
   },
   "cell_type": "code",
   "source": "data_combined.head()",
   "id": "9236ba39364247d7",
   "outputs": [
    {
     "data": {
      "text/plain": [
       "                                           job_title  \\\n",
       "1                                       data analyst   \n",
       "2  data engineer scientist analyst mid or senior ...   \n",
       "3  lead engineer principal analyst principal engi...   \n",
       "4                              data engineer sr jobs   \n",
       "5                                  gcp data engineer   \n",
       "\n",
       "                                          job_skills  \\\n",
       "1         [r, python, sql, nosql, power bi, tableau]   \n",
       "2  [python, sql, c#, azure, airflow, dax, docker,...   \n",
       "3  [python, c++, java, matlab, aws, tensorflow, k...   \n",
       "4  [bash, python, oracle, aws, ansible, puppet, j...   \n",
       "5                                 [python, sql, gcp]   \n",
       "\n",
       "                                  normalized_bigrams  \n",
       "1                                     [analyst data]  \n",
       "2  [engineer scientist, analyst scientist, data e...  \n",
       "3  [analyst principal, engineer principal, data e...  \n",
       "4              [engineer sr, data engineer, jobs sr]  \n",
       "5                          [data gcp, data engineer]  "
      ],
      "text/html": [
       "<div>\n",
       "<style scoped>\n",
       "    .dataframe tbody tr th:only-of-type {\n",
       "        vertical-align: middle;\n",
       "    }\n",
       "\n",
       "    .dataframe tbody tr th {\n",
       "        vertical-align: top;\n",
       "    }\n",
       "\n",
       "    .dataframe thead th {\n",
       "        text-align: right;\n",
       "    }\n",
       "</style>\n",
       "<table border=\"1\" class=\"dataframe\">\n",
       "  <thead>\n",
       "    <tr style=\"text-align: right;\">\n",
       "      <th></th>\n",
       "      <th>job_title</th>\n",
       "      <th>job_skills</th>\n",
       "      <th>normalized_bigrams</th>\n",
       "    </tr>\n",
       "  </thead>\n",
       "  <tbody>\n",
       "    <tr>\n",
       "      <th>1</th>\n",
       "      <td>data analyst</td>\n",
       "      <td>[r, python, sql, nosql, power bi, tableau]</td>\n",
       "      <td>[analyst data]</td>\n",
       "    </tr>\n",
       "    <tr>\n",
       "      <th>2</th>\n",
       "      <td>data engineer scientist analyst mid or senior ...</td>\n",
       "      <td>[python, sql, c#, azure, airflow, dax, docker,...</td>\n",
       "      <td>[engineer scientist, analyst scientist, data e...</td>\n",
       "    </tr>\n",
       "    <tr>\n",
       "      <th>3</th>\n",
       "      <td>lead engineer principal analyst principal engi...</td>\n",
       "      <td>[python, c++, java, matlab, aws, tensorflow, k...</td>\n",
       "      <td>[analyst principal, engineer principal, data e...</td>\n",
       "    </tr>\n",
       "    <tr>\n",
       "      <th>4</th>\n",
       "      <td>data engineer sr jobs</td>\n",
       "      <td>[bash, python, oracle, aws, ansible, puppet, j...</td>\n",
       "      <td>[engineer sr, data engineer, jobs sr]</td>\n",
       "    </tr>\n",
       "    <tr>\n",
       "      <th>5</th>\n",
       "      <td>gcp data engineer</td>\n",
       "      <td>[python, sql, gcp]</td>\n",
       "      <td>[data gcp, data engineer]</td>\n",
       "    </tr>\n",
       "  </tbody>\n",
       "</table>\n",
       "</div>"
      ]
     },
     "execution_count": 91,
     "metadata": {},
     "output_type": "execute_result"
    }
   ],
   "execution_count": 91
  },
  {
   "metadata": {},
   "cell_type": "markdown",
   "source": [
    "#### 3.3 Embeddings\n",
    "\n",
    "Since we already get bigrams, better to use TF-IDF instead of SentenceTransformers. Also they are computationaly cheaper"
   ],
   "id": "299423ae491081c7"
  },
  {
   "metadata": {
    "ExecuteTime": {
     "end_time": "2025-06-20T13:31:27.515214Z",
     "start_time": "2025-06-20T13:31:27.316874Z"
    }
   },
   "cell_type": "code",
   "source": "data_combined.head()",
   "id": "11d4ab6d4cc7b1c0",
   "outputs": [
    {
     "data": {
      "text/plain": [
       "                                           job_title  \\\n",
       "1                                       data analyst   \n",
       "2  data engineer scientist analyst mid or senior ...   \n",
       "3  lead engineer principal analyst principal engi...   \n",
       "4                              data engineer sr jobs   \n",
       "5                                  gcp data engineer   \n",
       "\n",
       "                                          job_skills  \\\n",
       "1         [r, python, sql, nosql, power bi, tableau]   \n",
       "2  [python, sql, c#, azure, airflow, dax, docker,...   \n",
       "3  [python, c++, java, matlab, aws, tensorflow, k...   \n",
       "4  [bash, python, oracle, aws, ansible, puppet, j...   \n",
       "5                                 [python, sql, gcp]   \n",
       "\n",
       "                                  normalized_bigrams  \n",
       "1                                     [analyst data]  \n",
       "2  [engineer scientist, analyst scientist, data e...  \n",
       "3  [analyst principal, engineer principal, data e...  \n",
       "4              [engineer sr, data engineer, jobs sr]  \n",
       "5                          [data gcp, data engineer]  "
      ],
      "text/html": [
       "<div>\n",
       "<style scoped>\n",
       "    .dataframe tbody tr th:only-of-type {\n",
       "        vertical-align: middle;\n",
       "    }\n",
       "\n",
       "    .dataframe tbody tr th {\n",
       "        vertical-align: top;\n",
       "    }\n",
       "\n",
       "    .dataframe thead th {\n",
       "        text-align: right;\n",
       "    }\n",
       "</style>\n",
       "<table border=\"1\" class=\"dataframe\">\n",
       "  <thead>\n",
       "    <tr style=\"text-align: right;\">\n",
       "      <th></th>\n",
       "      <th>job_title</th>\n",
       "      <th>job_skills</th>\n",
       "      <th>normalized_bigrams</th>\n",
       "    </tr>\n",
       "  </thead>\n",
       "  <tbody>\n",
       "    <tr>\n",
       "      <th>1</th>\n",
       "      <td>data analyst</td>\n",
       "      <td>[r, python, sql, nosql, power bi, tableau]</td>\n",
       "      <td>[analyst data]</td>\n",
       "    </tr>\n",
       "    <tr>\n",
       "      <th>2</th>\n",
       "      <td>data engineer scientist analyst mid or senior ...</td>\n",
       "      <td>[python, sql, c#, azure, airflow, dax, docker,...</td>\n",
       "      <td>[engineer scientist, analyst scientist, data e...</td>\n",
       "    </tr>\n",
       "    <tr>\n",
       "      <th>3</th>\n",
       "      <td>lead engineer principal analyst principal engi...</td>\n",
       "      <td>[python, c++, java, matlab, aws, tensorflow, k...</td>\n",
       "      <td>[analyst principal, engineer principal, data e...</td>\n",
       "    </tr>\n",
       "    <tr>\n",
       "      <th>4</th>\n",
       "      <td>data engineer sr jobs</td>\n",
       "      <td>[bash, python, oracle, aws, ansible, puppet, j...</td>\n",
       "      <td>[engineer sr, data engineer, jobs sr]</td>\n",
       "    </tr>\n",
       "    <tr>\n",
       "      <th>5</th>\n",
       "      <td>gcp data engineer</td>\n",
       "      <td>[python, sql, gcp]</td>\n",
       "      <td>[data gcp, data engineer]</td>\n",
       "    </tr>\n",
       "  </tbody>\n",
       "</table>\n",
       "</div>"
      ]
     },
     "execution_count": 99,
     "metadata": {},
     "output_type": "execute_result"
    }
   ],
   "execution_count": 99
  },
  {
   "metadata": {
    "ExecuteTime": {
     "end_time": "2025-06-20T13:37:56.804746Z",
     "start_time": "2025-06-20T13:37:56.790501Z"
    }
   },
   "cell_type": "code",
   "source": "from sklearn.feature_extraction.text import TfidfVectorizer",
   "id": "f5f35a29d6a5e1",
   "outputs": [],
   "execution_count": 100
  },
  {
   "metadata": {
    "ExecuteTime": {
     "end_time": "2025-06-20T13:40:09.385903Z",
     "start_time": "2025-06-20T13:39:51.988333Z"
    }
   },
   "cell_type": "code",
   "source": [
    "bigrams_joined = data_combined['normalized_bigrams'].apply(lambda x: ' '.join(x))\n",
    "\n",
    "vectorizer = TfidfVectorizer(ngram_range=(1, 2), max_features=5000)\n",
    "X_tfidf = vectorizer.fit_transform(bigrams_joined)"
   ],
   "id": "2c29d4e9c5a8d863",
   "outputs": [],
   "execution_count": 101
  },
  {
   "metadata": {},
   "cell_type": "markdown",
   "source": [
    "#### 3.2 plan b\n",
    "\n",
    "Цель:\n",
    "\n",
    "Сгруппировать вакансии с похожими названиями (на русском и английском, с разным порядком слов) и для каждой группы собрать топ-скиллов.\n",
    "1. Предобработка текста вакансий и скиллов\n",
    "\n",
    "    Очистка и нормализация текста:\n",
    "\n",
    "        Привести к нижнему регистру (lowercase).\n",
    "\n",
    "        Убрать пунктуацию и спецсимволы.\n",
    "\n",
    "        Убрать лишние пробелы.\n",
    "\n",
    "        Заменить числа на пустоту или единый токен.\n",
    "\n",
    "        Заменить синонимы и вариации вручную (например, “разработчик python” = “python разработчик” = “python developer”).\n",
    "\n",
    "    Почему?\n",
    "    Убираем шум и стандартизируем, чтобы простые текстовые сравнения были эффективнее.\n",
    "\n",
    "2. Представление вакансий числовыми векторами (эмбеддингами)\n",
    "\n",
    "    Использовать предобученные языковые модели с мультилингвальной поддержкой:\n",
    "\n",
    "        Multilingual Sentence Transformers (например, sentence-transformers/paraphrase-multilingual-MiniLM) — создают вектор для каждого текста (названия вакансии).\n",
    "\n",
    "        Или простые TF-IDF векторы для быстрой проверки (хотя хуже по смыслу).\n",
    "\n",
    "    Почему?\n",
    "    Чтобы понять не просто точное совпадение текста, а смысловую близость, даже если порядок слов разный или часть слов отличается.\n",
    "\n",
    "3. Кластеризация вакансий по смыслу\n",
    "\n",
    "    Применить кластеризацию к эмбеддингам вакансий:\n",
    "\n",
    "        Алгоритмы: DBSCAN, HDBSCAN (не требует заранее задавать число кластеров, умеет выделять шум).\n",
    "\n",
    "        Или Agglomerative Clustering с порогом расстояния.\n",
    "\n",
    "    Почему?\n",
    "    Чтобы автоматически сгруппировать похожие вакансии вместе (например, все варианты \"python developer\" в один кластер).\n",
    "\n",
    "4. Обработка скиллов в каждой группе\n",
    "\n",
    "    Для каждой группы вакансий собрать все скиллы из вакансий этого кластера.\n",
    "\n",
    "    Подсчитать частоту каждого скилла.\n",
    "\n",
    "    Отсортировать по убыванию и выбрать топ N (например, топ 10).\n",
    "\n",
    "    Можно применить ту же очистку скиллов, как в пункте 1 (привести к нижнему регистру, убрать лишние символы).\n",
    "\n",
    "5. Проверка и корректировка результатов\n",
    "\n",
    "    Проанализировать образовавшиеся кластеры.\n",
    "\n",
    "    При необходимости вручную добавить синонимы в словарь для замены.\n",
    "\n",
    "    Проверить топ-скиллы — убрать слишком общие, нерелевантные.\n",
    "\n",
    "Итог:\n",
    "Вакансия (кластер)\tТоп-скиллы\n",
    "python developer / питон разработчик\tpython, django, sql, git, ...\n",
    "data analyst / аналитик данных\tsql, tableau, excel, power bi\n",
    "Инструменты:\n",
    "\n",
    "    Python: pandas, numpy\n",
    "\n",
    "    Очистка текста: re, str.lower(), словари для замены\n",
    "\n",
    "    Векторизация: sentence-transformers, scikit-learn (TF-IDF)\n",
    "\n",
    "    Кластеризация: hdbscan, sklearn.cluster\n",
    "\n",
    "    Подсчёт частот: collections.Counter или pandas.Series.value_counts()\n",
    "\n"
   ],
   "id": "2aa483f4f9ec9da2"
  },
  {
   "metadata": {
    "ExecuteTime": {
     "end_time": "2025-06-17T20:43:55.235963Z",
     "start_time": "2025-06-17T20:43:55.229265Z"
    }
   },
   "cell_type": "code",
   "outputs": [],
   "execution_count": 29,
   "source": "# todo: plan b :)",
   "id": "f4993674991a406e"
  },
  {
   "metadata": {},
   "cell_type": "code",
   "outputs": [],
   "execution_count": null,
   "source": "",
   "id": "bca5597014b6977"
  },
  {
   "metadata": {},
   "cell_type": "code",
   "outputs": [],
   "execution_count": null,
   "source": "",
   "id": "39499f78e6e36a4c"
  }
 ],
 "metadata": {
  "kernelspec": {
   "display_name": "Python 3",
   "language": "python",
   "name": "python3"
  },
  "language_info": {
   "codemirror_mode": {
    "name": "ipython",
    "version": 2
   },
   "file_extension": ".py",
   "mimetype": "text/x-python",
   "name": "python",
   "nbconvert_exporter": "python",
   "pygments_lexer": "ipython2",
   "version": "2.7.6"
  }
 },
 "nbformat": 4,
 "nbformat_minor": 5
}
