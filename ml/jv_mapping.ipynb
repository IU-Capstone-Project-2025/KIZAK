{
 "cells": [
  {
   "metadata": {},
   "cell_type": "markdown",
   "source": [
    "\n",
    "### 1. Read & clean up data\n",
    "\n",
    "Datasets is open-source and were taken from https://huggingface.co/datasets/arkodeep/jobdata (english vacancies) and https://www.kaggle.com/datasets/vyacheslavpanteleev1/hhru-it-vacancies-from-20211025-to-20211202 (russian vacancies)"
   ],
   "id": "b523da5e64c7fc5"
  },
  {
   "metadata": {},
   "cell_type": "markdown",
   "source": [
    "\n",
    "#### 1. Read\n",
    "\n",
    "We do not need all the data in the tables, so will throw out some (most) of the columns. Also it is good idea to combine datasets\n"
   ],
   "id": "f8029ece1f62066d"
  },
  {
   "cell_type": "code",
   "id": "initial_id",
   "metadata": {
    "collapsed": true,
    "ExecuteTime": {
     "end_time": "2025-06-23T14:49:21.335412Z",
     "start_time": "2025-06-23T14:49:03.483190Z"
    }
   },
   "source": [
    "import pandas as pd\n",
    "\n",
    "data_en = pd.read_csv('vacancies-skills_datasets/jobs_all.csv')\n",
    "data_ru = pd.read_csv('vacancies-skills_datasets/IT_vacancies_full.csv')"
   ],
   "outputs": [],
   "execution_count": 2
  },
  {
   "metadata": {
    "ExecuteTime": {
     "end_time": "2025-06-23T14:49:21.376348Z",
     "start_time": "2025-06-23T14:49:21.358421Z"
    }
   },
   "cell_type": "code",
   "source": "data_en.columns",
   "id": "27ca819255a74d32",
   "outputs": [
    {
     "data": {
      "text/plain": [
       "Index(['job_title_short', 'job_title', 'job_location', 'job_via',\n",
       "       'job_schedule_type', 'job_work_from_home', 'search_location',\n",
       "       'job_posted_date', 'job_no_degree_mention', 'job_health_insurance',\n",
       "       'job_country', 'salary_rate', 'salary_year_avg', 'salary_hour_avg',\n",
       "       'company_name', 'job_skills', 'job_type_skills', 'key_id'],\n",
       "      dtype='object')"
      ]
     },
     "execution_count": 3,
     "metadata": {},
     "output_type": "execute_result"
    }
   ],
   "execution_count": 3
  },
  {
   "metadata": {
    "ExecuteTime": {
     "end_time": "2025-06-23T14:49:21.453649Z",
     "start_time": "2025-06-23T14:49:21.441361Z"
    }
   },
   "cell_type": "code",
   "source": "data_ru.columns",
   "id": "7cb29e3eb11a287d",
   "outputs": [
    {
     "data": {
      "text/plain": [
       "Index(['Ids', 'Employer', 'Name', 'Salary', 'From', 'To', 'Experience',\n",
       "       'Schedule', 'Keys', 'Description', 'Area', 'Professional roles',\n",
       "       'Specializations', 'Profarea names', 'Published at'],\n",
       "      dtype='object')"
      ]
     },
     "execution_count": 4,
     "metadata": {},
     "output_type": "execute_result"
    }
   ],
   "execution_count": 4
  },
  {
   "metadata": {
    "ExecuteTime": {
     "end_time": "2025-06-23T14:49:21.875222Z",
     "start_time": "2025-06-23T14:49:21.549824Z"
    }
   },
   "cell_type": "code",
   "source": [
    "data_en = data_en[['job_title','job_skills']]\n",
    "data_ru = data_ru[['Name','Keys']]"
   ],
   "id": "18e52568f9c2fbe8",
   "outputs": [],
   "execution_count": 5
  },
  {
   "metadata": {
    "ExecuteTime": {
     "end_time": "2025-06-23T14:49:21.970506Z",
     "start_time": "2025-06-23T14:49:21.921830Z"
    }
   },
   "cell_type": "code",
   "source": "data_en.head()",
   "id": "eb7e802570bf3dd8",
   "outputs": [
    {
     "data": {
      "text/plain": [
       "                                           job_title  \\\n",
       "0  Senior Clinical Data Engineer / Principal Clin...   \n",
       "1                                       Data Analyst   \n",
       "2  Data Engineer/Scientist/Analyst, Mid or Senior...   \n",
       "3  LEAD ENGINEER - PRINCIPAL ANALYST - PRINCIPAL ...   \n",
       "4                             Data Engineer- Sr Jobs   \n",
       "\n",
       "                                          job_skills  \n",
       "0                                                NaN  \n",
       "1  ['r', 'python', 'sql', 'nosql', 'power bi', 't...  \n",
       "2  ['python', 'sql', 'c#', 'azure', 'airflow', 'd...  \n",
       "3  ['python', 'c++', 'java', 'matlab', 'aws', 'te...  \n",
       "4  ['bash', 'python', 'oracle', 'aws', 'ansible',...  "
      ],
      "text/html": [
       "<div>\n",
       "<style scoped>\n",
       "    .dataframe tbody tr th:only-of-type {\n",
       "        vertical-align: middle;\n",
       "    }\n",
       "\n",
       "    .dataframe tbody tr th {\n",
       "        vertical-align: top;\n",
       "    }\n",
       "\n",
       "    .dataframe thead th {\n",
       "        text-align: right;\n",
       "    }\n",
       "</style>\n",
       "<table border=\"1\" class=\"dataframe\">\n",
       "  <thead>\n",
       "    <tr style=\"text-align: right;\">\n",
       "      <th></th>\n",
       "      <th>job_title</th>\n",
       "      <th>job_skills</th>\n",
       "    </tr>\n",
       "  </thead>\n",
       "  <tbody>\n",
       "    <tr>\n",
       "      <th>0</th>\n",
       "      <td>Senior Clinical Data Engineer / Principal Clin...</td>\n",
       "      <td>NaN</td>\n",
       "    </tr>\n",
       "    <tr>\n",
       "      <th>1</th>\n",
       "      <td>Data Analyst</td>\n",
       "      <td>['r', 'python', 'sql', 'nosql', 'power bi', 't...</td>\n",
       "    </tr>\n",
       "    <tr>\n",
       "      <th>2</th>\n",
       "      <td>Data Engineer/Scientist/Analyst, Mid or Senior...</td>\n",
       "      <td>['python', 'sql', 'c#', 'azure', 'airflow', 'd...</td>\n",
       "    </tr>\n",
       "    <tr>\n",
       "      <th>3</th>\n",
       "      <td>LEAD ENGINEER - PRINCIPAL ANALYST - PRINCIPAL ...</td>\n",
       "      <td>['python', 'c++', 'java', 'matlab', 'aws', 'te...</td>\n",
       "    </tr>\n",
       "    <tr>\n",
       "      <th>4</th>\n",
       "      <td>Data Engineer- Sr Jobs</td>\n",
       "      <td>['bash', 'python', 'oracle', 'aws', 'ansible',...</td>\n",
       "    </tr>\n",
       "  </tbody>\n",
       "</table>\n",
       "</div>"
      ]
     },
     "execution_count": 6,
     "metadata": {},
     "output_type": "execute_result"
    }
   ],
   "execution_count": 6
  },
  {
   "metadata": {
    "ExecuteTime": {
     "end_time": "2025-06-23T14:49:22.111280Z",
     "start_time": "2025-06-23T14:49:22.076527Z"
    }
   },
   "cell_type": "code",
   "source": "data_ru.head()",
   "id": "3d4165c67e869260",
   "outputs": [
    {
     "data": {
      "text/plain": [
       "                              Name  \\\n",
       "0          Golang Developer (Кипр)   \n",
       "1                Е-mail маркетолог   \n",
       "2  Оператор call-центра (удаленно)   \n",
       "3           Ведущий SMM специалист   \n",
       "4                   UX/UI Designer   \n",
       "\n",
       "                                                Keys  \n",
       "0  ['Docker', 'Golang', 'Redis', 'Английский язык...  \n",
       "1  ['Грамотность', 'Написание текстов', 'Грамотна...  \n",
       "2  ['Клиентоориентированность', 'Ориентация на ре...  \n",
       "3  ['Продвижение бренда', 'Креативность', 'Adobe ...  \n",
       "4  ['UI', 'UX', 'gamedev', 'game design', 'проект...  "
      ],
      "text/html": [
       "<div>\n",
       "<style scoped>\n",
       "    .dataframe tbody tr th:only-of-type {\n",
       "        vertical-align: middle;\n",
       "    }\n",
       "\n",
       "    .dataframe tbody tr th {\n",
       "        vertical-align: top;\n",
       "    }\n",
       "\n",
       "    .dataframe thead th {\n",
       "        text-align: right;\n",
       "    }\n",
       "</style>\n",
       "<table border=\"1\" class=\"dataframe\">\n",
       "  <thead>\n",
       "    <tr style=\"text-align: right;\">\n",
       "      <th></th>\n",
       "      <th>Name</th>\n",
       "      <th>Keys</th>\n",
       "    </tr>\n",
       "  </thead>\n",
       "  <tbody>\n",
       "    <tr>\n",
       "      <th>0</th>\n",
       "      <td>Golang Developer (Кипр)</td>\n",
       "      <td>['Docker', 'Golang', 'Redis', 'Английский язык...</td>\n",
       "    </tr>\n",
       "    <tr>\n",
       "      <th>1</th>\n",
       "      <td>Е-mail маркетолог</td>\n",
       "      <td>['Грамотность', 'Написание текстов', 'Грамотна...</td>\n",
       "    </tr>\n",
       "    <tr>\n",
       "      <th>2</th>\n",
       "      <td>Оператор call-центра (удаленно)</td>\n",
       "      <td>['Клиентоориентированность', 'Ориентация на ре...</td>\n",
       "    </tr>\n",
       "    <tr>\n",
       "      <th>3</th>\n",
       "      <td>Ведущий SMM специалист</td>\n",
       "      <td>['Продвижение бренда', 'Креативность', 'Adobe ...</td>\n",
       "    </tr>\n",
       "    <tr>\n",
       "      <th>4</th>\n",
       "      <td>UX/UI Designer</td>\n",
       "      <td>['UI', 'UX', 'gamedev', 'game design', 'проект...</td>\n",
       "    </tr>\n",
       "  </tbody>\n",
       "</table>\n",
       "</div>"
      ]
     },
     "execution_count": 7,
     "metadata": {},
     "output_type": "execute_result"
    }
   ],
   "execution_count": 7
  },
  {
   "metadata": {
    "ExecuteTime": {
     "end_time": "2025-06-23T14:49:22.388196Z",
     "start_time": "2025-06-23T14:49:22.231325Z"
    }
   },
   "cell_type": "code",
   "source": [
    "data_ru.rename(columns = {'Name': 'job_title', 'Keys': 'job_skills'}, inplace = True)\n",
    "\n",
    "data_combined = pd.concat([data_en, data_ru], ignore_index=True)\n",
    "data_combined.head()"
   ],
   "id": "4ef2ab8090a283ac",
   "outputs": [
    {
     "data": {
      "text/plain": [
       "                                           job_title  \\\n",
       "0  Senior Clinical Data Engineer / Principal Clin...   \n",
       "1                                       Data Analyst   \n",
       "2  Data Engineer/Scientist/Analyst, Mid or Senior...   \n",
       "3  LEAD ENGINEER - PRINCIPAL ANALYST - PRINCIPAL ...   \n",
       "4                             Data Engineer- Sr Jobs   \n",
       "\n",
       "                                          job_skills  \n",
       "0                                                NaN  \n",
       "1  ['r', 'python', 'sql', 'nosql', 'power bi', 't...  \n",
       "2  ['python', 'sql', 'c#', 'azure', 'airflow', 'd...  \n",
       "3  ['python', 'c++', 'java', 'matlab', 'aws', 'te...  \n",
       "4  ['bash', 'python', 'oracle', 'aws', 'ansible',...  "
      ],
      "text/html": [
       "<div>\n",
       "<style scoped>\n",
       "    .dataframe tbody tr th:only-of-type {\n",
       "        vertical-align: middle;\n",
       "    }\n",
       "\n",
       "    .dataframe tbody tr th {\n",
       "        vertical-align: top;\n",
       "    }\n",
       "\n",
       "    .dataframe thead th {\n",
       "        text-align: right;\n",
       "    }\n",
       "</style>\n",
       "<table border=\"1\" class=\"dataframe\">\n",
       "  <thead>\n",
       "    <tr style=\"text-align: right;\">\n",
       "      <th></th>\n",
       "      <th>job_title</th>\n",
       "      <th>job_skills</th>\n",
       "    </tr>\n",
       "  </thead>\n",
       "  <tbody>\n",
       "    <tr>\n",
       "      <th>0</th>\n",
       "      <td>Senior Clinical Data Engineer / Principal Clin...</td>\n",
       "      <td>NaN</td>\n",
       "    </tr>\n",
       "    <tr>\n",
       "      <th>1</th>\n",
       "      <td>Data Analyst</td>\n",
       "      <td>['r', 'python', 'sql', 'nosql', 'power bi', 't...</td>\n",
       "    </tr>\n",
       "    <tr>\n",
       "      <th>2</th>\n",
       "      <td>Data Engineer/Scientist/Analyst, Mid or Senior...</td>\n",
       "      <td>['python', 'sql', 'c#', 'azure', 'airflow', 'd...</td>\n",
       "    </tr>\n",
       "    <tr>\n",
       "      <th>3</th>\n",
       "      <td>LEAD ENGINEER - PRINCIPAL ANALYST - PRINCIPAL ...</td>\n",
       "      <td>['python', 'c++', 'java', 'matlab', 'aws', 'te...</td>\n",
       "    </tr>\n",
       "    <tr>\n",
       "      <th>4</th>\n",
       "      <td>Data Engineer- Sr Jobs</td>\n",
       "      <td>['bash', 'python', 'oracle', 'aws', 'ansible',...</td>\n",
       "    </tr>\n",
       "  </tbody>\n",
       "</table>\n",
       "</div>"
      ]
     },
     "execution_count": 8,
     "metadata": {},
     "output_type": "execute_result"
    }
   ],
   "execution_count": 8
  },
  {
   "metadata": {},
   "cell_type": "markdown",
   "source": [
    "\n",
    "#### 2. Clean up text\n",
    "\n",
    "Transfer everything to the lower register, remove Nans and excess punctiation, convert skills into arrays etc"
   ],
   "id": "11f164d08e1d4358"
  },
  {
   "metadata": {
    "jupyter": {
     "is_executing": true
    },
    "ExecuteTime": {
     "start_time": "2025-06-23T14:49:22.563189Z"
    }
   },
   "cell_type": "code",
   "source": [
    "import re\n",
    "import ast\n",
    "\n",
    "data_combined = data_combined.dropna()\n",
    "data_combined['job_skills'] = data_combined['job_skills'].apply(ast.literal_eval)\n",
    "\n",
    "def clean_text(text):\n",
    "    text = text.lower()\n",
    "    text = re.sub(r'[-/()]', ' ', text)\n",
    "    text = re.sub(r'[^a-zA-Zа-яА-Я0-9+#+.]', ' ', text)\n",
    "    text = re.sub(r'\\b\\d+\\b', '', text)\n",
    "    text = re.sub(r'\\s+', ' ', text).strip()\n",
    "    return text\n",
    "\n",
    "def clean_cell(cell):\n",
    "    if isinstance(cell, list):\n",
    "        return [clean_text(item) for item in cell if isinstance(item, str)]\n",
    "    elif isinstance(cell, str):\n",
    "        return clean_text(cell)\n",
    "    else:\n",
    "        return cell\n",
    "\n",
    "for col in data_combined.columns:\n",
    "    data_combined[col] = data_combined[col].apply(clean_cell)\n"
   ],
   "id": "9c4b62654dc8df13",
   "outputs": [],
   "execution_count": null
  },
  {
   "metadata": {
    "ExecuteTime": {
     "end_time": "2025-06-23T11:30:41.001475Z",
     "start_time": "2025-06-23T11:30:40.958040Z"
    }
   },
   "cell_type": "code",
   "source": "data_combined.head(10)",
   "id": "3a7125f9cfc7c6f3",
   "outputs": [
    {
     "data": {
      "text/plain": [
       "                                            job_title  \\\n",
       "1                                        data analyst   \n",
       "2   data engineer scientist analyst mid or senior ...   \n",
       "3   lead engineer principal analyst principal engi...   \n",
       "4                               data engineer sr jobs   \n",
       "5                                   gcp data engineer   \n",
       "6                      senior data engineer gcp cloud   \n",
       "7                                       data engineer   \n",
       "8              technology operations business analyst   \n",
       "9                                   data scientist ii   \n",
       "10                 erfahrene r data engineer in m w d   \n",
       "\n",
       "                                           job_skills  \n",
       "1          [r, python, sql, nosql, power bi, tableau]  \n",
       "2   [python, sql, c#, azure, airflow, dax, docker,...  \n",
       "3   [python, c++, java, matlab, aws, tensorflow, k...  \n",
       "4   [bash, python, oracle, aws, ansible, puppet, j...  \n",
       "5                                  [python, sql, gcp]  \n",
       "6   [sql, python, java, sql server, gcp, bigquery,...  \n",
       "7   [sql, nosql, gcp, azure, aws, bigquery, databr...  \n",
       "8                       [excel, powerpoint, power bi]  \n",
       "9   [sql, python, r, mongodb, mongodb, sql server,...  \n",
       "10                 [python, databricks, azure, spark]  "
      ],
      "text/html": [
       "<div>\n",
       "<style scoped>\n",
       "    .dataframe tbody tr th:only-of-type {\n",
       "        vertical-align: middle;\n",
       "    }\n",
       "\n",
       "    .dataframe tbody tr th {\n",
       "        vertical-align: top;\n",
       "    }\n",
       "\n",
       "    .dataframe thead th {\n",
       "        text-align: right;\n",
       "    }\n",
       "</style>\n",
       "<table border=\"1\" class=\"dataframe\">\n",
       "  <thead>\n",
       "    <tr style=\"text-align: right;\">\n",
       "      <th></th>\n",
       "      <th>job_title</th>\n",
       "      <th>job_skills</th>\n",
       "    </tr>\n",
       "  </thead>\n",
       "  <tbody>\n",
       "    <tr>\n",
       "      <th>1</th>\n",
       "      <td>data analyst</td>\n",
       "      <td>[r, python, sql, nosql, power bi, tableau]</td>\n",
       "    </tr>\n",
       "    <tr>\n",
       "      <th>2</th>\n",
       "      <td>data engineer scientist analyst mid or senior ...</td>\n",
       "      <td>[python, sql, c#, azure, airflow, dax, docker,...</td>\n",
       "    </tr>\n",
       "    <tr>\n",
       "      <th>3</th>\n",
       "      <td>lead engineer principal analyst principal engi...</td>\n",
       "      <td>[python, c++, java, matlab, aws, tensorflow, k...</td>\n",
       "    </tr>\n",
       "    <tr>\n",
       "      <th>4</th>\n",
       "      <td>data engineer sr jobs</td>\n",
       "      <td>[bash, python, oracle, aws, ansible, puppet, j...</td>\n",
       "    </tr>\n",
       "    <tr>\n",
       "      <th>5</th>\n",
       "      <td>gcp data engineer</td>\n",
       "      <td>[python, sql, gcp]</td>\n",
       "    </tr>\n",
       "    <tr>\n",
       "      <th>6</th>\n",
       "      <td>senior data engineer gcp cloud</td>\n",
       "      <td>[sql, python, java, sql server, gcp, bigquery,...</td>\n",
       "    </tr>\n",
       "    <tr>\n",
       "      <th>7</th>\n",
       "      <td>data engineer</td>\n",
       "      <td>[sql, nosql, gcp, azure, aws, bigquery, databr...</td>\n",
       "    </tr>\n",
       "    <tr>\n",
       "      <th>8</th>\n",
       "      <td>technology operations business analyst</td>\n",
       "      <td>[excel, powerpoint, power bi]</td>\n",
       "    </tr>\n",
       "    <tr>\n",
       "      <th>9</th>\n",
       "      <td>data scientist ii</td>\n",
       "      <td>[sql, python, r, mongodb, mongodb, sql server,...</td>\n",
       "    </tr>\n",
       "    <tr>\n",
       "      <th>10</th>\n",
       "      <td>erfahrene r data engineer in m w d</td>\n",
       "      <td>[python, databricks, azure, spark]</td>\n",
       "    </tr>\n",
       "  </tbody>\n",
       "</table>\n",
       "</div>"
      ]
     },
     "execution_count": 10,
     "metadata": {},
     "output_type": "execute_result"
    }
   ],
   "execution_count": 10
  },
  {
   "metadata": {},
   "cell_type": "markdown",
   "source": [
    "\n",
    "### 3. Work with job titles\n",
    "Plan is follows:\n",
    "1. Remove stop-words\n",
    "2. Start combining by using n-grams. They help to match patterns like 'pyhon developer' and 'developer python'\n",
    "3. Create embeddings using sentence transformers or tf-idf\n",
    "4. Apply clusterization to embeddings using dbscan or hdbscan or agglomerative clustering"
   ],
   "id": "e56cd7eb427c068d"
  },
  {
   "metadata": {},
   "cell_type": "markdown",
   "source": "#### 3.1 No stop words",
   "id": "141ebf84175224ef"
  },
  {
   "metadata": {
    "ExecuteTime": {
     "end_time": "2025-06-23T11:30:45.168550Z",
     "start_time": "2025-06-23T11:30:41.095489Z"
    }
   },
   "cell_type": "code",
   "source": [
    "import nltk\n",
    "from nltk.corpus import stopwords\n",
    "nltk.download('stopwords')\n",
    "\n",
    "stop_words_en = set(stopwords.words('english'))\n",
    "stop_words_ru = set(stopwords.words('russian'))"
   ],
   "id": "14b8eef59ed8d73f",
   "outputs": [
    {
     "name": "stderr",
     "output_type": "stream",
     "text": [
      "[nltk_data] Downloading package stopwords to\n",
      "[nltk_data]     C:\\Users\\user\\AppData\\Roaming\\nltk_data...\n",
      "[nltk_data]   Package stopwords is already up-to-date!\n"
     ]
    }
   ],
   "execution_count": 11
  },
  {
   "metadata": {
    "ExecuteTime": {
     "end_time": "2025-06-23T11:30:45.187267Z",
     "start_time": "2025-06-23T11:30:45.180560Z"
    }
   },
   "cell_type": "code",
   "source": [
    "def remove_stopwords(text):\n",
    "    words = text.lower().split()\n",
    "    filtered_words = [w for w in words if w not in stop_words_en and w not in stop_words_ru]\n",
    "    return filtered_words"
   ],
   "id": "54929e3958974d66",
   "outputs": [],
   "execution_count": 12
  },
  {
   "metadata": {
    "ExecuteTime": {
     "end_time": "2025-06-23T11:30:47.331267Z",
     "start_time": "2025-06-23T11:30:45.204288Z"
    }
   },
   "cell_type": "code",
   "source": [
    "sentences = data_combined['job_title'].apply(remove_stopwords).tolist()\n",
    "\n",
    "print(sentences[:10])\n",
    "print(sentences[-10:])"
   ],
   "id": "d89886978f5b5dba",
   "outputs": [
    {
     "name": "stdout",
     "output_type": "stream",
     "text": [
      "[['data', 'analyst'], ['data', 'engineer', 'scientist', 'analyst', 'mid', 'senior', 'f', 'x'], ['lead', 'engineer', 'principal', 'analyst', 'principal', 'engineer', 'data...'], ['data', 'engineer', 'sr', 'jobs'], ['gcp', 'data', 'engineer'], ['senior', 'data', 'engineer', 'gcp', 'cloud'], ['data', 'engineer'], ['technology', 'operations', 'business', 'analyst'], ['data', 'scientist', 'ii'], ['erfahrene', 'r', 'data', 'engineer', 'w']]\n",
      "[['администратор', 'баз', 'данных', 'database', 'administrator'], ['lead', 'data', 'scientist'], ['инженер', 'категории'], ['специалист', 'поддержки', 'приложений'], ['системный', 'аналитик', 'dwh'], ['монтажник', 'слаботочных', 'систем'], ['системный', 'администратор'], ['менеджер', 'работе', 'маркетплейсами', 'офис'], ['менеджер', 'продажам', 'серверное', 'оборудование', 'b2b'], ['product', 'analyst']]\n"
     ]
    }
   ],
   "execution_count": 13
  },
  {
   "metadata": {},
   "cell_type": "markdown",
   "source": [
    "#### 3.2 N-gramms\n",
    "\n",
    "* gensim - not cool\n",
    "* Scikit-learn CountVectorizer - applied\n",
    "* RAKE / TextRank / YAKE (Unsupervised Keyword Extractors) - not tried"
   ],
   "id": "b1416de6166fcf15"
  },
  {
   "metadata": {},
   "cell_type": "markdown",
   "source": "##### gensim",
   "id": "454702840af367b4"
  },
  {
   "metadata": {
    "ExecuteTime": {
     "end_time": "2025-06-23T11:30:47.434529Z",
     "start_time": "2025-06-23T11:30:47.428279Z"
    }
   },
   "cell_type": "code",
   "source": [
    "# from gensim.models import Phrases\n",
    "# from gensim.models.phrases import Phraser"
   ],
   "id": "6b6a058017fea6ff",
   "outputs": [],
   "execution_count": 14
  },
  {
   "metadata": {
    "ExecuteTime": {
     "end_time": "2025-06-23T11:30:47.507561Z",
     "start_time": "2025-06-23T11:30:47.471541Z"
    }
   },
   "cell_type": "code",
   "source": [
    "# # create bi-gram model\n",
    "# bigram_model = Phrases(sentences, min_count=2, threshold=1)\n",
    "# # min_count=50 — ignore pairs that apper <= 50 times\n",
    "# # threshold=10 — less phrazes\n",
    "#\n",
    "# bigram_model.add_vocab(sentences)\n",
    "#\n",
    "#\n",
    "# bigram_phraser = Phraser(bigram_model)  # to fasten up\n"
   ],
   "id": "35258df4d17a2f07",
   "outputs": [],
   "execution_count": 15
  },
  {
   "metadata": {
    "ExecuteTime": {
     "end_time": "2025-06-23T11:30:47.551575Z",
     "start_time": "2025-06-23T11:30:47.527557Z"
    }
   },
   "cell_type": "code",
   "source": [
    "# data_combined['job_title_bigram'] = [bigram_phraser[sentence] for sentence in sentences]\n",
    "#\n",
    "# print(len(bigram_phraser.phrasegrams))\n",
    "# print(list(bigram_phraser.phrasegrams)[:20])  # первые 20 биграмм\n"
   ],
   "id": "11ba6c1e2eab4864",
   "outputs": [],
   "execution_count": 16
  },
  {
   "metadata": {
    "ExecuteTime": {
     "end_time": "2025-06-23T11:30:47.607849Z",
     "start_time": "2025-06-23T11:30:47.589561Z"
    }
   },
   "cell_type": "code",
   "source": "# data_combined.head(20)",
   "id": "249bb87c7e4da720",
   "outputs": [],
   "execution_count": 17
  },
  {
   "metadata": {},
   "cell_type": "markdown",
   "source": "##### count vectorizer",
   "id": "a460ce7f08a944dc"
  },
  {
   "metadata": {
    "ExecuteTime": {
     "end_time": "2025-06-23T11:30:47.694495Z",
     "start_time": "2025-06-23T11:30:47.648843Z"
    }
   },
   "cell_type": "code",
   "source": [
    "from sklearn.feature_extraction.text import CountVectorizer\n",
    "vectorizer = CountVectorizer(ngram_range=(2, 2), min_df=3)"
   ],
   "id": "d71481bda1bcb925",
   "outputs": [],
   "execution_count": 18
  },
  {
   "metadata": {
    "ExecuteTime": {
     "end_time": "2025-06-23T11:30:55.820203Z",
     "start_time": "2025-06-23T11:30:47.730498Z"
    }
   },
   "cell_type": "code",
   "source": [
    "texts = [' '.join(tokens) for tokens in sentences]\n",
    "# text -> frequency matrix\n",
    "X = vectorizer.fit_transform(texts)\n",
    "\n",
    "# get bigrams and frequences\n",
    "bigrams = vectorizer.get_feature_names_out()\n",
    "counts = X.sum(axis=0).A1\n",
    "\n",
    "# to see\n",
    "bigrams = vectorizer.get_feature_names_out()\n",
    "bigram_freq = pd.DataFrame({'bigram': bigrams, 'count': counts})\n",
    "bigram_freq = bigram_freq.sort_values(by='count', ascending=False)\n",
    "print(bigram_freq.head(20))\n"
   ],
   "id": "45364c78b39984c2",
   "outputs": [
    {
     "name": "stdout",
     "output_type": "stream",
     "text": [
      "                      bigram   count\n",
      "10337          data engineer  182609\n",
      "10106           data analyst  144815\n",
      "10740         data scientist  137974\n",
      "35841            senior data   70995\n",
      "10732           data science   21799\n",
      "36950      software engineer   15301\n",
      "23428              lead data   15266\n",
      "10118         data analytics   12603\n",
      "24403       machine learning   11211\n",
      "37743                sr data   11123\n",
      "6494                big data   10615\n",
      "6909        business analyst    9563\n",
      "14128          engineer data    9115\n",
      "6965   business intelligence    8519\n",
      "22738            junior data    7911\n",
      "10341       data engineering    7783\n",
      "5714              azure data    7314\n",
      "2004            analyst data    6490\n",
      "23760      learning engineer    6483\n",
      "6934           business data    6159\n"
     ]
    }
   ],
   "execution_count": 19
  },
  {
   "metadata": {
    "ExecuteTime": {
     "end_time": "2025-06-23T11:30:55.868500Z",
     "start_time": "2025-06-23T11:30:55.856219Z"
    }
   },
   "cell_type": "code",
   "source": "print(bigram_freq.head(20))",
   "id": "35e2cf4c22743fe8",
   "outputs": [
    {
     "name": "stdout",
     "output_type": "stream",
     "text": [
      "                      bigram   count\n",
      "10337          data engineer  182609\n",
      "10106           data analyst  144815\n",
      "10740         data scientist  137974\n",
      "35841            senior data   70995\n",
      "10732           data science   21799\n",
      "36950      software engineer   15301\n",
      "23428              lead data   15266\n",
      "10118         data analytics   12603\n",
      "24403       machine learning   11211\n",
      "37743                sr data   11123\n",
      "6494                big data   10615\n",
      "6909        business analyst    9563\n",
      "14128          engineer data    9115\n",
      "6965   business intelligence    8519\n",
      "22738            junior data    7911\n",
      "10341       data engineering    7783\n",
      "5714              azure data    7314\n",
      "2004            analyst data    6490\n",
      "23760      learning engineer    6483\n",
      "6934           business data    6159\n"
     ]
    }
   ],
   "execution_count": 20
  },
  {
   "metadata": {
    "ExecuteTime": {
     "end_time": "2025-06-23T11:30:56.069448Z",
     "start_time": "2025-06-23T11:30:55.893530Z"
    }
   },
   "cell_type": "code",
   "source": [
    "def normalize_bigram_str(bigram):\n",
    "    words = bigram.split()\n",
    "    if len(words) == 2:\n",
    "        return \" \".join(sorted(words))\n",
    "    return bigram\n",
    "\n",
    "bigram_freq['bigram_normalized'] = bigram_freq['bigram'].apply(normalize_bigram_str)\n",
    "\n",
    "bigram_freq_norm = bigram_freq.groupby('bigram_normalized', as_index=False)['count'].sum()\n",
    "bigram_freq_norm = bigram_freq_norm.sort_values(by='count', ascending=False)\n",
    "\n",
    "print(bigram_freq_norm.head(100))"
   ],
   "id": "aaa1efe9f1fedaaa",
   "outputs": [
    {
     "name": "stdout",
     "output_type": "stream",
     "text": [
      "       bigram_normalized   count\n",
      "15655      data engineer  191724\n",
      "3141        analyst data  151305\n",
      "17061     data scientist  140094\n",
      "17102        data senior   71258\n",
      "17052       data science   22392\n",
      "...                  ...     ...\n",
      "12467      clinical data    1398\n",
      "31509  machine scientist    1395\n",
      "7262    associate senior    1393\n",
      "3325    analyst engineer    1379\n",
      "15973          data head    1368\n",
      "\n",
      "[100 rows x 2 columns]\n"
     ]
    }
   ],
   "execution_count": 21
  },
  {
   "metadata": {
    "ExecuteTime": {
     "end_time": "2025-06-23T11:30:56.128559Z",
     "start_time": "2025-06-23T11:30:56.106465Z"
    }
   },
   "cell_type": "code",
   "source": [
    "if 'job_title_bigram' in data_combined.columns:\n",
    "    data_combined.drop(columns=['job_title_bigram'], inplace=True)\n",
    "\n",
    "data_combined.head()"
   ],
   "id": "45f83ffd75a152c8",
   "outputs": [
    {
     "data": {
      "text/plain": [
       "                                           job_title  \\\n",
       "1                                       data analyst   \n",
       "2  data engineer scientist analyst mid or senior ...   \n",
       "3  lead engineer principal analyst principal engi...   \n",
       "4                              data engineer sr jobs   \n",
       "5                                  gcp data engineer   \n",
       "\n",
       "                                          job_skills  \n",
       "1         [r, python, sql, nosql, power bi, tableau]  \n",
       "2  [python, sql, c#, azure, airflow, dax, docker,...  \n",
       "3  [python, c++, java, matlab, aws, tensorflow, k...  \n",
       "4  [bash, python, oracle, aws, ansible, puppet, j...  \n",
       "5                                 [python, sql, gcp]  "
      ],
      "text/html": [
       "<div>\n",
       "<style scoped>\n",
       "    .dataframe tbody tr th:only-of-type {\n",
       "        vertical-align: middle;\n",
       "    }\n",
       "\n",
       "    .dataframe tbody tr th {\n",
       "        vertical-align: top;\n",
       "    }\n",
       "\n",
       "    .dataframe thead th {\n",
       "        text-align: right;\n",
       "    }\n",
       "</style>\n",
       "<table border=\"1\" class=\"dataframe\">\n",
       "  <thead>\n",
       "    <tr style=\"text-align: right;\">\n",
       "      <th></th>\n",
       "      <th>job_title</th>\n",
       "      <th>job_skills</th>\n",
       "    </tr>\n",
       "  </thead>\n",
       "  <tbody>\n",
       "    <tr>\n",
       "      <th>1</th>\n",
       "      <td>data analyst</td>\n",
       "      <td>[r, python, sql, nosql, power bi, tableau]</td>\n",
       "    </tr>\n",
       "    <tr>\n",
       "      <th>2</th>\n",
       "      <td>data engineer scientist analyst mid or senior ...</td>\n",
       "      <td>[python, sql, c#, azure, airflow, dax, docker,...</td>\n",
       "    </tr>\n",
       "    <tr>\n",
       "      <th>3</th>\n",
       "      <td>lead engineer principal analyst principal engi...</td>\n",
       "      <td>[python, c++, java, matlab, aws, tensorflow, k...</td>\n",
       "    </tr>\n",
       "    <tr>\n",
       "      <th>4</th>\n",
       "      <td>data engineer sr jobs</td>\n",
       "      <td>[bash, python, oracle, aws, ansible, puppet, j...</td>\n",
       "    </tr>\n",
       "    <tr>\n",
       "      <th>5</th>\n",
       "      <td>gcp data engineer</td>\n",
       "      <td>[python, sql, gcp]</td>\n",
       "    </tr>\n",
       "  </tbody>\n",
       "</table>\n",
       "</div>"
      ]
     },
     "execution_count": 22,
     "metadata": {},
     "output_type": "execute_result"
    }
   ],
   "execution_count": 22
  },
  {
   "metadata": {
    "ExecuteTime": {
     "end_time": "2025-06-23T11:31:01.641897Z",
     "start_time": "2025-06-23T11:30:56.160588Z"
    }
   },
   "cell_type": "code",
   "source": [
    "top_bigrams_set = set(bigram_freq['bigram_normalized'])\n",
    "\n",
    "def extract_normalized_bigrams(text):\n",
    "    words = re.findall(r'\\w+', text.lower())\n",
    "    pairs = set()\n",
    "    for i in range(len(words) - 1):\n",
    "        bigram = \" \".join(sorted([words[i], words[i+1]]))\n",
    "        if bigram in top_bigrams_set:\n",
    "            pairs.add(bigram)\n",
    "    return list(pairs)\n",
    "\n",
    "data_combined['normalized_bigrams'] = data_combined['job_title'].apply(extract_normalized_bigrams)"
   ],
   "id": "f88a72e11b516f10",
   "outputs": [],
   "execution_count": 23
  },
  {
   "metadata": {
    "ExecuteTime": {
     "end_time": "2025-06-23T11:31:01.671350Z",
     "start_time": "2025-06-23T11:31:01.652924Z"
    }
   },
   "cell_type": "code",
   "source": "data_combined.head()",
   "id": "9236ba39364247d7",
   "outputs": [
    {
     "data": {
      "text/plain": [
       "                                           job_title  \\\n",
       "1                                       data analyst   \n",
       "2  data engineer scientist analyst mid or senior ...   \n",
       "3  lead engineer principal analyst principal engi...   \n",
       "4                              data engineer sr jobs   \n",
       "5                                  gcp data engineer   \n",
       "\n",
       "                                          job_skills  \\\n",
       "1         [r, python, sql, nosql, power bi, tableau]   \n",
       "2  [python, sql, c#, azure, airflow, dax, docker,...   \n",
       "3  [python, c++, java, matlab, aws, tensorflow, k...   \n",
       "4  [bash, python, oracle, aws, ansible, puppet, j...   \n",
       "5                                 [python, sql, gcp]   \n",
       "\n",
       "                                  normalized_bigrams  \n",
       "1                                     [analyst data]  \n",
       "2  [engineer scientist, data engineer, analyst mi...  \n",
       "3  [data engineer, engineer principal, analyst pr...  \n",
       "4              [data engineer, engineer sr, jobs sr]  \n",
       "5                          [data gcp, data engineer]  "
      ],
      "text/html": [
       "<div>\n",
       "<style scoped>\n",
       "    .dataframe tbody tr th:only-of-type {\n",
       "        vertical-align: middle;\n",
       "    }\n",
       "\n",
       "    .dataframe tbody tr th {\n",
       "        vertical-align: top;\n",
       "    }\n",
       "\n",
       "    .dataframe thead th {\n",
       "        text-align: right;\n",
       "    }\n",
       "</style>\n",
       "<table border=\"1\" class=\"dataframe\">\n",
       "  <thead>\n",
       "    <tr style=\"text-align: right;\">\n",
       "      <th></th>\n",
       "      <th>job_title</th>\n",
       "      <th>job_skills</th>\n",
       "      <th>normalized_bigrams</th>\n",
       "    </tr>\n",
       "  </thead>\n",
       "  <tbody>\n",
       "    <tr>\n",
       "      <th>1</th>\n",
       "      <td>data analyst</td>\n",
       "      <td>[r, python, sql, nosql, power bi, tableau]</td>\n",
       "      <td>[analyst data]</td>\n",
       "    </tr>\n",
       "    <tr>\n",
       "      <th>2</th>\n",
       "      <td>data engineer scientist analyst mid or senior ...</td>\n",
       "      <td>[python, sql, c#, azure, airflow, dax, docker,...</td>\n",
       "      <td>[engineer scientist, data engineer, analyst mi...</td>\n",
       "    </tr>\n",
       "    <tr>\n",
       "      <th>3</th>\n",
       "      <td>lead engineer principal analyst principal engi...</td>\n",
       "      <td>[python, c++, java, matlab, aws, tensorflow, k...</td>\n",
       "      <td>[data engineer, engineer principal, analyst pr...</td>\n",
       "    </tr>\n",
       "    <tr>\n",
       "      <th>4</th>\n",
       "      <td>data engineer sr jobs</td>\n",
       "      <td>[bash, python, oracle, aws, ansible, puppet, j...</td>\n",
       "      <td>[data engineer, engineer sr, jobs sr]</td>\n",
       "    </tr>\n",
       "    <tr>\n",
       "      <th>5</th>\n",
       "      <td>gcp data engineer</td>\n",
       "      <td>[python, sql, gcp]</td>\n",
       "      <td>[data gcp, data engineer]</td>\n",
       "    </tr>\n",
       "  </tbody>\n",
       "</table>\n",
       "</div>"
      ]
     },
     "execution_count": 24,
     "metadata": {},
     "output_type": "execute_result"
    }
   ],
   "execution_count": 24
  },
  {
   "metadata": {},
   "cell_type": "markdown",
   "source": [
    "#### 3.3 Embeddings\n",
    "\n",
    "Since we already get bigrams, better to use TF-IDF instead of SentenceTransformers. Also they are computationaly cheaper"
   ],
   "id": "299423ae491081c7"
  },
  {
   "metadata": {
    "ExecuteTime": {
     "end_time": "2025-06-23T11:31:01.734428Z",
     "start_time": "2025-06-23T11:31:01.701365Z"
    }
   },
   "cell_type": "code",
   "source": "data_combined.head()",
   "id": "11d4ab6d4cc7b1c0",
   "outputs": [
    {
     "data": {
      "text/plain": [
       "                                           job_title  \\\n",
       "1                                       data analyst   \n",
       "2  data engineer scientist analyst mid or senior ...   \n",
       "3  lead engineer principal analyst principal engi...   \n",
       "4                              data engineer sr jobs   \n",
       "5                                  gcp data engineer   \n",
       "\n",
       "                                          job_skills  \\\n",
       "1         [r, python, sql, nosql, power bi, tableau]   \n",
       "2  [python, sql, c#, azure, airflow, dax, docker,...   \n",
       "3  [python, c++, java, matlab, aws, tensorflow, k...   \n",
       "4  [bash, python, oracle, aws, ansible, puppet, j...   \n",
       "5                                 [python, sql, gcp]   \n",
       "\n",
       "                                  normalized_bigrams  \n",
       "1                                     [analyst data]  \n",
       "2  [engineer scientist, data engineer, analyst mi...  \n",
       "3  [data engineer, engineer principal, analyst pr...  \n",
       "4              [data engineer, engineer sr, jobs sr]  \n",
       "5                          [data gcp, data engineer]  "
      ],
      "text/html": [
       "<div>\n",
       "<style scoped>\n",
       "    .dataframe tbody tr th:only-of-type {\n",
       "        vertical-align: middle;\n",
       "    }\n",
       "\n",
       "    .dataframe tbody tr th {\n",
       "        vertical-align: top;\n",
       "    }\n",
       "\n",
       "    .dataframe thead th {\n",
       "        text-align: right;\n",
       "    }\n",
       "</style>\n",
       "<table border=\"1\" class=\"dataframe\">\n",
       "  <thead>\n",
       "    <tr style=\"text-align: right;\">\n",
       "      <th></th>\n",
       "      <th>job_title</th>\n",
       "      <th>job_skills</th>\n",
       "      <th>normalized_bigrams</th>\n",
       "    </tr>\n",
       "  </thead>\n",
       "  <tbody>\n",
       "    <tr>\n",
       "      <th>1</th>\n",
       "      <td>data analyst</td>\n",
       "      <td>[r, python, sql, nosql, power bi, tableau]</td>\n",
       "      <td>[analyst data]</td>\n",
       "    </tr>\n",
       "    <tr>\n",
       "      <th>2</th>\n",
       "      <td>data engineer scientist analyst mid or senior ...</td>\n",
       "      <td>[python, sql, c#, azure, airflow, dax, docker,...</td>\n",
       "      <td>[engineer scientist, data engineer, analyst mi...</td>\n",
       "    </tr>\n",
       "    <tr>\n",
       "      <th>3</th>\n",
       "      <td>lead engineer principal analyst principal engi...</td>\n",
       "      <td>[python, c++, java, matlab, aws, tensorflow, k...</td>\n",
       "      <td>[data engineer, engineer principal, analyst pr...</td>\n",
       "    </tr>\n",
       "    <tr>\n",
       "      <th>4</th>\n",
       "      <td>data engineer sr jobs</td>\n",
       "      <td>[bash, python, oracle, aws, ansible, puppet, j...</td>\n",
       "      <td>[data engineer, engineer sr, jobs sr]</td>\n",
       "    </tr>\n",
       "    <tr>\n",
       "      <th>5</th>\n",
       "      <td>gcp data engineer</td>\n",
       "      <td>[python, sql, gcp]</td>\n",
       "      <td>[data gcp, data engineer]</td>\n",
       "    </tr>\n",
       "  </tbody>\n",
       "</table>\n",
       "</div>"
      ]
     },
     "execution_count": 25,
     "metadata": {},
     "output_type": "execute_result"
    }
   ],
   "execution_count": 25
  },
  {
   "metadata": {
    "ExecuteTime": {
     "end_time": "2025-06-23T11:31:01.786920Z",
     "start_time": "2025-06-23T11:31:01.778431Z"
    }
   },
   "cell_type": "code",
   "source": "from sklearn.feature_extraction.text import TfidfVectorizer",
   "id": "f5f35a29d6a5e1",
   "outputs": [],
   "execution_count": 26
  },
  {
   "metadata": {
    "ExecuteTime": {
     "end_time": "2025-06-23T11:31:12.604938Z",
     "start_time": "2025-06-23T11:31:01.810941Z"
    }
   },
   "cell_type": "code",
   "source": [
    "bigrams_joined = data_combined['normalized_bigrams'].apply(lambda x: ' '.join(x))\n",
    "\n",
    "vectorizer = TfidfVectorizer(ngram_range=(1, 2), max_features=5000)\n",
    "X_tfidf = vectorizer.fit_transform(bigrams_joined)"
   ],
   "id": "2c29d4e9c5a8d863",
   "outputs": [],
   "execution_count": 27
  },
  {
   "metadata": {
    "ExecuteTime": {
     "end_time": "2025-06-23T11:31:18.199881Z",
     "start_time": "2025-06-23T11:31:12.620950Z"
    }
   },
   "cell_type": "code",
   "source": [
    "from sklearn.decomposition import TruncatedSVD\n",
    "import matplotlib.pyplot as plt\n",
    "\n",
    "svd_plot = TruncatedSVD(n_components=2, random_state=42)\n",
    "X_svd = svd_plot.fit_transform(X_tfidf)\n",
    "\n",
    "plt.figure(figsize=(10, 7))\n",
    "plt.scatter(X_svd[:, 0], X_svd[:, 1], alpha=0.5, s=10)\n",
    "plt.title(\"TF-IDF Embeddings (Truncated SVD)\")\n",
    "plt.xlabel(\"SVD1\")\n",
    "plt.ylabel(\"SVD2\")\n",
    "plt.grid(True)\n",
    "plt.show()\n"
   ],
   "id": "6ee67705cfd9635e",
   "outputs": [
    {
     "data": {
      "text/plain": [
       "<Figure size 1000x700 with 1 Axes>"
      ],
      "image/png": "[encoded data removed]"
     },
     "metadata": {},
     "output_type": "display_data"
    }
   ],
   "execution_count": 28
  },
  {
   "metadata": {},
   "cell_type": "markdown",
   "source": [
    "X_TFIDF has a size (717268, 5000) - this is 3.5 billion elements (if in DENSE format).\n",
    "\n",
    "After TRUNCATEDSVD (n_components = 300), the size will become (717268, 300) - 16 times smaller!"
   ],
   "id": "6d3a842e90707440"
  },
  {
   "metadata": {
    "ExecuteTime": {
     "end_time": "2025-06-23T11:31:55.422524Z",
     "start_time": "2025-06-23T11:31:18.219895Z"
    }
   },
   "cell_type": "code",
   "source": [
    "from sklearn.decomposition import TruncatedSVD\n",
    "\n",
    "svd = TruncatedSVD(n_components=100, random_state=42)\n",
    "X_reduced = svd.fit_transform(X_tfidf)\n"
   ],
   "id": "769d654c7e317063",
   "outputs": [],
   "execution_count": 29
  },
  {
   "metadata": {
    "ExecuteTime": {
     "end_time": "2025-06-23T11:31:55.513222Z",
     "start_time": "2025-06-23T11:31:55.468536Z"
    }
   },
   "cell_type": "code",
   "source": "X_reduced.shape",
   "id": "94eab1c2dd5ac9d2",
   "outputs": [
    {
     "data": {
      "text/plain": [
       "(717268, 100)"
      ]
     },
     "execution_count": 30,
     "metadata": {},
     "output_type": "execute_result"
    }
   ],
   "execution_count": 30
  },
  {
   "metadata": {},
   "cell_type": "markdown",
   "source": [
    "#### 3.4 clusterization\n",
    "Will use combination of k-means and birch\n"
   ],
   "id": "fb6b5c6a95c4221b"
  },
  {
   "metadata": {},
   "cell_type": "markdown",
   "source": "Firstly, create small sample to calibrate params",
   "id": "cb3567ea7c9a79db"
  },
  {
   "metadata": {
    "ExecuteTime": {
     "end_time": "2025-06-23T14:48:50.556252Z",
     "start_time": "2025-06-23T14:48:46.635054Z"
    }
   },
   "cell_type": "code",
   "source": [
    "import numpy as np\n",
    "\n",
    "np.random.seed(42)\n",
    "\n",
    "# create small sample for param calibration\n",
    "sample_size = int(0.05 * len(X_reduced))\n",
    "sample_idx = np.random.choice(len(X_reduced), size=sample_size, replace=False)\n",
    "X_sample = X_reduced[sample_idx]"
   ],
   "id": "ce4380f6f241db7f",
   "outputs": [
    {
     "ename": "NameError",
     "evalue": "name 'X_reduced' is not defined",
     "output_type": "error",
     "traceback": [
      "\u001B[1;31m---------------------------------------------------------------------------\u001B[0m",
      "\u001B[1;31mNameError\u001B[0m                                 Traceback (most recent call last)",
      "Cell \u001B[1;32mIn[1], line 7\u001B[0m\n\u001B[0;32m      4\u001B[0m np\u001B[38;5;241m.\u001B[39mrandom\u001B[38;5;241m.\u001B[39mseed(\u001B[38;5;241m42\u001B[39m)\n\u001B[0;32m      6\u001B[0m \u001B[38;5;66;03m# create small sample for param calibration\u001B[39;00m\n\u001B[1;32m----> 7\u001B[0m sample_size \u001B[38;5;241m=\u001B[39m \u001B[38;5;28mint\u001B[39m(\u001B[38;5;241m0.05\u001B[39m \u001B[38;5;241m*\u001B[39m \u001B[38;5;28mlen\u001B[39m(X_reduced))\n\u001B[0;32m      8\u001B[0m sample_idx \u001B[38;5;241m=\u001B[39m np\u001B[38;5;241m.\u001B[39mrandom\u001B[38;5;241m.\u001B[39mchoice(\u001B[38;5;28mlen\u001B[39m(X_reduced), size\u001B[38;5;241m=\u001B[39msample_size, replace\u001B[38;5;241m=\u001B[39m\u001B[38;5;28;01mFalse\u001B[39;00m)\n\u001B[0;32m      9\u001B[0m X_sample \u001B[38;5;241m=\u001B[39m X_reduced[sample_idx]\n",
      "\u001B[1;31mNameError\u001B[0m: name 'X_reduced' is not defined"
     ]
    }
   ],
   "execution_count": 1
  },
  {
   "metadata": {},
   "cell_type": "markdown",
   "source": "Now choose the best params",
   "id": "f414eebb4a48af7a"
  },
  {
   "metadata": {
    "ExecuteTime": {
     "end_time": "2025-06-23T14:48:33.278442200Z",
     "start_time": "2025-06-23T13:25:08.122823Z"
    }
   },
   "cell_type": "code",
   "source": [
    "from sklearn.cluster import KMeans\n",
    "from sklearn.metrics import silhouette_score\n",
    "\n",
    "best_score = -1\n",
    "best_n = 10\n",
    "\n",
    "for n in range(10, 31, 5):\n",
    "    kmeans = KMeans(n_clusters=n, random_state=42)\n",
    "    labels = kmeans.fit_predict(X_sample)\n",
    "    score = silhouette_score(X_sample, labels)\n",
    "\n",
    "    if score > best_score:\n",
    "        best_score = score\n",
    "        best_n = n\n",
    "print(f'Best params: score {best_score}, n {best_n}')"
   ],
   "id": "24dc875c5e03f4ed",
   "outputs": [
    {
     "name": "stdout",
     "output_type": "stream",
     "text": [
      "best params: {'threshold': 0.003, 'branching_factor': 10, 'score': 0.28}\n"
     ]
    }
   ],
   "execution_count": 54
  },
  {
   "metadata": {},
   "cell_type": "code",
   "outputs": [],
   "execution_count": null,
   "source": [
    "final_kmeans = KMeans(n_clusters=best_n, random_state=42)\n",
    "data_combined['cluster'] = final_kmeans.fit_predict(X_sample)"
   ],
   "id": "2a3a17f4f1d184db"
  },
  {
   "metadata": {},
   "cell_type": "markdown",
   "source": [
    "#### 3.2 plan b\n",
    "\n",
    "Цель:\n",
    "\n",
    "Сгруппировать вакансии с похожими названиями (на русском и английском, с разным порядком слов) и для каждой группы собрать топ-скиллов.\n",
    "1. Предобработка текста вакансий и скиллов\n",
    "\n",
    "    Очистка и нормализация текста:\n",
    "\n",
    "        Привести к нижнему регистру (lowercase).\n",
    "\n",
    "        Убрать пунктуацию и спецсимволы.\n",
    "\n",
    "        Убрать лишние пробелы.\n",
    "\n",
    "        Заменить числа на пустоту или единый токен.\n",
    "\n",
    "        Заменить синонимы и вариации вручную (например, “разработчик python” = “python разработчик” = “python developer”).\n",
    "\n",
    "    Почему?\n",
    "    Убираем шум и стандартизируем, чтобы простые текстовые сравнения были эффективнее.\n",
    "\n",
    "2. Представление вакансий числовыми векторами (эмбеддингами)\n",
    "\n",
    "    Использовать предобученные языковые модели с мультилингвальной поддержкой:\n",
    "\n",
    "        Multilingual Sentence Transformers (например, sentence-transformers/paraphrase-multilingual-MiniLM) — создают вектор для каждого текста (названия вакансии).\n",
    "\n",
    "        Или простые TF-IDF векторы для быстрой проверки (хотя хуже по смыслу).\n",
    "\n",
    "    Почему?\n",
    "    Чтобы понять не просто точное совпадение текста, а смысловую близость, даже если порядок слов разный или часть слов отличается.\n",
    "\n",
    "3. Кластеризация вакансий по смыслу\n",
    "\n",
    "    Применить кластеризацию к эмбеддингам вакансий:\n",
    "\n",
    "        Алгоритмы: DBSCAN, HDBSCAN (не требует заранее задавать число кластеров, умеет выделять шум).\n",
    "\n",
    "        Или Agglomerative Clustering с порогом расстояния.\n",
    "\n",
    "    Почему?\n",
    "    Чтобы автоматически сгруппировать похожие вакансии вместе (например, все варианты \"python developer\" в один кластер).\n",
    "\n",
    "4. Обработка скиллов в каждой группе\n",
    "\n",
    "    Для каждой группы вакансий собрать все скиллы из вакансий этого кластера.\n",
    "\n",
    "    Подсчитать частоту каждого скилла.\n",
    "\n",
    "    Отсортировать по убыванию и выбрать топ N (например, топ 10).\n",
    "\n",
    "    Можно применить ту же очистку скиллов, как в пункте 1 (привести к нижнему регистру, убрать лишние символы).\n",
    "\n",
    "5. Проверка и корректировка результатов\n",
    "\n",
    "    Проанализировать образовавшиеся кластеры.\n",
    "\n",
    "    При необходимости вручную добавить синонимы в словарь для замены.\n",
    "\n",
    "    Проверить топ-скиллы — убрать слишком общие, нерелевантные.\n",
    "\n",
    "Итог:\n",
    "Вакансия (кластер)\tТоп-скиллы\n",
    "python developer / питон разработчик\tpython, django, sql, git, ...\n",
    "data analyst / аналитик данных\tsql, tableau, excel, power bi\n",
    "Инструменты:\n",
    "\n",
    "    Python: pandas, numpy\n",
    "\n",
    "    Очистка текста: re, str.lower(), словари для замены\n",
    "\n",
    "    Векторизация: sentence-transformers, scikit-learn (TF-IDF)\n",
    "\n",
    "    Кластеризация: hdbscan, sklearn.cluster\n",
    "\n",
    "    Подсчёт частот: collections.Counter или pandas.Series.value_counts()\n",
    "\n"
   ],
   "id": "2aa483f4f9ec9da2"
  },
  {
   "metadata": {
    "ExecuteTime": {
     "end_time": "2025-06-23T11:33:55.662406Z",
     "start_time": "2025-06-23T11:33:55.656779Z"
    }
   },
   "cell_type": "code",
   "source": "# todo: plan b :)",
   "id": "f4993674991a406e",
   "outputs": [],
   "execution_count": 42
  },
  {
   "metadata": {
    "ExecuteTime": {
     "end_time": "2025-06-23T11:33:55.688789Z",
     "start_time": "2025-06-23T11:33:55.683419Z"
    }
   },
   "cell_type": "code",
   "source": "",
   "id": "bca5597014b6977",
   "outputs": [],
   "execution_count": null
  },
  {
   "metadata": {
    "ExecuteTime": {
     "end_time": "2025-06-23T11:33:55.711238Z",
     "start_time": "2025-06-23T11:33:55.706805Z"
    }
   },
   "cell_type": "code",
   "source": "",
   "id": "39499f78e6e36a4c",
   "outputs": [],
   "execution_count": null
  }
 ],
 "metadata": {
  "kernelspec": {
   "display_name": "Python 3",
   "language": "python",
   "name": "python3"
  },
  "language_info": {
   "codemirror_mode": {
    "name": "ipython",
    "version": 2
   },
   "file_extension": ".py",
   "mimetype": "text/x-python",
   "name": "python",
   "nbconvert_exporter": "python",
   "pygments_lexer": "ipython2",
   "version": "2.7.6"
  }
 },
 "nbformat": 4,
 "nbformat_minor": 5
}
