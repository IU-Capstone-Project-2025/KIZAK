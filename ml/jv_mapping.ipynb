{
 "cells": [
  {
   "metadata": {},
   "cell_type": "markdown",
   "source": [
    "\n",
    "### 1. Read & clean up data\n",
    "\n",
    "Datasets is open-source and were taken from https://huggingface.co/datasets/arkodeep/jobdata (english vacancies) and https://www.kaggle.com/datasets/vyacheslavpanteleev1/hhru-it-vacancies-from-20211025-to-20211202 (russian vacancies)"
   ],
   "id": "b523da5e64c7fc5"
  },
  {
   "metadata": {},
   "cell_type": "markdown",
   "source": [
    "\n",
    "#### 1. read\n",
    "\n",
    "We do not need all the data in the tables, so will throw out some of the columns\n"
   ],
   "id": "f8029ece1f62066d"
  },
  {
   "cell_type": "code",
   "id": "initial_id",
   "metadata": {
    "collapsed": true,
    "ExecuteTime": {
     "end_time": "2025-06-17T12:48:52.439382Z",
     "start_time": "2025-06-17T12:48:40.228234Z"
    }
   },
   "source": [
    "import pandas as pd\n",
    "\n",
    "data_en = pd.read_csv('vacancies-skills_datasets/jobs_all.csv')\n",
    "data_ru = pd.read_csv('vacancies-skills_datasets/IT_vacancies_full.csv')"
   ],
   "outputs": [],
   "execution_count": 6
  },
  {
   "metadata": {
    "ExecuteTime": {
     "end_time": "2025-06-17T12:48:52.501001Z",
     "start_time": "2025-06-17T12:48:52.458503Z"
    }
   },
   "cell_type": "code",
   "source": "data_en.columns",
   "id": "27ca819255a74d32",
   "outputs": [
    {
     "data": {
      "text/plain": [
       "Index(['job_title_short', 'job_title', 'job_location', 'job_via',\n",
       "       'job_schedule_type', 'job_work_from_home', 'search_location',\n",
       "       'job_posted_date', 'job_no_degree_mention', 'job_health_insurance',\n",
       "       'job_country', 'salary_rate', 'salary_year_avg', 'salary_hour_avg',\n",
       "       'company_name', 'job_skills', 'job_type_skills', 'key_id'],\n",
       "      dtype='object')"
      ]
     },
     "execution_count": 7,
     "metadata": {},
     "output_type": "execute_result"
    }
   ],
   "execution_count": 7
  },
  {
   "metadata": {
    "ExecuteTime": {
     "end_time": "2025-06-17T12:48:52.543599Z",
     "start_time": "2025-06-17T12:48:52.532101Z"
    }
   },
   "cell_type": "code",
   "source": "data_ru.columns",
   "id": "7cb29e3eb11a287d",
   "outputs": [
    {
     "data": {
      "text/plain": [
       "Index(['Ids', 'Employer', 'Name', 'Salary', 'From', 'To', 'Experience',\n",
       "       'Schedule', 'Keys', 'Description', 'Area', 'Professional roles',\n",
       "       'Specializations', 'Profarea names', 'Published at'],\n",
       "      dtype='object')"
      ]
     },
     "execution_count": 8,
     "metadata": {},
     "output_type": "execute_result"
    }
   ],
   "execution_count": 8
  },
  {
   "metadata": {
    "ExecuteTime": {
     "end_time": "2025-06-17T12:48:52.825389Z",
     "start_time": "2025-06-17T12:48:52.584447Z"
    }
   },
   "cell_type": "code",
   "source": [
    "data_en = data_en[['job_title_short','job_title','job_skills', 'job_type_skills']]\n",
    "data_ru = data_ru[['Name','Specializations', 'Keys']]"
   ],
   "id": "18e52568f9c2fbe8",
   "outputs": [],
   "execution_count": 9
  },
  {
   "metadata": {
    "ExecuteTime": {
     "end_time": "2025-06-17T12:48:52.890581Z",
     "start_time": "2025-06-17T12:48:52.841387Z"
    }
   },
   "cell_type": "code",
   "source": "data_en.head()",
   "id": "eb7e802570bf3dd8",
   "outputs": [
    {
     "data": {
      "text/plain": [
       "        job_title_short                                          job_title  \\\n",
       "0  Senior Data Engineer  Senior Clinical Data Engineer / Principal Clin...   \n",
       "1          Data Analyst                                       Data Analyst   \n",
       "2         Data Engineer  Data Engineer/Scientist/Analyst, Mid or Senior...   \n",
       "3         Data Engineer  LEAD ENGINEER - PRINCIPAL ANALYST - PRINCIPAL ...   \n",
       "4         Data Engineer                             Data Engineer- Sr Jobs   \n",
       "\n",
       "                                          job_skills  \\\n",
       "0                                                NaN   \n",
       "1  ['r', 'python', 'sql', 'nosql', 'power bi', 't...   \n",
       "2  ['python', 'sql', 'c#', 'azure', 'airflow', 'd...   \n",
       "3  ['python', 'c++', 'java', 'matlab', 'aws', 'te...   \n",
       "4  ['bash', 'python', 'oracle', 'aws', 'ansible',...   \n",
       "\n",
       "                                     job_type_skills  \n",
       "0                                                NaN  \n",
       "1  {'analyst_tools': ['power bi', 'tableau'], 'pr...  \n",
       "2  {'analyst_tools': ['dax'], 'cloud': ['azure'],...  \n",
       "3  {'cloud': ['aws'], 'libraries': ['tensorflow',...  \n",
       "4  {'cloud': ['oracle', 'aws'], 'other': ['ansibl...  "
      ],
      "text/html": [
       "<div>\n",
       "<style scoped>\n",
       "    .dataframe tbody tr th:only-of-type {\n",
       "        vertical-align: middle;\n",
       "    }\n",
       "\n",
       "    .dataframe tbody tr th {\n",
       "        vertical-align: top;\n",
       "    }\n",
       "\n",
       "    .dataframe thead th {\n",
       "        text-align: right;\n",
       "    }\n",
       "</style>\n",
       "<table border=\"1\" class=\"dataframe\">\n",
       "  <thead>\n",
       "    <tr style=\"text-align: right;\">\n",
       "      <th></th>\n",
       "      <th>job_title_short</th>\n",
       "      <th>job_title</th>\n",
       "      <th>job_skills</th>\n",
       "      <th>job_type_skills</th>\n",
       "    </tr>\n",
       "  </thead>\n",
       "  <tbody>\n",
       "    <tr>\n",
       "      <th>0</th>\n",
       "      <td>Senior Data Engineer</td>\n",
       "      <td>Senior Clinical Data Engineer / Principal Clin...</td>\n",
       "      <td>NaN</td>\n",
       "      <td>NaN</td>\n",
       "    </tr>\n",
       "    <tr>\n",
       "      <th>1</th>\n",
       "      <td>Data Analyst</td>\n",
       "      <td>Data Analyst</td>\n",
       "      <td>['r', 'python', 'sql', 'nosql', 'power bi', 't...</td>\n",
       "      <td>{'analyst_tools': ['power bi', 'tableau'], 'pr...</td>\n",
       "    </tr>\n",
       "    <tr>\n",
       "      <th>2</th>\n",
       "      <td>Data Engineer</td>\n",
       "      <td>Data Engineer/Scientist/Analyst, Mid or Senior...</td>\n",
       "      <td>['python', 'sql', 'c#', 'azure', 'airflow', 'd...</td>\n",
       "      <td>{'analyst_tools': ['dax'], 'cloud': ['azure'],...</td>\n",
       "    </tr>\n",
       "    <tr>\n",
       "      <th>3</th>\n",
       "      <td>Data Engineer</td>\n",
       "      <td>LEAD ENGINEER - PRINCIPAL ANALYST - PRINCIPAL ...</td>\n",
       "      <td>['python', 'c++', 'java', 'matlab', 'aws', 'te...</td>\n",
       "      <td>{'cloud': ['aws'], 'libraries': ['tensorflow',...</td>\n",
       "    </tr>\n",
       "    <tr>\n",
       "      <th>4</th>\n",
       "      <td>Data Engineer</td>\n",
       "      <td>Data Engineer- Sr Jobs</td>\n",
       "      <td>['bash', 'python', 'oracle', 'aws', 'ansible',...</td>\n",
       "      <td>{'cloud': ['oracle', 'aws'], 'other': ['ansibl...</td>\n",
       "    </tr>\n",
       "  </tbody>\n",
       "</table>\n",
       "</div>"
      ]
     },
     "execution_count": 10,
     "metadata": {},
     "output_type": "execute_result"
    }
   ],
   "execution_count": 10
  },
  {
   "metadata": {
    "ExecuteTime": {
     "end_time": "2025-06-17T12:48:52.992180Z",
     "start_time": "2025-06-17T12:48:52.960789Z"
    }
   },
   "cell_type": "code",
   "source": "data_ru.head()",
   "id": "3d4165c67e869260",
   "outputs": [
    {
     "data": {
      "text/plain": [
       "                              Name  \\\n",
       "0          Golang Developer (Кипр)   \n",
       "1                Е-mail маркетолог   \n",
       "2  Оператор call-центра (удаленно)   \n",
       "3           Ведущий SMM специалист   \n",
       "4                   UX/UI Designer   \n",
       "\n",
       "                                     Specializations  \\\n",
       "0                   ['Программирование, Разработка']   \n",
       "1                                      ['Маркетинг']   \n",
       "2  ['Маркетинг', 'Продажи по телефону, Телемаркет...   \n",
       "3  ['Управление маркетингом', 'PR, Маркетинговые ...   \n",
       "4  ['Игровое ПО', 'Программирование, Разработка',...   \n",
       "\n",
       "                                                Keys  \n",
       "0  ['Docker', 'Golang', 'Redis', 'Английский язык...  \n",
       "1  ['Грамотность', 'Написание текстов', 'Грамотна...  \n",
       "2  ['Клиентоориентированность', 'Ориентация на ре...  \n",
       "3  ['Продвижение бренда', 'Креативность', 'Adobe ...  \n",
       "4  ['UI', 'UX', 'gamedev', 'game design', 'проект...  "
      ],
      "text/html": [
       "<div>\n",
       "<style scoped>\n",
       "    .dataframe tbody tr th:only-of-type {\n",
       "        vertical-align: middle;\n",
       "    }\n",
       "\n",
       "    .dataframe tbody tr th {\n",
       "        vertical-align: top;\n",
       "    }\n",
       "\n",
       "    .dataframe thead th {\n",
       "        text-align: right;\n",
       "    }\n",
       "</style>\n",
       "<table border=\"1\" class=\"dataframe\">\n",
       "  <thead>\n",
       "    <tr style=\"text-align: right;\">\n",
       "      <th></th>\n",
       "      <th>Name</th>\n",
       "      <th>Specializations</th>\n",
       "      <th>Keys</th>\n",
       "    </tr>\n",
       "  </thead>\n",
       "  <tbody>\n",
       "    <tr>\n",
       "      <th>0</th>\n",
       "      <td>Golang Developer (Кипр)</td>\n",
       "      <td>['Программирование, Разработка']</td>\n",
       "      <td>['Docker', 'Golang', 'Redis', 'Английский язык...</td>\n",
       "    </tr>\n",
       "    <tr>\n",
       "      <th>1</th>\n",
       "      <td>Е-mail маркетолог</td>\n",
       "      <td>['Маркетинг']</td>\n",
       "      <td>['Грамотность', 'Написание текстов', 'Грамотна...</td>\n",
       "    </tr>\n",
       "    <tr>\n",
       "      <th>2</th>\n",
       "      <td>Оператор call-центра (удаленно)</td>\n",
       "      <td>['Маркетинг', 'Продажи по телефону, Телемаркет...</td>\n",
       "      <td>['Клиентоориентированность', 'Ориентация на ре...</td>\n",
       "    </tr>\n",
       "    <tr>\n",
       "      <th>3</th>\n",
       "      <td>Ведущий SMM специалист</td>\n",
       "      <td>['Управление маркетингом', 'PR, Маркетинговые ...</td>\n",
       "      <td>['Продвижение бренда', 'Креативность', 'Adobe ...</td>\n",
       "    </tr>\n",
       "    <tr>\n",
       "      <th>4</th>\n",
       "      <td>UX/UI Designer</td>\n",
       "      <td>['Игровое ПО', 'Программирование, Разработка',...</td>\n",
       "      <td>['UI', 'UX', 'gamedev', 'game design', 'проект...</td>\n",
       "    </tr>\n",
       "  </tbody>\n",
       "</table>\n",
       "</div>"
      ]
     },
     "execution_count": 11,
     "metadata": {},
     "output_type": "execute_result"
    }
   ],
   "execution_count": 11
  },
  {
   "metadata": {},
   "cell_type": "markdown",
   "source": [
    "\n",
    "#### 2. Clean up text\n",
    "\n",
    "Transfer everything to the lower register, remove Nans"
   ],
   "id": "11f164d08e1d4358"
  },
  {
   "metadata": {
    "ExecuteTime": {
     "end_time": "2025-06-17T12:48:58.691671Z",
     "start_time": "2025-06-17T12:48:53.044181Z"
    }
   },
   "cell_type": "code",
   "source": [
    "import re\n",
    "\n",
    "data_en = data_en.dropna()\n",
    "data_ru = data_ru.dropna()\n",
    "\n",
    "def clean(text):\n",
    "    try:\n",
    "        text = text.lower() #lower case\n",
    "        text = re.sub(r'[-/()]', ' ', text)\n",
    "        return text\n",
    "    except Exception as e:\n",
    "        print(text)\n",
    "\n",
    "for dataset in data_en, data_ru:\n",
    "    for col in dataset:\n",
    "        dataset[col] = dataset[col].apply(clean)\n",
    "\n"
   ],
   "id": "9c4b62654dc8df13",
   "outputs": [],
   "execution_count": 12
  },
  {
   "metadata": {
    "ExecuteTime": {
     "end_time": "2025-06-17T12:48:58.720083Z",
     "start_time": "2025-06-17T12:48:58.704626Z"
    }
   },
   "cell_type": "code",
   "source": "print(data_en.head())",
   "id": "3a7125f9cfc7c6f3",
   "outputs": [
    {
     "name": "stdout",
     "output_type": "stream",
     "text": [
      "  job_title_short                                          job_title  \\\n",
      "1    data analyst                                       data analyst   \n",
      "2   data engineer  data engineer scientist analyst, mid or senior...   \n",
      "3   data engineer  lead engineer   principal analyst   principal ...   \n",
      "4   data engineer                             data engineer  sr jobs   \n",
      "5   data engineer                                  gcp data engineer   \n",
      "\n",
      "                                          job_skills  \\\n",
      "1  ['r', 'python', 'sql', 'nosql', 'power bi', 't...   \n",
      "2  ['python', 'sql', 'c#', 'azure', 'airflow', 'd...   \n",
      "3  ['python', 'c++', 'java', 'matlab', 'aws', 'te...   \n",
      "4  ['bash', 'python', 'oracle', 'aws', 'ansible',...   \n",
      "5                           ['python', 'sql', 'gcp']   \n",
      "\n",
      "                                     job_type_skills  \n",
      "1  {'analyst_tools': ['power bi', 'tableau'], 'pr...  \n",
      "2  {'analyst_tools': ['dax'], 'cloud': ['azure'],...  \n",
      "3  {'cloud': ['aws'], 'libraries': ['tensorflow',...  \n",
      "4  {'cloud': ['oracle', 'aws'], 'other': ['ansibl...  \n",
      "5  {'cloud': ['gcp'], 'programming': ['python', '...  \n"
     ]
    }
   ],
   "execution_count": 13
  },
  {
   "metadata": {},
   "cell_type": "markdown",
   "source": [
    "\n",
    "#### 3. tokenize & lemmatize\n",
    "\n",
    "Tried spacy, then stanza (take too long). Now trying spacy again :)\n"
   ],
   "id": "4ce47556ca2b1f02"
  },
  {
   "metadata": {
    "ExecuteTime": {
     "end_time": "2025-06-17T12:49:01.900885Z",
     "start_time": "2025-06-17T12:48:58.747086Z"
    }
   },
   "cell_type": "code",
   "source": [
    "import spacy\n",
    "\n",
    "nlp_en = spacy.load(\"en_core_web_sm\")\n",
    "nlp_ru = spacy.load(\"ru_core_news_sm\")"
   ],
   "id": "8894aab0f91ea104",
   "outputs": [],
   "execution_count": 14
  },
  {
   "metadata": {
    "ExecuteTime": {
     "end_time": "2025-06-17T12:49:01.917276Z",
     "start_time": "2025-06-17T12:49:01.909888Z"
    }
   },
   "cell_type": "code",
   "source": [
    "# import stanza\n",
    "#\n",
    "# stanza.download('en')\n",
    "# stanza.download('ru')\n",
    "#\n",
    "# nlp_en = stanza.Pipeline('en', processors='tokenize,mwt,pos,lemma', use_gpu=False)\n",
    "# nlp_ru = stanza.Pipeline('ru', processors='tokenize,pos,lemma', use_gpu=False)\n"
   ],
   "id": "eda0284b8f3beaa6",
   "outputs": [],
   "execution_count": 15
  },
  {
   "metadata": {
    "ExecuteTime": {
     "end_time": "2025-06-17T12:49:01.949273Z",
     "start_time": "2025-06-17T12:49:01.937270Z"
    }
   },
   "cell_type": "code",
   "source": [
    "def lemmatize_bulk(texts, nlp):\n",
    "    docs = nlp.pipe(texts, batch_size=1000, disable=['ner'])\n",
    "    return [\" \".join([token.lemma_ for token in doc if not token.is_punct and not token.is_space and not token.like_num]) for doc in docs]\n",
    "\n",
    "\n",
    "def lemmatize_list_bulk(items, nlp):\n",
    "    return lemmatize_bulk(items, nlp)\n",
    "\n",
    "def process_df(pdf, nlp, title_field='job_title', skills_field='job_skills'):\n",
    "    pdf = pdf.copy()\n",
    "    print('starting lemmatization of job titles')\n",
    "    pdf[f'{title_field}_lemma'] = lemmatize_bulk(pdf[title_field].tolist(), nlp)\n",
    "\n",
    "    print('starting lemmatization of skills')\n",
    "    skills = [item for sublist in pdf[skills_field] for item in sublist]\n",
    "    lemmatized_skills = lemmatize_bulk(skills, nlp)\n",
    "\n",
    "    idx = 0\n",
    "    lemmatized_skill_groups = []\n",
    "    for skills in pdf[skills_field]:\n",
    "        length = len(skills)\n",
    "        lemmatized_skill_groups.append(lemmatized_skills[idx:idx + length])\n",
    "        idx += length\n",
    "\n",
    "    pdf[f'{skills_field}_lemma'] = lemmatized_skill_groups\n",
    "\n",
    "    return pdf\n"
   ],
   "id": "3ec64f9415283309",
   "outputs": [],
   "execution_count": 16
  },
  {
   "metadata": {
    "ExecuteTime": {
     "end_time": "2025-06-17T20:37:37.331975Z",
     "start_time": "2025-06-17T20:06:38.138591Z"
    }
   },
   "cell_type": "code",
   "source": [
    "data_en_lemmatized = process_df(data_en, nlp_en)\n",
    "data_en_lemmatized.head()"
   ],
   "id": "270e24e636dda295",
   "outputs": [
    {
     "name": "stdout",
     "output_type": "stream",
     "text": [
      "starting lemmatization of job titles\n",
      "starting lemmatization of skills\n"
     ]
    },
    {
     "data": {
      "text/plain": [
       "  job_title_short                                          job_title  \\\n",
       "1    data analyst                                       data analyst   \n",
       "2   data engineer  data engineer scientist analyst, mid or senior...   \n",
       "3   data engineer  lead engineer   principal analyst   principal ...   \n",
       "4   data engineer                             data engineer  sr jobs   \n",
       "5   data engineer                                  gcp data engineer   \n",
       "\n",
       "                                          job_skills  \\\n",
       "1         [r, python, sql, nosql, power bi, tableau]   \n",
       "2  [python, sql, c#, azure, airflow, dax, docker,...   \n",
       "3  [python, c++, java, matlab, aws, tensorflow, k...   \n",
       "4  [bash, python, oracle, aws, ansible, puppet, j...   \n",
       "5                                 [python, sql, gcp]   \n",
       "\n",
       "                                     job_type_skills  \\\n",
       "1  {'analyst_tools': ['power bi', 'tableau'], 'pr...   \n",
       "2  {'analyst_tools': ['dax'], 'cloud': ['azure'],...   \n",
       "3  {'cloud': ['aws'], 'libraries': ['tensorflow',...   \n",
       "4  {'cloud': ['oracle', 'aws'], 'other': ['ansibl...   \n",
       "5  {'cloud': ['gcp'], 'programming': ['python', '...   \n",
       "\n",
       "                                     job_title_lemma  \\\n",
       "1                                       data analyst   \n",
       "2  data engineer scientist analyst , mid or senio...   \n",
       "3  lead engineer    principal analyst    principa...   \n",
       "4                             data engineer   sr job   \n",
       "5                                  gcp data engineer   \n",
       "\n",
       "                                    job_skills_lemma  \n",
       "1         [r, python, sql, nosql, power bi, tableau]  \n",
       "2  [python, sql, c #, azure, airflow, dax, docker...  \n",
       "3  [python, c++, java, matlab, aw, tensorflow, ke...  \n",
       "4  [bash, python, oracle, aw, ansible, puppet, je...  \n",
       "5                                 [python, sql, gcp]  "
      ],
      "text/html": [
       "<div>\n",
       "<style scoped>\n",
       "    .dataframe tbody tr th:only-of-type {\n",
       "        vertical-align: middle;\n",
       "    }\n",
       "\n",
       "    .dataframe tbody tr th {\n",
       "        vertical-align: top;\n",
       "    }\n",
       "\n",
       "    .dataframe thead th {\n",
       "        text-align: right;\n",
       "    }\n",
       "</style>\n",
       "<table border=\"1\" class=\"dataframe\">\n",
       "  <thead>\n",
       "    <tr style=\"text-align: right;\">\n",
       "      <th></th>\n",
       "      <th>job_title_short</th>\n",
       "      <th>job_title</th>\n",
       "      <th>job_skills</th>\n",
       "      <th>job_type_skills</th>\n",
       "      <th>job_title_lemma</th>\n",
       "      <th>job_skills_lemma</th>\n",
       "    </tr>\n",
       "  </thead>\n",
       "  <tbody>\n",
       "    <tr>\n",
       "      <th>1</th>\n",
       "      <td>data analyst</td>\n",
       "      <td>data analyst</td>\n",
       "      <td>[r, python, sql, nosql, power bi, tableau]</td>\n",
       "      <td>{'analyst_tools': ['power bi', 'tableau'], 'pr...</td>\n",
       "      <td>data analyst</td>\n",
       "      <td>[r, python, sql, nosql, power bi, tableau]</td>\n",
       "    </tr>\n",
       "    <tr>\n",
       "      <th>2</th>\n",
       "      <td>data engineer</td>\n",
       "      <td>data engineer scientist analyst, mid or senior...</td>\n",
       "      <td>[python, sql, c#, azure, airflow, dax, docker,...</td>\n",
       "      <td>{'analyst_tools': ['dax'], 'cloud': ['azure'],...</td>\n",
       "      <td>data engineer scientist analyst , mid or senio...</td>\n",
       "      <td>[python, sql, c #, azure, airflow, dax, docker...</td>\n",
       "    </tr>\n",
       "    <tr>\n",
       "      <th>3</th>\n",
       "      <td>data engineer</td>\n",
       "      <td>lead engineer   principal analyst   principal ...</td>\n",
       "      <td>[python, c++, java, matlab, aws, tensorflow, k...</td>\n",
       "      <td>{'cloud': ['aws'], 'libraries': ['tensorflow',...</td>\n",
       "      <td>lead engineer    principal analyst    principa...</td>\n",
       "      <td>[python, c++, java, matlab, aw, tensorflow, ke...</td>\n",
       "    </tr>\n",
       "    <tr>\n",
       "      <th>4</th>\n",
       "      <td>data engineer</td>\n",
       "      <td>data engineer  sr jobs</td>\n",
       "      <td>[bash, python, oracle, aws, ansible, puppet, j...</td>\n",
       "      <td>{'cloud': ['oracle', 'aws'], 'other': ['ansibl...</td>\n",
       "      <td>data engineer   sr job</td>\n",
       "      <td>[bash, python, oracle, aw, ansible, puppet, je...</td>\n",
       "    </tr>\n",
       "    <tr>\n",
       "      <th>5</th>\n",
       "      <td>data engineer</td>\n",
       "      <td>gcp data engineer</td>\n",
       "      <td>[python, sql, gcp]</td>\n",
       "      <td>{'cloud': ['gcp'], 'programming': ['python', '...</td>\n",
       "      <td>gcp data engineer</td>\n",
       "      <td>[python, sql, gcp]</td>\n",
       "    </tr>\n",
       "  </tbody>\n",
       "</table>\n",
       "</div>"
      ]
     },
     "execution_count": 27,
     "metadata": {},
     "output_type": "execute_result"
    }
   ],
   "execution_count": 27
  },
  {
   "metadata": {
    "jupyter": {
     "is_executing": true
    },
    "ExecuteTime": {
     "start_time": "2025-06-17T20:37:37.437074Z"
    }
   },
   "cell_type": "code",
   "source": [
    "data_ru_lemmatized = process_df(data_ru, nlp_ru, title_field='Name', skills_field='Keys')\n",
    "data_ru_lemmatized.head()"
   ],
   "id": "2164d6b35278a3c9",
   "outputs": [
    {
     "name": "stdout",
     "output_type": "stream",
     "text": [
      "starting lemmatization of job titles\n"
     ]
    }
   ],
   "execution_count": null
  },
  {
   "metadata": {
    "ExecuteTime": {
     "end_time": "2025-06-17T19:50:10.594358Z",
     "start_time": "2025-06-17T19:49:51.845825Z"
    }
   },
   "cell_type": "code",
   "source": [
    "data_en_lemmatized.to_csv('vacancies-skills_datasets/en.csv', index=False)\n",
    "data_ru_lemmatized.to_csv('vacancies-skills_datasets/ru.csv', index=False)"
   ],
   "id": "c98b214504b99292",
   "outputs": [],
   "execution_count": 19
  },
  {
   "metadata": {
    "ExecuteTime": {
     "end_time": "2025-06-17T20:03:34.830822Z",
     "start_time": "2025-06-17T20:03:34.741163Z"
    }
   },
   "cell_type": "code",
   "source": "data_ru_lemmatized[\"Name\"].apply(type).value_counts()\n",
   "id": "c3eb19524c6396e4",
   "outputs": [
    {
     "data": {
      "text/plain": [
       "Name\n",
       "<class 'str'>    48564\n",
       "Name: count, dtype: int64"
      ]
     },
     "execution_count": 25,
     "metadata": {},
     "output_type": "execute_result"
    }
   ],
   "execution_count": 25
  },
  {
   "metadata": {},
   "cell_type": "markdown",
   "source": "No correct lemmatization since wrong format of data :(",
   "id": "f36f30ee679e35c3"
  },
  {
   "metadata": {},
   "cell_type": "code",
   "source": [
    "import ast\n",
    "\n",
    "data_en[\"job_skills\"] = data_en[\"job_skills\"].apply(ast.literal_eval)\n",
    "data_ru[\"Keys\"] = data_ru[\"Keys\"].apply(ast.literal_eval)"
   ],
   "id": "2a48842e95321c7a",
   "outputs": [],
   "execution_count": null
  },
  {
   "metadata": {},
   "cell_type": "code",
   "outputs": [],
   "execution_count": null,
   "source": "",
   "id": "ad45ac05cca9061e"
  },
  {
   "metadata": {},
   "cell_type": "markdown",
   "source": [
    "#### 3.2 plan b\n",
    "\n",
    "Цель:\n",
    "\n",
    "Сгруппировать вакансии с похожими названиями (на русском и английском, с разным порядком слов) и для каждой группы собрать топ-скиллов.\n",
    "1. Предобработка текста вакансий и скиллов\n",
    "\n",
    "    Очистка и нормализация текста:\n",
    "\n",
    "        Привести к нижнему регистру (lowercase).\n",
    "\n",
    "        Убрать пунктуацию и спецсимволы.\n",
    "\n",
    "        Убрать лишние пробелы.\n",
    "\n",
    "        Заменить числа на пустоту или единый токен.\n",
    "\n",
    "        Заменить синонимы и вариации вручную (например, “разработчик python” = “python разработчик” = “python developer”).\n",
    "\n",
    "    Почему?\n",
    "    Убираем шум и стандартизируем, чтобы простые текстовые сравнения были эффективнее.\n",
    "\n",
    "2. Представление вакансий числовыми векторами (эмбеддингами)\n",
    "\n",
    "    Использовать предобученные языковые модели с мультилингвальной поддержкой:\n",
    "\n",
    "        Multilingual Sentence Transformers (например, sentence-transformers/paraphrase-multilingual-MiniLM) — создают вектор для каждого текста (названия вакансии).\n",
    "\n",
    "        Или простые TF-IDF векторы для быстрой проверки (хотя хуже по смыслу).\n",
    "\n",
    "    Почему?\n",
    "    Чтобы понять не просто точное совпадение текста, а смысловую близость, даже если порядок слов разный или часть слов отличается.\n",
    "\n",
    "3. Кластеризация вакансий по смыслу\n",
    "\n",
    "    Применить кластеризацию к эмбеддингам вакансий:\n",
    "\n",
    "        Алгоритмы: DBSCAN, HDBSCAN (не требует заранее задавать число кластеров, умеет выделять шум).\n",
    "\n",
    "        Или Agglomerative Clustering с порогом расстояния.\n",
    "\n",
    "    Почему?\n",
    "    Чтобы автоматически сгруппировать похожие вакансии вместе (например, все варианты \"python developer\" в один кластер).\n",
    "\n",
    "4. Обработка скиллов в каждой группе\n",
    "\n",
    "    Для каждой группы вакансий собрать все скиллы из вакансий этого кластера.\n",
    "\n",
    "    Подсчитать частоту каждого скилла.\n",
    "\n",
    "    Отсортировать по убыванию и выбрать топ N (например, топ 10).\n",
    "\n",
    "    Можно применить ту же очистку скиллов, как в пункте 1 (привести к нижнему регистру, убрать лишние символы).\n",
    "\n",
    "5. Проверка и корректировка результатов\n",
    "\n",
    "    Проанализировать образовавшиеся кластеры.\n",
    "\n",
    "    При необходимости вручную добавить синонимы в словарь для замены.\n",
    "\n",
    "    Проверить топ-скиллы — убрать слишком общие, нерелевантные.\n",
    "\n",
    "Итог:\n",
    "Вакансия (кластер)\tТоп-скиллы\n",
    "python developer / питон разработчик\tpython, django, sql, git, ...\n",
    "data analyst / аналитик данных\tsql, tableau, excel, power bi\n",
    "Инструменты:\n",
    "\n",
    "    Python: pandas, numpy\n",
    "\n",
    "    Очистка текста: re, str.lower(), словари для замены\n",
    "\n",
    "    Векторизация: sentence-transformers, scikit-learn (TF-IDF)\n",
    "\n",
    "    Кластеризация: hdbscan, sklearn.cluster\n",
    "\n",
    "    Подсчёт частот: collections.Counter или pandas.Series.value_counts()\n",
    "\n"
   ],
   "id": "2aa483f4f9ec9da2"
  },
  {
   "metadata": {},
   "cell_type": "code",
   "outputs": [],
   "execution_count": null,
   "source": "# todo: plan b :)",
   "id": "f4993674991a406e"
  },
  {
   "metadata": {},
   "cell_type": "code",
   "outputs": [],
   "execution_count": null,
   "source": "",
   "id": "bca5597014b6977"
  }
 ],
 "metadata": {
  "kernelspec": {
   "display_name": "Python 3",
   "language": "python",
   "name": "python3"
  },
  "language_info": {
   "codemirror_mode": {
    "name": "ipython",
    "version": 2
   },
   "file_extension": ".py",
   "mimetype": "text/x-python",
   "name": "python",
   "nbconvert_exporter": "python",
   "pygments_lexer": "ipython2",
   "version": "2.7.6"
  }
 },
 "nbformat": 4,
 "nbformat_minor": 5
}
