{
 "cells": [
  {
   "metadata": {},
   "cell_type": "markdown",
   "source": [
    "\n",
    "### 1. Read & clean up data\n",
    "\n",
    "Datasets is open-source and were taken from https://huggingface.co/datasets/arkodeep/jobdata (english vacancies) and https://www.kaggle.com/datasets/vyacheslavpanteleev1/hhru-it-vacancies-from-20211025-to-20211202 (russian vacancies)"
   ],
   "id": "b523da5e64c7fc5"
  },
  {
   "metadata": {},
   "cell_type": "markdown",
   "source": [
    "\n",
    "#### 1. Read\n",
    "\n",
    "We do not need all the data in the tables, so will throw out some (most) of the columns. Also it is good idea to combine datasets\n"
   ],
   "id": "f8029ece1f62066d"
  },
  {
   "cell_type": "code",
   "id": "initial_id",
   "metadata": {
    "collapsed": true,
    "ExecuteTime": {
     "end_time": "2025-06-23T14:49:21.335412Z",
     "start_time": "2025-06-23T14:49:03.483190Z"
    }
   },
   "source": [
    "import pandas as pd\n",
    "\n",
    "data_en = pd.read_csv('vacancies-skills_datasets/jobs_all.csv')\n",
    "data_ru = pd.read_csv('vacancies-skills_datasets/IT_vacancies_full.csv')"
   ],
   "outputs": [],
   "execution_count": 2
  },
  {
   "metadata": {
    "ExecuteTime": {
     "end_time": "2025-06-23T14:49:21.376348Z",
     "start_time": "2025-06-23T14:49:21.358421Z"
    }
   },
   "cell_type": "code",
   "source": "data_en.columns",
   "id": "27ca819255a74d32",
   "outputs": [
    {
     "data": {
      "text/plain": [
       "Index(['job_title_short', 'job_title', 'job_location', 'job_via',\n",
       "       'job_schedule_type', 'job_work_from_home', 'search_location',\n",
       "       'job_posted_date', 'job_no_degree_mention', 'job_health_insurance',\n",
       "       'job_country', 'salary_rate', 'salary_year_avg', 'salary_hour_avg',\n",
       "       'company_name', 'job_skills', 'job_type_skills', 'key_id'],\n",
       "      dtype='object')"
      ]
     },
     "execution_count": 3,
     "metadata": {},
     "output_type": "execute_result"
    }
   ],
   "execution_count": 3
  },
  {
   "metadata": {
    "ExecuteTime": {
     "end_time": "2025-06-23T14:49:21.453649Z",
     "start_time": "2025-06-23T14:49:21.441361Z"
    }
   },
   "cell_type": "code",
   "source": "data_ru.columns",
   "id": "7cb29e3eb11a287d",
   "outputs": [
    {
     "data": {
      "text/plain": [
       "Index(['Ids', 'Employer', 'Name', 'Salary', 'From', 'To', 'Experience',\n",
       "       'Schedule', 'Keys', 'Description', 'Area', 'Professional roles',\n",
       "       'Specializations', 'Profarea names', 'Published at'],\n",
       "      dtype='object')"
      ]
     },
     "execution_count": 4,
     "metadata": {},
     "output_type": "execute_result"
    }
   ],
   "execution_count": 4
  },
  {
   "metadata": {
    "ExecuteTime": {
     "end_time": "2025-06-23T14:49:21.875222Z",
     "start_time": "2025-06-23T14:49:21.549824Z"
    }
   },
   "cell_type": "code",
   "source": [
    "data_en = data_en[['job_title','job_skills']]\n",
    "data_ru = data_ru[['Name','Keys']]"
   ],
   "id": "18e52568f9c2fbe8",
   "outputs": [],
   "execution_count": 5
  },
  {
   "metadata": {
    "ExecuteTime": {
     "end_time": "2025-06-23T14:49:21.970506Z",
     "start_time": "2025-06-23T14:49:21.921830Z"
    }
   },
   "cell_type": "code",
   "source": "data_en.head()",
   "id": "eb7e802570bf3dd8",
   "outputs": [
    {
     "data": {
      "text/plain": [
       "                                           job_title  \\\n",
       "0  Senior Clinical Data Engineer / Principal Clin...   \n",
       "1                                       Data Analyst   \n",
       "2  Data Engineer/Scientist/Analyst, Mid or Senior...   \n",
       "3  LEAD ENGINEER - PRINCIPAL ANALYST - PRINCIPAL ...   \n",
       "4                             Data Engineer- Sr Jobs   \n",
       "\n",
       "                                          job_skills  \n",
       "0                                                NaN  \n",
       "1  ['r', 'python', 'sql', 'nosql', 'power bi', 't...  \n",
       "2  ['python', 'sql', 'c#', 'azure', 'airflow', 'd...  \n",
       "3  ['python', 'c++', 'java', 'matlab', 'aws', 'te...  \n",
       "4  ['bash', 'python', 'oracle', 'aws', 'ansible',...  "
      ],
      "text/html": [
       "<div>\n",
       "<style scoped>\n",
       "    .dataframe tbody tr th:only-of-type {\n",
       "        vertical-align: middle;\n",
       "    }\n",
       "\n",
       "    .dataframe tbody tr th {\n",
       "        vertical-align: top;\n",
       "    }\n",
       "\n",
       "    .dataframe thead th {\n",
       "        text-align: right;\n",
       "    }\n",
       "</style>\n",
       "<table border=\"1\" class=\"dataframe\">\n",
       "  <thead>\n",
       "    <tr style=\"text-align: right;\">\n",
       "      <th></th>\n",
       "      <th>job_title</th>\n",
       "      <th>job_skills</th>\n",
       "    </tr>\n",
       "  </thead>\n",
       "  <tbody>\n",
       "    <tr>\n",
       "      <th>0</th>\n",
       "      <td>Senior Clinical Data Engineer / Principal Clin...</td>\n",
       "      <td>NaN</td>\n",
       "    </tr>\n",
       "    <tr>\n",
       "      <th>1</th>\n",
       "      <td>Data Analyst</td>\n",
       "      <td>['r', 'python', 'sql', 'nosql', 'power bi', 't...</td>\n",
       "    </tr>\n",
       "    <tr>\n",
       "      <th>2</th>\n",
       "      <td>Data Engineer/Scientist/Analyst, Mid or Senior...</td>\n",
       "      <td>['python', 'sql', 'c#', 'azure', 'airflow', 'd...</td>\n",
       "    </tr>\n",
       "    <tr>\n",
       "      <th>3</th>\n",
       "      <td>LEAD ENGINEER - PRINCIPAL ANALYST - PRINCIPAL ...</td>\n",
       "      <td>['python', 'c++', 'java', 'matlab', 'aws', 'te...</td>\n",
       "    </tr>\n",
       "    <tr>\n",
       "      <th>4</th>\n",
       "      <td>Data Engineer- Sr Jobs</td>\n",
       "      <td>['bash', 'python', 'oracle', 'aws', 'ansible',...</td>\n",
       "    </tr>\n",
       "  </tbody>\n",
       "</table>\n",
       "</div>"
      ]
     },
     "execution_count": 6,
     "metadata": {},
     "output_type": "execute_result"
    }
   ],
   "execution_count": 6
  },
  {
   "metadata": {
    "ExecuteTime": {
     "end_time": "2025-06-23T14:49:22.111280Z",
     "start_time": "2025-06-23T14:49:22.076527Z"
    }
   },
   "cell_type": "code",
   "source": "data_ru.head()",
   "id": "3d4165c67e869260",
   "outputs": [
    {
     "data": {
      "text/plain": [
       "                              Name  \\\n",
       "0          Golang Developer (Кипр)   \n",
       "1                Е-mail маркетолог   \n",
       "2  Оператор call-центра (удаленно)   \n",
       "3           Ведущий SMM специалист   \n",
       "4                   UX/UI Designer   \n",
       "\n",
       "                                                Keys  \n",
       "0  ['Docker', 'Golang', 'Redis', 'Английский язык...  \n",
       "1  ['Грамотность', 'Написание текстов', 'Грамотна...  \n",
       "2  ['Клиентоориентированность', 'Ориентация на ре...  \n",
       "3  ['Продвижение бренда', 'Креативность', 'Adobe ...  \n",
       "4  ['UI', 'UX', 'gamedev', 'game design', 'проект...  "
      ],
      "text/html": [
       "<div>\n",
       "<style scoped>\n",
       "    .dataframe tbody tr th:only-of-type {\n",
       "        vertical-align: middle;\n",
       "    }\n",
       "\n",
       "    .dataframe tbody tr th {\n",
       "        vertical-align: top;\n",
       "    }\n",
       "\n",
       "    .dataframe thead th {\n",
       "        text-align: right;\n",
       "    }\n",
       "</style>\n",
       "<table border=\"1\" class=\"dataframe\">\n",
       "  <thead>\n",
       "    <tr style=\"text-align: right;\">\n",
       "      <th></th>\n",
       "      <th>Name</th>\n",
       "      <th>Keys</th>\n",
       "    </tr>\n",
       "  </thead>\n",
       "  <tbody>\n",
       "    <tr>\n",
       "      <th>0</th>\n",
       "      <td>Golang Developer (Кипр)</td>\n",
       "      <td>['Docker', 'Golang', 'Redis', 'Английский язык...</td>\n",
       "    </tr>\n",
       "    <tr>\n",
       "      <th>1</th>\n",
       "      <td>Е-mail маркетолог</td>\n",
       "      <td>['Грамотность', 'Написание текстов', 'Грамотна...</td>\n",
       "    </tr>\n",
       "    <tr>\n",
       "      <th>2</th>\n",
       "      <td>Оператор call-центра (удаленно)</td>\n",
       "      <td>['Клиентоориентированность', 'Ориентация на ре...</td>\n",
       "    </tr>\n",
       "    <tr>\n",
       "      <th>3</th>\n",
       "      <td>Ведущий SMM специалист</td>\n",
       "      <td>['Продвижение бренда', 'Креативность', 'Adobe ...</td>\n",
       "    </tr>\n",
       "    <tr>\n",
       "      <th>4</th>\n",
       "      <td>UX/UI Designer</td>\n",
       "      <td>['UI', 'UX', 'gamedev', 'game design', 'проект...</td>\n",
       "    </tr>\n",
       "  </tbody>\n",
       "</table>\n",
       "</div>"
      ]
     },
     "execution_count": 7,
     "metadata": {},
     "output_type": "execute_result"
    }
   ],
   "execution_count": 7
  },
  {
   "metadata": {
    "ExecuteTime": {
     "end_time": "2025-06-23T14:49:22.388196Z",
     "start_time": "2025-06-23T14:49:22.231325Z"
    }
   },
   "cell_type": "code",
   "source": [
    "data_ru.rename(columns = {'Name': 'job_title', 'Keys': 'job_skills'}, inplace = True)\n",
    "\n",
    "data_combined = pd.concat([data_en, data_ru], ignore_index=True)\n",
    "data_combined.head()"
   ],
   "id": "4ef2ab8090a283ac",
   "outputs": [
    {
     "data": {
      "text/plain": [
       "                                           job_title  \\\n",
       "0  Senior Clinical Data Engineer / Principal Clin...   \n",
       "1                                       Data Analyst   \n",
       "2  Data Engineer/Scientist/Analyst, Mid or Senior...   \n",
       "3  LEAD ENGINEER - PRINCIPAL ANALYST - PRINCIPAL ...   \n",
       "4                             Data Engineer- Sr Jobs   \n",
       "\n",
       "                                          job_skills  \n",
       "0                                                NaN  \n",
       "1  ['r', 'python', 'sql', 'nosql', 'power bi', 't...  \n",
       "2  ['python', 'sql', 'c#', 'azure', 'airflow', 'd...  \n",
       "3  ['python', 'c++', 'java', 'matlab', 'aws', 'te...  \n",
       "4  ['bash', 'python', 'oracle', 'aws', 'ansible',...  "
      ],
      "text/html": [
       "<div>\n",
       "<style scoped>\n",
       "    .dataframe tbody tr th:only-of-type {\n",
       "        vertical-align: middle;\n",
       "    }\n",
       "\n",
       "    .dataframe tbody tr th {\n",
       "        vertical-align: top;\n",
       "    }\n",
       "\n",
       "    .dataframe thead th {\n",
       "        text-align: right;\n",
       "    }\n",
       "</style>\n",
       "<table border=\"1\" class=\"dataframe\">\n",
       "  <thead>\n",
       "    <tr style=\"text-align: right;\">\n",
       "      <th></th>\n",
       "      <th>job_title</th>\n",
       "      <th>job_skills</th>\n",
       "    </tr>\n",
       "  </thead>\n",
       "  <tbody>\n",
       "    <tr>\n",
       "      <th>0</th>\n",
       "      <td>Senior Clinical Data Engineer / Principal Clin...</td>\n",
       "      <td>NaN</td>\n",
       "    </tr>\n",
       "    <tr>\n",
       "      <th>1</th>\n",
       "      <td>Data Analyst</td>\n",
       "      <td>['r', 'python', 'sql', 'nosql', 'power bi', 't...</td>\n",
       "    </tr>\n",
       "    <tr>\n",
       "      <th>2</th>\n",
       "      <td>Data Engineer/Scientist/Analyst, Mid or Senior...</td>\n",
       "      <td>['python', 'sql', 'c#', 'azure', 'airflow', 'd...</td>\n",
       "    </tr>\n",
       "    <tr>\n",
       "      <th>3</th>\n",
       "      <td>LEAD ENGINEER - PRINCIPAL ANALYST - PRINCIPAL ...</td>\n",
       "      <td>['python', 'c++', 'java', 'matlab', 'aws', 'te...</td>\n",
       "    </tr>\n",
       "    <tr>\n",
       "      <th>4</th>\n",
       "      <td>Data Engineer- Sr Jobs</td>\n",
       "      <td>['bash', 'python', 'oracle', 'aws', 'ansible',...</td>\n",
       "    </tr>\n",
       "  </tbody>\n",
       "</table>\n",
       "</div>"
      ]
     },
     "execution_count": 8,
     "metadata": {},
     "output_type": "execute_result"
    }
   ],
   "execution_count": 8
  },
  {
   "metadata": {},
   "cell_type": "markdown",
   "source": [
    "\n",
    "#### 2. Clean up text\n",
    "\n",
    "Transfer everything to the lower register, remove Nans and excess punctiation, convert skills into arrays etc"
   ],
   "id": "11f164d08e1d4358"
  },
  {
   "metadata": {
    "ExecuteTime": {
     "end_time": "2025-06-23T14:50:46.024071Z",
     "start_time": "2025-06-23T14:49:22.563189Z"
    }
   },
   "cell_type": "code",
   "source": [
    "import re\n",
    "import ast\n",
    "\n",
    "data_combined = data_combined.dropna()\n",
    "data_combined['job_skills'] = data_combined['job_skills'].apply(ast.literal_eval)\n",
    "\n",
    "def clean_text(text):\n",
    "    text = text.lower()\n",
    "    text = re.sub(r'[-/()]', ' ', text)\n",
    "    text = re.sub(r'[^a-zA-Zа-яА-Я0-9+#+.]', ' ', text)\n",
    "    text = re.sub(r'\\b\\d+\\b', '', text)\n",
    "    text = re.sub(r'\\s+', ' ', text).strip()\n",
    "    return text\n",
    "\n",
    "def clean_cell(cell):\n",
    "    if isinstance(cell, list):\n",
    "        return [clean_text(item) for item in cell if isinstance(item, str)]\n",
    "    elif isinstance(cell, str):\n",
    "        return clean_text(cell)\n",
    "    else:\n",
    "        return cell\n",
    "\n",
    "for col in data_combined.columns:\n",
    "    data_combined[col] = data_combined[col].apply(clean_cell)\n"
   ],
   "id": "9c4b62654dc8df13",
   "outputs": [],
   "execution_count": 9
  },
  {
   "metadata": {
    "ExecuteTime": {
     "end_time": "2025-06-23T14:50:46.141447Z",
     "start_time": "2025-06-23T14:50:46.101637Z"
    }
   },
   "cell_type": "code",
   "source": "data_combined.head(10)",
   "id": "3a7125f9cfc7c6f3",
   "outputs": [
    {
     "data": {
      "text/plain": [
       "                                            job_title  \\\n",
       "1                                        data analyst   \n",
       "2   data engineer scientist analyst mid or senior ...   \n",
       "3   lead engineer principal analyst principal engi...   \n",
       "4                               data engineer sr jobs   \n",
       "5                                   gcp data engineer   \n",
       "6                      senior data engineer gcp cloud   \n",
       "7                                       data engineer   \n",
       "8              technology operations business analyst   \n",
       "9                                   data scientist ii   \n",
       "10                 erfahrene r data engineer in m w d   \n",
       "\n",
       "                                           job_skills  \n",
       "1          [r, python, sql, nosql, power bi, tableau]  \n",
       "2   [python, sql, c#, azure, airflow, dax, docker,...  \n",
       "3   [python, c++, java, matlab, aws, tensorflow, k...  \n",
       "4   [bash, python, oracle, aws, ansible, puppet, j...  \n",
       "5                                  [python, sql, gcp]  \n",
       "6   [sql, python, java, sql server, gcp, bigquery,...  \n",
       "7   [sql, nosql, gcp, azure, aws, bigquery, databr...  \n",
       "8                       [excel, powerpoint, power bi]  \n",
       "9   [sql, python, r, mongodb, mongodb, sql server,...  \n",
       "10                 [python, databricks, azure, spark]  "
      ],
      "text/html": [
       "<div>\n",
       "<style scoped>\n",
       "    .dataframe tbody tr th:only-of-type {\n",
       "        vertical-align: middle;\n",
       "    }\n",
       "\n",
       "    .dataframe tbody tr th {\n",
       "        vertical-align: top;\n",
       "    }\n",
       "\n",
       "    .dataframe thead th {\n",
       "        text-align: right;\n",
       "    }\n",
       "</style>\n",
       "<table border=\"1\" class=\"dataframe\">\n",
       "  <thead>\n",
       "    <tr style=\"text-align: right;\">\n",
       "      <th></th>\n",
       "      <th>job_title</th>\n",
       "      <th>job_skills</th>\n",
       "    </tr>\n",
       "  </thead>\n",
       "  <tbody>\n",
       "    <tr>\n",
       "      <th>1</th>\n",
       "      <td>data analyst</td>\n",
       "      <td>[r, python, sql, nosql, power bi, tableau]</td>\n",
       "    </tr>\n",
       "    <tr>\n",
       "      <th>2</th>\n",
       "      <td>data engineer scientist analyst mid or senior ...</td>\n",
       "      <td>[python, sql, c#, azure, airflow, dax, docker,...</td>\n",
       "    </tr>\n",
       "    <tr>\n",
       "      <th>3</th>\n",
       "      <td>lead engineer principal analyst principal engi...</td>\n",
       "      <td>[python, c++, java, matlab, aws, tensorflow, k...</td>\n",
       "    </tr>\n",
       "    <tr>\n",
       "      <th>4</th>\n",
       "      <td>data engineer sr jobs</td>\n",
       "      <td>[bash, python, oracle, aws, ansible, puppet, j...</td>\n",
       "    </tr>\n",
       "    <tr>\n",
       "      <th>5</th>\n",
       "      <td>gcp data engineer</td>\n",
       "      <td>[python, sql, gcp]</td>\n",
       "    </tr>\n",
       "    <tr>\n",
       "      <th>6</th>\n",
       "      <td>senior data engineer gcp cloud</td>\n",
       "      <td>[sql, python, java, sql server, gcp, bigquery,...</td>\n",
       "    </tr>\n",
       "    <tr>\n",
       "      <th>7</th>\n",
       "      <td>data engineer</td>\n",
       "      <td>[sql, nosql, gcp, azure, aws, bigquery, databr...</td>\n",
       "    </tr>\n",
       "    <tr>\n",
       "      <th>8</th>\n",
       "      <td>technology operations business analyst</td>\n",
       "      <td>[excel, powerpoint, power bi]</td>\n",
       "    </tr>\n",
       "    <tr>\n",
       "      <th>9</th>\n",
       "      <td>data scientist ii</td>\n",
       "      <td>[sql, python, r, mongodb, mongodb, sql server,...</td>\n",
       "    </tr>\n",
       "    <tr>\n",
       "      <th>10</th>\n",
       "      <td>erfahrene r data engineer in m w d</td>\n",
       "      <td>[python, databricks, azure, spark]</td>\n",
       "    </tr>\n",
       "  </tbody>\n",
       "</table>\n",
       "</div>"
      ]
     },
     "execution_count": 10,
     "metadata": {},
     "output_type": "execute_result"
    }
   ],
   "execution_count": 10
  },
  {
   "metadata": {},
   "cell_type": "markdown",
   "source": [
    "\n",
    "### 3. Work with job titles\n",
    "Plan is follows:\n",
    "1. Remove stop-words\n",
    "2. Start combining by using n-grams. They help to match patterns like 'pyhon developer' and 'developer python'\n",
    "3. Create embeddings using sentence transformers or tf-idf\n",
    "4. Apply clusterization to embeddings using dbscan or hdbscan or agglomerative clustering"
   ],
   "id": "e56cd7eb427c068d"
  },
  {
   "metadata": {},
   "cell_type": "markdown",
   "source": "#### 3.1 No stop words",
   "id": "141ebf84175224ef"
  },
  {
   "metadata": {
    "ExecuteTime": {
     "end_time": "2025-06-23T14:50:51.443954Z",
     "start_time": "2025-06-23T14:50:46.250514Z"
    }
   },
   "cell_type": "code",
   "source": [
    "import nltk\n",
    "from nltk.corpus import stopwords\n",
    "nltk.download('stopwords')\n",
    "\n",
    "stop_words_en = set(stopwords.words('english'))\n",
    "stop_words_ru = set(stopwords.words('russian'))"
   ],
   "id": "14b8eef59ed8d73f",
   "outputs": [
    {
     "name": "stderr",
     "output_type": "stream",
     "text": [
      "[nltk_data] Downloading package stopwords to\n",
      "[nltk_data]     C:\\Users\\user\\AppData\\Roaming\\nltk_data...\n",
      "[nltk_data]   Package stopwords is already up-to-date!\n"
     ]
    }
   ],
   "execution_count": 11
  },
  {
   "metadata": {
    "ExecuteTime": {
     "end_time": "2025-06-23T14:50:51.464818Z",
     "start_time": "2025-06-23T14:50:51.454953Z"
    }
   },
   "cell_type": "code",
   "source": [
    "def remove_stopwords(text):\n",
    "    words = text.lower().split()\n",
    "    filtered_words = [w for w in words if w not in stop_words_en and w not in stop_words_ru]\n",
    "    return filtered_words"
   ],
   "id": "54929e3958974d66",
   "outputs": [],
   "execution_count": 12
  },
  {
   "metadata": {
    "ExecuteTime": {
     "end_time": "2025-06-23T14:50:58.675307Z",
     "start_time": "2025-06-23T14:50:51.490576Z"
    }
   },
   "cell_type": "code",
   "source": [
    "sentences = data_combined['job_title'].apply(remove_stopwords).tolist()\n",
    "\n",
    "print(sentences[:10])\n",
    "print(sentences[-10:])"
   ],
   "id": "d89886978f5b5dba",
   "outputs": [
    {
     "name": "stdout",
     "output_type": "stream",
     "text": [
      "[['data', 'analyst'], ['data', 'engineer', 'scientist', 'analyst', 'mid', 'senior', 'f', 'x'], ['lead', 'engineer', 'principal', 'analyst', 'principal', 'engineer', 'data...'], ['data', 'engineer', 'sr', 'jobs'], ['gcp', 'data', 'engineer'], ['senior', 'data', 'engineer', 'gcp', 'cloud'], ['data', 'engineer'], ['technology', 'operations', 'business', 'analyst'], ['data', 'scientist', 'ii'], ['erfahrene', 'r', 'data', 'engineer', 'w']]\n",
      "[['администратор', 'баз', 'данных', 'database', 'administrator'], ['lead', 'data', 'scientist'], ['инженер', 'категории'], ['специалист', 'поддержки', 'приложений'], ['системный', 'аналитик', 'dwh'], ['монтажник', 'слаботочных', 'систем'], ['системный', 'администратор'], ['менеджер', 'работе', 'маркетплейсами', 'офис'], ['менеджер', 'продажам', 'серверное', 'оборудование', 'b2b'], ['product', 'analyst']]\n"
     ]
    }
   ],
   "execution_count": 13
  },
  {
   "metadata": {},
   "cell_type": "markdown",
   "source": [
    "#### 3.2 N-gramms\n",
    "\n",
    "* gensim - not cool\n",
    "* Scikit-learn CountVectorizer - applied\n",
    "* RAKE / TextRank / YAKE (Unsupervised Keyword Extractors) - not tried"
   ],
   "id": "b1416de6166fcf15"
  },
  {
   "metadata": {},
   "cell_type": "markdown",
   "source": "##### gensim",
   "id": "454702840af367b4"
  },
  {
   "metadata": {
    "ExecuteTime": {
     "end_time": "2025-06-23T14:50:58.722279Z",
     "start_time": "2025-06-23T14:50:58.716326Z"
    }
   },
   "cell_type": "code",
   "source": [
    "# from gensim.models import Phrases\n",
    "# from gensim.models.phrases import Phraser"
   ],
   "id": "6b6a058017fea6ff",
   "outputs": [],
   "execution_count": 14
  },
  {
   "metadata": {
    "ExecuteTime": {
     "end_time": "2025-06-23T14:50:58.748744Z",
     "start_time": "2025-06-23T14:50:58.741995Z"
    }
   },
   "cell_type": "code",
   "source": [
    "# # create bi-gram model\n",
    "# bigram_model = Phrases(sentences, min_count=2, threshold=1)\n",
    "# # min_count=50 — ignore pairs that apper <= 50 times\n",
    "# # threshold=10 — less phrazes\n",
    "#\n",
    "# bigram_model.add_vocab(sentences)\n",
    "#\n",
    "#\n",
    "# bigram_phraser = Phraser(bigram_model)  # to fasten up\n"
   ],
   "id": "35258df4d17a2f07",
   "outputs": [],
   "execution_count": 15
  },
  {
   "metadata": {
    "ExecuteTime": {
     "end_time": "2025-06-23T14:50:58.773107Z",
     "start_time": "2025-06-23T14:50:58.765739Z"
    }
   },
   "cell_type": "code",
   "source": [
    "# data_combined['job_title_bigram'] = [bigram_phraser[sentence] for sentence in sentences]\n",
    "#\n",
    "# print(len(bigram_phraser.phrasegrams))\n",
    "# print(list(bigram_phraser.phrasegrams)[:20])  # первые 20 биграмм\n"
   ],
   "id": "11ba6c1e2eab4864",
   "outputs": [],
   "execution_count": 16
  },
  {
   "metadata": {
    "ExecuteTime": {
     "end_time": "2025-06-23T14:50:58.797188Z",
     "start_time": "2025-06-23T14:50:58.790122Z"
    }
   },
   "cell_type": "code",
   "source": "# data_combined.head(20)",
   "id": "249bb87c7e4da720",
   "outputs": [],
   "execution_count": 17
  },
  {
   "metadata": {},
   "cell_type": "markdown",
   "source": "##### count vectorizer",
   "id": "a460ce7f08a944dc"
  },
  {
   "metadata": {
    "ExecuteTime": {
     "end_time": "2025-06-23T14:50:58.828701Z",
     "start_time": "2025-06-23T14:50:58.817205Z"
    }
   },
   "cell_type": "code",
   "source": [
    "from sklearn.feature_extraction.text import CountVectorizer\n",
    "vectorizer = CountVectorizer(ngram_range=(2, 2), min_df=3)"
   ],
   "id": "d71481bda1bcb925",
   "outputs": [],
   "execution_count": 18
  },
  {
   "metadata": {
    "ExecuteTime": {
     "end_time": "2025-06-23T14:51:14.968685Z",
     "start_time": "2025-06-23T14:50:58.848721Z"
    }
   },
   "cell_type": "code",
   "source": [
    "texts = [' '.join(tokens) for tokens in sentences]\n",
    "# text -> frequency matrix\n",
    "X = vectorizer.fit_transform(texts)\n",
    "\n",
    "# get bigrams and frequences\n",
    "bigrams = vectorizer.get_feature_names_out()\n",
    "counts = X.sum(axis=0).A1\n",
    "\n",
    "# to see\n",
    "bigrams = vectorizer.get_feature_names_out()\n",
    "bigram_freq = pd.DataFrame({'bigram': bigrams, 'count': counts})\n",
    "bigram_freq = bigram_freq.sort_values(by='count', ascending=False)\n",
    "print(bigram_freq.head(20))\n"
   ],
   "id": "45364c78b39984c2",
   "outputs": [
    {
     "name": "stdout",
     "output_type": "stream",
     "text": [
      "                      bigram   count\n",
      "10337          data engineer  182609\n",
      "10106           data analyst  144815\n",
      "10740         data scientist  137974\n",
      "35841            senior data   70995\n",
      "10732           data science   21799\n",
      "36950      software engineer   15301\n",
      "23428              lead data   15266\n",
      "10118         data analytics   12603\n",
      "24403       machine learning   11211\n",
      "37743                sr data   11123\n",
      "6494                big data   10615\n",
      "6909        business analyst    9563\n",
      "14128          engineer data    9115\n",
      "6965   business intelligence    8519\n",
      "22738            junior data    7911\n",
      "10341       data engineering    7783\n",
      "5714              azure data    7314\n",
      "2004            analyst data    6490\n",
      "23760      learning engineer    6483\n",
      "6934           business data    6159\n"
     ]
    }
   ],
   "execution_count": 19
  },
  {
   "metadata": {
    "ExecuteTime": {
     "end_time": "2025-06-23T14:51:15.011230Z",
     "start_time": "2025-06-23T14:51:14.998698Z"
    }
   },
   "cell_type": "code",
   "source": "print(bigram_freq.head(20))",
   "id": "35e2cf4c22743fe8",
   "outputs": [
    {
     "name": "stdout",
     "output_type": "stream",
     "text": [
      "                      bigram   count\n",
      "10337          data engineer  182609\n",
      "10106           data analyst  144815\n",
      "10740         data scientist  137974\n",
      "35841            senior data   70995\n",
      "10732           data science   21799\n",
      "36950      software engineer   15301\n",
      "23428              lead data   15266\n",
      "10118         data analytics   12603\n",
      "24403       machine learning   11211\n",
      "37743                sr data   11123\n",
      "6494                big data   10615\n",
      "6909        business analyst    9563\n",
      "14128          engineer data    9115\n",
      "6965   business intelligence    8519\n",
      "22738            junior data    7911\n",
      "10341       data engineering    7783\n",
      "5714              azure data    7314\n",
      "2004            analyst data    6490\n",
      "23760      learning engineer    6483\n",
      "6934           business data    6159\n"
     ]
    }
   ],
   "execution_count": 20
  },
  {
   "metadata": {
    "ExecuteTime": {
     "end_time": "2025-06-23T14:51:15.611490Z",
     "start_time": "2025-06-23T14:51:15.029754Z"
    }
   },
   "cell_type": "code",
   "source": [
    "def normalize_bigram_str(bigram):\n",
    "    words = bigram.split()\n",
    "    if len(words) == 2:\n",
    "        return \" \".join(sorted(words))\n",
    "    return bigram\n",
    "\n",
    "bigram_freq['bigram_normalized'] = bigram_freq['bigram'].apply(normalize_bigram_str)\n",
    "\n",
    "bigram_freq_norm = bigram_freq.groupby('bigram_normalized', as_index=False)['count'].sum()\n",
    "bigram_freq_norm = bigram_freq_norm.sort_values(by='count', ascending=False)\n",
    "\n",
    "print(bigram_freq_norm.head(100))"
   ],
   "id": "aaa1efe9f1fedaaa",
   "outputs": [
    {
     "name": "stdout",
     "output_type": "stream",
     "text": [
      "       bigram_normalized   count\n",
      "15655      data engineer  191724\n",
      "3141        analyst data  151305\n",
      "17061     data scientist  140094\n",
      "17102        data senior   71258\n",
      "17052       data science   22392\n",
      "...                  ...     ...\n",
      "12467      clinical data    1398\n",
      "31509  machine scientist    1395\n",
      "7262    associate senior    1393\n",
      "3325    analyst engineer    1379\n",
      "15973          data head    1368\n",
      "\n",
      "[100 rows x 2 columns]\n"
     ]
    }
   ],
   "execution_count": 21
  },
  {
   "metadata": {
    "ExecuteTime": {
     "end_time": "2025-06-23T14:51:15.680077Z",
     "start_time": "2025-06-23T14:51:15.650484Z"
    }
   },
   "cell_type": "code",
   "source": [
    "if 'job_title_bigram' in data_combined.columns:\n",
    "    data_combined.drop(columns=['job_title_bigram'], inplace=True)\n",
    "\n",
    "data_combined.head()"
   ],
   "id": "45f83ffd75a152c8",
   "outputs": [
    {
     "data": {
      "text/plain": [
       "                                           job_title  \\\n",
       "1                                       data analyst   \n",
       "2  data engineer scientist analyst mid or senior ...   \n",
       "3  lead engineer principal analyst principal engi...   \n",
       "4                              data engineer sr jobs   \n",
       "5                                  gcp data engineer   \n",
       "\n",
       "                                          job_skills  \n",
       "1         [r, python, sql, nosql, power bi, tableau]  \n",
       "2  [python, sql, c#, azure, airflow, dax, docker,...  \n",
       "3  [python, c++, java, matlab, aws, tensorflow, k...  \n",
       "4  [bash, python, oracle, aws, ansible, puppet, j...  \n",
       "5                                 [python, sql, gcp]  "
      ],
      "text/html": [
       "<div>\n",
       "<style scoped>\n",
       "    .dataframe tbody tr th:only-of-type {\n",
       "        vertical-align: middle;\n",
       "    }\n",
       "\n",
       "    .dataframe tbody tr th {\n",
       "        vertical-align: top;\n",
       "    }\n",
       "\n",
       "    .dataframe thead th {\n",
       "        text-align: right;\n",
       "    }\n",
       "</style>\n",
       "<table border=\"1\" class=\"dataframe\">\n",
       "  <thead>\n",
       "    <tr style=\"text-align: right;\">\n",
       "      <th></th>\n",
       "      <th>job_title</th>\n",
       "      <th>job_skills</th>\n",
       "    </tr>\n",
       "  </thead>\n",
       "  <tbody>\n",
       "    <tr>\n",
       "      <th>1</th>\n",
       "      <td>data analyst</td>\n",
       "      <td>[r, python, sql, nosql, power bi, tableau]</td>\n",
       "    </tr>\n",
       "    <tr>\n",
       "      <th>2</th>\n",
       "      <td>data engineer scientist analyst mid or senior ...</td>\n",
       "      <td>[python, sql, c#, azure, airflow, dax, docker,...</td>\n",
       "    </tr>\n",
       "    <tr>\n",
       "      <th>3</th>\n",
       "      <td>lead engineer principal analyst principal engi...</td>\n",
       "      <td>[python, c++, java, matlab, aws, tensorflow, k...</td>\n",
       "    </tr>\n",
       "    <tr>\n",
       "      <th>4</th>\n",
       "      <td>data engineer sr jobs</td>\n",
       "      <td>[bash, python, oracle, aws, ansible, puppet, j...</td>\n",
       "    </tr>\n",
       "    <tr>\n",
       "      <th>5</th>\n",
       "      <td>gcp data engineer</td>\n",
       "      <td>[python, sql, gcp]</td>\n",
       "    </tr>\n",
       "  </tbody>\n",
       "</table>\n",
       "</div>"
      ]
     },
     "execution_count": 22,
     "metadata": {},
     "output_type": "execute_result"
    }
   ],
   "execution_count": 22
  },
  {
   "metadata": {
    "ExecuteTime": {
     "end_time": "2025-06-23T14:51:27.186179Z",
     "start_time": "2025-06-23T14:51:15.721605Z"
    }
   },
   "cell_type": "code",
   "source": [
    "top_bigrams_set = set(bigram_freq['bigram_normalized'])\n",
    "\n",
    "def extract_normalized_bigrams(text):\n",
    "    words = re.findall(r'\\w+', text.lower())\n",
    "    pairs = set()\n",
    "    for i in range(len(words) - 1):\n",
    "        bigram = \" \".join(sorted([words[i], words[i+1]]))\n",
    "        if bigram in top_bigrams_set:\n",
    "            pairs.add(bigram)\n",
    "    return list(pairs)\n",
    "\n",
    "data_combined['normalized_bigrams'] = data_combined['job_title'].apply(extract_normalized_bigrams)"
   ],
   "id": "f88a72e11b516f10",
   "outputs": [],
   "execution_count": 23
  },
  {
   "metadata": {
    "ExecuteTime": {
     "end_time": "2025-06-23T14:51:27.226200Z",
     "start_time": "2025-06-23T14:51:27.204176Z"
    }
   },
   "cell_type": "code",
   "source": "data_combined.head()",
   "id": "9236ba39364247d7",
   "outputs": [
    {
     "data": {
      "text/plain": [
       "                                           job_title  \\\n",
       "1                                       data analyst   \n",
       "2  data engineer scientist analyst mid or senior ...   \n",
       "3  lead engineer principal analyst principal engi...   \n",
       "4                              data engineer sr jobs   \n",
       "5                                  gcp data engineer   \n",
       "\n",
       "                                          job_skills  \\\n",
       "1         [r, python, sql, nosql, power bi, tableau]   \n",
       "2  [python, sql, c#, azure, airflow, dax, docker,...   \n",
       "3  [python, c++, java, matlab, aws, tensorflow, k...   \n",
       "4  [bash, python, oracle, aws, ansible, puppet, j...   \n",
       "5                                 [python, sql, gcp]   \n",
       "\n",
       "                                  normalized_bigrams  \n",
       "1                                     [analyst data]  \n",
       "2  [data engineer, analyst mid, engineer scientis...  \n",
       "3  [data engineer, analyst principal, engineer le...  \n",
       "4              [data engineer, engineer sr, jobs sr]  \n",
       "5                          [data engineer, data gcp]  "
      ],
      "text/html": [
       "<div>\n",
       "<style scoped>\n",
       "    .dataframe tbody tr th:only-of-type {\n",
       "        vertical-align: middle;\n",
       "    }\n",
       "\n",
       "    .dataframe tbody tr th {\n",
       "        vertical-align: top;\n",
       "    }\n",
       "\n",
       "    .dataframe thead th {\n",
       "        text-align: right;\n",
       "    }\n",
       "</style>\n",
       "<table border=\"1\" class=\"dataframe\">\n",
       "  <thead>\n",
       "    <tr style=\"text-align: right;\">\n",
       "      <th></th>\n",
       "      <th>job_title</th>\n",
       "      <th>job_skills</th>\n",
       "      <th>normalized_bigrams</th>\n",
       "    </tr>\n",
       "  </thead>\n",
       "  <tbody>\n",
       "    <tr>\n",
       "      <th>1</th>\n",
       "      <td>data analyst</td>\n",
       "      <td>[r, python, sql, nosql, power bi, tableau]</td>\n",
       "      <td>[analyst data]</td>\n",
       "    </tr>\n",
       "    <tr>\n",
       "      <th>2</th>\n",
       "      <td>data engineer scientist analyst mid or senior ...</td>\n",
       "      <td>[python, sql, c#, azure, airflow, dax, docker,...</td>\n",
       "      <td>[data engineer, analyst mid, engineer scientis...</td>\n",
       "    </tr>\n",
       "    <tr>\n",
       "      <th>3</th>\n",
       "      <td>lead engineer principal analyst principal engi...</td>\n",
       "      <td>[python, c++, java, matlab, aws, tensorflow, k...</td>\n",
       "      <td>[data engineer, analyst principal, engineer le...</td>\n",
       "    </tr>\n",
       "    <tr>\n",
       "      <th>4</th>\n",
       "      <td>data engineer sr jobs</td>\n",
       "      <td>[bash, python, oracle, aws, ansible, puppet, j...</td>\n",
       "      <td>[data engineer, engineer sr, jobs sr]</td>\n",
       "    </tr>\n",
       "    <tr>\n",
       "      <th>5</th>\n",
       "      <td>gcp data engineer</td>\n",
       "      <td>[python, sql, gcp]</td>\n",
       "      <td>[data engineer, data gcp]</td>\n",
       "    </tr>\n",
       "  </tbody>\n",
       "</table>\n",
       "</div>"
      ]
     },
     "execution_count": 24,
     "metadata": {},
     "output_type": "execute_result"
    }
   ],
   "execution_count": 24
  },
  {
   "metadata": {},
   "cell_type": "markdown",
   "source": [
    "#### 3.3 Embeddings\n",
    "\n",
    "Since we already get bigrams, better to use TF-IDF instead of SentenceTransformers. Also they are computationaly cheaper"
   ],
   "id": "299423ae491081c7"
  },
  {
   "metadata": {
    "ExecuteTime": {
     "end_time": "2025-06-23T14:51:27.288188Z",
     "start_time": "2025-06-23T14:51:27.253176Z"
    }
   },
   "cell_type": "code",
   "source": "data_combined.head()",
   "id": "11d4ab6d4cc7b1c0",
   "outputs": [
    {
     "data": {
      "text/plain": [
       "                                           job_title  \\\n",
       "1                                       data analyst   \n",
       "2  data engineer scientist analyst mid or senior ...   \n",
       "3  lead engineer principal analyst principal engi...   \n",
       "4                              data engineer sr jobs   \n",
       "5                                  gcp data engineer   \n",
       "\n",
       "                                          job_skills  \\\n",
       "1         [r, python, sql, nosql, power bi, tableau]   \n",
       "2  [python, sql, c#, azure, airflow, dax, docker,...   \n",
       "3  [python, c++, java, matlab, aws, tensorflow, k...   \n",
       "4  [bash, python, oracle, aws, ansible, puppet, j...   \n",
       "5                                 [python, sql, gcp]   \n",
       "\n",
       "                                  normalized_bigrams  \n",
       "1                                     [analyst data]  \n",
       "2  [data engineer, analyst mid, engineer scientis...  \n",
       "3  [data engineer, analyst principal, engineer le...  \n",
       "4              [data engineer, engineer sr, jobs sr]  \n",
       "5                          [data engineer, data gcp]  "
      ],
      "text/html": [
       "<div>\n",
       "<style scoped>\n",
       "    .dataframe tbody tr th:only-of-type {\n",
       "        vertical-align: middle;\n",
       "    }\n",
       "\n",
       "    .dataframe tbody tr th {\n",
       "        vertical-align: top;\n",
       "    }\n",
       "\n",
       "    .dataframe thead th {\n",
       "        text-align: right;\n",
       "    }\n",
       "</style>\n",
       "<table border=\"1\" class=\"dataframe\">\n",
       "  <thead>\n",
       "    <tr style=\"text-align: right;\">\n",
       "      <th></th>\n",
       "      <th>job_title</th>\n",
       "      <th>job_skills</th>\n",
       "      <th>normalized_bigrams</th>\n",
       "    </tr>\n",
       "  </thead>\n",
       "  <tbody>\n",
       "    <tr>\n",
       "      <th>1</th>\n",
       "      <td>data analyst</td>\n",
       "      <td>[r, python, sql, nosql, power bi, tableau]</td>\n",
       "      <td>[analyst data]</td>\n",
       "    </tr>\n",
       "    <tr>\n",
       "      <th>2</th>\n",
       "      <td>data engineer scientist analyst mid or senior ...</td>\n",
       "      <td>[python, sql, c#, azure, airflow, dax, docker,...</td>\n",
       "      <td>[data engineer, analyst mid, engineer scientis...</td>\n",
       "    </tr>\n",
       "    <tr>\n",
       "      <th>3</th>\n",
       "      <td>lead engineer principal analyst principal engi...</td>\n",
       "      <td>[python, c++, java, matlab, aws, tensorflow, k...</td>\n",
       "      <td>[data engineer, analyst principal, engineer le...</td>\n",
       "    </tr>\n",
       "    <tr>\n",
       "      <th>4</th>\n",
       "      <td>data engineer sr jobs</td>\n",
       "      <td>[bash, python, oracle, aws, ansible, puppet, j...</td>\n",
       "      <td>[data engineer, engineer sr, jobs sr]</td>\n",
       "    </tr>\n",
       "    <tr>\n",
       "      <th>5</th>\n",
       "      <td>gcp data engineer</td>\n",
       "      <td>[python, sql, gcp]</td>\n",
       "      <td>[data engineer, data gcp]</td>\n",
       "    </tr>\n",
       "  </tbody>\n",
       "</table>\n",
       "</div>"
      ]
     },
     "execution_count": 25,
     "metadata": {},
     "output_type": "execute_result"
    }
   ],
   "execution_count": 25
  },
  {
   "metadata": {
    "ExecuteTime": {
     "end_time": "2025-06-23T14:51:27.335203Z",
     "start_time": "2025-06-23T14:51:27.324205Z"
    }
   },
   "cell_type": "code",
   "source": "from sklearn.feature_extraction.text import TfidfVectorizer",
   "id": "f5f35a29d6a5e1",
   "outputs": [],
   "execution_count": 26
  },
  {
   "metadata": {
    "ExecuteTime": {
     "end_time": "2025-06-23T14:51:46.674844Z",
     "start_time": "2025-06-23T14:51:27.353205Z"
    }
   },
   "cell_type": "code",
   "source": [
    "bigrams_joined = data_combined['normalized_bigrams'].apply(lambda x: ' '.join(x))\n",
    "\n",
    "vectorizer = TfidfVectorizer(ngram_range=(1, 2), max_features=5000)\n",
    "X_tfidf = vectorizer.fit_transform(bigrams_joined)"
   ],
   "id": "2c29d4e9c5a8d863",
   "outputs": [],
   "execution_count": 27
  },
  {
   "metadata": {
    "ExecuteTime": {
     "end_time": "2025-06-23T14:51:55.071954Z",
     "start_time": "2025-06-23T14:51:46.688857Z"
    }
   },
   "cell_type": "code",
   "source": [
    "from sklearn.decomposition import TruncatedSVD\n",
    "import matplotlib.pyplot as plt\n",
    "\n",
    "svd_plot = TruncatedSVD(n_components=2, random_state=42)\n",
    "X_svd = svd_plot.fit_transform(X_tfidf)\n",
    "\n",
    "plt.figure(figsize=(10, 7))\n",
    "plt.scatter(X_svd[:, 0], X_svd[:, 1], alpha=0.5, s=10)\n",
    "plt.title(\"TF-IDF Embeddings (Truncated SVD)\")\n",
    "plt.xlabel(\"SVD1\")\n",
    "plt.ylabel(\"SVD2\")\n",
    "plt.grid(True)\n",
    "plt.show()\n"
   ],
   "id": "6ee67705cfd9635e",
   "outputs": [
    {
     "data": {
      "text/plain": [
       "<Figure size 1000x700 with 1 Axes>"
      ],
      "image/png": "[encoded data removed]"
     },
     "metadata": {},
     "output_type": "display_data"
    }
   ],
   "execution_count": 28
  },
  {
   "metadata": {},
   "cell_type": "markdown",
   "source": [
    "X_TFIDF has a size (717268, 5000) - this is 3.5 billion elements (if in DENSE format).\n",
    "\n",
    "After TRUNCATEDSVD (n_components = 300), the size will become (717268, 300) - 16 times smaller!"
   ],
   "id": "6d3a842e90707440"
  },
  {
   "metadata": {
    "ExecuteTime": {
     "end_time": "2025-06-23T14:52:52.714247Z",
     "start_time": "2025-06-23T14:51:55.090971Z"
    }
   },
   "cell_type": "code",
   "source": [
    "from sklearn.decomposition import TruncatedSVD\n",
    "\n",
    "svd = TruncatedSVD(n_components=100, random_state=42)\n",
    "X_reduced = svd.fit_transform(X_tfidf)\n"
   ],
   "id": "769d654c7e317063",
   "outputs": [],
   "execution_count": 29
  },
  {
   "metadata": {
    "ExecuteTime": {
     "end_time": "2025-06-23T14:52:52.872219Z",
     "start_time": "2025-06-23T14:52:52.792982Z"
    }
   },
   "cell_type": "code",
   "source": "X_reduced.shape",
   "id": "94eab1c2dd5ac9d2",
   "outputs": [
    {
     "data": {
      "text/plain": [
       "(717268, 100)"
      ]
     },
     "execution_count": 30,
     "metadata": {},
     "output_type": "execute_result"
    }
   ],
   "execution_count": 30
  },
  {
   "metadata": {},
   "cell_type": "markdown",
   "source": [
    "#### 3.4 clusterization\n",
    "Will use combination of k-means and birch\n"
   ],
   "id": "fb6b5c6a95c4221b"
  },
  {
   "metadata": {},
   "cell_type": "markdown",
   "source": "Firstly, create small sample to calibrate params",
   "id": "cb3567ea7c9a79db"
  },
  {
   "metadata": {
    "ExecuteTime": {
     "end_time": "2025-06-23T14:52:53.541066Z",
     "start_time": "2025-06-23T14:52:53.097218Z"
    }
   },
   "cell_type": "code",
   "source": [
    "import numpy as np\n",
    "\n",
    "np.random.seed(42)\n",
    "\n",
    "# create small sample for param calibration\n",
    "sample_size = int(0.05 * len(X_reduced))\n",
    "sample_idx = np.random.choice(len(X_reduced), size=sample_size, replace=False)\n",
    "X_sample = X_reduced[sample_idx]"
   ],
   "id": "ce4380f6f241db7f",
   "outputs": [],
   "execution_count": 31
  },
  {
   "metadata": {},
   "cell_type": "markdown",
   "source": "Now choose the best params",
   "id": "f414eebb4a48af7a"
  },
  {
   "metadata": {
    "ExecuteTime": {
     "end_time": "2025-06-23T15:11:50.702104Z",
     "start_time": "2025-06-23T15:06:44.168041Z"
    }
   },
   "cell_type": "code",
   "source": [
    "import numpy as np\n",
    "from sklearn.cluster import KMeans\n",
    "from sklearn.metrics import silhouette_score\n",
    "import matplotlib.pyplot as plt\n",
    "\n",
    "scores = []\n",
    "cluster_range = range(10, 51, 5)\n",
    "\n",
    "print(\"Chhose optimal cluster number:\")\n",
    "for n in cluster_range:\n",
    "    kmeans = KMeans(n_clusters=n, random_state=42, n_init=10)\n",
    "    labels = kmeans.fit_predict(X_sample)\n",
    "    score = silhouette_score(X_sample, labels)\n",
    "    scores.append(score)\n",
    "    print(f\"n_clusters={n}: Silhouette score = {score:.3f}\")\n",
    "\n",
    "plt.figure(figsize=(10, 5))\n",
    "plt.plot(cluster_range, scores, 'bo-')\n",
    "plt.xlabel('Number of clusters')\n",
    "plt.ylabel('Silhouette Score')\n",
    "plt.title('Optimal number of clusters')\n",
    "plt.grid(True)\n",
    "plt.show()\n",
    "\n",
    "best_n = cluster_range[np.argmax(scores)]\n",
    "best_score = max(scores)\n",
    "print(f\"\\nBest result: n_clusters={best_n} (score={best_score:.3f})\")\n"
   ],
   "id": "24dc875c5e03f4ed",
   "outputs": [
    {
     "name": "stdout",
     "output_type": "stream",
     "text": [
      "Chhose optimal cluster number:\n",
      "n_clusters=10: Silhouette score = 0.301\n",
      "n_clusters=15: Silhouette score = 0.328\n",
      "n_clusters=20: Silhouette score = 0.351\n",
      "n_clusters=25: Silhouette score = 0.384\n",
      "n_clusters=30: Silhouette score = 0.391\n",
      "n_clusters=35: Silhouette score = 0.407\n",
      "n_clusters=40: Silhouette score = 0.419\n",
      "n_clusters=45: Silhouette score = 0.416\n",
      "n_clusters=50: Silhouette score = 0.411\n"
     ]
    },
    {
     "data": {
      "text/plain": [
       "<Figure size 1000x500 with 1 Axes>"
      ],
      "image/png": "[encoded data removed]"
     },
     "metadata": {},
     "output_type": "display_data"
    },
    {
     "name": "stdout",
     "output_type": "stream",
     "text": [
      "\n",
      "Best result: n_clusters=40 (score=0.419)\n"
     ]
    }
   ],
   "execution_count": 35
  },
  {
   "metadata": {
    "ExecuteTime": {
     "end_time": "2025-06-23T15:17:22.413744Z",
     "start_time": "2025-06-23T15:17:04.888369Z"
    }
   },
   "cell_type": "code",
   "source": [
    "final_kmeans = KMeans(n_clusters=best_n, random_state=42, n_init=10)\n",
    "sample_labels = final_kmeans.fit_predict(X_sample)\n",
    "\n",
    "sample_data = data_combined.iloc[sample_idx].copy()\n",
    "sample_data['cluster'] = sample_labels\n",
    "\n",
    "print(\"\\nCluster examples:\")\n",
    "for cluster in sorted(sample_data['cluster'].unique()):\n",
    "    cluster_jobs = sample_data[sample_data['cluster'] == cluster]['job_title'].values\n",
    "    cluster_skills = sample_data[sample_data['cluster'] == cluster]['job_skills'].explode().value_counts().head(5)\n",
    "\n",
    "    print(f\"\\nCluster {cluster} (size: {len(cluster_jobs)})\")\n",
    "    print(\"Typical vacancies:\")\n",
    "    print(np.unique(cluster_jobs)[:3])\n",
    "    print(\"Top-5 skills:\")\n",
    "    print(cluster_skills)"
   ],
   "id": "88d764a284dcf28e",
   "outputs": [
    {
     "name": "stdout",
     "output_type": "stream",
     "text": [
      "\n",
      "Cluster examples:\n",
      "\n",
      "Cluster 0 (size: 248)\n",
      "Typical vacancies:\n",
      "['analyst marketing' 'analyst marketing analytics'\n",
      " 'analyst marketing innovation']\n",
      "Top-5 skills:\n",
      "job_skills\n",
      "sql         147\n",
      "tableau     101\n",
      "excel        99\n",
      "python       97\n",
      "power bi     60\n",
      "Name: count, dtype: int64\n",
      "\n",
      "Cluster 1 (size: 3876)\n",
      "Typical vacancies:\n",
      "['1с analyst consultant' '3m data analyst ii san diego ca'\n",
      " '4cs4u data analyst cape cod community college']\n",
      "Top-5 skills:\n",
      "job_skills\n",
      "sql         1962\n",
      "excel       1742\n",
      "python      1249\n",
      "tableau     1041\n",
      "power bi     842\n",
      "Name: count, dtype: int64\n",
      "\n",
      "Cluster 2 (size: 1179)\n",
      "Typical vacancies:\n",
      "['analytics senior data engineer' 'architecte data senior'\n",
      " 'bl senior data engineer']\n",
      "Top-5 skills:\n",
      "job_skills\n",
      "python    872\n",
      "sql       825\n",
      "aws       552\n",
      "azure     459\n",
      "spark     446\n",
      "Name: count, dtype: int64\n",
      "\n",
      "Cluster 3 (size: 2302)\n",
      "Typical vacancies:\n",
      "['0501wfh data scientist' 'adot data scientist' 'agile1 data scientist']\n",
      "Top-5 skills:\n",
      "job_skills\n",
      "python     1934\n",
      "sql        1334\n",
      "r          1033\n",
      "tableau     478\n",
      "aws         462\n",
      "Name: count, dtype: int64\n",
      "\n",
      "Cluster 4 (size: 3192)\n",
      "Typical vacancies:\n",
      "['a a data engineer' 'acceleration centers p t data engineer'\n",
      " 'afarax data engineer']\n",
      "Top-5 skills:\n",
      "job_skills\n",
      "sql       2317\n",
      "python    2161\n",
      "aws       1227\n",
      "azure     1190\n",
      "spark     1025\n",
      "Name: count, dtype: int64\n",
      "\n",
      "Cluster 5 (size: 413)\n",
      "Typical vacancies:\n",
      "['.. sr. business intelligence engineer' 'ami business intelligence'\n",
      " 'analyst business intelligence data scientist m w d']\n",
      "Top-5 skills:\n",
      "job_skills\n",
      "sql         302\n",
      "power bi    183\n",
      "tableau     178\n",
      "python      147\n",
      "excel       135\n",
      "Name: count, dtype: int64\n",
      "\n",
      "Cluster 6 (size: 933)\n",
      "Typical vacancies:\n",
      "['## data science ai ml' 'acs data science professor'\n",
      " 'adjunct faculty data science']\n",
      "Top-5 skills:\n",
      "job_skills\n",
      "python     746\n",
      "sql        505\n",
      "r          416\n",
      "aws        167\n",
      "tableau    161\n",
      "Name: count, dtype: int64\n",
      "\n",
      "Cluster 7 (size: 977)\n",
      "Typical vacancies:\n",
      "['aerodynamic engineer' 'alternant data engineer kaltde1'\n",
      " 'analytic engineer gcp']\n",
      "Top-5 skills:\n",
      "job_skills\n",
      "sql       658\n",
      "python    623\n",
      "aws       340\n",
      "spark     288\n",
      "azure     287\n",
      "Name: count, dtype: int64\n",
      "\n",
      "Cluster 8 (size: 2348)\n",
      "Typical vacancies:\n",
      "['a e data analyst' 'a i data analyst' 'aca data analyst']\n",
      "Top-5 skills:\n",
      "job_skills\n",
      "sql         1552\n",
      "excel        969\n",
      "python       927\n",
      "tableau      747\n",
      "power bi     638\n",
      "Name: count, dtype: int64\n",
      "\n",
      "Cluster 9 (size: 533)\n",
      "Typical vacancies:\n",
      "['aws lead data engineer' 'azure data lead engineer'\n",
      " 'azure lead data engineer']\n",
      "Top-5 skills:\n",
      "job_skills\n",
      "python    383\n",
      "sql       348\n",
      "aws       195\n",
      "spark     169\n",
      "azure     164\n",
      "Name: count, dtype: int64\n",
      "\n",
      "Cluster 10 (size: 682)\n",
      "Typical vacancies:\n",
      "['.net software engineer' '.net software engineer mix'\n",
      " '2867e8 sr software engineer data qa']\n",
      "Top-5 skills:\n",
      "job_skills\n",
      "python        301\n",
      "aws           278\n",
      "java          264\n",
      "sql           215\n",
      "kubernetes    173\n",
      "Name: count, dtype: int64\n",
      "\n",
      "Cluster 11 (size: 756)\n",
      "Typical vacancies:\n",
      "['are you our new senior data scientist bioinformatician'\n",
      " 'bhjob15656 senior data scientist' 'commercial senior data scientist']\n",
      "Top-5 skills:\n",
      "job_skills\n",
      "python    666\n",
      "sql       435\n",
      "r         308\n",
      "aws       188\n",
      "spark     178\n",
      "Name: count, dtype: int64\n",
      "\n",
      "Cluster 12 (size: 462)\n",
      "Typical vacancies:\n",
      "['ai data engineering and data science manager usa remote'\n",
      " 'analyst data engineering' 'analytics engineering internship']\n",
      "Top-5 skills:\n",
      "job_skills\n",
      "python    258\n",
      "sql       257\n",
      "aws       190\n",
      "azure     146\n",
      "spark     139\n",
      "Name: count, dtype: int64\n",
      "\n",
      "Cluster 13 (size: 304)\n",
      "Typical vacancies:\n",
      "['1c аналитик разработчик втб капитал брокер' '1с разработчик'\n",
      " 'abap разработчик']\n",
      "Top-5 skills:\n",
      "job_skills\n",
      "git           87\n",
      "javascript    71\n",
      "sql           58\n",
      "java          54\n",
      "postgresql    41\n",
      "Name: count, dtype: int64\n",
      "\n",
      "Cluster 14 (size: 516)\n",
      "Typical vacancies:\n",
      "['12m c2c data scientist +yrs only machine learning data...'\n",
      " 'ai data scientist machine learning engineer ww cso'\n",
      " 'aiml machine learning engineer data ml innovation']\n",
      "Top-5 skills:\n",
      "job_skills\n",
      "python        461\n",
      "tensorflow    209\n",
      "pytorch       200\n",
      "sql           173\n",
      "aws           151\n",
      "Name: count, dtype: int64\n",
      "\n",
      "Cluster 15 (size: 373)\n",
      "Typical vacancies:\n",
      "['administrador big data' 'analista big data' 'analista big data jr']\n",
      "Top-5 skills:\n",
      "job_skills\n",
      "spark     246\n",
      "python    222\n",
      "hadoop    177\n",
      "sql       174\n",
      "java      140\n",
      "Name: count, dtype: int64\n",
      "\n",
      "Cluster 16 (size: 2541)\n",
      "Typical vacancies:\n",
      "['aa junior research data scientist firenze'\n",
      " 'actuaire data scientist f h apprentissage alternance'\n",
      " 'actuarial data scientist']\n",
      "Top-5 skills:\n",
      "job_skills\n",
      "python     2101\n",
      "sql        1337\n",
      "r          1114\n",
      "sas         647\n",
      "tableau     539\n",
      "Name: count, dtype: int64\n",
      "\n",
      "Cluster 17 (size: 328)\n",
      "Typical vacancies:\n",
      "['advance cloud engineer' 'associate senior principal cloud data engineer'\n",
      " 'aws cloud data engineer']\n",
      "Top-5 skills:\n",
      "job_skills\n",
      "python    209\n",
      "aws       204\n",
      "azure     192\n",
      "sql       174\n",
      "gcp        96\n",
      "Name: count, dtype: int64\n",
      "\n",
      "Cluster 18 (size: 513)\n",
      "Typical vacancies:\n",
      "['coop senior data analyst' 'fulfillment senior data analyst'\n",
      " 'gamma senior data analyst']\n",
      "Top-5 skills:\n",
      "job_skills\n",
      "sql         405\n",
      "python      247\n",
      "tableau     235\n",
      "excel       160\n",
      "power bi    136\n",
      "Name: count, dtype: int64\n",
      "\n",
      "Cluster 19 (size: 411)\n",
      "Typical vacancies:\n",
      "['aas + power bi data engineer'\n",
      " 'aligned automation power bi developer data visualization'\n",
      " 'alternance data analyst bi transavia h f']\n",
      "Top-5 skills:\n",
      "job_skills\n",
      "sql         271\n",
      "power bi    237\n",
      "python      117\n",
      "tableau     116\n",
      "azure        93\n",
      "Name: count, dtype: int64\n",
      "\n",
      "Cluster 20 (size: 359)\n",
      "Typical vacancies:\n",
      "['architect azure data engineering' 'aws azure data engineer'\n",
      " 'azure data analyst']\n",
      "Top-5 skills:\n",
      "job_skills\n",
      "azure         356\n",
      "sql           262\n",
      "databricks    194\n",
      "python        191\n",
      "spark         108\n",
      "Name: count, dtype: int64\n",
      "\n",
      "Cluster 21 (size: 649)\n",
      "Typical vacancies:\n",
      "['aarhus og remote data engineer'\n",
      " 'accumulation data engineer in accumulation and catastrophe risk...'\n",
      " 'act two program data engineer']\n",
      "Top-5 skills:\n",
      "job_skills\n",
      "sql       406\n",
      "python    397\n",
      "aws       198\n",
      "azure     181\n",
      "spark     169\n",
      "Name: count, dtype: int64\n",
      "\n",
      "Cluster 22 (size: 6951)\n",
      "Typical vacancies:\n",
      "['' '# # engineer' '# devops engineer m w d hadoop']\n",
      "Top-5 skills:\n",
      "job_skills\n",
      "sql       2687\n",
      "python    2593\n",
      "aws       1284\n",
      "azure     1090\n",
      "excel      911\n",
      "Name: count, dtype: int64\n",
      "\n",
      "Cluster 23 (size: 149)\n",
      "Typical vacancies:\n",
      "['admin data support' 'associate advanced support engineer'\n",
      " 'associate service support analyst']\n",
      "Top-5 skills:\n",
      "job_skills\n",
      "sql        65\n",
      "python     40\n",
      "linux      38\n",
      "azure      30\n",
      "windows    25\n",
      "Name: count, dtype: int64\n",
      "\n",
      "Cluster 24 (size: 194)\n",
      "Typical vacancies:\n",
      "['aws data developer' 'aws data engineer' 'aws data engineer +years']\n",
      "Top-5 skills:\n",
      "job_skills\n",
      "aws         189\n",
      "python      137\n",
      "sql         110\n",
      "redshift     81\n",
      "spark        69\n",
      "Name: count, dtype: int64\n",
      "\n",
      "Cluster 25 (size: 200)\n",
      "Typical vacancies:\n",
      "['apache hadoop cloudera data platform cdp engineer remote'\n",
      " 'application data platform engineer'\n",
      " 'applikationsentwickler in core platform engineer']\n",
      "Top-5 skills:\n",
      "job_skills\n",
      "python       114\n",
      "aws           82\n",
      "sql           75\n",
      "azure         69\n",
      "terraform     62\n",
      "Name: count, dtype: int64\n",
      "\n",
      "Cluster 26 (size: 338)\n",
      "Typical vacancies:\n",
      "['analista junior data de cumplimiento'\n",
      " 'associate consultant delivery junior data analyst'\n",
      " 'borsa italiana associate junior data scientist']\n",
      "Top-5 skills:\n",
      "job_skills\n",
      "sql        213\n",
      "python     211\n",
      "excel       96\n",
      "tableau     71\n",
      "r           69\n",
      "Name: count, dtype: int64\n",
      "\n",
      "Cluster 27 (size: 433)\n",
      "Typical vacancies:\n",
      "['analyst business analytics' 'analyst business applications'\n",
      " 'analyst business insights']\n",
      "Top-5 skills:\n",
      "job_skills\n",
      "sql         208\n",
      "excel       190\n",
      "tableau     103\n",
      "power bi     86\n",
      "python       72\n",
      "Name: count, dtype: int64\n",
      "\n",
      "Cluster 28 (size: 120)\n",
      "Typical vacancies:\n",
      "['alation data analyst senior remote wfh' 'analyst senior analyst'\n",
      " 'analyst senior analyst for the data handling system']\n",
      "Top-5 skills:\n",
      "job_skills\n",
      "sql        57\n",
      "excel      46\n",
      "python     39\n",
      "sas        34\n",
      "tableau    33\n",
      "Name: count, dtype: int64\n",
      "\n",
      "Cluster 29 (size: 239)\n",
      "Typical vacancies:\n",
      "['a it software business analyst intermediate sql datalake ...'\n",
      " 'application engineer sql'\n",
      " 'aptus data labs senior bi developer sql python']\n",
      "Top-5 skills:\n",
      "job_skills\n",
      "sql           226\n",
      "python        115\n",
      "aws            43\n",
      "azure          41\n",
      "sql server     41\n",
      "Name: count, dtype: int64\n",
      "\n",
      "Cluster 30 (size: 132)\n",
      "Typical vacancies:\n",
      "['automation qa engineer analytics platform' 'data engineer qa'\n",
      " 'data platform qa engineer']\n",
      "Top-5 skills:\n",
      "job_skills\n",
      "sql         57\n",
      "python      40\n",
      "java        36\n",
      "selenium    30\n",
      "git         29\n",
      "Name: count, dtype: int64\n",
      "\n",
      "Cluster 31 (size: 511)\n",
      "Typical vacancies:\n",
      "['.net developer' 'adf developer contract months' 'alteryx developer']\n",
      "Top-5 skills:\n",
      "job_skills\n",
      "sql           226\n",
      "python        171\n",
      "git           117\n",
      "java          107\n",
      "javascript     82\n",
      "Name: count, dtype: int64\n",
      "\n",
      "Cluster 32 (size: 223)\n",
      "Typical vacancies:\n",
      "['advanced category management data scientist'\n",
      " 'agency management data associate'\n",
      " 'ai data management senior data engineer']\n",
      "Top-5 skills:\n",
      "job_skills\n",
      "sql        109\n",
      "excel       87\n",
      "python      58\n",
      "tableau     45\n",
      "sas         42\n",
      "Name: count, dtype: int64\n",
      "\n",
      "Cluster 33 (size: 384)\n",
      "Typical vacancies:\n",
      "['ai ml sr data scientist now hiring' 'aia sr data engineer'\n",
      " 'analyst ii sr data analyst']\n",
      "Top-5 skills:\n",
      "job_skills\n",
      "sql        277\n",
      "python     258\n",
      "aws        108\n",
      "azure       95\n",
      "tableau     95\n",
      "Name: count, dtype: int64\n",
      "\n",
      "Cluster 34 (size: 204)\n",
      "Typical vacancies:\n",
      "['data инженер' 'data инженер bi аналитик'\n",
      " 'data инженер команда big data infrastructure санкт петербург']\n",
      "Top-5 skills:\n",
      "job_skills\n",
      "linux     54\n",
      "python    48\n",
      "sql       34\n",
      "docker    32\n",
      "git       23\n",
      "Name: count, dtype: int64\n",
      "\n",
      "Cluster 35 (size: 924)\n",
      "Typical vacancies:\n",
      "['#eg next data analytics consultant nucleus'\n",
      " 'ac manila data analytics visualization senior analyst'\n",
      " 'ad cash data analytics']\n",
      "Top-5 skills:\n",
      "job_skills\n",
      "sql         623\n",
      "python      505\n",
      "tableau     315\n",
      "r           268\n",
      "power bi    204\n",
      "Name: count, dtype: int64\n",
      "\n",
      "Cluster 36 (size: 275)\n",
      "Typical vacancies:\n",
      "['aginic principal data engineer' 'aso8 principal data engineer'\n",
      " 'associate director principal data analyst']\n",
      "Top-5 skills:\n",
      "job_skills\n",
      "python    212\n",
      "sql       166\n",
      "aws       105\n",
      "azure      81\n",
      "r          77\n",
      "Name: count, dtype: int64\n",
      "\n",
      "Cluster 37 (size: 196)\n",
      "Typical vacancies:\n",
      "['advanced research data scientist senior'\n",
      " 'advanced research data scientist senior jobs'\n",
      " 'agile1 data scientist sr grid']\n",
      "Top-5 skills:\n",
      "job_skills\n",
      "python     174\n",
      "sql        117\n",
      "r          104\n",
      "tableau     54\n",
      "sas         46\n",
      "Name: count, dtype: int64\n",
      "\n",
      "Cluster 38 (size: 263)\n",
      "Typical vacancies:\n",
      "['afsat business data analyst randolph afb tx'\n",
      " 'agile data business analyst' 'agile data business analyst m f']\n",
      "Top-5 skills:\n",
      "job_skills\n",
      "sql         177\n",
      "excel       109\n",
      "tableau      80\n",
      "python       73\n",
      "power bi     70\n",
      "Name: count, dtype: int64\n",
      "\n",
      "Cluster 39 (size: 232)\n",
      "Typical vacancies:\n",
      "['accounting and reporting analyst' 'analyst data reporting'\n",
      " 'analyst hr reporting data governance']\n",
      "Top-5 skills:\n",
      "job_skills\n",
      "excel       150\n",
      "sql         111\n",
      "tableau      67\n",
      "power bi     58\n",
      "python       41\n",
      "Name: count, dtype: int64\n"
     ]
    }
   ],
   "execution_count": 38
  },
  {
   "metadata": {
    "ExecuteTime": {
     "end_time": "2025-06-23T15:14:11.506976Z",
     "start_time": "2025-06-23T15:13:55.090821Z"
    }
   },
   "cell_type": "code",
   "source": [
    "final_kmeans = KMeans(n_clusters=best_n, random_state=42)\n",
    "data_combined['cluster'] = final_kmeans.fit_predict(X_reduced)"
   ],
   "id": "2a3a17f4f1d184db",
   "outputs": [],
   "execution_count": 36
  },
  {
   "metadata": {
    "ExecuteTime": {
     "end_time": "2025-06-23T15:14:23.933769Z",
     "start_time": "2025-06-23T15:14:23.784889Z"
    }
   },
   "cell_type": "code",
   "source": "data_combined.head(10)",
   "id": "80effd93ec76506f",
   "outputs": [
    {
     "data": {
      "text/plain": [
       "                                            job_title  \\\n",
       "1                                        data analyst   \n",
       "2   data engineer scientist analyst mid or senior ...   \n",
       "3   lead engineer principal analyst principal engi...   \n",
       "4                               data engineer sr jobs   \n",
       "5                                   gcp data engineer   \n",
       "6                      senior data engineer gcp cloud   \n",
       "7                                       data engineer   \n",
       "8              technology operations business analyst   \n",
       "9                                   data scientist ii   \n",
       "10                 erfahrene r data engineer in m w d   \n",
       "\n",
       "                                           job_skills  \\\n",
       "1          [r, python, sql, nosql, power bi, tableau]   \n",
       "2   [python, sql, c#, azure, airflow, dax, docker,...   \n",
       "3   [python, c++, java, matlab, aws, tensorflow, k...   \n",
       "4   [bash, python, oracle, aws, ansible, puppet, j...   \n",
       "5                                  [python, sql, gcp]   \n",
       "6   [sql, python, java, sql server, gcp, bigquery,...   \n",
       "7   [sql, nosql, gcp, azure, aws, bigquery, databr...   \n",
       "8                       [excel, powerpoint, power bi]   \n",
       "9   [sql, python, r, mongodb, mongodb, sql server,...   \n",
       "10                 [python, databricks, azure, spark]   \n",
       "\n",
       "                                   normalized_bigrams  cluster  \n",
       "1                                      [analyst data]        4  \n",
       "2   [data engineer, analyst mid, engineer scientis...       10  \n",
       "3   [data engineer, analyst principal, engineer le...       14  \n",
       "4               [data engineer, engineer sr, jobs sr]       11  \n",
       "5                           [data engineer, data gcp]       15  \n",
       "6   [data senior, data engineer, cloud gcp, engine...       14  \n",
       "7                                     [data engineer]        3  \n",
       "8   [operations technology, analyst business, busi...       34  \n",
       "9                      [data scientist, ii scientist]       10  \n",
       "10                                    [data engineer]        3  "
      ],
      "text/html": [
       "<div>\n",
       "<style scoped>\n",
       "    .dataframe tbody tr th:only-of-type {\n",
       "        vertical-align: middle;\n",
       "    }\n",
       "\n",
       "    .dataframe tbody tr th {\n",
       "        vertical-align: top;\n",
       "    }\n",
       "\n",
       "    .dataframe thead th {\n",
       "        text-align: right;\n",
       "    }\n",
       "</style>\n",
       "<table border=\"1\" class=\"dataframe\">\n",
       "  <thead>\n",
       "    <tr style=\"text-align: right;\">\n",
       "      <th></th>\n",
       "      <th>job_title</th>\n",
       "      <th>job_skills</th>\n",
       "      <th>normalized_bigrams</th>\n",
       "      <th>cluster</th>\n",
       "    </tr>\n",
       "  </thead>\n",
       "  <tbody>\n",
       "    <tr>\n",
       "      <th>1</th>\n",
       "      <td>data analyst</td>\n",
       "      <td>[r, python, sql, nosql, power bi, tableau]</td>\n",
       "      <td>[analyst data]</td>\n",
       "      <td>4</td>\n",
       "    </tr>\n",
       "    <tr>\n",
       "      <th>2</th>\n",
       "      <td>data engineer scientist analyst mid or senior ...</td>\n",
       "      <td>[python, sql, c#, azure, airflow, dax, docker,...</td>\n",
       "      <td>[data engineer, analyst mid, engineer scientis...</td>\n",
       "      <td>10</td>\n",
       "    </tr>\n",
       "    <tr>\n",
       "      <th>3</th>\n",
       "      <td>lead engineer principal analyst principal engi...</td>\n",
       "      <td>[python, c++, java, matlab, aws, tensorflow, k...</td>\n",
       "      <td>[data engineer, analyst principal, engineer le...</td>\n",
       "      <td>14</td>\n",
       "    </tr>\n",
       "    <tr>\n",
       "      <th>4</th>\n",
       "      <td>data engineer sr jobs</td>\n",
       "      <td>[bash, python, oracle, aws, ansible, puppet, j...</td>\n",
       "      <td>[data engineer, engineer sr, jobs sr]</td>\n",
       "      <td>11</td>\n",
       "    </tr>\n",
       "    <tr>\n",
       "      <th>5</th>\n",
       "      <td>gcp data engineer</td>\n",
       "      <td>[python, sql, gcp]</td>\n",
       "      <td>[data engineer, data gcp]</td>\n",
       "      <td>15</td>\n",
       "    </tr>\n",
       "    <tr>\n",
       "      <th>6</th>\n",
       "      <td>senior data engineer gcp cloud</td>\n",
       "      <td>[sql, python, java, sql server, gcp, bigquery,...</td>\n",
       "      <td>[data senior, data engineer, cloud gcp, engine...</td>\n",
       "      <td>14</td>\n",
       "    </tr>\n",
       "    <tr>\n",
       "      <th>7</th>\n",
       "      <td>data engineer</td>\n",
       "      <td>[sql, nosql, gcp, azure, aws, bigquery, databr...</td>\n",
       "      <td>[data engineer]</td>\n",
       "      <td>3</td>\n",
       "    </tr>\n",
       "    <tr>\n",
       "      <th>8</th>\n",
       "      <td>technology operations business analyst</td>\n",
       "      <td>[excel, powerpoint, power bi]</td>\n",
       "      <td>[operations technology, analyst business, busi...</td>\n",
       "      <td>34</td>\n",
       "    </tr>\n",
       "    <tr>\n",
       "      <th>9</th>\n",
       "      <td>data scientist ii</td>\n",
       "      <td>[sql, python, r, mongodb, mongodb, sql server,...</td>\n",
       "      <td>[data scientist, ii scientist]</td>\n",
       "      <td>10</td>\n",
       "    </tr>\n",
       "    <tr>\n",
       "      <th>10</th>\n",
       "      <td>erfahrene r data engineer in m w d</td>\n",
       "      <td>[python, databricks, azure, spark]</td>\n",
       "      <td>[data engineer]</td>\n",
       "      <td>3</td>\n",
       "    </tr>\n",
       "  </tbody>\n",
       "</table>\n",
       "</div>"
      ]
     },
     "execution_count": 37,
     "metadata": {},
     "output_type": "execute_result"
    }
   ],
   "execution_count": 37
  },
  {
   "metadata": {
    "ExecuteTime": {
     "end_time": "2025-06-23T15:24:29.400056Z",
     "start_time": "2025-06-23T15:24:22.802052Z"
    }
   },
   "cell_type": "code",
   "source": [
    "# save dataframe\n",
    "data_combined.to_pickle('clustered_vacancies_full.pkl')\n",
    "\n",
    "# try:\n",
    "#     data = pd.read_pickle('clustered_vacancies_full.pkl')\n",
    "#     print(\"Данные успешно загружены!\")\n",
    "# except FileNotFoundError:\n",
    "#     print(\"Файл не найден, нужно выполнить кластеризацию сначала\")\n",
    "#     # Здесь ваш код обработки данных"
   ],
   "id": "dba0afd6405662f8",
   "outputs": [],
   "execution_count": 42
  },
  {
   "metadata": {
    "ExecuteTime": {
     "end_time": "2025-06-23T15:21:36.831992Z",
     "start_time": "2025-06-23T15:21:36.825225Z"
    }
   },
   "cell_type": "code",
   "source": "# todo: post-processing of clusters: merge, rename",
   "id": "f4993674991a406e",
   "outputs": [],
   "execution_count": 40
  },
  {
   "metadata": {
    "ExecuteTime": {
     "end_time": "2025-06-23T15:22:01.713418Z",
     "start_time": "2025-06-23T15:22:01.707004Z"
    }
   },
   "cell_type": "code",
   "source": "#todo: for each cluster choose top-k skills",
   "id": "bca5597014b6977",
   "outputs": [],
   "execution_count": 41
  },
  {
   "metadata": {
    "ExecuteTime": {
     "end_time": "2025-06-23T14:56:38.498145300Z",
     "start_time": "2025-06-23T11:33:55.706805Z"
    }
   },
   "cell_type": "code",
   "source": "",
   "id": "39499f78e6e36a4c",
   "outputs": [],
   "execution_count": null
  }
 ],
 "metadata": {
  "kernelspec": {
   "display_name": "Python 3",
   "language": "python",
   "name": "python3"
  },
  "language_info": {
   "codemirror_mode": {
    "name": "ipython",
    "version": 2
   },
   "file_extension": ".py",
   "mimetype": "text/x-python",
   "name": "python",
   "nbconvert_exporter": "python",
   "pygments_lexer": "ipython2",
   "version": "2.7.6"
  }
 },
 "nbformat": 4,
 "nbformat_minor": 5
}
