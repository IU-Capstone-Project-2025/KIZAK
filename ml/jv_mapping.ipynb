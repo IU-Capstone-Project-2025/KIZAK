{
 "cells": [
  {
   "metadata": {},
   "cell_type": "markdown",
   "source": [
    "\n",
    "### 1. Read & clean up data\n",
    "\n",
    "Datasets is open-source and were taken from https://huggingface.co/datasets/arkodeep/jobdata (english vacancies) and https://www.kaggle.com/datasets/vyacheslavpanteleev1/hhru-it-vacancies-from-20211025-to-20211202 (russian vacancies)"
   ],
   "id": "b523da5e64c7fc5"
  },
  {
   "metadata": {},
   "cell_type": "markdown",
   "source": [
    "\n",
    "#### 1. Read\n",
    "\n",
    "We do not need all the data in the tables, so will throw out some (most) of the columns. Also it is good idea to combine datasets\n"
   ],
   "id": "f8029ece1f62066d"
  },
  {
   "cell_type": "code",
   "id": "initial_id",
   "metadata": {
    "collapsed": true,
    "ExecuteTime": {
     "end_time": "2025-06-23T09:55:42.563903Z",
     "start_time": "2025-06-23T09:55:07.364923Z"
    }
   },
   "source": [
    "import pandas as pd\n",
    "\n",
    "data_en = pd.read_csv('vacancies-skills_datasets/jobs_all.csv')\n",
    "data_ru = pd.read_csv('vacancies-skills_datasets/IT_vacancies_full.csv')"
   ],
   "outputs": [],
   "execution_count": 3
  },
  {
   "metadata": {
    "ExecuteTime": {
     "end_time": "2025-06-23T09:55:42.795468Z",
     "start_time": "2025-06-23T09:55:42.617904Z"
    }
   },
   "cell_type": "code",
   "source": "data_en.columns",
   "id": "27ca819255a74d32",
   "outputs": [
    {
     "data": {
      "text/plain": [
       "Index(['job_title_short', 'job_title', 'job_location', 'job_via',\n",
       "       'job_schedule_type', 'job_work_from_home', 'search_location',\n",
       "       'job_posted_date', 'job_no_degree_mention', 'job_health_insurance',\n",
       "       'job_country', 'salary_rate', 'salary_year_avg', 'salary_hour_avg',\n",
       "       'company_name', 'job_skills', 'job_type_skills', 'key_id'],\n",
       "      dtype='object')"
      ]
     },
     "execution_count": 4,
     "metadata": {},
     "output_type": "execute_result"
    }
   ],
   "execution_count": 4
  },
  {
   "metadata": {
    "ExecuteTime": {
     "end_time": "2025-06-23T09:55:42.921449Z",
     "start_time": "2025-06-23T09:55:42.903457Z"
    }
   },
   "cell_type": "code",
   "source": "data_ru.columns",
   "id": "7cb29e3eb11a287d",
   "outputs": [
    {
     "data": {
      "text/plain": [
       "Index(['Ids', 'Employer', 'Name', 'Salary', 'From', 'To', 'Experience',\n",
       "       'Schedule', 'Keys', 'Description', 'Area', 'Professional roles',\n",
       "       'Specializations', 'Profarea names', 'Published at'],\n",
       "      dtype='object')"
      ]
     },
     "execution_count": 5,
     "metadata": {},
     "output_type": "execute_result"
    }
   ],
   "execution_count": 5
  },
  {
   "metadata": {
    "ExecuteTime": {
     "end_time": "2025-06-23T09:55:43.815584Z",
     "start_time": "2025-06-23T09:55:43.024452Z"
    }
   },
   "cell_type": "code",
   "source": [
    "data_en = data_en[['job_title','job_skills']]\n",
    "data_ru = data_ru[['Name','Keys']]"
   ],
   "id": "18e52568f9c2fbe8",
   "outputs": [],
   "execution_count": 6
  },
  {
   "metadata": {
    "ExecuteTime": {
     "end_time": "2025-06-23T09:55:44.236423Z",
     "start_time": "2025-06-23T09:55:43.889587Z"
    }
   },
   "cell_type": "code",
   "source": "data_en.head()",
   "id": "eb7e802570bf3dd8",
   "outputs": [
    {
     "data": {
      "text/plain": [
       "                                           job_title  \\\n",
       "0  Senior Clinical Data Engineer / Principal Clin...   \n",
       "1                                       Data Analyst   \n",
       "2  Data Engineer/Scientist/Analyst, Mid or Senior...   \n",
       "3  LEAD ENGINEER - PRINCIPAL ANALYST - PRINCIPAL ...   \n",
       "4                             Data Engineer- Sr Jobs   \n",
       "\n",
       "                                          job_skills  \n",
       "0                                                NaN  \n",
       "1  ['r', 'python', 'sql', 'nosql', 'power bi', 't...  \n",
       "2  ['python', 'sql', 'c#', 'azure', 'airflow', 'd...  \n",
       "3  ['python', 'c++', 'java', 'matlab', 'aws', 'te...  \n",
       "4  ['bash', 'python', 'oracle', 'aws', 'ansible',...  "
      ],
      "text/html": [
       "<div>\n",
       "<style scoped>\n",
       "    .dataframe tbody tr th:only-of-type {\n",
       "        vertical-align: middle;\n",
       "    }\n",
       "\n",
       "    .dataframe tbody tr th {\n",
       "        vertical-align: top;\n",
       "    }\n",
       "\n",
       "    .dataframe thead th {\n",
       "        text-align: right;\n",
       "    }\n",
       "</style>\n",
       "<table border=\"1\" class=\"dataframe\">\n",
       "  <thead>\n",
       "    <tr style=\"text-align: right;\">\n",
       "      <th></th>\n",
       "      <th>job_title</th>\n",
       "      <th>job_skills</th>\n",
       "    </tr>\n",
       "  </thead>\n",
       "  <tbody>\n",
       "    <tr>\n",
       "      <th>0</th>\n",
       "      <td>Senior Clinical Data Engineer / Principal Clin...</td>\n",
       "      <td>NaN</td>\n",
       "    </tr>\n",
       "    <tr>\n",
       "      <th>1</th>\n",
       "      <td>Data Analyst</td>\n",
       "      <td>['r', 'python', 'sql', 'nosql', 'power bi', 't...</td>\n",
       "    </tr>\n",
       "    <tr>\n",
       "      <th>2</th>\n",
       "      <td>Data Engineer/Scientist/Analyst, Mid or Senior...</td>\n",
       "      <td>['python', 'sql', 'c#', 'azure', 'airflow', 'd...</td>\n",
       "    </tr>\n",
       "    <tr>\n",
       "      <th>3</th>\n",
       "      <td>LEAD ENGINEER - PRINCIPAL ANALYST - PRINCIPAL ...</td>\n",
       "      <td>['python', 'c++', 'java', 'matlab', 'aws', 'te...</td>\n",
       "    </tr>\n",
       "    <tr>\n",
       "      <th>4</th>\n",
       "      <td>Data Engineer- Sr Jobs</td>\n",
       "      <td>['bash', 'python', 'oracle', 'aws', 'ansible',...</td>\n",
       "    </tr>\n",
       "  </tbody>\n",
       "</table>\n",
       "</div>"
      ]
     },
     "execution_count": 7,
     "metadata": {},
     "output_type": "execute_result"
    }
   ],
   "execution_count": 7
  },
  {
   "metadata": {
    "ExecuteTime": {
     "end_time": "2025-06-23T09:55:44.531443Z",
     "start_time": "2025-06-23T09:55:44.467428Z"
    }
   },
   "cell_type": "code",
   "source": "data_ru.head()",
   "id": "3d4165c67e869260",
   "outputs": [
    {
     "data": {
      "text/plain": [
       "                              Name  \\\n",
       "0          Golang Developer (Кипр)   \n",
       "1                Е-mail маркетолог   \n",
       "2  Оператор call-центра (удаленно)   \n",
       "3           Ведущий SMM специалист   \n",
       "4                   UX/UI Designer   \n",
       "\n",
       "                                                Keys  \n",
       "0  ['Docker', 'Golang', 'Redis', 'Английский язык...  \n",
       "1  ['Грамотность', 'Написание текстов', 'Грамотна...  \n",
       "2  ['Клиентоориентированность', 'Ориентация на ре...  \n",
       "3  ['Продвижение бренда', 'Креативность', 'Adobe ...  \n",
       "4  ['UI', 'UX', 'gamedev', 'game design', 'проект...  "
      ],
      "text/html": [
       "<div>\n",
       "<style scoped>\n",
       "    .dataframe tbody tr th:only-of-type {\n",
       "        vertical-align: middle;\n",
       "    }\n",
       "\n",
       "    .dataframe tbody tr th {\n",
       "        vertical-align: top;\n",
       "    }\n",
       "\n",
       "    .dataframe thead th {\n",
       "        text-align: right;\n",
       "    }\n",
       "</style>\n",
       "<table border=\"1\" class=\"dataframe\">\n",
       "  <thead>\n",
       "    <tr style=\"text-align: right;\">\n",
       "      <th></th>\n",
       "      <th>Name</th>\n",
       "      <th>Keys</th>\n",
       "    </tr>\n",
       "  </thead>\n",
       "  <tbody>\n",
       "    <tr>\n",
       "      <th>0</th>\n",
       "      <td>Golang Developer (Кипр)</td>\n",
       "      <td>['Docker', 'Golang', 'Redis', 'Английский язык...</td>\n",
       "    </tr>\n",
       "    <tr>\n",
       "      <th>1</th>\n",
       "      <td>Е-mail маркетолог</td>\n",
       "      <td>['Грамотность', 'Написание текстов', 'Грамотна...</td>\n",
       "    </tr>\n",
       "    <tr>\n",
       "      <th>2</th>\n",
       "      <td>Оператор call-центра (удаленно)</td>\n",
       "      <td>['Клиентоориентированность', 'Ориентация на ре...</td>\n",
       "    </tr>\n",
       "    <tr>\n",
       "      <th>3</th>\n",
       "      <td>Ведущий SMM специалист</td>\n",
       "      <td>['Продвижение бренда', 'Креативность', 'Adobe ...</td>\n",
       "    </tr>\n",
       "    <tr>\n",
       "      <th>4</th>\n",
       "      <td>UX/UI Designer</td>\n",
       "      <td>['UI', 'UX', 'gamedev', 'game design', 'проект...</td>\n",
       "    </tr>\n",
       "  </tbody>\n",
       "</table>\n",
       "</div>"
      ]
     },
     "execution_count": 8,
     "metadata": {},
     "output_type": "execute_result"
    }
   ],
   "execution_count": 8
  },
  {
   "metadata": {
    "ExecuteTime": {
     "end_time": "2025-06-23T09:55:45.285507Z",
     "start_time": "2025-06-23T09:55:44.923963Z"
    }
   },
   "cell_type": "code",
   "source": [
    "data_ru.rename(columns = {'Name': 'job_title', 'Keys': 'job_skills'}, inplace = True)\n",
    "\n",
    "data_combined = pd.concat([data_en, data_ru], ignore_index=True)\n",
    "data_combined.head()"
   ],
   "id": "4ef2ab8090a283ac",
   "outputs": [
    {
     "data": {
      "text/plain": [
       "                                           job_title  \\\n",
       "0  Senior Clinical Data Engineer / Principal Clin...   \n",
       "1                                       Data Analyst   \n",
       "2  Data Engineer/Scientist/Analyst, Mid or Senior...   \n",
       "3  LEAD ENGINEER - PRINCIPAL ANALYST - PRINCIPAL ...   \n",
       "4                             Data Engineer- Sr Jobs   \n",
       "\n",
       "                                          job_skills  \n",
       "0                                                NaN  \n",
       "1  ['r', 'python', 'sql', 'nosql', 'power bi', 't...  \n",
       "2  ['python', 'sql', 'c#', 'azure', 'airflow', 'd...  \n",
       "3  ['python', 'c++', 'java', 'matlab', 'aws', 'te...  \n",
       "4  ['bash', 'python', 'oracle', 'aws', 'ansible',...  "
      ],
      "text/html": [
       "<div>\n",
       "<style scoped>\n",
       "    .dataframe tbody tr th:only-of-type {\n",
       "        vertical-align: middle;\n",
       "    }\n",
       "\n",
       "    .dataframe tbody tr th {\n",
       "        vertical-align: top;\n",
       "    }\n",
       "\n",
       "    .dataframe thead th {\n",
       "        text-align: right;\n",
       "    }\n",
       "</style>\n",
       "<table border=\"1\" class=\"dataframe\">\n",
       "  <thead>\n",
       "    <tr style=\"text-align: right;\">\n",
       "      <th></th>\n",
       "      <th>job_title</th>\n",
       "      <th>job_skills</th>\n",
       "    </tr>\n",
       "  </thead>\n",
       "  <tbody>\n",
       "    <tr>\n",
       "      <th>0</th>\n",
       "      <td>Senior Clinical Data Engineer / Principal Clin...</td>\n",
       "      <td>NaN</td>\n",
       "    </tr>\n",
       "    <tr>\n",
       "      <th>1</th>\n",
       "      <td>Data Analyst</td>\n",
       "      <td>['r', 'python', 'sql', 'nosql', 'power bi', 't...</td>\n",
       "    </tr>\n",
       "    <tr>\n",
       "      <th>2</th>\n",
       "      <td>Data Engineer/Scientist/Analyst, Mid or Senior...</td>\n",
       "      <td>['python', 'sql', 'c#', 'azure', 'airflow', 'd...</td>\n",
       "    </tr>\n",
       "    <tr>\n",
       "      <th>3</th>\n",
       "      <td>LEAD ENGINEER - PRINCIPAL ANALYST - PRINCIPAL ...</td>\n",
       "      <td>['python', 'c++', 'java', 'matlab', 'aws', 'te...</td>\n",
       "    </tr>\n",
       "    <tr>\n",
       "      <th>4</th>\n",
       "      <td>Data Engineer- Sr Jobs</td>\n",
       "      <td>['bash', 'python', 'oracle', 'aws', 'ansible',...</td>\n",
       "    </tr>\n",
       "  </tbody>\n",
       "</table>\n",
       "</div>"
      ]
     },
     "execution_count": 9,
     "metadata": {},
     "output_type": "execute_result"
    }
   ],
   "execution_count": 9
  },
  {
   "metadata": {},
   "cell_type": "markdown",
   "source": [
    "\n",
    "#### 2. Clean up text\n",
    "\n",
    "Transfer everything to the lower register, remove Nans and excess punctiation, convert skills into arrays etc"
   ],
   "id": "11f164d08e1d4358"
  },
  {
   "metadata": {
    "ExecuteTime": {
     "end_time": "2025-06-23T09:57:57.177766Z",
     "start_time": "2025-06-23T09:55:45.614501Z"
    }
   },
   "cell_type": "code",
   "source": [
    "import re\n",
    "import ast\n",
    "\n",
    "data_combined = data_combined.dropna()\n",
    "data_combined['job_skills'] = data_combined['job_skills'].apply(ast.literal_eval)\n",
    "\n",
    "def clean_text(text):\n",
    "    text = text.lower()\n",
    "    text = re.sub(r'[-/()]', ' ', text)\n",
    "    text = re.sub(r'[^a-zA-Zа-яА-Я0-9+#+.]', ' ', text)\n",
    "    text = re.sub(r'\\b\\d+\\b', '', text)\n",
    "    text = re.sub(r'\\s+', ' ', text).strip()\n",
    "    return text\n",
    "\n",
    "def clean_cell(cell):\n",
    "    if isinstance(cell, list):\n",
    "        return [clean_text(item) for item in cell if isinstance(item, str)]\n",
    "    elif isinstance(cell, str):\n",
    "        return clean_text(cell)\n",
    "    else:\n",
    "        return cell\n",
    "\n",
    "for col in data_combined.columns:\n",
    "    data_combined[col] = data_combined[col].apply(clean_cell)\n"
   ],
   "id": "9c4b62654dc8df13",
   "outputs": [],
   "execution_count": 10
  },
  {
   "metadata": {
    "ExecuteTime": {
     "end_time": "2025-06-23T09:57:57.498718Z",
     "start_time": "2025-06-23T09:57:57.448788Z"
    }
   },
   "cell_type": "code",
   "source": "data_combined.head(10)",
   "id": "3a7125f9cfc7c6f3",
   "outputs": [
    {
     "data": {
      "text/plain": [
       "                                            job_title  \\\n",
       "1                                        data analyst   \n",
       "2   data engineer scientist analyst mid or senior ...   \n",
       "3   lead engineer principal analyst principal engi...   \n",
       "4                               data engineer sr jobs   \n",
       "5                                   gcp data engineer   \n",
       "6                      senior data engineer gcp cloud   \n",
       "7                                       data engineer   \n",
       "8              technology operations business analyst   \n",
       "9                                   data scientist ii   \n",
       "10                 erfahrene r data engineer in m w d   \n",
       "\n",
       "                                           job_skills  \n",
       "1          [r, python, sql, nosql, power bi, tableau]  \n",
       "2   [python, sql, c#, azure, airflow, dax, docker,...  \n",
       "3   [python, c++, java, matlab, aws, tensorflow, k...  \n",
       "4   [bash, python, oracle, aws, ansible, puppet, j...  \n",
       "5                                  [python, sql, gcp]  \n",
       "6   [sql, python, java, sql server, gcp, bigquery,...  \n",
       "7   [sql, nosql, gcp, azure, aws, bigquery, databr...  \n",
       "8                       [excel, powerpoint, power bi]  \n",
       "9   [sql, python, r, mongodb, mongodb, sql server,...  \n",
       "10                 [python, databricks, azure, spark]  "
      ],
      "text/html": [
       "<div>\n",
       "<style scoped>\n",
       "    .dataframe tbody tr th:only-of-type {\n",
       "        vertical-align: middle;\n",
       "    }\n",
       "\n",
       "    .dataframe tbody tr th {\n",
       "        vertical-align: top;\n",
       "    }\n",
       "\n",
       "    .dataframe thead th {\n",
       "        text-align: right;\n",
       "    }\n",
       "</style>\n",
       "<table border=\"1\" class=\"dataframe\">\n",
       "  <thead>\n",
       "    <tr style=\"text-align: right;\">\n",
       "      <th></th>\n",
       "      <th>job_title</th>\n",
       "      <th>job_skills</th>\n",
       "    </tr>\n",
       "  </thead>\n",
       "  <tbody>\n",
       "    <tr>\n",
       "      <th>1</th>\n",
       "      <td>data analyst</td>\n",
       "      <td>[r, python, sql, nosql, power bi, tableau]</td>\n",
       "    </tr>\n",
       "    <tr>\n",
       "      <th>2</th>\n",
       "      <td>data engineer scientist analyst mid or senior ...</td>\n",
       "      <td>[python, sql, c#, azure, airflow, dax, docker,...</td>\n",
       "    </tr>\n",
       "    <tr>\n",
       "      <th>3</th>\n",
       "      <td>lead engineer principal analyst principal engi...</td>\n",
       "      <td>[python, c++, java, matlab, aws, tensorflow, k...</td>\n",
       "    </tr>\n",
       "    <tr>\n",
       "      <th>4</th>\n",
       "      <td>data engineer sr jobs</td>\n",
       "      <td>[bash, python, oracle, aws, ansible, puppet, j...</td>\n",
       "    </tr>\n",
       "    <tr>\n",
       "      <th>5</th>\n",
       "      <td>gcp data engineer</td>\n",
       "      <td>[python, sql, gcp]</td>\n",
       "    </tr>\n",
       "    <tr>\n",
       "      <th>6</th>\n",
       "      <td>senior data engineer gcp cloud</td>\n",
       "      <td>[sql, python, java, sql server, gcp, bigquery,...</td>\n",
       "    </tr>\n",
       "    <tr>\n",
       "      <th>7</th>\n",
       "      <td>data engineer</td>\n",
       "      <td>[sql, nosql, gcp, azure, aws, bigquery, databr...</td>\n",
       "    </tr>\n",
       "    <tr>\n",
       "      <th>8</th>\n",
       "      <td>technology operations business analyst</td>\n",
       "      <td>[excel, powerpoint, power bi]</td>\n",
       "    </tr>\n",
       "    <tr>\n",
       "      <th>9</th>\n",
       "      <td>data scientist ii</td>\n",
       "      <td>[sql, python, r, mongodb, mongodb, sql server,...</td>\n",
       "    </tr>\n",
       "    <tr>\n",
       "      <th>10</th>\n",
       "      <td>erfahrene r data engineer in m w d</td>\n",
       "      <td>[python, databricks, azure, spark]</td>\n",
       "    </tr>\n",
       "  </tbody>\n",
       "</table>\n",
       "</div>"
      ]
     },
     "execution_count": 11,
     "metadata": {},
     "output_type": "execute_result"
    }
   ],
   "execution_count": 11
  },
  {
   "metadata": {},
   "cell_type": "markdown",
   "source": [
    "\n",
    "### 3. Work with job titles\n",
    "Plan is follows:\n",
    "1. Remove stop-words\n",
    "2. Start combining by using n-grams. They help to match patterns like 'pyhon developer' and 'developer python'\n",
    "3. Create embeddings using sentence transformers or tf-idf\n",
    "4. Apply clusterization to embeddings using dbscan or hdbscan or agglomerative clustering"
   ],
   "id": "e56cd7eb427c068d"
  },
  {
   "metadata": {},
   "cell_type": "markdown",
   "source": "#### 3.1 No stop words",
   "id": "141ebf84175224ef"
  },
  {
   "metadata": {
    "ExecuteTime": {
     "end_time": "2025-06-23T09:58:02.151621Z",
     "start_time": "2025-06-23T09:57:57.760720Z"
    }
   },
   "cell_type": "code",
   "source": [
    "import nltk\n",
    "from nltk.corpus import stopwords\n",
    "nltk.download('stopwords')\n",
    "\n",
    "stop_words_en = set(stopwords.words('english'))\n",
    "stop_words_ru = set(stopwords.words('russian'))"
   ],
   "id": "14b8eef59ed8d73f",
   "outputs": [
    {
     "name": "stderr",
     "output_type": "stream",
     "text": [
      "[nltk_data] Downloading package stopwords to\n",
      "[nltk_data]     C:\\Users\\user\\AppData\\Roaming\\nltk_data...\n",
      "[nltk_data]   Package stopwords is already up-to-date!\n"
     ]
    }
   ],
   "execution_count": 12
  },
  {
   "metadata": {
    "ExecuteTime": {
     "end_time": "2025-06-23T09:58:02.215478Z",
     "start_time": "2025-06-23T09:58:02.204583Z"
    }
   },
   "cell_type": "code",
   "source": [
    "def remove_stopwords(text):\n",
    "    words = text.lower().split()\n",
    "    filtered_words = [w for w in words if w not in stop_words_en and w not in stop_words_ru]\n",
    "    return filtered_words"
   ],
   "id": "54929e3958974d66",
   "outputs": [],
   "execution_count": 13
  },
  {
   "metadata": {
    "ExecuteTime": {
     "end_time": "2025-06-23T09:58:05.593475Z",
     "start_time": "2025-06-23T09:58:02.238480Z"
    }
   },
   "cell_type": "code",
   "source": [
    "sentences = data_combined['job_title'].apply(remove_stopwords).tolist()\n",
    "\n",
    "print(sentences[:10])\n",
    "print(sentences[-10:])"
   ],
   "id": "d89886978f5b5dba",
   "outputs": [
    {
     "name": "stdout",
     "output_type": "stream",
     "text": [
      "[['data', 'analyst'], ['data', 'engineer', 'scientist', 'analyst', 'mid', 'senior', 'f', 'x'], ['lead', 'engineer', 'principal', 'analyst', 'principal', 'engineer', 'data...'], ['data', 'engineer', 'sr', 'jobs'], ['gcp', 'data', 'engineer'], ['senior', 'data', 'engineer', 'gcp', 'cloud'], ['data', 'engineer'], ['technology', 'operations', 'business', 'analyst'], ['data', 'scientist', 'ii'], ['erfahrene', 'r', 'data', 'engineer', 'w']]\n",
      "[['администратор', 'баз', 'данных', 'database', 'administrator'], ['lead', 'data', 'scientist'], ['инженер', 'категории'], ['специалист', 'поддержки', 'приложений'], ['системный', 'аналитик', 'dwh'], ['монтажник', 'слаботочных', 'систем'], ['системный', 'администратор'], ['менеджер', 'работе', 'маркетплейсами', 'офис'], ['менеджер', 'продажам', 'серверное', 'оборудование', 'b2b'], ['product', 'analyst']]\n"
     ]
    }
   ],
   "execution_count": 14
  },
  {
   "metadata": {},
   "cell_type": "markdown",
   "source": [
    "#### 3.2 N-gramms\n",
    "\n",
    "* gensim - not cool\n",
    "* Scikit-learn CountVectorizer - applied\n",
    "* RAKE / TextRank / YAKE (Unsupervised Keyword Extractors) - not tried"
   ],
   "id": "b1416de6166fcf15"
  },
  {
   "metadata": {},
   "cell_type": "markdown",
   "source": "##### gensim",
   "id": "454702840af367b4"
  },
  {
   "metadata": {
    "ExecuteTime": {
     "end_time": "2025-06-23T09:58:05.708930Z",
     "start_time": "2025-06-23T09:58:05.697481Z"
    }
   },
   "cell_type": "code",
   "source": [
    "# from gensim.models import Phrases\n",
    "# from gensim.models.phrases import Phraser"
   ],
   "id": "6b6a058017fea6ff",
   "outputs": [],
   "execution_count": 15
  },
  {
   "metadata": {
    "ExecuteTime": {
     "end_time": "2025-06-23T09:58:05.797495Z",
     "start_time": "2025-06-23T09:58:05.781930Z"
    }
   },
   "cell_type": "code",
   "source": [
    "# # create bi-gram model\n",
    "# bigram_model = Phrases(sentences, min_count=2, threshold=1)\n",
    "# # min_count=50 — ignore pairs that apper <= 50 times\n",
    "# # threshold=10 — less phrazes\n",
    "#\n",
    "# bigram_model.add_vocab(sentences)\n",
    "#\n",
    "#\n",
    "# bigram_phraser = Phraser(bigram_model)  # to fasten up\n"
   ],
   "id": "35258df4d17a2f07",
   "outputs": [],
   "execution_count": 16
  },
  {
   "metadata": {
    "ExecuteTime": {
     "end_time": "2025-06-23T09:58:05.877194Z",
     "start_time": "2025-06-23T09:58:05.860282Z"
    }
   },
   "cell_type": "code",
   "source": [
    "# data_combined['job_title_bigram'] = [bigram_phraser[sentence] for sentence in sentences]\n",
    "#\n",
    "# print(len(bigram_phraser.phrasegrams))\n",
    "# print(list(bigram_phraser.phrasegrams)[:20])  # первые 20 биграмм\n"
   ],
   "id": "11ba6c1e2eab4864",
   "outputs": [],
   "execution_count": 17
  },
  {
   "metadata": {
    "ExecuteTime": {
     "end_time": "2025-06-23T09:58:05.914187Z",
     "start_time": "2025-06-23T09:58:05.903188Z"
    }
   },
   "cell_type": "code",
   "source": "# data_combined.head(20)",
   "id": "249bb87c7e4da720",
   "outputs": [],
   "execution_count": 18
  },
  {
   "metadata": {},
   "cell_type": "markdown",
   "source": "##### count vectorizer",
   "id": "a460ce7f08a944dc"
  },
  {
   "metadata": {
    "ExecuteTime": {
     "end_time": "2025-06-23T09:58:05.955356Z",
     "start_time": "2025-06-23T09:58:05.946196Z"
    }
   },
   "cell_type": "code",
   "source": [
    "from sklearn.feature_extraction.text import CountVectorizer\n",
    "vectorizer = CountVectorizer(ngram_range=(2, 2), min_df=3)"
   ],
   "id": "d71481bda1bcb925",
   "outputs": [],
   "execution_count": 19
  },
  {
   "metadata": {
    "ExecuteTime": {
     "end_time": "2025-06-23T09:58:24.738920Z",
     "start_time": "2025-06-23T09:58:05.990376Z"
    }
   },
   "cell_type": "code",
   "source": [
    "texts = [' '.join(tokens) for tokens in sentences]\n",
    "# text -> frequency matrix\n",
    "X = vectorizer.fit_transform(texts)\n",
    "\n",
    "# get bigrams and frequences\n",
    "bigrams = vectorizer.get_feature_names_out()\n",
    "counts = X.sum(axis=0).A1\n",
    "\n",
    "# to see\n",
    "bigrams = vectorizer.get_feature_names_out()\n",
    "bigram_freq = pd.DataFrame({'bigram': bigrams, 'count': counts})\n",
    "bigram_freq = bigram_freq.sort_values(by='count', ascending=False)\n",
    "print(bigram_freq.head(20))\n"
   ],
   "id": "45364c78b39984c2",
   "outputs": [
    {
     "name": "stdout",
     "output_type": "stream",
     "text": [
      "                      bigram   count\n",
      "10337          data engineer  182609\n",
      "10106           data analyst  144815\n",
      "10740         data scientist  137974\n",
      "35841            senior data   70995\n",
      "10732           data science   21799\n",
      "36950      software engineer   15301\n",
      "23428              lead data   15266\n",
      "10118         data analytics   12603\n",
      "24403       machine learning   11211\n",
      "37743                sr data   11123\n",
      "6494                big data   10615\n",
      "6909        business analyst    9563\n",
      "14128          engineer data    9115\n",
      "6965   business intelligence    8519\n",
      "22738            junior data    7911\n",
      "10341       data engineering    7783\n",
      "5714              azure data    7314\n",
      "2004            analyst data    6490\n",
      "23760      learning engineer    6483\n",
      "6934           business data    6159\n"
     ]
    }
   ],
   "execution_count": 20
  },
  {
   "metadata": {
    "ExecuteTime": {
     "end_time": "2025-06-23T09:58:24.799754Z",
     "start_time": "2025-06-23T09:58:24.782935Z"
    }
   },
   "cell_type": "code",
   "source": "print(bigram_freq.head(20))",
   "id": "35e2cf4c22743fe8",
   "outputs": [
    {
     "name": "stdout",
     "output_type": "stream",
     "text": [
      "                      bigram   count\n",
      "10337          data engineer  182609\n",
      "10106           data analyst  144815\n",
      "10740         data scientist  137974\n",
      "35841            senior data   70995\n",
      "10732           data science   21799\n",
      "36950      software engineer   15301\n",
      "23428              lead data   15266\n",
      "10118         data analytics   12603\n",
      "24403       machine learning   11211\n",
      "37743                sr data   11123\n",
      "6494                big data   10615\n",
      "6909        business analyst    9563\n",
      "14128          engineer data    9115\n",
      "6965   business intelligence    8519\n",
      "22738            junior data    7911\n",
      "10341       data engineering    7783\n",
      "5714              azure data    7314\n",
      "2004            analyst data    6490\n",
      "23760      learning engineer    6483\n",
      "6934           business data    6159\n"
     ]
    }
   ],
   "execution_count": 21
  },
  {
   "metadata": {
    "ExecuteTime": {
     "end_time": "2025-06-23T09:58:25.066152Z",
     "start_time": "2025-06-23T09:58:24.856768Z"
    }
   },
   "cell_type": "code",
   "source": [
    "def normalize_bigram_str(bigram):\n",
    "    words = bigram.split()\n",
    "    if len(words) == 2:\n",
    "        return \" \".join(sorted(words))\n",
    "    return bigram\n",
    "\n",
    "bigram_freq['bigram_normalized'] = bigram_freq['bigram'].apply(normalize_bigram_str)\n",
    "\n",
    "bigram_freq_norm = bigram_freq.groupby('bigram_normalized', as_index=False)['count'].sum()\n",
    "bigram_freq_norm = bigram_freq_norm.sort_values(by='count', ascending=False)\n",
    "\n",
    "print(bigram_freq_norm.head(100))"
   ],
   "id": "aaa1efe9f1fedaaa",
   "outputs": [
    {
     "name": "stdout",
     "output_type": "stream",
     "text": [
      "       bigram_normalized   count\n",
      "15655      data engineer  191724\n",
      "3141        analyst data  151305\n",
      "17061     data scientist  140094\n",
      "17102        data senior   71258\n",
      "17052       data science   22392\n",
      "...                  ...     ...\n",
      "12467      clinical data    1398\n",
      "31509  machine scientist    1395\n",
      "7262    associate senior    1393\n",
      "3325    analyst engineer    1379\n",
      "15973          data head    1368\n",
      "\n",
      "[100 rows x 2 columns]\n"
     ]
    }
   ],
   "execution_count": 22
  },
  {
   "metadata": {
    "ExecuteTime": {
     "end_time": "2025-06-23T09:58:25.121330Z",
     "start_time": "2025-06-23T09:58:25.101165Z"
    }
   },
   "cell_type": "code",
   "source": [
    "if 'job_title_bigram' in data_combined.columns:\n",
    "    data_combined.drop(columns=['job_title_bigram'], inplace=True)\n",
    "\n",
    "data_combined.head()"
   ],
   "id": "45f83ffd75a152c8",
   "outputs": [
    {
     "data": {
      "text/plain": [
       "                                           job_title  \\\n",
       "1                                       data analyst   \n",
       "2  data engineer scientist analyst mid or senior ...   \n",
       "3  lead engineer principal analyst principal engi...   \n",
       "4                              data engineer sr jobs   \n",
       "5                                  gcp data engineer   \n",
       "\n",
       "                                          job_skills  \n",
       "1         [r, python, sql, nosql, power bi, tableau]  \n",
       "2  [python, sql, c#, azure, airflow, dax, docker,...  \n",
       "3  [python, c++, java, matlab, aws, tensorflow, k...  \n",
       "4  [bash, python, oracle, aws, ansible, puppet, j...  \n",
       "5                                 [python, sql, gcp]  "
      ],
      "text/html": [
       "<div>\n",
       "<style scoped>\n",
       "    .dataframe tbody tr th:only-of-type {\n",
       "        vertical-align: middle;\n",
       "    }\n",
       "\n",
       "    .dataframe tbody tr th {\n",
       "        vertical-align: top;\n",
       "    }\n",
       "\n",
       "    .dataframe thead th {\n",
       "        text-align: right;\n",
       "    }\n",
       "</style>\n",
       "<table border=\"1\" class=\"dataframe\">\n",
       "  <thead>\n",
       "    <tr style=\"text-align: right;\">\n",
       "      <th></th>\n",
       "      <th>job_title</th>\n",
       "      <th>job_skills</th>\n",
       "    </tr>\n",
       "  </thead>\n",
       "  <tbody>\n",
       "    <tr>\n",
       "      <th>1</th>\n",
       "      <td>data analyst</td>\n",
       "      <td>[r, python, sql, nosql, power bi, tableau]</td>\n",
       "    </tr>\n",
       "    <tr>\n",
       "      <th>2</th>\n",
       "      <td>data engineer scientist analyst mid or senior ...</td>\n",
       "      <td>[python, sql, c#, azure, airflow, dax, docker,...</td>\n",
       "    </tr>\n",
       "    <tr>\n",
       "      <th>3</th>\n",
       "      <td>lead engineer principal analyst principal engi...</td>\n",
       "      <td>[python, c++, java, matlab, aws, tensorflow, k...</td>\n",
       "    </tr>\n",
       "    <tr>\n",
       "      <th>4</th>\n",
       "      <td>data engineer sr jobs</td>\n",
       "      <td>[bash, python, oracle, aws, ansible, puppet, j...</td>\n",
       "    </tr>\n",
       "    <tr>\n",
       "      <th>5</th>\n",
       "      <td>gcp data engineer</td>\n",
       "      <td>[python, sql, gcp]</td>\n",
       "    </tr>\n",
       "  </tbody>\n",
       "</table>\n",
       "</div>"
      ]
     },
     "execution_count": 23,
     "metadata": {},
     "output_type": "execute_result"
    }
   ],
   "execution_count": 23
  },
  {
   "metadata": {
    "ExecuteTime": {
     "end_time": "2025-06-23T09:58:38.267564Z",
     "start_time": "2025-06-23T09:58:25.143325Z"
    }
   },
   "cell_type": "code",
   "source": [
    "top_bigrams_set = set(bigram_freq['bigram_normalized'])\n",
    "\n",
    "def extract_normalized_bigrams(text):\n",
    "    words = re.findall(r'\\w+', text.lower())\n",
    "    pairs = set()\n",
    "    for i in range(len(words) - 1):\n",
    "        bigram = \" \".join(sorted([words[i], words[i+1]]))\n",
    "        if bigram in top_bigrams_set:\n",
    "            pairs.add(bigram)\n",
    "    return list(pairs)\n",
    "\n",
    "data_combined['normalized_bigrams'] = data_combined['job_title'].apply(extract_normalized_bigrams)"
   ],
   "id": "f88a72e11b516f10",
   "outputs": [],
   "execution_count": 24
  },
  {
   "metadata": {
    "ExecuteTime": {
     "end_time": "2025-06-23T09:58:38.322018Z",
     "start_time": "2025-06-23T09:58:38.285592Z"
    }
   },
   "cell_type": "code",
   "source": "data_combined.head()",
   "id": "9236ba39364247d7",
   "outputs": [
    {
     "data": {
      "text/plain": [
       "                                           job_title  \\\n",
       "1                                       data analyst   \n",
       "2  data engineer scientist analyst mid or senior ...   \n",
       "3  lead engineer principal analyst principal engi...   \n",
       "4                              data engineer sr jobs   \n",
       "5                                  gcp data engineer   \n",
       "\n",
       "                                          job_skills  \\\n",
       "1         [r, python, sql, nosql, power bi, tableau]   \n",
       "2  [python, sql, c#, azure, airflow, dax, docker,...   \n",
       "3  [python, c++, java, matlab, aws, tensorflow, k...   \n",
       "4  [bash, python, oracle, aws, ansible, puppet, j...   \n",
       "5                                 [python, sql, gcp]   \n",
       "\n",
       "                                  normalized_bigrams  \n",
       "1                                     [analyst data]  \n",
       "2  [analyst mid, engineer scientist, data enginee...  \n",
       "3  [engineer principal, engineer lead, data engin...  \n",
       "4              [data engineer, engineer sr, jobs sr]  \n",
       "5                          [data engineer, data gcp]  "
      ],
      "text/html": [
       "<div>\n",
       "<style scoped>\n",
       "    .dataframe tbody tr th:only-of-type {\n",
       "        vertical-align: middle;\n",
       "    }\n",
       "\n",
       "    .dataframe tbody tr th {\n",
       "        vertical-align: top;\n",
       "    }\n",
       "\n",
       "    .dataframe thead th {\n",
       "        text-align: right;\n",
       "    }\n",
       "</style>\n",
       "<table border=\"1\" class=\"dataframe\">\n",
       "  <thead>\n",
       "    <tr style=\"text-align: right;\">\n",
       "      <th></th>\n",
       "      <th>job_title</th>\n",
       "      <th>job_skills</th>\n",
       "      <th>normalized_bigrams</th>\n",
       "    </tr>\n",
       "  </thead>\n",
       "  <tbody>\n",
       "    <tr>\n",
       "      <th>1</th>\n",
       "      <td>data analyst</td>\n",
       "      <td>[r, python, sql, nosql, power bi, tableau]</td>\n",
       "      <td>[analyst data]</td>\n",
       "    </tr>\n",
       "    <tr>\n",
       "      <th>2</th>\n",
       "      <td>data engineer scientist analyst mid or senior ...</td>\n",
       "      <td>[python, sql, c#, azure, airflow, dax, docker,...</td>\n",
       "      <td>[analyst mid, engineer scientist, data enginee...</td>\n",
       "    </tr>\n",
       "    <tr>\n",
       "      <th>3</th>\n",
       "      <td>lead engineer principal analyst principal engi...</td>\n",
       "      <td>[python, c++, java, matlab, aws, tensorflow, k...</td>\n",
       "      <td>[engineer principal, engineer lead, data engin...</td>\n",
       "    </tr>\n",
       "    <tr>\n",
       "      <th>4</th>\n",
       "      <td>data engineer sr jobs</td>\n",
       "      <td>[bash, python, oracle, aws, ansible, puppet, j...</td>\n",
       "      <td>[data engineer, engineer sr, jobs sr]</td>\n",
       "    </tr>\n",
       "    <tr>\n",
       "      <th>5</th>\n",
       "      <td>gcp data engineer</td>\n",
       "      <td>[python, sql, gcp]</td>\n",
       "      <td>[data engineer, data gcp]</td>\n",
       "    </tr>\n",
       "  </tbody>\n",
       "</table>\n",
       "</div>"
      ]
     },
     "execution_count": 25,
     "metadata": {},
     "output_type": "execute_result"
    }
   ],
   "execution_count": 25
  },
  {
   "metadata": {},
   "cell_type": "markdown",
   "source": [
    "#### 3.3 Embeddings\n",
    "\n",
    "Since we already get bigrams, better to use TF-IDF instead of SentenceTransformers. Also they are computationaly cheaper"
   ],
   "id": "299423ae491081c7"
  },
  {
   "metadata": {
    "ExecuteTime": {
     "end_time": "2025-06-23T09:58:38.447645Z",
     "start_time": "2025-06-23T09:58:38.373037Z"
    }
   },
   "cell_type": "code",
   "source": "data_combined.head()",
   "id": "11d4ab6d4cc7b1c0",
   "outputs": [
    {
     "data": {
      "text/plain": [
       "                                           job_title  \\\n",
       "1                                       data analyst   \n",
       "2  data engineer scientist analyst mid or senior ...   \n",
       "3  lead engineer principal analyst principal engi...   \n",
       "4                              data engineer sr jobs   \n",
       "5                                  gcp data engineer   \n",
       "\n",
       "                                          job_skills  \\\n",
       "1         [r, python, sql, nosql, power bi, tableau]   \n",
       "2  [python, sql, c#, azure, airflow, dax, docker,...   \n",
       "3  [python, c++, java, matlab, aws, tensorflow, k...   \n",
       "4  [bash, python, oracle, aws, ansible, puppet, j...   \n",
       "5                                 [python, sql, gcp]   \n",
       "\n",
       "                                  normalized_bigrams  \n",
       "1                                     [analyst data]  \n",
       "2  [analyst mid, engineer scientist, data enginee...  \n",
       "3  [engineer principal, engineer lead, data engin...  \n",
       "4              [data engineer, engineer sr, jobs sr]  \n",
       "5                          [data engineer, data gcp]  "
      ],
      "text/html": [
       "<div>\n",
       "<style scoped>\n",
       "    .dataframe tbody tr th:only-of-type {\n",
       "        vertical-align: middle;\n",
       "    }\n",
       "\n",
       "    .dataframe tbody tr th {\n",
       "        vertical-align: top;\n",
       "    }\n",
       "\n",
       "    .dataframe thead th {\n",
       "        text-align: right;\n",
       "    }\n",
       "</style>\n",
       "<table border=\"1\" class=\"dataframe\">\n",
       "  <thead>\n",
       "    <tr style=\"text-align: right;\">\n",
       "      <th></th>\n",
       "      <th>job_title</th>\n",
       "      <th>job_skills</th>\n",
       "      <th>normalized_bigrams</th>\n",
       "    </tr>\n",
       "  </thead>\n",
       "  <tbody>\n",
       "    <tr>\n",
       "      <th>1</th>\n",
       "      <td>data analyst</td>\n",
       "      <td>[r, python, sql, nosql, power bi, tableau]</td>\n",
       "      <td>[analyst data]</td>\n",
       "    </tr>\n",
       "    <tr>\n",
       "      <th>2</th>\n",
       "      <td>data engineer scientist analyst mid or senior ...</td>\n",
       "      <td>[python, sql, c#, azure, airflow, dax, docker,...</td>\n",
       "      <td>[analyst mid, engineer scientist, data enginee...</td>\n",
       "    </tr>\n",
       "    <tr>\n",
       "      <th>3</th>\n",
       "      <td>lead engineer principal analyst principal engi...</td>\n",
       "      <td>[python, c++, java, matlab, aws, tensorflow, k...</td>\n",
       "      <td>[engineer principal, engineer lead, data engin...</td>\n",
       "    </tr>\n",
       "    <tr>\n",
       "      <th>4</th>\n",
       "      <td>data engineer sr jobs</td>\n",
       "      <td>[bash, python, oracle, aws, ansible, puppet, j...</td>\n",
       "      <td>[data engineer, engineer sr, jobs sr]</td>\n",
       "    </tr>\n",
       "    <tr>\n",
       "      <th>5</th>\n",
       "      <td>gcp data engineer</td>\n",
       "      <td>[python, sql, gcp]</td>\n",
       "      <td>[data engineer, data gcp]</td>\n",
       "    </tr>\n",
       "  </tbody>\n",
       "</table>\n",
       "</div>"
      ]
     },
     "execution_count": 26,
     "metadata": {},
     "output_type": "execute_result"
    }
   ],
   "execution_count": 26
  },
  {
   "metadata": {
    "ExecuteTime": {
     "end_time": "2025-06-23T09:58:38.701119Z",
     "start_time": "2025-06-23T09:58:38.678664Z"
    }
   },
   "cell_type": "code",
   "source": "from sklearn.feature_extraction.text import TfidfVectorizer",
   "id": "f5f35a29d6a5e1",
   "outputs": [],
   "execution_count": 27
  },
  {
   "metadata": {
    "ExecuteTime": {
     "end_time": "2025-06-23T09:58:58.216899Z",
     "start_time": "2025-06-23T09:58:38.795119Z"
    }
   },
   "cell_type": "code",
   "source": [
    "bigrams_joined = data_combined['normalized_bigrams'].apply(lambda x: ' '.join(x))\n",
    "\n",
    "vectorizer = TfidfVectorizer(ngram_range=(1, 2), max_features=5000)\n",
    "X_tfidf = vectorizer.fit_transform(bigrams_joined)"
   ],
   "id": "2c29d4e9c5a8d863",
   "outputs": [],
   "execution_count": 28
  },
  {
   "metadata": {
    "ExecuteTime": {
     "end_time": "2025-06-23T09:59:08.033193Z",
     "start_time": "2025-06-23T09:58:58.260879Z"
    }
   },
   "cell_type": "code",
   "source": [
    "from sklearn.decomposition import TruncatedSVD\n",
    "import matplotlib.pyplot as plt\n",
    "\n",
    "svd_plot = TruncatedSVD(n_components=2, random_state=42)\n",
    "X_svd = svd_plot.fit_transform(X_tfidf)\n",
    "\n",
    "plt.figure(figsize=(10, 7))\n",
    "plt.scatter(X_svd[:, 0], X_svd[:, 1], alpha=0.5, s=10)\n",
    "plt.title(\"TF-IDF Embeddings (Truncated SVD)\")\n",
    "plt.xlabel(\"SVD1\")\n",
    "plt.ylabel(\"SVD2\")\n",
    "plt.grid(True)\n",
    "plt.show()\n"
   ],
   "id": "6ee67705cfd9635e",
   "outputs": [
    {
     "data": {
      "text/plain": [
       "<Figure size 1000x700 with 1 Axes>"
      ],
      "image/png": "[encoded data removed]"
     },
     "metadata": {},
     "output_type": "display_data"
    }
   ],
   "execution_count": 29
  },
  {
   "metadata": {},
   "cell_type": "markdown",
   "source": [
    "X_TFIDF has a size (717268, 5000) - this is 3.5 billion elements (if in DENSE format).\n",
    "\n",
    "After TRUNCATEDSVD (n_components = 300), the size will become (717268, 300) - 16 times smaller!"
   ],
   "id": "6d3a842e90707440"
  },
  {
   "metadata": {
    "ExecuteTime": {
     "end_time": "2025-06-23T10:00:17.858149Z",
     "start_time": "2025-06-23T09:59:08.051203Z"
    }
   },
   "cell_type": "code",
   "source": [
    "from sklearn.decomposition import TruncatedSVD\n",
    "\n",
    "svd = TruncatedSVD(n_components=100, random_state=42)\n",
    "X_reduced = svd.fit_transform(X_tfidf)\n"
   ],
   "id": "769d654c7e317063",
   "outputs": [],
   "execution_count": 30
  },
  {
   "metadata": {
    "ExecuteTime": {
     "end_time": "2025-06-23T10:00:18.003658Z",
     "start_time": "2025-06-23T10:00:17.950167Z"
    }
   },
   "cell_type": "code",
   "source": "X_reduced.shape",
   "id": "94eab1c2dd5ac9d2",
   "outputs": [
    {
     "data": {
      "text/plain": [
       "(717268, 100)"
      ]
     },
     "execution_count": 31,
     "metadata": {},
     "output_type": "execute_result"
    }
   ],
   "execution_count": 31
  },
  {
   "metadata": {},
   "cell_type": "markdown",
   "source": [
    "#### 3.4 clusterization\n",
    "Will use hdbscan since"
   ],
   "id": "fb6b5c6a95c4221b"
  },
  {
   "metadata": {
    "ExecuteTime": {
     "end_time": "2025-06-23T10:00:18.124901Z",
     "start_time": "2025-06-23T10:00:18.116658Z"
    }
   },
   "cell_type": "code",
   "source": [
    "# !pip install hdbscan\n",
    "#\n"
   ],
   "id": "dcca8df268b61644",
   "outputs": [],
   "execution_count": 32
  },
  {
   "metadata": {
    "ExecuteTime": {
     "end_time": "2025-06-23T10:00:18.538519Z",
     "start_time": "2025-06-23T10:00:18.182914Z"
    }
   },
   "cell_type": "code",
   "source": "data_combined.head(10)",
   "id": "8d957a9ceee6b21e",
   "outputs": [
    {
     "data": {
      "text/plain": [
       "                                            job_title  \\\n",
       "1                                        data analyst   \n",
       "2   data engineer scientist analyst mid or senior ...   \n",
       "3   lead engineer principal analyst principal engi...   \n",
       "4                               data engineer sr jobs   \n",
       "5                                   gcp data engineer   \n",
       "6                      senior data engineer gcp cloud   \n",
       "7                                       data engineer   \n",
       "8              technology operations business analyst   \n",
       "9                                   data scientist ii   \n",
       "10                 erfahrene r data engineer in m w d   \n",
       "\n",
       "                                           job_skills  \\\n",
       "1          [r, python, sql, nosql, power bi, tableau]   \n",
       "2   [python, sql, c#, azure, airflow, dax, docker,...   \n",
       "3   [python, c++, java, matlab, aws, tensorflow, k...   \n",
       "4   [bash, python, oracle, aws, ansible, puppet, j...   \n",
       "5                                  [python, sql, gcp]   \n",
       "6   [sql, python, java, sql server, gcp, bigquery,...   \n",
       "7   [sql, nosql, gcp, azure, aws, bigquery, databr...   \n",
       "8                       [excel, powerpoint, power bi]   \n",
       "9   [sql, python, r, mongodb, mongodb, sql server,...   \n",
       "10                 [python, databricks, azure, spark]   \n",
       "\n",
       "                                   normalized_bigrams  \n",
       "1                                      [analyst data]  \n",
       "2   [analyst mid, engineer scientist, data enginee...  \n",
       "3   [engineer principal, engineer lead, data engin...  \n",
       "4               [data engineer, engineer sr, jobs sr]  \n",
       "5                           [data engineer, data gcp]  \n",
       "6   [data senior, data engineer, cloud gcp, engine...  \n",
       "7                                     [data engineer]  \n",
       "8   [operations technology, analyst business, busi...  \n",
       "9                      [ii scientist, data scientist]  \n",
       "10                                    [data engineer]  "
      ],
      "text/html": [
       "<div>\n",
       "<style scoped>\n",
       "    .dataframe tbody tr th:only-of-type {\n",
       "        vertical-align: middle;\n",
       "    }\n",
       "\n",
       "    .dataframe tbody tr th {\n",
       "        vertical-align: top;\n",
       "    }\n",
       "\n",
       "    .dataframe thead th {\n",
       "        text-align: right;\n",
       "    }\n",
       "</style>\n",
       "<table border=\"1\" class=\"dataframe\">\n",
       "  <thead>\n",
       "    <tr style=\"text-align: right;\">\n",
       "      <th></th>\n",
       "      <th>job_title</th>\n",
       "      <th>job_skills</th>\n",
       "      <th>normalized_bigrams</th>\n",
       "    </tr>\n",
       "  </thead>\n",
       "  <tbody>\n",
       "    <tr>\n",
       "      <th>1</th>\n",
       "      <td>data analyst</td>\n",
       "      <td>[r, python, sql, nosql, power bi, tableau]</td>\n",
       "      <td>[analyst data]</td>\n",
       "    </tr>\n",
       "    <tr>\n",
       "      <th>2</th>\n",
       "      <td>data engineer scientist analyst mid or senior ...</td>\n",
       "      <td>[python, sql, c#, azure, airflow, dax, docker,...</td>\n",
       "      <td>[analyst mid, engineer scientist, data enginee...</td>\n",
       "    </tr>\n",
       "    <tr>\n",
       "      <th>3</th>\n",
       "      <td>lead engineer principal analyst principal engi...</td>\n",
       "      <td>[python, c++, java, matlab, aws, tensorflow, k...</td>\n",
       "      <td>[engineer principal, engineer lead, data engin...</td>\n",
       "    </tr>\n",
       "    <tr>\n",
       "      <th>4</th>\n",
       "      <td>data engineer sr jobs</td>\n",
       "      <td>[bash, python, oracle, aws, ansible, puppet, j...</td>\n",
       "      <td>[data engineer, engineer sr, jobs sr]</td>\n",
       "    </tr>\n",
       "    <tr>\n",
       "      <th>5</th>\n",
       "      <td>gcp data engineer</td>\n",
       "      <td>[python, sql, gcp]</td>\n",
       "      <td>[data engineer, data gcp]</td>\n",
       "    </tr>\n",
       "    <tr>\n",
       "      <th>6</th>\n",
       "      <td>senior data engineer gcp cloud</td>\n",
       "      <td>[sql, python, java, sql server, gcp, bigquery,...</td>\n",
       "      <td>[data senior, data engineer, cloud gcp, engine...</td>\n",
       "    </tr>\n",
       "    <tr>\n",
       "      <th>7</th>\n",
       "      <td>data engineer</td>\n",
       "      <td>[sql, nosql, gcp, azure, aws, bigquery, databr...</td>\n",
       "      <td>[data engineer]</td>\n",
       "    </tr>\n",
       "    <tr>\n",
       "      <th>8</th>\n",
       "      <td>technology operations business analyst</td>\n",
       "      <td>[excel, powerpoint, power bi]</td>\n",
       "      <td>[operations technology, analyst business, busi...</td>\n",
       "    </tr>\n",
       "    <tr>\n",
       "      <th>9</th>\n",
       "      <td>data scientist ii</td>\n",
       "      <td>[sql, python, r, mongodb, mongodb, sql server,...</td>\n",
       "      <td>[ii scientist, data scientist]</td>\n",
       "    </tr>\n",
       "    <tr>\n",
       "      <th>10</th>\n",
       "      <td>erfahrene r data engineer in m w d</td>\n",
       "      <td>[python, databricks, azure, spark]</td>\n",
       "      <td>[data engineer]</td>\n",
       "    </tr>\n",
       "  </tbody>\n",
       "</table>\n",
       "</div>"
      ]
     },
     "execution_count": 33,
     "metadata": {},
     "output_type": "execute_result"
    }
   ],
   "execution_count": 33
  },
  {
   "metadata": {
    "ExecuteTime": {
     "end_time": "2025-06-23T10:00:18.582008Z",
     "start_time": "2025-06-23T10:00:18.564531Z"
    }
   },
   "cell_type": "code",
   "source": "data_combined.shape",
   "id": "8ad1c9306852434e",
   "outputs": [
    {
     "data": {
      "text/plain": [
       "(717268, 3)"
      ]
     },
     "execution_count": 34,
     "metadata": {},
     "output_type": "execute_result"
    }
   ],
   "execution_count": 34
  },
  {
   "metadata": {
    "ExecuteTime": {
     "end_time": "2025-06-23T10:00:18.831022Z",
     "start_time": "2025-06-23T10:00:18.782022Z"
    }
   },
   "cell_type": "code",
   "source": [
    "# import hdbscan\n",
    "#\n",
    "# clusterer = hdbscan.HDBSCAN(min_cluster_size=300, metric='euclidean')\n",
    "# cluster_labels = clusterer.fit_predict(X_tfidf)\n",
    "# print(\"Number of clusters:\", len(np.unique(cluster_labels)))"
   ],
   "id": "2477625a44ef1985",
   "outputs": [],
   "execution_count": 35
  },
  {
   "metadata": {
    "ExecuteTime": {
     "end_time": "2025-06-23T10:00:19.380020Z",
     "start_time": "2025-06-23T10:00:18.972021Z"
    }
   },
   "cell_type": "code",
   "source": [
    "# from sklearn.cluster import AgglomerativeClustering\n",
    "#\n",
    "# model = AgglomerativeClustering(n_clusters=3, metric='cosine', linkage='average')\n",
    "# labels = model.fit_predict(X_tfidf.toarray())\n",
    "#\n",
    "# data_combined['cluster'] = labels"
   ],
   "id": "686140163d9a6be3",
   "outputs": [],
   "execution_count": 36
  },
  {
   "metadata": {
    "ExecuteTime": {
     "end_time": "2025-06-23T10:02:59.943004Z",
     "start_time": "2025-06-23T10:02:59.934805Z"
    }
   },
   "cell_type": "code",
   "source": "X_reduced.shape",
   "id": "8c36bd69ad4d4e2",
   "outputs": [
    {
     "data": {
      "text/plain": [
       "(717268, 100)"
      ]
     },
     "execution_count": 38,
     "metadata": {},
     "output_type": "execute_result"
    }
   ],
   "execution_count": 38
  },
  {
   "metadata": {
    "ExecuteTime": {
     "end_time": "2025-06-23T10:25:49.680013Z",
     "start_time": "2025-06-23T10:25:49.674900Z"
    }
   },
   "cell_type": "code",
   "source": [
    "from sklearn.cluster import Birch\n",
    "\n",
    "birch = Birch(\n",
    "    threshold=0.5,           # increase if too many clusters (try 0.1 → 1.0)\n",
    "    branching_factor=300,    # the more the data, the larger\n",
    "    n_clusters=None\n",
    ")"
   ],
   "id": "f76d99896781c4df",
   "outputs": [],
   "execution_count": 61
  },
  {
   "metadata": {
    "ExecuteTime": {
     "end_time": "2025-06-23T10:25:53.046097Z",
     "start_time": "2025-06-23T10:25:50.112024Z"
    }
   },
   "cell_type": "code",
   "source": [
    "import numpy as np\n",
    "\n",
    "sample_idx = np.random.choice(len(X_reduced), size=70_000, replace=False)\n",
    "X_sample = X_reduced[sample_idx]\n",
    "\n",
    "birch.fit(X_sample)\n",
    "\n",
    "clusters = birch.predict(X_sample)\n",
    "print(\"Unique Clusters:\", np.unique(clusters))\n",
    "print(\"Clusters arrangement:\", pd.Series(clusters).value_counts())\n"
   ],
   "id": "45d48ca96d9b2284",
   "outputs": [
    {
     "name": "stdout",
     "output_type": "stream",
     "text": [
      "Unique Clusters: [ 0  1  2  3  4  5  6  7  8  9 10 11 12 13 14 15 16 17 18 19 20 21 22 23\n",
      " 24 25 26 27 28 29 30 31 32 33 34 35 36 37 38 39 40 41 42 43 44 45 46 47\n",
      " 48 49 50 51 52 53 54 55 56 57 58 59 60]\n",
      "Clusters arrangement: 2     16088\n",
      "1      6212\n",
      "12     5723\n",
      "8      4611\n",
      "6      4591\n",
      "      ...  \n",
      "56      154\n",
      "27      153\n",
      "13      149\n",
      "17      125\n",
      "54       71\n",
      "Name: count, Length: 61, dtype: int64\n"
     ]
    }
   ],
   "execution_count": 62
  },
  {
   "metadata": {
    "jupyter": {
     "is_executing": true
    },
    "ExecuteTime": {
     "start_time": "2025-06-23T11:04:16.838955Z"
    }
   },
   "cell_type": "code",
   "source": [
    "from sklearn.cluster import MiniBatchKMeans\n",
    "\n",
    "# step1 - harsh clusterization\n",
    "kmeans = MiniBatchKMeans(n_clusters=30, batch_size=2048, random_state=42)\n",
    "coarse_labels = kmeans.fit_predict(X_reduced)\n",
    "\n",
    "# step2 - detalization\n",
    "final_labels = np.zeros_like(coarse_labels)\n",
    "for i in range(30):\n",
    "    mask = (coarse_labels == i)\n",
    "    if sum(mask) > 10000:\n",
    "        birch = Birch(threshold=0.05, branching_factor=50)\n",
    "        final_labels[mask] = birch.fit_predict(X_reduced[mask]) + i*100\n",
    "    elif sum(mask) > 1000:\n",
    "        birch = Birch(threshold=0.1, branching_factor=50)\n",
    "        final_labels[mask] = birch.fit_predict(X_reduced[mask]) + i*100\n",
    "    else:\n",
    "        final_labels[mask] = i"
   ],
   "id": "d64be0db1dea73bc",
   "outputs": [],
   "execution_count": null
  },
  {
   "metadata": {
    "ExecuteTime": {
     "end_time": "2025-06-23T10:58:51.873780Z",
     "start_time": "2025-06-23T10:58:51.719244Z"
    }
   },
   "cell_type": "code",
   "source": "pd.Series(final_labels).value_counts().describe()",
   "id": "953918c6d59362f",
   "outputs": [
    {
     "data": {
      "text/plain": [
       "count        88.000000\n",
       "mean       8150.772727\n",
       "std       22485.691385\n",
       "min           3.000000\n",
       "25%         277.500000\n",
       "50%        1660.500000\n",
       "75%        4407.250000\n",
       "max      173438.000000\n",
       "Name: count, dtype: float64"
      ]
     },
     "execution_count": 65,
     "metadata": {},
     "output_type": "execute_result"
    }
   ],
   "execution_count": 65
  },
  {
   "metadata": {
    "ExecuteTime": {
     "end_time": "2025-06-23T10:59:01.834610Z",
     "start_time": "2025-06-23T10:58:59.283273Z"
    }
   },
   "cell_type": "code",
   "source": [
    "for cluster_id in np.unique(final_labels):\n",
    "    print(f\"Cluster {cluster_id}:\")\n",
    "    print(data_combined[final_labels == cluster_id]['job_skills'].head(3))"
   ],
   "id": "10eae1ffcb7c3f67",
   "outputs": [
    {
     "name": "stdout",
     "output_type": "stream",
     "text": [
      "Cluster 0:\n",
      "31                                                 [sql]\n",
      "134    [scala, sql, aws, redshift, snowflake, spark, ...\n",
      "243                      [sql, excel, alteryx, power bi]\n",
      "Name: job_skills, dtype: object\n",
      "Cluster 1:\n",
      "220                       [windows]\n",
      "250        [sql, sql server, excel]\n",
      "867    [sql, python, aws, redshift]\n",
      "Name: job_skills, dtype: object\n",
      "Cluster 2:\n",
      "298     [shell, python, aws, snowflake, oracle, spark,...\n",
      "749     [python, tensorflow, keras, numpy, pandas, mat...\n",
      "1279    [sql, java, python, sql server, snowflake, aws...\n",
      "Name: job_skills, dtype: object\n",
      "Cluster 100:\n",
      "19    [r, sql, python, scala, java, c++, hadoop, tab...\n",
      "20    [r, python, sql, pandas, numpy, scikit learn, ...\n",
      "41    [r, sql, python, scala, java, c++, hadoop, tab...\n",
      "Name: job_skills, dtype: object\n",
      "Cluster 200:\n",
      "7     [sql, nosql, gcp, azure, aws, bigquery, databr...\n",
      "10                   [python, databricks, azure, spark]\n",
      "11                                       [python, qlik]\n",
      "Name: job_skills, dtype: object\n",
      "Cluster 201:\n",
      "4962     [crystal, python, java, sql, databricks, kafka...\n",
      "60656              [sql, python, scala, bigquery, airflow]\n",
      "70908                   [t sql, sql, sql server, power bi]\n",
      "Name: job_skills, dtype: object\n",
      "Cluster 202:\n",
      "410575    [sql, azure, power bi, tableau, microstrategy]\n",
      "723311    [sql, azure, power bi, tableau, microstrategy]\n",
      "768525                                 [azure, power bi]\n",
      "Name: job_skills, dtype: object\n",
      "Cluster 300:\n",
      "1045                             [sql, azure, vue, excel]\n",
      "3516    [go, python, sql, databricks, power bi, dax, g...\n",
      "3687                     [sql, python, tableau, power bi]\n",
      "Name: job_skills, dtype: object\n",
      "Cluster 301:\n",
      "1            [r, python, sql, nosql, power bi, tableau]\n",
      "18    [sql, python, r, redshift, pandas, excel, look...\n",
      "76           [sql, python, r, excel, tableau, power bi]\n",
      "Name: job_skills, dtype: object\n",
      "Cluster 302:\n",
      "638                                [python, sql]\n",
      "2771                                    [sheets]\n",
      "4671    [sql, python, r, bigquery, gcp, tableau]\n",
      "Name: job_skills, dtype: object\n",
      "Cluster 400:\n",
      "1770    [scala, java, sql, nosql, aws, spark, kafka, k...\n",
      "5475                       [go, sql, nosql, oracle, ssis]\n",
      "7481    [python, javascript, java, nosql, cassandra, s...\n",
      "Name: job_skills, dtype: object\n",
      "Cluster 401:\n",
      "42              [python, sql, aws, pyspark, docker, jira]\n",
      "346     [scala, java, aws, snowflake, airflow, spark, ...\n",
      "1188    [nosql, cassandra, redshift, aws, spark, kafka...\n",
      "Name: job_skills, dtype: object\n",
      "Cluster 402:\n",
      "13    [python, sql, go, ruby, ruby, javascript, aws,...\n",
      "47    [sql, python, scala, nosql, java, c, spark, ha...\n",
      "49                                              [excel]\n",
      "Name: job_skills, dtype: object\n",
      "Cluster 500:\n",
      "453     [sql, python, r, azure, power bi]\n",
      "1104             [sql, gcp, tableau, sap]\n",
      "4020                             [python]\n",
      "Name: job_skills, dtype: object\n",
      "Cluster 501:\n",
      "188       [python, excel, dax, power bi, smartsheet]\n",
      "3002    [python, excel, tableau, power bi, airtable]\n",
      "5620                                  [sql, tableau]\n",
      "Name: job_skills, dtype: object\n",
      "Cluster 502:\n",
      "60     [r, python, sql, tableau, power bi]\n",
      "153                         [sql, tableau]\n",
      "206                              [tableau]\n",
      "Name: job_skills, dtype: object\n",
      "Cluster 600:\n",
      "120    [python, azure, databricks, spark, jupyter, do...\n",
      "132    [sql, python, nosql, azure, databricks, power bi]\n",
      "160                                              [azure]\n",
      "Name: job_skills, dtype: object\n",
      "Cluster 601:\n",
      "2585                       [python, azure, spark]\n",
      "5991                          [sql, azure, spark]\n",
      "11876    [python, java, scala, azure, databricks]\n",
      "Name: job_skills, dtype: object\n",
      "Cluster 602:\n",
      "2702           [sql, t sql, sql server, azure, spark, git]\n",
      "4563     [python, sql, t sql, nosql, azure, databricks,...\n",
      "25374            [sql, azure, databricks, visio, power bi]\n",
      "Name: job_skills, dtype: object\n",
      "Cluster 700:\n",
      "12    [sql, php, excel, power bi, sap, jira]\n",
      "25                                     [sql]\n",
      "34                                     [sap]\n",
      "Name: job_skills, dtype: object\n",
      "Cluster 701:\n",
      "480                                              [python]\n",
      "1938    [python, sql, snowflake, pandas, matplotlib, p...\n",
      "2243              [go, excel, sharepoint, power bi, word]\n",
      "Name: job_skills, dtype: object\n",
      "Cluster 702:\n",
      "502     [sql, excel, microstrategy]\n",
      "1103                  [excel, word]\n",
      "1232             [sql, word, excel]\n",
      "Name: job_skills, dtype: object\n",
      "Cluster 800:\n",
      "58                    [python, aws, gcp]\n",
      "145             [python, sql, aws, word]\n",
      "183    [sql, python, java, scala, spark]\n",
      "Name: job_skills, dtype: object\n",
      "Cluster 801:\n",
      "17410    [python, sql, azure, databricks, spark, hadoop...\n",
      "35636                     [sql, python, r, mysql, tableau]\n",
      "47524    [sql, python, javascript, aws, snowflake, reds...\n",
      "Name: job_skills, dtype: object\n",
      "Cluster 802:\n",
      "9129                                      [sql, python, r]\n",
      "11665    [go, r, python, sql, mysql, sql server, hadoop...\n",
      "14495                 [python, sql, oracle, hadoop, spark]\n",
      "Name: job_skills, dtype: object\n",
      "Cluster 900:\n",
      "329                  [c]\n",
      "472                [sql]\n",
      "869    [sql, vba, excel]\n",
      "Name: job_skills, dtype: object\n",
      "Cluster 901:\n",
      "792                                 [sap, excel]\n",
      "1268    [gdpr, excel, word, outlook, powerpoint]\n",
      "1363                                     [spark]\n",
      "Name: job_skills, dtype: object\n",
      "Cluster 902:\n",
      "13560        [azure, power bi, powerpoint]\n",
      "15677    [sql, r, python, oracle, tableau]\n",
      "23218       [sql, tableau, alteryx, excel]\n",
      "Name: job_skills, dtype: object\n",
      "Cluster 1000:\n",
      "85                                     [python, pytorch]\n",
      "209                        [sql, python, scala, pyspark]\n",
      "255    [python, c++, pytorch, tensorflow, nltk, docke...\n",
      "Name: job_skills, dtype: object\n",
      "Cluster 1001:\n",
      "263     [python, java, go, gcp, gdpr]\n",
      "7845                       [sql, aws]\n",
      "9463            [python, sql, hadoop]\n",
      "Name: job_skills, dtype: object\n",
      "Cluster 1002:\n",
      "883     [go, sql, python, r, nosql, hadoop, spark, git...\n",
      "1824                         [go, python, aws, git, jira]\n",
      "2909    [python, gdpr, pytorch, scikit learn, docker, ...\n",
      "Name: job_skills, dtype: object\n",
      "Cluster 1100:\n",
      "3    [python, c++, java, matlab, aws, tensorflow, k...\n",
      "4    [bash, python, oracle, aws, ansible, puppet, j...\n",
      "6    [sql, python, java, sql server, gcp, bigquery,...\n",
      "Name: job_skills, dtype: object\n",
      "Cluster 1101:\n",
      "226                                    [python]\n",
      "377    [python, go, java, c++, aws, azure, gcp]\n",
      "394              [sql, dynamodb, aws, redshift]\n",
      "Name: job_skills, dtype: object\n",
      "Cluster 1102:\n",
      "103    [sql, nosql, aws, gcp, azure, spark, git, dock...\n",
      "149    [python, sql, aws, azure, gcp, spark, tableau,...\n",
      "191    [java, scala, python, nosql, sql, mongo, shell...\n",
      "Name: job_skills, dtype: object\n",
      "Cluster 1200:\n",
      "8              [excel, powerpoint, power bi]\n",
      "71                              [sql, excel]\n",
      "230    [sql, excel, visio, powerpoint, word]\n",
      "Name: job_skills, dtype: object\n",
      "Cluster 1201:\n",
      "347                                         [sql]\n",
      "1960    [sql, gdpr, vue, word, excel, sharepoint]\n",
      "2874      [sql, sql server, azure, power bi, sap]\n",
      "Name: job_skills, dtype: object\n",
      "Cluster 1202:\n",
      "1224                [python, sas, sas, r, azure, alteryx]\n",
      "6987    [r, python, sas, sas, hadoop, microstrategy, t...\n",
      "7277                                   [sql, python, gcp]\n",
      "Name: job_skills, dtype: object\n",
      "Cluster 1300:\n",
      "45                                  [sql, python]\n",
      "106                                      [python]\n",
      "151    [sas, sas, sql, python, r, excel, tableau]\n",
      "Name: job_skills, dtype: object\n",
      "Cluster 1301:\n",
      "6290                       [sql]\n",
      "8008    [sql, python, r, github]\n",
      "9890                     [excel]\n",
      "Name: job_skills, dtype: object\n",
      "Cluster 1302:\n",
      "15209    [r, sas, sas, sql, nosql, vba, c++, java, pyth...\n",
      "23463                                         [c, tableau]\n",
      "32076                             [python, spark, express]\n",
      "Name: job_skills, dtype: object\n",
      "Cluster 1400:\n",
      "17                                     [go, apl, excel]\n",
      "23                                          [python, r]\n",
      "84    [python, r, sql, javascript, aws, snowflake, r...\n",
      "Name: job_skills, dtype: object\n",
      "Cluster 1401:\n",
      "735                                           [express]\n",
      "770                                       [python, sql]\n",
      "900    [r, python, sas, sas, scala, matlab, sql, spark]\n",
      "Name: job_skills, dtype: object\n",
      "Cluster 1402:\n",
      "1037                   [c, express]\n",
      "4115    [go, sql, r, python, excel]\n",
      "5024           [python, r, tableau]\n",
      "Name: job_skills, dtype: object\n",
      "Cluster 1500:\n",
      "181                             [sql, r, python, tableau]\n",
      "1270                                         [sql, excel]\n",
      "2013    [scala, python, sql, html, css, javascript, az...\n",
      "Name: job_skills, dtype: object\n",
      "Cluster 1501:\n",
      "330        [html, gdpr, excel]\n",
      "875       [html, css, tableau]\n",
      "2609    [sql, bigquery, excel]\n",
      "Name: job_skills, dtype: object\n",
      "Cluster 1502:\n",
      "268     [sql, oracle, tableau, power bi]\n",
      "302                     [r, python, sql]\n",
      "1815        [sql, python, spark, hadoop]\n",
      "Name: job_skills, dtype: object\n",
      "Cluster 1600:\n",
      "2077                     [python, sql, excel, powerpoint]\n",
      "4930                  [sql, python, r, tableau, power bi]\n",
      "6259    [scala, python, aws, redshift, spark, pandas, ...\n",
      "Name: job_skills, dtype: object\n",
      "Cluster 1601:\n",
      "427                            [python, r, vba, c#, sql]\n",
      "634    [java, scala, sql, python, nosql, aws, spark, ...\n",
      "818    [python, r, sql, hadoop, spark, tableau, micro...\n",
      "Name: job_skills, dtype: object\n",
      "Cluster 1602:\n",
      "24252       [python, sql, databricks, linux]\n",
      "129246                              [oracle]\n",
      "298737    [python, pytorch, tensorflow, git]\n",
      "Name: job_skills, dtype: object\n",
      "Cluster 1700:\n",
      "815     [sql, aws, azure, snowflake, airflow, tableau,...\n",
      "933     [python, gcp, azure, aws, redshift, bigquery, ...\n",
      "1034    [sql, nosql, python, shell, aws, azure, spark,...\n",
      "Name: job_skills, dtype: object\n",
      "Cluster 1701:\n",
      "431     [python, r, sas, sas, sql, oracle, ssrs, table...\n",
      "892                   [sql, go, oracle, tableau, alteryx]\n",
      "1527                           [sql, ssis, ssrs, tableau]\n",
      "Name: job_skills, dtype: object\n",
      "Cluster 1702:\n",
      "261     [python, azure, databricks, pyspark, pandas, h...\n",
      "693         [sql, r, python, ruby, ruby, oracle, tableau]\n",
      "1068                  [sql, r, python, java, scala, flow]\n",
      "Name: job_skills, dtype: object\n",
      "Cluster 1800:\n",
      "1539    [scala, sql, bash, spark, angular, git, jenkin...\n",
      "1975                   [scala, nosql, sql, spark, hadoop]\n",
      "3016               [java, hadoop, spark, unix, sap, yarn]\n",
      "Name: job_skills, dtype: object\n",
      "Cluster 1801:\n",
      "8798     [scala, java, aws, snowflake, gcp, hadoop, spark]\n",
      "16305                  [scala, java, spark, kafka, hadoop]\n",
      "24737                                                [sql]\n",
      "Name: job_skills, dtype: object\n",
      "Cluster 1802:\n",
      "16    [powershell, python, sql, mysql, sql server, d...\n",
      "22    [sql, scala, java, python, mongodb, mongodb, e...\n",
      "65            [sql, hadoop, spark, jenkins, chef, flow]\n",
      "Name: job_skills, dtype: object\n",
      "Cluster 1900:\n",
      "1744    [r, python, sql, azure, power bi, excel, dax, ...\n",
      "2658    [sql, python, bigquery, redshift, snowflake, a...\n",
      "2971                            [sql, bigquery, power bi]\n",
      "Name: job_skills, dtype: object\n",
      "Cluster 1901:\n",
      "158    [python, sql, java, scala, snowflake, redshift...\n",
      "290    [nosql, sql, javascript, python, bigquery, gcp...\n",
      "672    [sql, python, r, sas, sas, perl, aws, spark, s...\n",
      "Name: job_skills, dtype: object\n",
      "Cluster 1902:\n",
      "89      [java, scala, python, nosql, sql, mongo, shell...\n",
      "361             [sql, r, python, go, aws, excel, alteryx]\n",
      "1026    [java, scala, python, nosql, sql, mongo, shell...\n",
      "Name: job_skills, dtype: object\n",
      "Cluster 2000:\n",
      "109                        [python, r, alteryx, tableau]\n",
      "118                       [python, r, sql, go, bigquery]\n",
      "123    [sql, excel, word, powerpoint, outlook, power bi]\n",
      "Name: job_skills, dtype: object\n",
      "Cluster 2001:\n",
      "54           [snowflake, spark, hadoop, tableau, qlik]\n",
      "405                                                [r]\n",
      "2805    [vba, sql, r, python, tableau, alteryx, excel]\n",
      "Name: job_skills, dtype: object\n",
      "Cluster 2002:\n",
      "221                       [sql, sql server, azure, ssis]\n",
      "312    [sql, python, bigquery, snowflake, gcp, aws, a...\n",
      "348    [python, sql, pandas, numpy, matplotlib, sciki...\n",
      "Name: job_skills, dtype: object\n",
      "Cluster 2100:\n",
      "38      [sql, python, databricks, power bi, excel, wor...\n",
      "4292                       [python, r, tableau, power bi]\n",
      "4698    [go, scala, python, sql, databricks, spark, ka...\n",
      "Name: job_skills, dtype: object\n",
      "Cluster 2101:\n",
      "2312                             [sql, jira]\n",
      "2996    [sql, sql server, excel, powerpoint]\n",
      "3331                                   [sap]\n",
      "Name: job_skills, dtype: object\n",
      "Cluster 2102:\n",
      "245    [sql, python, gcp, flow]\n",
      "584          [sap, excel, word]\n",
      "824           [sql, ssrs, ssis]\n",
      "Name: job_skills, dtype: object\n",
      "Cluster 2200:\n",
      "70     [python, go, oracle, scikit learn, tensorflow,...\n",
      "425             [r, python, sas, sas, tableau, power bi]\n",
      "467             [r, python, sas, sas, tableau, power bi]\n",
      "Name: job_skills, dtype: object\n",
      "Cluster 2201:\n",
      "203     [python, r, databricks, spark, jira, confluence]\n",
      "392    [bash, python, c++, java, aws, gcp, pytorch, t...\n",
      "894                             [sql, t sql, python, c#]\n",
      "Name: job_skills, dtype: object\n",
      "Cluster 2202:\n",
      "50                        [python, sql, pytorch, pandas]\n",
      "616    [python, java, sql, nosql, react, airflow, lin...\n",
      "827                        [python, tensorflow, pytorch]\n",
      "Name: job_skills, dtype: object\n",
      "Cluster 2300:\n",
      "796     [sql, vba, sap, cognos, tableau, power bi]\n",
      "954                     [python, c, sql, sas, sas]\n",
      "1032                                  [sql, excel]\n",
      "Name: job_skills, dtype: object\n",
      "Cluster 2301:\n",
      "915     [sql, python, azure, snowflake, databricks, aw...\n",
      "1264                         [python, gcp, hadoop, spark]\n",
      "2247                   [sas, sas, r, python, spark, spss]\n",
      "Name: job_skills, dtype: object\n",
      "Cluster 2302:\n",
      "8521                                      [sap]\n",
      "9506                               [excel, sap]\n",
      "11681    [sql, r, vba, qlik, tableau, power bi]\n",
      "Name: job_skills, dtype: object\n",
      "Cluster 2400:\n",
      "28                                [gdpr, excel]\n",
      "1839                                      [sql]\n",
      "2042    [r, python, azure, aws, spark, pyspark]\n",
      "Name: job_skills, dtype: object\n",
      "Cluster 2401:\n",
      "2220    [sql, gcp, alteryx, tableau]\n",
      "3184          [python, sql, tableau]\n",
      "8947                 [sql, power bi]\n",
      "Name: job_skills, dtype: object\n",
      "Cluster 2402:\n",
      "9063                                                 [sap]\n",
      "15553    [sql, python, sql server, azure, databricks, g...\n",
      "15675                                             [python]\n",
      "Name: job_skills, dtype: object\n",
      "Cluster 2500:\n",
      "9      [sql, python, r, mongodb, mongodb, sql server,...\n",
      "164                                      [sas, sas, vba]\n",
      "277                    [python, r, sql, looker, tableau]\n",
      "Name: job_skills, dtype: object\n",
      "Cluster 2501:\n",
      "381                                  [sql, python, word]\n",
      "440    [python, nosql, mongodb, mongodb, postgresql, ...\n",
      "603                      [r, python, sql, oracle, excel]\n",
      "Name: job_skills, dtype: object\n",
      "Cluster 2502:\n",
      "2323    [python, snowflake, spark, pytorch, tensorflow...\n",
      "2563                                                [sql]\n",
      "2842                                         [databricks]\n",
      "Name: job_skills, dtype: object\n",
      "Cluster 2600:\n",
      "5                                     [python, sql, gcp]\n",
      "113    [python, sql, html, css, javascript, azure, li...\n",
      "114    [javascript, typescript, sql, python, r, azure...\n",
      "Name: job_skills, dtype: object\n",
      "Cluster 2601:\n",
      "304    [python, sql, scala, java, databricks, aws, gc...\n",
      "352    [sql, nosql, python, java, azure, databricks, ...\n",
      "530    [python, scala, java, nosql, mongodb, mongodb,...\n",
      "Name: job_skills, dtype: object\n",
      "Cluster 2602:\n",
      "1134             [snowflake]\n",
      "2723    [sql, qlik, tableau]\n",
      "4973                  [gdpr]\n",
      "Name: job_skills, dtype: object\n",
      "Cluster 2700:\n",
      "171                                       [sas, sas, sql]\n",
      "1322                                                [sap]\n",
      "2629    [java, python, scala, sql, sql server, oracle,...\n",
      "Name: job_skills, dtype: object\n",
      "Cluster 2701:\n",
      "8888     [sql, python, sheets, excel, power bi, dax, jira]\n",
      "11875                                              [excel]\n",
      "14735                      [sql, express, dax, confluence]\n",
      "Name: job_skills, dtype: object\n",
      "Cluster 2702:\n",
      "303                          [sql, javascript, python, r]\n",
      "1477                   [python, aws, databricks, pyspark]\n",
      "1601    [python, nosql, mongodb, mongodb, sql, javascr...\n",
      "Name: job_skills, dtype: object\n",
      "Cluster 2800:\n",
      "69                                                 [sql]\n",
      "104                               [c++, java, snowflake]\n",
      "319    [sql, t sql, c#, html, css, javascript, sql se...\n",
      "Name: job_skills, dtype: object\n",
      "Cluster 2801:\n",
      "12284    [c#, python, typescript, javascript, visual ba...\n",
      "13314    [mongodb, mongodb, java, aws, spring, kafka, r...\n",
      "14157          [c#, sql, sql server, azure, angular, jira]\n",
      "Name: job_skills, dtype: object\n",
      "Cluster 2802:\n",
      "325     [python, numpy, pandas, tensorflow]\n",
      "521                           [python, sql]\n",
      "1917                  [python, aws, docker]\n",
      "Name: job_skills, dtype: object\n",
      "Cluster 2900:\n",
      "2     [python, sql, c#, azure, airflow, dax, docker,...\n",
      "24                                             [python]\n",
      "44                                [python, java, scala]\n",
      "Name: job_skills, dtype: object\n",
      "Cluster 2901:\n",
      "32      [python, azure, databricks, pyspark, pandas, h...\n",
      "910      [sas, sas, python, sql, word, excel, powerpoint]\n",
      "2413                                             [python]\n",
      "Name: job_skills, dtype: object\n",
      "Cluster 2902:\n",
      "481                                    [r, python, julia]\n",
      "995     [python, scala, sql, mongodb, mongodb, redis, ...\n",
      "1211    [sql, python, r, c, databricks, snowflake, had...\n",
      "Name: job_skills, dtype: object\n"
     ]
    }
   ],
   "execution_count": 66
  },
  {
   "metadata": {},
   "cell_type": "markdown",
   "source": [
    "#### 3.2 plan b\n",
    "\n",
    "Цель:\n",
    "\n",
    "Сгруппировать вакансии с похожими названиями (на русском и английском, с разным порядком слов) и для каждой группы собрать топ-скиллов.\n",
    "1. Предобработка текста вакансий и скиллов\n",
    "\n",
    "    Очистка и нормализация текста:\n",
    "\n",
    "        Привести к нижнему регистру (lowercase).\n",
    "\n",
    "        Убрать пунктуацию и спецсимволы.\n",
    "\n",
    "        Убрать лишние пробелы.\n",
    "\n",
    "        Заменить числа на пустоту или единый токен.\n",
    "\n",
    "        Заменить синонимы и вариации вручную (например, “разработчик python” = “python разработчик” = “python developer”).\n",
    "\n",
    "    Почему?\n",
    "    Убираем шум и стандартизируем, чтобы простые текстовые сравнения были эффективнее.\n",
    "\n",
    "2. Представление вакансий числовыми векторами (эмбеддингами)\n",
    "\n",
    "    Использовать предобученные языковые модели с мультилингвальной поддержкой:\n",
    "\n",
    "        Multilingual Sentence Transformers (например, sentence-transformers/paraphrase-multilingual-MiniLM) — создают вектор для каждого текста (названия вакансии).\n",
    "\n",
    "        Или простые TF-IDF векторы для быстрой проверки (хотя хуже по смыслу).\n",
    "\n",
    "    Почему?\n",
    "    Чтобы понять не просто точное совпадение текста, а смысловую близость, даже если порядок слов разный или часть слов отличается.\n",
    "\n",
    "3. Кластеризация вакансий по смыслу\n",
    "\n",
    "    Применить кластеризацию к эмбеддингам вакансий:\n",
    "\n",
    "        Алгоритмы: DBSCAN, HDBSCAN (не требует заранее задавать число кластеров, умеет выделять шум).\n",
    "\n",
    "        Или Agglomerative Clustering с порогом расстояния.\n",
    "\n",
    "    Почему?\n",
    "    Чтобы автоматически сгруппировать похожие вакансии вместе (например, все варианты \"python developer\" в один кластер).\n",
    "\n",
    "4. Обработка скиллов в каждой группе\n",
    "\n",
    "    Для каждой группы вакансий собрать все скиллы из вакансий этого кластера.\n",
    "\n",
    "    Подсчитать частоту каждого скилла.\n",
    "\n",
    "    Отсортировать по убыванию и выбрать топ N (например, топ 10).\n",
    "\n",
    "    Можно применить ту же очистку скиллов, как в пункте 1 (привести к нижнему регистру, убрать лишние символы).\n",
    "\n",
    "5. Проверка и корректировка результатов\n",
    "\n",
    "    Проанализировать образовавшиеся кластеры.\n",
    "\n",
    "    При необходимости вручную добавить синонимы в словарь для замены.\n",
    "\n",
    "    Проверить топ-скиллы — убрать слишком общие, нерелевантные.\n",
    "\n",
    "Итог:\n",
    "Вакансия (кластер)\tТоп-скиллы\n",
    "python developer / питон разработчик\tpython, django, sql, git, ...\n",
    "data analyst / аналитик данных\tsql, tableau, excel, power bi\n",
    "Инструменты:\n",
    "\n",
    "    Python: pandas, numpy\n",
    "\n",
    "    Очистка текста: re, str.lower(), словари для замены\n",
    "\n",
    "    Векторизация: sentence-transformers, scikit-learn (TF-IDF)\n",
    "\n",
    "    Кластеризация: hdbscan, sklearn.cluster\n",
    "\n",
    "    Подсчёт частот: collections.Counter или pandas.Series.value_counts()\n",
    "\n"
   ],
   "id": "2aa483f4f9ec9da2"
  },
  {
   "metadata": {
    "ExecuteTime": {
     "end_time": "2025-06-23T10:00:21.714072Z",
     "start_time": "2025-06-17T20:43:55.229265Z"
    }
   },
   "cell_type": "code",
   "outputs": [],
   "execution_count": 29,
   "source": "# todo: plan b :)",
   "id": "f4993674991a406e"
  },
  {
   "metadata": {},
   "cell_type": "code",
   "outputs": [],
   "execution_count": null,
   "source": "",
   "id": "bca5597014b6977"
  },
  {
   "metadata": {},
   "cell_type": "code",
   "outputs": [],
   "execution_count": null,
   "source": "",
   "id": "39499f78e6e36a4c"
  }
 ],
 "metadata": {
  "kernelspec": {
   "display_name": "Python 3",
   "language": "python",
   "name": "python3"
  },
  "language_info": {
   "codemirror_mode": {
    "name": "ipython",
    "version": 2
   },
   "file_extension": ".py",
   "mimetype": "text/x-python",
   "name": "python",
   "nbconvert_exporter": "python",
   "pygments_lexer": "ipython2",
   "version": "2.7.6"
  }
 },
 "nbformat": 4,
 "nbformat_minor": 5
}
