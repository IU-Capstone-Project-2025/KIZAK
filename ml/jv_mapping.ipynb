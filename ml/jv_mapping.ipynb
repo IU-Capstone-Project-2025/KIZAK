{
 "cells": [
  {
   "metadata": {},
   "cell_type": "markdown",
   "source": [
    "\n",
    "### 1. Read & clean up data\n",
    "\n",
    "Datasets is open-source and were taken from https://huggingface.co/datasets/arkodeep/jobdata (english vacancies) and https://www.kaggle.com/datasets/vyacheslavpanteleev1/hhru-it-vacancies-from-20211025-to-20211202 (russian vacancies)"
   ],
   "id": "b523da5e64c7fc5"
  },
  {
   "metadata": {},
   "cell_type": "markdown",
   "source": [
    "\n",
    "#### 1. Read\n",
    "\n",
    "We do not need all the data in the tables, so will throw out some (most) of the columns. Also it is good idea to combine datasets\n"
   ],
   "id": "f8029ece1f62066d"
  },
  {
   "cell_type": "code",
   "id": "initial_id",
   "metadata": {
    "collapsed": true,
    "ExecuteTime": {
     "end_time": "2025-06-20T11:17:49.912468Z",
     "start_time": "2025-06-20T11:17:36.447549Z"
    }
   },
   "source": [
    "import pandas as pd\n",
    "\n",
    "data_en = pd.read_csv('vacancies-skills_datasets/jobs_all.csv')\n",
    "data_ru = pd.read_csv('vacancies-skills_datasets/IT_vacancies_full.csv')"
   ],
   "outputs": [],
   "execution_count": 11
  },
  {
   "metadata": {
    "ExecuteTime": {
     "end_time": "2025-06-20T11:17:50.016827Z",
     "start_time": "2025-06-20T11:17:49.979614Z"
    }
   },
   "cell_type": "code",
   "source": "data_en.columns",
   "id": "27ca819255a74d32",
   "outputs": [
    {
     "data": {
      "text/plain": [
       "Index(['job_title_short', 'job_title', 'job_location', 'job_via',\n",
       "       'job_schedule_type', 'job_work_from_home', 'search_location',\n",
       "       'job_posted_date', 'job_no_degree_mention', 'job_health_insurance',\n",
       "       'job_country', 'salary_rate', 'salary_year_avg', 'salary_hour_avg',\n",
       "       'company_name', 'job_skills', 'job_type_skills', 'key_id'],\n",
       "      dtype='object')"
      ]
     },
     "execution_count": 12,
     "metadata": {},
     "output_type": "execute_result"
    }
   ],
   "execution_count": 12
  },
  {
   "metadata": {
    "ExecuteTime": {
     "end_time": "2025-06-20T11:17:50.061545Z",
     "start_time": "2025-06-20T11:17:50.048826Z"
    }
   },
   "cell_type": "code",
   "source": "data_ru.columns",
   "id": "7cb29e3eb11a287d",
   "outputs": [
    {
     "data": {
      "text/plain": [
       "Index(['Ids', 'Employer', 'Name', 'Salary', 'From', 'To', 'Experience',\n",
       "       'Schedule', 'Keys', 'Description', 'Area', 'Professional roles',\n",
       "       'Specializations', 'Profarea names', 'Published at'],\n",
       "      dtype='object')"
      ]
     },
     "execution_count": 13,
     "metadata": {},
     "output_type": "execute_result"
    }
   ],
   "execution_count": 13
  },
  {
   "metadata": {
    "ExecuteTime": {
     "end_time": "2025-06-20T11:17:51.031469Z",
     "start_time": "2025-06-20T11:17:50.110646Z"
    }
   },
   "cell_type": "code",
   "source": [
    "data_en = data_en[['job_title','job_skills']]\n",
    "data_ru = data_ru[['Name','Keys']]"
   ],
   "id": "18e52568f9c2fbe8",
   "outputs": [],
   "execution_count": 14
  },
  {
   "metadata": {
    "ExecuteTime": {
     "end_time": "2025-06-20T11:17:51.139130Z",
     "start_time": "2025-06-20T11:17:51.113338Z"
    }
   },
   "cell_type": "code",
   "source": "data_en.head()",
   "id": "eb7e802570bf3dd8",
   "outputs": [
    {
     "data": {
      "text/plain": [
       "                                           job_title  \\\n",
       "0  Senior Clinical Data Engineer / Principal Clin...   \n",
       "1                                       Data Analyst   \n",
       "2  Data Engineer/Scientist/Analyst, Mid or Senior...   \n",
       "3  LEAD ENGINEER - PRINCIPAL ANALYST - PRINCIPAL ...   \n",
       "4                             Data Engineer- Sr Jobs   \n",
       "\n",
       "                                          job_skills  \n",
       "0                                                NaN  \n",
       "1  ['r', 'python', 'sql', 'nosql', 'power bi', 't...  \n",
       "2  ['python', 'sql', 'c#', 'azure', 'airflow', 'd...  \n",
       "3  ['python', 'c++', 'java', 'matlab', 'aws', 'te...  \n",
       "4  ['bash', 'python', 'oracle', 'aws', 'ansible',...  "
      ],
      "text/html": [
       "<div>\n",
       "<style scoped>\n",
       "    .dataframe tbody tr th:only-of-type {\n",
       "        vertical-align: middle;\n",
       "    }\n",
       "\n",
       "    .dataframe tbody tr th {\n",
       "        vertical-align: top;\n",
       "    }\n",
       "\n",
       "    .dataframe thead th {\n",
       "        text-align: right;\n",
       "    }\n",
       "</style>\n",
       "<table border=\"1\" class=\"dataframe\">\n",
       "  <thead>\n",
       "    <tr style=\"text-align: right;\">\n",
       "      <th></th>\n",
       "      <th>job_title</th>\n",
       "      <th>job_skills</th>\n",
       "    </tr>\n",
       "  </thead>\n",
       "  <tbody>\n",
       "    <tr>\n",
       "      <th>0</th>\n",
       "      <td>Senior Clinical Data Engineer / Principal Clin...</td>\n",
       "      <td>NaN</td>\n",
       "    </tr>\n",
       "    <tr>\n",
       "      <th>1</th>\n",
       "      <td>Data Analyst</td>\n",
       "      <td>['r', 'python', 'sql', 'nosql', 'power bi', 't...</td>\n",
       "    </tr>\n",
       "    <tr>\n",
       "      <th>2</th>\n",
       "      <td>Data Engineer/Scientist/Analyst, Mid or Senior...</td>\n",
       "      <td>['python', 'sql', 'c#', 'azure', 'airflow', 'd...</td>\n",
       "    </tr>\n",
       "    <tr>\n",
       "      <th>3</th>\n",
       "      <td>LEAD ENGINEER - PRINCIPAL ANALYST - PRINCIPAL ...</td>\n",
       "      <td>['python', 'c++', 'java', 'matlab', 'aws', 'te...</td>\n",
       "    </tr>\n",
       "    <tr>\n",
       "      <th>4</th>\n",
       "      <td>Data Engineer- Sr Jobs</td>\n",
       "      <td>['bash', 'python', 'oracle', 'aws', 'ansible',...</td>\n",
       "    </tr>\n",
       "  </tbody>\n",
       "</table>\n",
       "</div>"
      ]
     },
     "execution_count": 15,
     "metadata": {},
     "output_type": "execute_result"
    }
   ],
   "execution_count": 15
  },
  {
   "metadata": {
    "ExecuteTime": {
     "end_time": "2025-06-20T11:17:51.195425Z",
     "start_time": "2025-06-20T11:17:51.181220Z"
    }
   },
   "cell_type": "code",
   "source": "data_ru.head()",
   "id": "3d4165c67e869260",
   "outputs": [
    {
     "data": {
      "text/plain": [
       "                              Name  \\\n",
       "0          Golang Developer (Кипр)   \n",
       "1                Е-mail маркетолог   \n",
       "2  Оператор call-центра (удаленно)   \n",
       "3           Ведущий SMM специалист   \n",
       "4                   UX/UI Designer   \n",
       "\n",
       "                                                Keys  \n",
       "0  ['Docker', 'Golang', 'Redis', 'Английский язык...  \n",
       "1  ['Грамотность', 'Написание текстов', 'Грамотна...  \n",
       "2  ['Клиентоориентированность', 'Ориентация на ре...  \n",
       "3  ['Продвижение бренда', 'Креативность', 'Adobe ...  \n",
       "4  ['UI', 'UX', 'gamedev', 'game design', 'проект...  "
      ],
      "text/html": [
       "<div>\n",
       "<style scoped>\n",
       "    .dataframe tbody tr th:only-of-type {\n",
       "        vertical-align: middle;\n",
       "    }\n",
       "\n",
       "    .dataframe tbody tr th {\n",
       "        vertical-align: top;\n",
       "    }\n",
       "\n",
       "    .dataframe thead th {\n",
       "        text-align: right;\n",
       "    }\n",
       "</style>\n",
       "<table border=\"1\" class=\"dataframe\">\n",
       "  <thead>\n",
       "    <tr style=\"text-align: right;\">\n",
       "      <th></th>\n",
       "      <th>Name</th>\n",
       "      <th>Keys</th>\n",
       "    </tr>\n",
       "  </thead>\n",
       "  <tbody>\n",
       "    <tr>\n",
       "      <th>0</th>\n",
       "      <td>Golang Developer (Кипр)</td>\n",
       "      <td>['Docker', 'Golang', 'Redis', 'Английский язык...</td>\n",
       "    </tr>\n",
       "    <tr>\n",
       "      <th>1</th>\n",
       "      <td>Е-mail маркетолог</td>\n",
       "      <td>['Грамотность', 'Написание текстов', 'Грамотна...</td>\n",
       "    </tr>\n",
       "    <tr>\n",
       "      <th>2</th>\n",
       "      <td>Оператор call-центра (удаленно)</td>\n",
       "      <td>['Клиентоориентированность', 'Ориентация на ре...</td>\n",
       "    </tr>\n",
       "    <tr>\n",
       "      <th>3</th>\n",
       "      <td>Ведущий SMM специалист</td>\n",
       "      <td>['Продвижение бренда', 'Креативность', 'Adobe ...</td>\n",
       "    </tr>\n",
       "    <tr>\n",
       "      <th>4</th>\n",
       "      <td>UX/UI Designer</td>\n",
       "      <td>['UI', 'UX', 'gamedev', 'game design', 'проект...</td>\n",
       "    </tr>\n",
       "  </tbody>\n",
       "</table>\n",
       "</div>"
      ]
     },
     "execution_count": 16,
     "metadata": {},
     "output_type": "execute_result"
    }
   ],
   "execution_count": 16
  },
  {
   "metadata": {
    "ExecuteTime": {
     "end_time": "2025-06-20T11:29:53.283189Z",
     "start_time": "2025-06-20T11:29:53.237315Z"
    }
   },
   "cell_type": "code",
   "source": [
    "data_ru.rename(columns = {'Name': 'job_title', 'Keys': 'job_skills'}, inplace = True)\n",
    "\n",
    "data_combined = pd.concat([data_en, data_ru], ignore_index=True)\n",
    "data_combined.head()"
   ],
   "id": "4ef2ab8090a283ac",
   "outputs": [
    {
     "data": {
      "text/plain": [
       "                                           job_title  \\\n",
       "0  Senior Clinical Data Engineer / Principal Clin...   \n",
       "1                                       Data Analyst   \n",
       "2  Data Engineer/Scientist/Analyst, Mid or Senior...   \n",
       "3  LEAD ENGINEER - PRINCIPAL ANALYST - PRINCIPAL ...   \n",
       "4                             Data Engineer- Sr Jobs   \n",
       "\n",
       "                                          job_skills  \n",
       "0                                                NaN  \n",
       "1  ['r', 'python', 'sql', 'nosql', 'power bi', 't...  \n",
       "2  ['python', 'sql', 'c#', 'azure', 'airflow', 'd...  \n",
       "3  ['python', 'c++', 'java', 'matlab', 'aws', 'te...  \n",
       "4  ['bash', 'python', 'oracle', 'aws', 'ansible',...  "
      ],
      "text/html": [
       "<div>\n",
       "<style scoped>\n",
       "    .dataframe tbody tr th:only-of-type {\n",
       "        vertical-align: middle;\n",
       "    }\n",
       "\n",
       "    .dataframe tbody tr th {\n",
       "        vertical-align: top;\n",
       "    }\n",
       "\n",
       "    .dataframe thead th {\n",
       "        text-align: right;\n",
       "    }\n",
       "</style>\n",
       "<table border=\"1\" class=\"dataframe\">\n",
       "  <thead>\n",
       "    <tr style=\"text-align: right;\">\n",
       "      <th></th>\n",
       "      <th>job_title</th>\n",
       "      <th>job_skills</th>\n",
       "    </tr>\n",
       "  </thead>\n",
       "  <tbody>\n",
       "    <tr>\n",
       "      <th>0</th>\n",
       "      <td>Senior Clinical Data Engineer / Principal Clin...</td>\n",
       "      <td>NaN</td>\n",
       "    </tr>\n",
       "    <tr>\n",
       "      <th>1</th>\n",
       "      <td>Data Analyst</td>\n",
       "      <td>['r', 'python', 'sql', 'nosql', 'power bi', 't...</td>\n",
       "    </tr>\n",
       "    <tr>\n",
       "      <th>2</th>\n",
       "      <td>Data Engineer/Scientist/Analyst, Mid or Senior...</td>\n",
       "      <td>['python', 'sql', 'c#', 'azure', 'airflow', 'd...</td>\n",
       "    </tr>\n",
       "    <tr>\n",
       "      <th>3</th>\n",
       "      <td>LEAD ENGINEER - PRINCIPAL ANALYST - PRINCIPAL ...</td>\n",
       "      <td>['python', 'c++', 'java', 'matlab', 'aws', 'te...</td>\n",
       "    </tr>\n",
       "    <tr>\n",
       "      <th>4</th>\n",
       "      <td>Data Engineer- Sr Jobs</td>\n",
       "      <td>['bash', 'python', 'oracle', 'aws', 'ansible',...</td>\n",
       "    </tr>\n",
       "  </tbody>\n",
       "</table>\n",
       "</div>"
      ]
     },
     "execution_count": 27,
     "metadata": {},
     "output_type": "execute_result"
    }
   ],
   "execution_count": 27
  },
  {
   "metadata": {},
   "cell_type": "markdown",
   "source": [
    "\n",
    "#### 2. Clean up text\n",
    "\n",
    "Transfer everything to the lower register, remove Nans and excess punctiation, convert skills into arrays etc"
   ],
   "id": "11f164d08e1d4358"
  },
  {
   "metadata": {
    "ExecuteTime": {
     "end_time": "2025-06-20T11:30:44.092346Z",
     "start_time": "2025-06-20T11:29:56.046372Z"
    }
   },
   "cell_type": "code",
   "source": [
    "import re\n",
    "import ast\n",
    "\n",
    "data_combined = data_combined.dropna()\n",
    "data_combined['job_skills'] = data_combined['job_skills'].apply(ast.literal_eval)\n",
    "\n",
    "def clean_text(text):\n",
    "    text = text.lower()\n",
    "    text = re.sub(r'[-/()]', ' ', text)\n",
    "    text = re.sub(r'[^a-zA-Zа-яА-Я0-9+#+.]', ' ', text)\n",
    "    text = re.sub(r'\\b\\d+\\b', '', text)\n",
    "    text = re.sub(r'\\s+', ' ', text).strip()\n",
    "    return text\n",
    "\n",
    "def clean_cell(cell):\n",
    "    if isinstance(cell, list):\n",
    "        return [clean_text(item) for item in cell if isinstance(item, str)]\n",
    "    elif isinstance(cell, str):\n",
    "        return clean_text(cell)\n",
    "    else:\n",
    "        return cell\n",
    "\n",
    "for col in data_combined.columns:\n",
    "    data_combined[col] = data_combined[col].apply(clean_cell)\n"
   ],
   "id": "9c4b62654dc8df13",
   "outputs": [],
   "execution_count": 28
  },
  {
   "metadata": {
    "ExecuteTime": {
     "end_time": "2025-06-20T11:46:50.335558Z",
     "start_time": "2025-06-20T11:46:50.292317Z"
    }
   },
   "cell_type": "code",
   "source": "data_combined.head(10)",
   "id": "3a7125f9cfc7c6f3",
   "outputs": [
    {
     "data": {
      "text/plain": [
       "                                            job_title  \\\n",
       "1                                        data analyst   \n",
       "2   data engineer scientist analyst mid or senior ...   \n",
       "3   lead engineer principal analyst principal engi...   \n",
       "4                               data engineer sr jobs   \n",
       "5                                   gcp data engineer   \n",
       "6                      senior data engineer gcp cloud   \n",
       "7                                       data engineer   \n",
       "8              technology operations business analyst   \n",
       "9                                   data scientist ii   \n",
       "10                 erfahrene r data engineer in m w d   \n",
       "\n",
       "                                           job_skills  \n",
       "1          [r, python, sql, nosql, power bi, tableau]  \n",
       "2   [python, sql, c#, azure, airflow, dax, docker,...  \n",
       "3   [python, c++, java, matlab, aws, tensorflow, k...  \n",
       "4   [bash, python, oracle, aws, ansible, puppet, j...  \n",
       "5                                  [python, sql, gcp]  \n",
       "6   [sql, python, java, sql server, gcp, bigquery,...  \n",
       "7   [sql, nosql, gcp, azure, aws, bigquery, databr...  \n",
       "8                       [excel, powerpoint, power bi]  \n",
       "9   [sql, python, r, mongodb, mongodb, sql server,...  \n",
       "10                 [python, databricks, azure, spark]  "
      ],
      "text/html": [
       "<div>\n",
       "<style scoped>\n",
       "    .dataframe tbody tr th:only-of-type {\n",
       "        vertical-align: middle;\n",
       "    }\n",
       "\n",
       "    .dataframe tbody tr th {\n",
       "        vertical-align: top;\n",
       "    }\n",
       "\n",
       "    .dataframe thead th {\n",
       "        text-align: right;\n",
       "    }\n",
       "</style>\n",
       "<table border=\"1\" class=\"dataframe\">\n",
       "  <thead>\n",
       "    <tr style=\"text-align: right;\">\n",
       "      <th></th>\n",
       "      <th>job_title</th>\n",
       "      <th>job_skills</th>\n",
       "    </tr>\n",
       "  </thead>\n",
       "  <tbody>\n",
       "    <tr>\n",
       "      <th>1</th>\n",
       "      <td>data analyst</td>\n",
       "      <td>[r, python, sql, nosql, power bi, tableau]</td>\n",
       "    </tr>\n",
       "    <tr>\n",
       "      <th>2</th>\n",
       "      <td>data engineer scientist analyst mid or senior ...</td>\n",
       "      <td>[python, sql, c#, azure, airflow, dax, docker,...</td>\n",
       "    </tr>\n",
       "    <tr>\n",
       "      <th>3</th>\n",
       "      <td>lead engineer principal analyst principal engi...</td>\n",
       "      <td>[python, c++, java, matlab, aws, tensorflow, k...</td>\n",
       "    </tr>\n",
       "    <tr>\n",
       "      <th>4</th>\n",
       "      <td>data engineer sr jobs</td>\n",
       "      <td>[bash, python, oracle, aws, ansible, puppet, j...</td>\n",
       "    </tr>\n",
       "    <tr>\n",
       "      <th>5</th>\n",
       "      <td>gcp data engineer</td>\n",
       "      <td>[python, sql, gcp]</td>\n",
       "    </tr>\n",
       "    <tr>\n",
       "      <th>6</th>\n",
       "      <td>senior data engineer gcp cloud</td>\n",
       "      <td>[sql, python, java, sql server, gcp, bigquery,...</td>\n",
       "    </tr>\n",
       "    <tr>\n",
       "      <th>7</th>\n",
       "      <td>data engineer</td>\n",
       "      <td>[sql, nosql, gcp, azure, aws, bigquery, databr...</td>\n",
       "    </tr>\n",
       "    <tr>\n",
       "      <th>8</th>\n",
       "      <td>technology operations business analyst</td>\n",
       "      <td>[excel, powerpoint, power bi]</td>\n",
       "    </tr>\n",
       "    <tr>\n",
       "      <th>9</th>\n",
       "      <td>data scientist ii</td>\n",
       "      <td>[sql, python, r, mongodb, mongodb, sql server,...</td>\n",
       "    </tr>\n",
       "    <tr>\n",
       "      <th>10</th>\n",
       "      <td>erfahrene r data engineer in m w d</td>\n",
       "      <td>[python, databricks, azure, spark]</td>\n",
       "    </tr>\n",
       "  </tbody>\n",
       "</table>\n",
       "</div>"
      ]
     },
     "execution_count": 35,
     "metadata": {},
     "output_type": "execute_result"
    }
   ],
   "execution_count": 35
  },
  {
   "metadata": {},
   "cell_type": "markdown",
   "source": [
    "\n",
    "### 3. Work with job titles\n",
    "Plan is follows:\n",
    "1. Remove stop-words\n",
    "2. Start combining by using n-grams. They help to match patterns like 'pyhon developer' and 'developer python'\n",
    "3. Create embeddings using sentence transformers or tf-idf\n",
    "4. Apply clusterization to embeddings using dbscan or hdbscan or agglomerative clustering"
   ],
   "id": "e56cd7eb427c068d"
  },
  {
   "metadata": {},
   "cell_type": "markdown",
   "source": "#### 3.1 No stop words",
   "id": "141ebf84175224ef"
  },
  {
   "metadata": {
    "ExecuteTime": {
     "end_time": "2025-06-20T11:43:56.189919Z",
     "start_time": "2025-06-20T11:43:52.192977Z"
    }
   },
   "cell_type": "code",
   "source": [
    "import nltk\n",
    "from nltk.corpus import stopwords\n",
    "nltk.download('stopwords')\n",
    "\n",
    "stop_words_en = set(stopwords.words('english'))\n",
    "stop_words_ru = set(stopwords.words('russian'))"
   ],
   "id": "14b8eef59ed8d73f",
   "outputs": [
    {
     "name": "stderr",
     "output_type": "stream",
     "text": [
      "[nltk_data] Downloading package stopwords to\n",
      "[nltk_data]     C:\\Users\\user\\AppData\\Roaming\\nltk_data...\n",
      "[nltk_data]   Package stopwords is already up-to-date!\n"
     ]
    }
   ],
   "execution_count": 30
  },
  {
   "metadata": {
    "ExecuteTime": {
     "end_time": "2025-06-20T11:44:18.181253Z",
     "start_time": "2025-06-20T11:44:18.173437Z"
    }
   },
   "cell_type": "code",
   "source": [
    "def remove_stopwords(text):\n",
    "    words = text.lower().split()\n",
    "    filtered_words = [w for w in words if w not in stop_words_en and w not in stop_words_ru]\n",
    "    return filtered_words"
   ],
   "id": "54929e3958974d66",
   "outputs": [],
   "execution_count": 31
  },
  {
   "metadata": {
    "ExecuteTime": {
     "end_time": "2025-06-20T11:47:35.662938Z",
     "start_time": "2025-06-20T11:47:33.970893Z"
    }
   },
   "cell_type": "code",
   "source": [
    "sentences = data_combined['job_title'].apply(remove_stopwords).tolist()\n",
    "\n",
    "print(sentences[:10])\n",
    "print(sentences[-10:])"
   ],
   "id": "d89886978f5b5dba",
   "outputs": [
    {
     "name": "stdout",
     "output_type": "stream",
     "text": [
      "[['data', 'analyst'], ['data', 'engineer', 'scientist', 'analyst', 'mid', 'senior', 'f', 'x'], ['lead', 'engineer', 'principal', 'analyst', 'principal', 'engineer', 'data...'], ['data', 'engineer', 'sr', 'jobs'], ['gcp', 'data', 'engineer'], ['senior', 'data', 'engineer', 'gcp', 'cloud'], ['data', 'engineer'], ['technology', 'operations', 'business', 'analyst'], ['data', 'scientist', 'ii'], ['erfahrene', 'r', 'data', 'engineer', 'w']]\n",
      "[['администратор', 'баз', 'данных', 'database', 'administrator'], ['lead', 'data', 'scientist'], ['инженер', 'категории'], ['специалист', 'поддержки', 'приложений'], ['системный', 'аналитик', 'dwh'], ['монтажник', 'слаботочных', 'систем'], ['системный', 'администратор'], ['менеджер', 'работе', 'маркетплейсами', 'офис'], ['менеджер', 'продажам', 'серверное', 'оборудование', 'b2b'], ['product', 'analyst']]\n"
     ]
    }
   ],
   "execution_count": 37
  },
  {
   "metadata": {},
   "cell_type": "markdown",
   "source": [
    "#### 3.2 N-gramms\n",
    "\n",
    "* gensim - not cool\n",
    "* Scikit-learn CountVectorizer - applied\n",
    "* RAKE / TextRank / YAKE (Unsupervised Keyword Extractors) - not tried"
   ],
   "id": "b1416de6166fcf15"
  },
  {
   "metadata": {},
   "cell_type": "markdown",
   "source": "##### gensim",
   "id": "454702840af367b4"
  },
  {
   "metadata": {
    "ExecuteTime": {
     "end_time": "2025-06-20T11:55:05.651937Z",
     "start_time": "2025-06-20T11:55:05.646425Z"
    }
   },
   "cell_type": "code",
   "source": [
    "from gensim.models import Phrases\n",
    "from gensim.models.phrases import Phraser"
   ],
   "id": "6b6a058017fea6ff",
   "outputs": [],
   "execution_count": 45
  },
  {
   "metadata": {
    "ExecuteTime": {
     "end_time": "2025-06-20T12:09:11.325035Z",
     "start_time": "2025-06-20T12:09:05.010539Z"
    }
   },
   "cell_type": "code",
   "source": [
    "# create bi-gram model\n",
    "bigram_model = Phrases(sentences, min_count=2, threshold=1)\n",
    "# min_count=50 — ignore pairs that apper <= 50 times\n",
    "# threshold=10 — less phrazes\n",
    "\n",
    "bigram_model.add_vocab(sentences)\n",
    "\n",
    "\n",
    "bigram_phraser = Phraser(bigram_model)  # to fasten up\n"
   ],
   "id": "35258df4d17a2f07",
   "outputs": [],
   "execution_count": 69
  },
  {
   "metadata": {
    "ExecuteTime": {
     "end_time": "2025-06-20T12:09:14.267987Z",
     "start_time": "2025-06-20T12:09:11.348046Z"
    }
   },
   "cell_type": "code",
   "source": [
    "data_combined['job_title_bigram'] = [bigram_phraser[sentence] for sentence in sentences]\n",
    "\n",
    "print(len(bigram_phraser.phrasegrams))\n",
    "print(list(bigram_phraser.phrasegrams)[:20])  # первые 20 биграмм\n"
   ],
   "id": "11ba6c1e2eab4864",
   "outputs": [
    {
     "name": "stdout",
     "output_type": "stream",
     "text": [
      "34384\n",
      "['f_x', 'erfahrene_r', 'h_f', 'team_lead', 'veloppeur_euse', 'euse_big', 'f_h', 'phd_position', 'datalab_team', 'knowledge_graphs', 'work_home', 'home_eligible', 'full_time', 'time_part', 'part_time', 'royal_canin', 'binance_accelerator', 'accelerator_program', 'risk_management', 'bangkok_based']\n"
     ]
    }
   ],
   "execution_count": 70
  },
  {
   "metadata": {
    "ExecuteTime": {
     "end_time": "2025-06-20T12:09:14.343382Z",
     "start_time": "2025-06-20T12:09:14.315631Z"
    }
   },
   "cell_type": "code",
   "source": "data_combined.head(20)",
   "id": "249bb87c7e4da720",
   "outputs": [
    {
     "data": {
      "text/plain": [
       "                                            job_title  \\\n",
       "1                                        data analyst   \n",
       "2   data engineer scientist analyst mid or senior ...   \n",
       "3   lead engineer principal analyst principal engi...   \n",
       "4                               data engineer sr jobs   \n",
       "5                                   gcp data engineer   \n",
       "6                      senior data engineer gcp cloud   \n",
       "7                                       data engineer   \n",
       "8              technology operations business analyst   \n",
       "9                                   data scientist ii   \n",
       "10                 erfahrene r data engineer in m w d   \n",
       "11                                      data engineer   \n",
       "12                    stagiaire data analyst h f lyon   \n",
       "13                               senior data engineer   \n",
       "14                                      data engineer   \n",
       "15                                      data engineer   \n",
       "16                                  big data engineer   \n",
       "17                             data science team lead   \n",
       "18                                       data analyst   \n",
       "19                                     data scientist   \n",
       "20                                     data scientist   \n",
       "\n",
       "                                           job_skills  \\\n",
       "1          [r, python, sql, nosql, power bi, tableau]   \n",
       "2   [python, sql, c#, azure, airflow, dax, docker,...   \n",
       "3   [python, c++, java, matlab, aws, tensorflow, k...   \n",
       "4   [bash, python, oracle, aws, ansible, puppet, j...   \n",
       "5                                  [python, sql, gcp]   \n",
       "6   [sql, python, java, sql server, gcp, bigquery,...   \n",
       "7   [sql, nosql, gcp, azure, aws, bigquery, databr...   \n",
       "8                       [excel, powerpoint, power bi]   \n",
       "9   [sql, python, r, mongodb, mongodb, sql server,...   \n",
       "10                 [python, databricks, azure, spark]   \n",
       "11                                     [python, qlik]   \n",
       "12             [sql, php, excel, power bi, sap, jira]   \n",
       "13  [python, sql, go, ruby, ruby, javascript, aws,...   \n",
       "14                                 [mongodb, mongodb]   \n",
       "15                            [python, sql, power bi]   \n",
       "16  [powershell, python, sql, mysql, sql server, d...   \n",
       "17                                   [go, apl, excel]   \n",
       "18  [sql, python, r, redshift, pandas, excel, look...   \n",
       "19  [r, sql, python, scala, java, c++, hadoop, tab...   \n",
       "20  [r, python, sql, pandas, numpy, scikit learn, ...   \n",
       "\n",
       "                                     job_title_bigram  \n",
       "1                                     [data, analyst]  \n",
       "2   [data, engineer, scientist, analyst, mid, seni...  \n",
       "3   [lead, engineer, principal, analyst, principal...  \n",
       "4                          [data, engineer, sr, jobs]  \n",
       "5                               [gcp, data, engineer]  \n",
       "6                [senior, data, engineer, gcp, cloud]  \n",
       "7                                    [data, engineer]  \n",
       "8         [technology, operations, business, analyst]  \n",
       "9                               [data, scientist, ii]  \n",
       "10                   [erfahrene_r, data, engineer, w]  \n",
       "11                                   [data, engineer]  \n",
       "12              [stagiaire, data, analyst, h_f, lyon]  \n",
       "13                           [senior, data, engineer]  \n",
       "14                                   [data, engineer]  \n",
       "15                                   [data, engineer]  \n",
       "16                              [big, data, engineer]  \n",
       "17                         [data, science, team_lead]  \n",
       "18                                    [data, analyst]  \n",
       "19                                  [data, scientist]  \n",
       "20                                  [data, scientist]  "
      ],
      "text/html": [
       "<div>\n",
       "<style scoped>\n",
       "    .dataframe tbody tr th:only-of-type {\n",
       "        vertical-align: middle;\n",
       "    }\n",
       "\n",
       "    .dataframe tbody tr th {\n",
       "        vertical-align: top;\n",
       "    }\n",
       "\n",
       "    .dataframe thead th {\n",
       "        text-align: right;\n",
       "    }\n",
       "</style>\n",
       "<table border=\"1\" class=\"dataframe\">\n",
       "  <thead>\n",
       "    <tr style=\"text-align: right;\">\n",
       "      <th></th>\n",
       "      <th>job_title</th>\n",
       "      <th>job_skills</th>\n",
       "      <th>job_title_bigram</th>\n",
       "    </tr>\n",
       "  </thead>\n",
       "  <tbody>\n",
       "    <tr>\n",
       "      <th>1</th>\n",
       "      <td>data analyst</td>\n",
       "      <td>[r, python, sql, nosql, power bi, tableau]</td>\n",
       "      <td>[data, analyst]</td>\n",
       "    </tr>\n",
       "    <tr>\n",
       "      <th>2</th>\n",
       "      <td>data engineer scientist analyst mid or senior ...</td>\n",
       "      <td>[python, sql, c#, azure, airflow, dax, docker,...</td>\n",
       "      <td>[data, engineer, scientist, analyst, mid, seni...</td>\n",
       "    </tr>\n",
       "    <tr>\n",
       "      <th>3</th>\n",
       "      <td>lead engineer principal analyst principal engi...</td>\n",
       "      <td>[python, c++, java, matlab, aws, tensorflow, k...</td>\n",
       "      <td>[lead, engineer, principal, analyst, principal...</td>\n",
       "    </tr>\n",
       "    <tr>\n",
       "      <th>4</th>\n",
       "      <td>data engineer sr jobs</td>\n",
       "      <td>[bash, python, oracle, aws, ansible, puppet, j...</td>\n",
       "      <td>[data, engineer, sr, jobs]</td>\n",
       "    </tr>\n",
       "    <tr>\n",
       "      <th>5</th>\n",
       "      <td>gcp data engineer</td>\n",
       "      <td>[python, sql, gcp]</td>\n",
       "      <td>[gcp, data, engineer]</td>\n",
       "    </tr>\n",
       "    <tr>\n",
       "      <th>6</th>\n",
       "      <td>senior data engineer gcp cloud</td>\n",
       "      <td>[sql, python, java, sql server, gcp, bigquery,...</td>\n",
       "      <td>[senior, data, engineer, gcp, cloud]</td>\n",
       "    </tr>\n",
       "    <tr>\n",
       "      <th>7</th>\n",
       "      <td>data engineer</td>\n",
       "      <td>[sql, nosql, gcp, azure, aws, bigquery, databr...</td>\n",
       "      <td>[data, engineer]</td>\n",
       "    </tr>\n",
       "    <tr>\n",
       "      <th>8</th>\n",
       "      <td>technology operations business analyst</td>\n",
       "      <td>[excel, powerpoint, power bi]</td>\n",
       "      <td>[technology, operations, business, analyst]</td>\n",
       "    </tr>\n",
       "    <tr>\n",
       "      <th>9</th>\n",
       "      <td>data scientist ii</td>\n",
       "      <td>[sql, python, r, mongodb, mongodb, sql server,...</td>\n",
       "      <td>[data, scientist, ii]</td>\n",
       "    </tr>\n",
       "    <tr>\n",
       "      <th>10</th>\n",
       "      <td>erfahrene r data engineer in m w d</td>\n",
       "      <td>[python, databricks, azure, spark]</td>\n",
       "      <td>[erfahrene_r, data, engineer, w]</td>\n",
       "    </tr>\n",
       "    <tr>\n",
       "      <th>11</th>\n",
       "      <td>data engineer</td>\n",
       "      <td>[python, qlik]</td>\n",
       "      <td>[data, engineer]</td>\n",
       "    </tr>\n",
       "    <tr>\n",
       "      <th>12</th>\n",
       "      <td>stagiaire data analyst h f lyon</td>\n",
       "      <td>[sql, php, excel, power bi, sap, jira]</td>\n",
       "      <td>[stagiaire, data, analyst, h_f, lyon]</td>\n",
       "    </tr>\n",
       "    <tr>\n",
       "      <th>13</th>\n",
       "      <td>senior data engineer</td>\n",
       "      <td>[python, sql, go, ruby, ruby, javascript, aws,...</td>\n",
       "      <td>[senior, data, engineer]</td>\n",
       "    </tr>\n",
       "    <tr>\n",
       "      <th>14</th>\n",
       "      <td>data engineer</td>\n",
       "      <td>[mongodb, mongodb]</td>\n",
       "      <td>[data, engineer]</td>\n",
       "    </tr>\n",
       "    <tr>\n",
       "      <th>15</th>\n",
       "      <td>data engineer</td>\n",
       "      <td>[python, sql, power bi]</td>\n",
       "      <td>[data, engineer]</td>\n",
       "    </tr>\n",
       "    <tr>\n",
       "      <th>16</th>\n",
       "      <td>big data engineer</td>\n",
       "      <td>[powershell, python, sql, mysql, sql server, d...</td>\n",
       "      <td>[big, data, engineer]</td>\n",
       "    </tr>\n",
       "    <tr>\n",
       "      <th>17</th>\n",
       "      <td>data science team lead</td>\n",
       "      <td>[go, apl, excel]</td>\n",
       "      <td>[data, science, team_lead]</td>\n",
       "    </tr>\n",
       "    <tr>\n",
       "      <th>18</th>\n",
       "      <td>data analyst</td>\n",
       "      <td>[sql, python, r, redshift, pandas, excel, look...</td>\n",
       "      <td>[data, analyst]</td>\n",
       "    </tr>\n",
       "    <tr>\n",
       "      <th>19</th>\n",
       "      <td>data scientist</td>\n",
       "      <td>[r, sql, python, scala, java, c++, hadoop, tab...</td>\n",
       "      <td>[data, scientist]</td>\n",
       "    </tr>\n",
       "    <tr>\n",
       "      <th>20</th>\n",
       "      <td>data scientist</td>\n",
       "      <td>[r, python, sql, pandas, numpy, scikit learn, ...</td>\n",
       "      <td>[data, scientist]</td>\n",
       "    </tr>\n",
       "  </tbody>\n",
       "</table>\n",
       "</div>"
      ]
     },
     "execution_count": 71,
     "metadata": {},
     "output_type": "execute_result"
    }
   ],
   "execution_count": 71
  },
  {
   "metadata": {},
   "cell_type": "markdown",
   "source": "##### count vectorizer",
   "id": "a460ce7f08a944dc"
  },
  {
   "metadata": {
    "ExecuteTime": {
     "end_time": "2025-06-20T12:17:24.504284Z",
     "start_time": "2025-06-20T12:17:24.497584Z"
    }
   },
   "cell_type": "code",
   "source": [
    "from sklearn.feature_extraction.text import CountVectorizer\n",
    "vectorizer = CountVectorizer(ngram_range=(2, 2), min_df=3)"
   ],
   "id": "d71481bda1bcb925",
   "outputs": [],
   "execution_count": 73
  },
  {
   "metadata": {},
   "cell_type": "code",
   "source": [
    "texts = [' '.join(tokens) for tokens in sentences]\n",
    "# text -> frequency matrix\n",
    "X = vectorizer.fit_transform(texts)\n",
    "\n",
    "# get bigrams and frequences\n",
    "bigrams = vectorizer.get_feature_names_out()\n",
    "counts = X.sum(axis=0).A1\n",
    "\n",
    "# to see\n",
    "bigrams = vectorizer.get_feature_names_out()\n",
    "bigram_freq = pd.DataFrame({'bigram': bigrams, 'count': counts})\n",
    "bigram_freq = bigram_freq.sort_values(by='count', ascending=False)\n",
    "print(bigram_freq.head(20))\n"
   ],
   "id": "45364c78b39984c2",
   "outputs": [],
   "execution_count": null
  },
  {
   "metadata": {
    "ExecuteTime": {
     "end_time": "2025-06-20T13:02:53.903816Z",
     "start_time": "2025-06-20T13:02:53.839502Z"
    }
   },
   "cell_type": "code",
   "source": "print(bigram_freq.head(20))",
   "id": "35e2cf4c22743fe8",
   "outputs": [
    {
     "name": "stdout",
     "output_type": "stream",
     "text": [
      "                      bigram   count\n",
      "10337          data engineer  182609\n",
      "10106           data analyst  144815\n",
      "10740         data scientist  137974\n",
      "35841            senior data   70995\n",
      "10732           data science   21799\n",
      "36950      software engineer   15301\n",
      "23428              lead data   15266\n",
      "10118         data analytics   12603\n",
      "24403       machine learning   11211\n",
      "37743                sr data   11123\n",
      "6494                big data   10615\n",
      "6909        business analyst    9563\n",
      "14128          engineer data    9115\n",
      "6965   business intelligence    8519\n",
      "22738            junior data    7911\n",
      "10341       data engineering    7783\n",
      "5714              azure data    7314\n",
      "2004            analyst data    6490\n",
      "23760      learning engineer    6483\n",
      "6934           business data    6159\n"
     ]
    }
   ],
   "execution_count": 77
  },
  {
   "metadata": {
    "ExecuteTime": {
     "end_time": "2025-06-20T13:22:27.747462Z",
     "start_time": "2025-06-20T13:22:27.578823Z"
    }
   },
   "cell_type": "code",
   "source": [
    "def normalize_bigram_str(bigram):\n",
    "    words = bigram.split()\n",
    "    if len(words) == 2:\n",
    "        return \" \".join(sorted(words))\n",
    "    return bigram\n",
    "\n",
    "bigram_freq['bigram_normalized'] = bigram_freq['bigram'].apply(normalize_bigram_str)\n",
    "\n",
    "bigram_freq_norm = bigram_freq.groupby('bigram_normalized', as_index=False)['count'].sum()\n",
    "bigram_freq_norm = bigram_freq_norm.sort_values(by='count', ascending=False)\n",
    "\n",
    "print(bigram_freq_norm.head(100))"
   ],
   "id": "aaa1efe9f1fedaaa",
   "outputs": [
    {
     "name": "stdout",
     "output_type": "stream",
     "text": [
      "       bigram_normalized   count\n",
      "15655      data engineer  191724\n",
      "3141        analyst data  151305\n",
      "17061     data scientist  140094\n",
      "17102        data senior   71258\n",
      "17052       data science   22392\n",
      "...                  ...     ...\n",
      "12467      clinical data    1398\n",
      "31509  machine scientist    1395\n",
      "7262    associate senior    1393\n",
      "3325    analyst engineer    1379\n",
      "15973          data head    1368\n",
      "\n",
      "[100 rows x 2 columns]\n"
     ]
    }
   ],
   "execution_count": 96
  },
  {
   "metadata": {
    "ExecuteTime": {
     "end_time": "2025-06-20T13:19:04.307521Z",
     "start_time": "2025-06-20T13:19:02.879610Z"
    }
   },
   "cell_type": "code",
   "source": [
    "if 'job_title_bigram' in data_combined.columns:\n",
    "    data_combined.drop(columns=['job_title_bigram'], inplace=True)\n",
    "\n",
    "data_combined.head()"
   ],
   "id": "45f83ffd75a152c8",
   "outputs": [
    {
     "data": {
      "text/plain": [
       "                                           job_title  \\\n",
       "1                                       data analyst   \n",
       "2  data engineer scientist analyst mid or senior ...   \n",
       "3  lead engineer principal analyst principal engi...   \n",
       "4                              data engineer sr jobs   \n",
       "5                                  gcp data engineer   \n",
       "\n",
       "                                          job_skills  \n",
       "1         [r, python, sql, nosql, power bi, tableau]  \n",
       "2  [python, sql, c#, azure, airflow, dax, docker,...  \n",
       "3  [python, c++, java, matlab, aws, tensorflow, k...  \n",
       "4  [bash, python, oracle, aws, ansible, puppet, j...  \n",
       "5                                 [python, sql, gcp]  "
      ],
      "text/html": [
       "<div>\n",
       "<style scoped>\n",
       "    .dataframe tbody tr th:only-of-type {\n",
       "        vertical-align: middle;\n",
       "    }\n",
       "\n",
       "    .dataframe tbody tr th {\n",
       "        vertical-align: top;\n",
       "    }\n",
       "\n",
       "    .dataframe thead th {\n",
       "        text-align: right;\n",
       "    }\n",
       "</style>\n",
       "<table border=\"1\" class=\"dataframe\">\n",
       "  <thead>\n",
       "    <tr style=\"text-align: right;\">\n",
       "      <th></th>\n",
       "      <th>job_title</th>\n",
       "      <th>job_skills</th>\n",
       "    </tr>\n",
       "  </thead>\n",
       "  <tbody>\n",
       "    <tr>\n",
       "      <th>1</th>\n",
       "      <td>data analyst</td>\n",
       "      <td>[r, python, sql, nosql, power bi, tableau]</td>\n",
       "    </tr>\n",
       "    <tr>\n",
       "      <th>2</th>\n",
       "      <td>data engineer scientist analyst mid or senior ...</td>\n",
       "      <td>[python, sql, c#, azure, airflow, dax, docker,...</td>\n",
       "    </tr>\n",
       "    <tr>\n",
       "      <th>3</th>\n",
       "      <td>lead engineer principal analyst principal engi...</td>\n",
       "      <td>[python, c++, java, matlab, aws, tensorflow, k...</td>\n",
       "    </tr>\n",
       "    <tr>\n",
       "      <th>4</th>\n",
       "      <td>data engineer sr jobs</td>\n",
       "      <td>[bash, python, oracle, aws, ansible, puppet, j...</td>\n",
       "    </tr>\n",
       "    <tr>\n",
       "      <th>5</th>\n",
       "      <td>gcp data engineer</td>\n",
       "      <td>[python, sql, gcp]</td>\n",
       "    </tr>\n",
       "  </tbody>\n",
       "</table>\n",
       "</div>"
      ]
     },
     "execution_count": 88,
     "metadata": {},
     "output_type": "execute_result"
    }
   ],
   "execution_count": 88
  },
  {
   "metadata": {
    "ExecuteTime": {
     "end_time": "2025-06-20T13:20:35.265485Z",
     "start_time": "2025-06-20T13:19:57.526869Z"
    }
   },
   "cell_type": "code",
   "source": [
    "top_bigrams_set = set(bigram_freq['bigram_normalized'])\n",
    "\n",
    "def extract_normalized_bigrams(text):\n",
    "    words = re.findall(r'\\w+', text.lower())\n",
    "    pairs = set()\n",
    "    for i in range(len(words) - 1):\n",
    "        bigram = \" \".join(sorted([words[i], words[i+1]]))\n",
    "        if bigram in top_bigrams_set:\n",
    "            pairs.add(bigram)\n",
    "    return list(pairs)\n",
    "\n",
    "data_combined['normalized_bigrams'] = data_combined['job_title'].apply(extract_normalized_bigrams)"
   ],
   "id": "f88a72e11b516f10",
   "outputs": [],
   "execution_count": 90
  },
  {
   "metadata": {
    "ExecuteTime": {
     "end_time": "2025-06-20T13:20:35.327610Z",
     "start_time": "2025-06-20T13:20:35.286027Z"
    }
   },
   "cell_type": "code",
   "source": "data_combined.head()",
   "id": "9236ba39364247d7",
   "outputs": [
    {
     "data": {
      "text/plain": [
       "                                           job_title  \\\n",
       "1                                       data analyst   \n",
       "2  data engineer scientist analyst mid or senior ...   \n",
       "3  lead engineer principal analyst principal engi...   \n",
       "4                              data engineer sr jobs   \n",
       "5                                  gcp data engineer   \n",
       "\n",
       "                                          job_skills  \\\n",
       "1         [r, python, sql, nosql, power bi, tableau]   \n",
       "2  [python, sql, c#, azure, airflow, dax, docker,...   \n",
       "3  [python, c++, java, matlab, aws, tensorflow, k...   \n",
       "4  [bash, python, oracle, aws, ansible, puppet, j...   \n",
       "5                                 [python, sql, gcp]   \n",
       "\n",
       "                                  normalized_bigrams  \n",
       "1                                     [analyst data]  \n",
       "2  [engineer scientist, analyst scientist, data e...  \n",
       "3  [analyst principal, engineer principal, data e...  \n",
       "4              [engineer sr, data engineer, jobs sr]  \n",
       "5                          [data gcp, data engineer]  "
      ],
      "text/html": [
       "<div>\n",
       "<style scoped>\n",
       "    .dataframe tbody tr th:only-of-type {\n",
       "        vertical-align: middle;\n",
       "    }\n",
       "\n",
       "    .dataframe tbody tr th {\n",
       "        vertical-align: top;\n",
       "    }\n",
       "\n",
       "    .dataframe thead th {\n",
       "        text-align: right;\n",
       "    }\n",
       "</style>\n",
       "<table border=\"1\" class=\"dataframe\">\n",
       "  <thead>\n",
       "    <tr style=\"text-align: right;\">\n",
       "      <th></th>\n",
       "      <th>job_title</th>\n",
       "      <th>job_skills</th>\n",
       "      <th>normalized_bigrams</th>\n",
       "    </tr>\n",
       "  </thead>\n",
       "  <tbody>\n",
       "    <tr>\n",
       "      <th>1</th>\n",
       "      <td>data analyst</td>\n",
       "      <td>[r, python, sql, nosql, power bi, tableau]</td>\n",
       "      <td>[analyst data]</td>\n",
       "    </tr>\n",
       "    <tr>\n",
       "      <th>2</th>\n",
       "      <td>data engineer scientist analyst mid or senior ...</td>\n",
       "      <td>[python, sql, c#, azure, airflow, dax, docker,...</td>\n",
       "      <td>[engineer scientist, analyst scientist, data e...</td>\n",
       "    </tr>\n",
       "    <tr>\n",
       "      <th>3</th>\n",
       "      <td>lead engineer principal analyst principal engi...</td>\n",
       "      <td>[python, c++, java, matlab, aws, tensorflow, k...</td>\n",
       "      <td>[analyst principal, engineer principal, data e...</td>\n",
       "    </tr>\n",
       "    <tr>\n",
       "      <th>4</th>\n",
       "      <td>data engineer sr jobs</td>\n",
       "      <td>[bash, python, oracle, aws, ansible, puppet, j...</td>\n",
       "      <td>[engineer sr, data engineer, jobs sr]</td>\n",
       "    </tr>\n",
       "    <tr>\n",
       "      <th>5</th>\n",
       "      <td>gcp data engineer</td>\n",
       "      <td>[python, sql, gcp]</td>\n",
       "      <td>[data gcp, data engineer]</td>\n",
       "    </tr>\n",
       "  </tbody>\n",
       "</table>\n",
       "</div>"
      ]
     },
     "execution_count": 91,
     "metadata": {},
     "output_type": "execute_result"
    }
   ],
   "execution_count": 91
  },
  {
   "metadata": {},
   "cell_type": "markdown",
   "source": [
    "#### 3.3 Embeddings\n",
    "\n",
    "Since we already get bigrams, better to use TF-IDF instead of SentenceTransformers. Also they are computationaly cheaper"
   ],
   "id": "299423ae491081c7"
  },
  {
   "metadata": {
    "ExecuteTime": {
     "end_time": "2025-06-20T13:31:27.515214Z",
     "start_time": "2025-06-20T13:31:27.316874Z"
    }
   },
   "cell_type": "code",
   "source": "data_combined.head()",
   "id": "11d4ab6d4cc7b1c0",
   "outputs": [
    {
     "data": {
      "text/plain": [
       "                                           job_title  \\\n",
       "1                                       data analyst   \n",
       "2  data engineer scientist analyst mid or senior ...   \n",
       "3  lead engineer principal analyst principal engi...   \n",
       "4                              data engineer sr jobs   \n",
       "5                                  gcp data engineer   \n",
       "\n",
       "                                          job_skills  \\\n",
       "1         [r, python, sql, nosql, power bi, tableau]   \n",
       "2  [python, sql, c#, azure, airflow, dax, docker,...   \n",
       "3  [python, c++, java, matlab, aws, tensorflow, k...   \n",
       "4  [bash, python, oracle, aws, ansible, puppet, j...   \n",
       "5                                 [python, sql, gcp]   \n",
       "\n",
       "                                  normalized_bigrams  \n",
       "1                                     [analyst data]  \n",
       "2  [engineer scientist, analyst scientist, data e...  \n",
       "3  [analyst principal, engineer principal, data e...  \n",
       "4              [engineer sr, data engineer, jobs sr]  \n",
       "5                          [data gcp, data engineer]  "
      ],
      "text/html": [
       "<div>\n",
       "<style scoped>\n",
       "    .dataframe tbody tr th:only-of-type {\n",
       "        vertical-align: middle;\n",
       "    }\n",
       "\n",
       "    .dataframe tbody tr th {\n",
       "        vertical-align: top;\n",
       "    }\n",
       "\n",
       "    .dataframe thead th {\n",
       "        text-align: right;\n",
       "    }\n",
       "</style>\n",
       "<table border=\"1\" class=\"dataframe\">\n",
       "  <thead>\n",
       "    <tr style=\"text-align: right;\">\n",
       "      <th></th>\n",
       "      <th>job_title</th>\n",
       "      <th>job_skills</th>\n",
       "      <th>normalized_bigrams</th>\n",
       "    </tr>\n",
       "  </thead>\n",
       "  <tbody>\n",
       "    <tr>\n",
       "      <th>1</th>\n",
       "      <td>data analyst</td>\n",
       "      <td>[r, python, sql, nosql, power bi, tableau]</td>\n",
       "      <td>[analyst data]</td>\n",
       "    </tr>\n",
       "    <tr>\n",
       "      <th>2</th>\n",
       "      <td>data engineer scientist analyst mid or senior ...</td>\n",
       "      <td>[python, sql, c#, azure, airflow, dax, docker,...</td>\n",
       "      <td>[engineer scientist, analyst scientist, data e...</td>\n",
       "    </tr>\n",
       "    <tr>\n",
       "      <th>3</th>\n",
       "      <td>lead engineer principal analyst principal engi...</td>\n",
       "      <td>[python, c++, java, matlab, aws, tensorflow, k...</td>\n",
       "      <td>[analyst principal, engineer principal, data e...</td>\n",
       "    </tr>\n",
       "    <tr>\n",
       "      <th>4</th>\n",
       "      <td>data engineer sr jobs</td>\n",
       "      <td>[bash, python, oracle, aws, ansible, puppet, j...</td>\n",
       "      <td>[engineer sr, data engineer, jobs sr]</td>\n",
       "    </tr>\n",
       "    <tr>\n",
       "      <th>5</th>\n",
       "      <td>gcp data engineer</td>\n",
       "      <td>[python, sql, gcp]</td>\n",
       "      <td>[data gcp, data engineer]</td>\n",
       "    </tr>\n",
       "  </tbody>\n",
       "</table>\n",
       "</div>"
      ]
     },
     "execution_count": 99,
     "metadata": {},
     "output_type": "execute_result"
    }
   ],
   "execution_count": 99
  },
  {
   "metadata": {
    "ExecuteTime": {
     "end_time": "2025-06-20T13:37:56.804746Z",
     "start_time": "2025-06-20T13:37:56.790501Z"
    }
   },
   "cell_type": "code",
   "source": "from sklearn.feature_extraction.text import TfidfVectorizer",
   "id": "f5f35a29d6a5e1",
   "outputs": [],
   "execution_count": 100
  },
  {
   "metadata": {
    "ExecuteTime": {
     "end_time": "2025-06-20T13:40:09.385903Z",
     "start_time": "2025-06-20T13:39:51.988333Z"
    }
   },
   "cell_type": "code",
   "source": [
    "bigrams_joined = data_combined['normalized_bigrams'].apply(lambda x: ' '.join(x))\n",
    "\n",
    "vectorizer = TfidfVectorizer(ngram_range=(1, 2), max_features=5000)\n",
    "X_tfidf = vectorizer.fit_transform(bigrams_joined)"
   ],
   "id": "2c29d4e9c5a8d863",
   "outputs": [],
   "execution_count": 101
  },
  {
   "metadata": {
    "ExecuteTime": {
     "end_time": "2025-06-20T14:32:50.521566Z",
     "start_time": "2025-06-20T14:32:43.541308Z"
    }
   },
   "cell_type": "code",
   "source": [
    "from sklearn.decomposition import TruncatedSVD\n",
    "import matplotlib.pyplot as plt\n",
    "\n",
    "svd = TruncatedSVD(n_components=2, random_state=42)\n",
    "X_svd = svd.fit_transform(X_tfidf)\n",
    "\n",
    "plt.figure(figsize=(10, 7))\n",
    "plt.scatter(X_svd[:, 0], X_svd[:, 1], alpha=0.5, s=10)\n",
    "plt.title(\"TF-IDF Embeddings (Truncated SVD)\")\n",
    "plt.xlabel(\"SVD1\")\n",
    "plt.ylabel(\"SVD2\")\n",
    "plt.grid(True)\n",
    "plt.show()\n"
   ],
   "id": "6ee67705cfd9635e",
   "outputs": [
    {
     "data": {
      "text/plain": [
       "<Figure size 1000x700 with 1 Axes>"
      ],
      "image/png": "[encoded data removed]"
     },
     "metadata": {},
     "output_type": "display_data"
    }
   ],
   "execution_count": 105
  },
  {
   "metadata": {},
   "cell_type": "markdown",
   "source": [
    "#### 3.4 clusterization\n",
    "Will use hdbscan since"
   ],
   "id": "fb6b5c6a95c4221b"
  },
  {
   "metadata": {},
   "cell_type": "code",
   "source": [
    "!pip install hdbscan\n",
    "\n"
   ],
   "id": "dcca8df268b61644",
   "outputs": [],
   "execution_count": null
  },
  {
   "metadata": {},
   "cell_type": "code",
   "outputs": [],
   "execution_count": null,
   "source": "data_combined.shape",
   "id": "8ad1c9306852434e"
  },
  {
   "metadata": {
    "ExecuteTime": {
     "end_time": "2025-06-20T15:47:03.011670Z",
     "start_time": "2025-06-20T15:28:46.188611Z"
    }
   },
   "cell_type": "code",
   "source": [
    "import hdbscan\n",
    "\n",
    "clusterer = hdbscan.HDBSCAN(min_cluster_size=300, metric='euclidean')\n",
    "cluster_labels = clusterer.fit_predict(X_tfidf)\n",
    "print(\"Number of clusters:\", len(np.unique(cluster_labels)))"
   ],
   "id": "2477625a44ef1985",
   "outputs": [
    {
     "ename": "KeyboardInterrupt",
     "evalue": "",
     "output_type": "error",
     "traceback": [
      "\u001B[1;31m---------------------------------------------------------------------------\u001B[0m",
      "\u001B[1;31mKeyboardInterrupt\u001B[0m                         Traceback (most recent call last)",
      "Cell \u001B[1;32mIn[110], line 4\u001B[0m\n\u001B[0;32m      1\u001B[0m \u001B[38;5;28;01mimport\u001B[39;00m \u001B[38;5;21;01mhdbscan\u001B[39;00m\n\u001B[0;32m      3\u001B[0m clusterer \u001B[38;5;241m=\u001B[39m hdbscan\u001B[38;5;241m.\u001B[39mHDBSCAN(min_cluster_size\u001B[38;5;241m=\u001B[39m\u001B[38;5;241m300\u001B[39m, metric\u001B[38;5;241m=\u001B[39m\u001B[38;5;124m'\u001B[39m\u001B[38;5;124meuclidean\u001B[39m\u001B[38;5;124m'\u001B[39m)\n\u001B[1;32m----> 4\u001B[0m cluster_labels \u001B[38;5;241m=\u001B[39m clusterer\u001B[38;5;241m.\u001B[39mfit_predict(X_tfidf)\n\u001B[0;32m      5\u001B[0m \u001B[38;5;28mprint\u001B[39m(\u001B[38;5;124m\"\u001B[39m\u001B[38;5;124mNumber of clusters:\u001B[39m\u001B[38;5;124m\"\u001B[39m, \u001B[38;5;28mlen\u001B[39m(np\u001B[38;5;241m.\u001B[39munique(cluster_labels)))\n",
      "File \u001B[1;32m~\\anaconda3\\Lib\\site-packages\\hdbscan\\hdbscan_.py:1291\u001B[0m, in \u001B[0;36mHDBSCAN.fit_predict\u001B[1;34m(self, X, y)\u001B[0m\n\u001B[0;32m   1276\u001B[0m \u001B[38;5;28;01mdef\u001B[39;00m \u001B[38;5;21mfit_predict\u001B[39m(\u001B[38;5;28mself\u001B[39m, X, y\u001B[38;5;241m=\u001B[39m\u001B[38;5;28;01mNone\u001B[39;00m):\n\u001B[0;32m   1277\u001B[0m \u001B[38;5;250m    \u001B[39m\u001B[38;5;124;03m\"\"\"Performs clustering on X and returns cluster labels.\u001B[39;00m\n\u001B[0;32m   1278\u001B[0m \n\u001B[0;32m   1279\u001B[0m \u001B[38;5;124;03m    Parameters\u001B[39;00m\n\u001B[1;32m   (...)\u001B[0m\n\u001B[0;32m   1289\u001B[0m \u001B[38;5;124;03m        cluster labels\u001B[39;00m\n\u001B[0;32m   1290\u001B[0m \u001B[38;5;124;03m    \"\"\"\u001B[39;00m\n\u001B[1;32m-> 1291\u001B[0m     \u001B[38;5;28mself\u001B[39m\u001B[38;5;241m.\u001B[39mfit(X)\n\u001B[0;32m   1292\u001B[0m     \u001B[38;5;28;01mreturn\u001B[39;00m \u001B[38;5;28mself\u001B[39m\u001B[38;5;241m.\u001B[39mlabels_\n",
      "File \u001B[1;32m~\\anaconda3\\Lib\\site-packages\\hdbscan\\hdbscan_.py:1251\u001B[0m, in \u001B[0;36mHDBSCAN.fit\u001B[1;34m(self, X, y)\u001B[0m\n\u001B[0;32m   1241\u001B[0m kwargs\u001B[38;5;241m.\u001B[39mupdate(\u001B[38;5;28mself\u001B[39m\u001B[38;5;241m.\u001B[39m_metric_kwargs)\n\u001B[0;32m   1242\u001B[0m kwargs[\u001B[38;5;124m'\u001B[39m\u001B[38;5;124mgen_min_span_tree\u001B[39m\u001B[38;5;124m'\u001B[39m] \u001B[38;5;241m|\u001B[39m\u001B[38;5;241m=\u001B[39m \u001B[38;5;28mself\u001B[39m\u001B[38;5;241m.\u001B[39mbranch_detection_data\n\u001B[0;32m   1244\u001B[0m (\n\u001B[0;32m   1245\u001B[0m     \u001B[38;5;28mself\u001B[39m\u001B[38;5;241m.\u001B[39mlabels_,\n\u001B[0;32m   1246\u001B[0m     \u001B[38;5;28mself\u001B[39m\u001B[38;5;241m.\u001B[39mprobabilities_,\n\u001B[0;32m   1247\u001B[0m     \u001B[38;5;28mself\u001B[39m\u001B[38;5;241m.\u001B[39mcluster_persistence_,\n\u001B[0;32m   1248\u001B[0m     \u001B[38;5;28mself\u001B[39m\u001B[38;5;241m.\u001B[39m_condensed_tree,\n\u001B[0;32m   1249\u001B[0m     \u001B[38;5;28mself\u001B[39m\u001B[38;5;241m.\u001B[39m_single_linkage_tree,\n\u001B[0;32m   1250\u001B[0m     \u001B[38;5;28mself\u001B[39m\u001B[38;5;241m.\u001B[39m_min_spanning_tree,\n\u001B[1;32m-> 1251\u001B[0m ) \u001B[38;5;241m=\u001B[39m hdbscan(clean_data, \u001B[38;5;241m*\u001B[39m\u001B[38;5;241m*\u001B[39mkwargs)\n\u001B[0;32m   1253\u001B[0m \u001B[38;5;28;01mif\u001B[39;00m \u001B[38;5;28mself\u001B[39m\u001B[38;5;241m.\u001B[39mmetric \u001B[38;5;241m!=\u001B[39m \u001B[38;5;124m\"\u001B[39m\u001B[38;5;124mprecomputed\u001B[39m\u001B[38;5;124m\"\u001B[39m \u001B[38;5;129;01mand\u001B[39;00m \u001B[38;5;129;01mnot\u001B[39;00m \u001B[38;5;28mself\u001B[39m\u001B[38;5;241m.\u001B[39m_all_finite:\n\u001B[0;32m   1254\u001B[0m     \u001B[38;5;66;03m# remap indices to align with original data in the case of non-finite entries.\u001B[39;00m\n\u001B[0;32m   1255\u001B[0m     \u001B[38;5;28mself\u001B[39m\u001B[38;5;241m.\u001B[39m_condensed_tree \u001B[38;5;241m=\u001B[39m remap_condensed_tree(\n\u001B[0;32m   1256\u001B[0m         \u001B[38;5;28mself\u001B[39m\u001B[38;5;241m.\u001B[39m_condensed_tree, internal_to_raw, outliers\n\u001B[0;32m   1257\u001B[0m     )\n",
      "File \u001B[1;32m~\\anaconda3\\Lib\\site-packages\\hdbscan\\hdbscan_.py:834\u001B[0m, in \u001B[0;36mhdbscan\u001B[1;34m(X, min_cluster_size, min_samples, alpha, cluster_selection_epsilon, max_cluster_size, metric, p, leaf_size, algorithm, memory, approx_min_span_tree, gen_min_span_tree, core_dist_n_jobs, cluster_selection_method, allow_single_cluster, match_reference_implementation, cluster_selection_epsilon_max, **kwargs)\u001B[0m\n\u001B[0;32m    830\u001B[0m \u001B[38;5;28;01melse\u001B[39;00m:\n\u001B[0;32m    832\u001B[0m     \u001B[38;5;28;01mif\u001B[39;00m issparse(X) \u001B[38;5;129;01mor\u001B[39;00m metric \u001B[38;5;129;01mnot\u001B[39;00m \u001B[38;5;129;01min\u001B[39;00m FAST_METRICS:\n\u001B[0;32m    833\u001B[0m         \u001B[38;5;66;03m# We can't do much with sparse matrices ...\u001B[39;00m\n\u001B[1;32m--> 834\u001B[0m         (single_linkage_tree, result_min_span_tree) \u001B[38;5;241m=\u001B[39m memory\u001B[38;5;241m.\u001B[39mcache(\n\u001B[0;32m    835\u001B[0m             _hdbscan_generic\n\u001B[0;32m    836\u001B[0m         )(X, min_samples, alpha, metric, p, leaf_size, gen_min_span_tree, \u001B[38;5;241m*\u001B[39m\u001B[38;5;241m*\u001B[39mkwargs)\n\u001B[0;32m    837\u001B[0m     \u001B[38;5;28;01melif\u001B[39;00m metric \u001B[38;5;129;01min\u001B[39;00m KDTREE_VALID_METRICS:\n\u001B[0;32m    838\u001B[0m         \u001B[38;5;66;03m# TO DO: Need heuristic to decide when to go to boruvka;\u001B[39;00m\n\u001B[0;32m    839\u001B[0m         \u001B[38;5;66;03m# still debugging for now\u001B[39;00m\n\u001B[0;32m    840\u001B[0m         \u001B[38;5;28;01mif\u001B[39;00m X\u001B[38;5;241m.\u001B[39mshape[\u001B[38;5;241m1\u001B[39m] \u001B[38;5;241m>\u001B[39m \u001B[38;5;241m60\u001B[39m:\n",
      "File \u001B[1;32m~\\anaconda3\\Lib\\site-packages\\joblib\\memory.py:312\u001B[0m, in \u001B[0;36mNotMemorizedFunc.__call__\u001B[1;34m(self, *args, **kwargs)\u001B[0m\n\u001B[0;32m    311\u001B[0m \u001B[38;5;28;01mdef\u001B[39;00m \u001B[38;5;21m__call__\u001B[39m(\u001B[38;5;28mself\u001B[39m, \u001B[38;5;241m*\u001B[39margs, \u001B[38;5;241m*\u001B[39m\u001B[38;5;241m*\u001B[39mkwargs):\n\u001B[1;32m--> 312\u001B[0m     \u001B[38;5;28;01mreturn\u001B[39;00m \u001B[38;5;28mself\u001B[39m\u001B[38;5;241m.\u001B[39mfunc(\u001B[38;5;241m*\u001B[39margs, \u001B[38;5;241m*\u001B[39m\u001B[38;5;241m*\u001B[39mkwargs)\n",
      "File \u001B[1;32m~\\anaconda3\\Lib\\site-packages\\hdbscan\\hdbscan_.py:118\u001B[0m, in \u001B[0;36m_hdbscan_generic\u001B[1;34m(X, min_samples, alpha, metric, p, leaf_size, gen_min_span_tree, **kwargs)\u001B[0m\n\u001B[0;32m    116\u001B[0m     distance_matrix \u001B[38;5;241m=\u001B[39m X\u001B[38;5;241m.\u001B[39mcopy()\n\u001B[0;32m    117\u001B[0m \u001B[38;5;28;01melse\u001B[39;00m:\n\u001B[1;32m--> 118\u001B[0m     distance_matrix \u001B[38;5;241m=\u001B[39m pairwise_distances(X, metric\u001B[38;5;241m=\u001B[39mmetric, \u001B[38;5;241m*\u001B[39m\u001B[38;5;241m*\u001B[39mkwargs)\n\u001B[0;32m    120\u001B[0m \u001B[38;5;28;01mif\u001B[39;00m issparse(distance_matrix):\n\u001B[0;32m    121\u001B[0m     \u001B[38;5;66;03m# raise TypeError('Sparse distance matrices not yet supported')\u001B[39;00m\n\u001B[0;32m    122\u001B[0m     \u001B[38;5;28;01mreturn\u001B[39;00m _hdbscan_sparse_distance_matrix(\n\u001B[0;32m    123\u001B[0m         distance_matrix,\n\u001B[0;32m    124\u001B[0m         min_samples,\n\u001B[1;32m   (...)\u001B[0m\n\u001B[0;32m    130\u001B[0m         \u001B[38;5;241m*\u001B[39m\u001B[38;5;241m*\u001B[39mkwargs\n\u001B[0;32m    131\u001B[0m     )\n",
      "File \u001B[1;32m~\\anaconda3\\Lib\\site-packages\\sklearn\\utils\\_param_validation.py:213\u001B[0m, in \u001B[0;36mvalidate_params.<locals>.decorator.<locals>.wrapper\u001B[1;34m(*args, **kwargs)\u001B[0m\n\u001B[0;32m    207\u001B[0m \u001B[38;5;28;01mtry\u001B[39;00m:\n\u001B[0;32m    208\u001B[0m     \u001B[38;5;28;01mwith\u001B[39;00m config_context(\n\u001B[0;32m    209\u001B[0m         skip_parameter_validation\u001B[38;5;241m=\u001B[39m(\n\u001B[0;32m    210\u001B[0m             prefer_skip_nested_validation \u001B[38;5;129;01mor\u001B[39;00m global_skip_validation\n\u001B[0;32m    211\u001B[0m         )\n\u001B[0;32m    212\u001B[0m     ):\n\u001B[1;32m--> 213\u001B[0m         \u001B[38;5;28;01mreturn\u001B[39;00m func(\u001B[38;5;241m*\u001B[39margs, \u001B[38;5;241m*\u001B[39m\u001B[38;5;241m*\u001B[39mkwargs)\n\u001B[0;32m    214\u001B[0m \u001B[38;5;28;01mexcept\u001B[39;00m InvalidParameterError \u001B[38;5;28;01mas\u001B[39;00m e:\n\u001B[0;32m    215\u001B[0m     \u001B[38;5;66;03m# When the function is just a wrapper around an estimator, we allow\u001B[39;00m\n\u001B[0;32m    216\u001B[0m     \u001B[38;5;66;03m# the function to delegate validation to the estimator, but we replace\u001B[39;00m\n\u001B[0;32m    217\u001B[0m     \u001B[38;5;66;03m# the name of the estimator by the name of the function in the error\u001B[39;00m\n\u001B[0;32m    218\u001B[0m     \u001B[38;5;66;03m# message to avoid confusion.\u001B[39;00m\n\u001B[0;32m    219\u001B[0m     msg \u001B[38;5;241m=\u001B[39m re\u001B[38;5;241m.\u001B[39msub(\n\u001B[0;32m    220\u001B[0m         \u001B[38;5;124mr\u001B[39m\u001B[38;5;124m\"\u001B[39m\u001B[38;5;124mparameter of \u001B[39m\u001B[38;5;124m\\\u001B[39m\u001B[38;5;124mw+ must be\u001B[39m\u001B[38;5;124m\"\u001B[39m,\n\u001B[0;32m    221\u001B[0m         \u001B[38;5;124mf\u001B[39m\u001B[38;5;124m\"\u001B[39m\u001B[38;5;124mparameter of \u001B[39m\u001B[38;5;132;01m{\u001B[39;00mfunc\u001B[38;5;241m.\u001B[39m\u001B[38;5;18m__qualname__\u001B[39m\u001B[38;5;132;01m}\u001B[39;00m\u001B[38;5;124m must be\u001B[39m\u001B[38;5;124m\"\u001B[39m,\n\u001B[0;32m    222\u001B[0m         \u001B[38;5;28mstr\u001B[39m(e),\n\u001B[0;32m    223\u001B[0m     )\n",
      "File \u001B[1;32m~\\anaconda3\\Lib\\site-packages\\sklearn\\metrics\\pairwise.py:2375\u001B[0m, in \u001B[0;36mpairwise_distances\u001B[1;34m(X, Y, metric, n_jobs, force_all_finite, **kwds)\u001B[0m\n\u001B[0;32m   2372\u001B[0m         \u001B[38;5;28;01mreturn\u001B[39;00m distance\u001B[38;5;241m.\u001B[39msquareform(distance\u001B[38;5;241m.\u001B[39mpdist(X, metric\u001B[38;5;241m=\u001B[39mmetric, \u001B[38;5;241m*\u001B[39m\u001B[38;5;241m*\u001B[39mkwds))\n\u001B[0;32m   2373\u001B[0m     func \u001B[38;5;241m=\u001B[39m partial(distance\u001B[38;5;241m.\u001B[39mcdist, metric\u001B[38;5;241m=\u001B[39mmetric, \u001B[38;5;241m*\u001B[39m\u001B[38;5;241m*\u001B[39mkwds)\n\u001B[1;32m-> 2375\u001B[0m \u001B[38;5;28;01mreturn\u001B[39;00m _parallel_pairwise(X, Y, func, n_jobs, \u001B[38;5;241m*\u001B[39m\u001B[38;5;241m*\u001B[39mkwds)\n",
      "File \u001B[1;32m~\\anaconda3\\Lib\\site-packages\\sklearn\\metrics\\pairwise.py:1893\u001B[0m, in \u001B[0;36m_parallel_pairwise\u001B[1;34m(X, Y, func, n_jobs, **kwds)\u001B[0m\n\u001B[0;32m   1890\u001B[0m X, Y, dtype \u001B[38;5;241m=\u001B[39m _return_float_dtype(X, Y)\n\u001B[0;32m   1892\u001B[0m \u001B[38;5;28;01mif\u001B[39;00m effective_n_jobs(n_jobs) \u001B[38;5;241m==\u001B[39m \u001B[38;5;241m1\u001B[39m:\n\u001B[1;32m-> 1893\u001B[0m     \u001B[38;5;28;01mreturn\u001B[39;00m func(X, Y, \u001B[38;5;241m*\u001B[39m\u001B[38;5;241m*\u001B[39mkwds)\n\u001B[0;32m   1895\u001B[0m \u001B[38;5;66;03m# enforce a threading backend to prevent data communication overhead\u001B[39;00m\n\u001B[0;32m   1896\u001B[0m fd \u001B[38;5;241m=\u001B[39m delayed(_dist_wrapper)\n",
      "File \u001B[1;32m~\\anaconda3\\Lib\\site-packages\\sklearn\\utils\\_param_validation.py:186\u001B[0m, in \u001B[0;36mvalidate_params.<locals>.decorator.<locals>.wrapper\u001B[1;34m(*args, **kwargs)\u001B[0m\n\u001B[0;32m    184\u001B[0m global_skip_validation \u001B[38;5;241m=\u001B[39m get_config()[\u001B[38;5;124m\"\u001B[39m\u001B[38;5;124mskip_parameter_validation\u001B[39m\u001B[38;5;124m\"\u001B[39m]\n\u001B[0;32m    185\u001B[0m \u001B[38;5;28;01mif\u001B[39;00m global_skip_validation:\n\u001B[1;32m--> 186\u001B[0m     \u001B[38;5;28;01mreturn\u001B[39;00m func(\u001B[38;5;241m*\u001B[39margs, \u001B[38;5;241m*\u001B[39m\u001B[38;5;241m*\u001B[39mkwargs)\n\u001B[0;32m    188\u001B[0m func_sig \u001B[38;5;241m=\u001B[39m signature(func)\n\u001B[0;32m    190\u001B[0m \u001B[38;5;66;03m# Map *args/**kwargs to the function signature\u001B[39;00m\n",
      "File \u001B[1;32m~\\anaconda3\\Lib\\site-packages\\sklearn\\metrics\\pairwise.py:372\u001B[0m, in \u001B[0;36meuclidean_distances\u001B[1;34m(X, Y, Y_norm_squared, squared, X_norm_squared)\u001B[0m\n\u001B[0;32m    366\u001B[0m     \u001B[38;5;28;01mif\u001B[39;00m Y_norm_squared\u001B[38;5;241m.\u001B[39mshape \u001B[38;5;241m!=\u001B[39m (\u001B[38;5;241m1\u001B[39m, Y\u001B[38;5;241m.\u001B[39mshape[\u001B[38;5;241m0\u001B[39m]):\n\u001B[0;32m    367\u001B[0m         \u001B[38;5;28;01mraise\u001B[39;00m \u001B[38;5;167;01mValueError\u001B[39;00m(\n\u001B[0;32m    368\u001B[0m             \u001B[38;5;124mf\u001B[39m\u001B[38;5;124m\"\u001B[39m\u001B[38;5;124mIncompatible dimensions for Y of shape \u001B[39m\u001B[38;5;132;01m{\u001B[39;00mY\u001B[38;5;241m.\u001B[39mshape\u001B[38;5;132;01m}\u001B[39;00m\u001B[38;5;124m and \u001B[39m\u001B[38;5;124m\"\u001B[39m\n\u001B[0;32m    369\u001B[0m             \u001B[38;5;124mf\u001B[39m\u001B[38;5;124m\"\u001B[39m\u001B[38;5;124mY_norm_squared of shape \u001B[39m\u001B[38;5;132;01m{\u001B[39;00moriginal_shape\u001B[38;5;132;01m}\u001B[39;00m\u001B[38;5;124m.\u001B[39m\u001B[38;5;124m\"\u001B[39m\n\u001B[0;32m    370\u001B[0m         )\n\u001B[1;32m--> 372\u001B[0m \u001B[38;5;28;01mreturn\u001B[39;00m _euclidean_distances(X, Y, X_norm_squared, Y_norm_squared, squared)\n",
      "File \u001B[1;32m~\\anaconda3\\Lib\\site-packages\\sklearn\\metrics\\pairwise.py:407\u001B[0m, in \u001B[0;36m_euclidean_distances\u001B[1;34m(X, Y, X_norm_squared, Y_norm_squared, squared)\u001B[0m\n\u001B[0;32m    404\u001B[0m     distances \u001B[38;5;241m=\u001B[39m _euclidean_distances_upcast(X, XX, Y, YY)\n\u001B[0;32m    405\u001B[0m \u001B[38;5;28;01melse\u001B[39;00m:\n\u001B[0;32m    406\u001B[0m     \u001B[38;5;66;03m# if dtype is already float64, no need to chunk and upcast\u001B[39;00m\n\u001B[1;32m--> 407\u001B[0m     distances \u001B[38;5;241m=\u001B[39m \u001B[38;5;241m-\u001B[39m\u001B[38;5;241m2\u001B[39m \u001B[38;5;241m*\u001B[39m safe_sparse_dot(X, Y\u001B[38;5;241m.\u001B[39mT, dense_output\u001B[38;5;241m=\u001B[39m\u001B[38;5;28;01mTrue\u001B[39;00m)\n\u001B[0;32m    408\u001B[0m     distances \u001B[38;5;241m+\u001B[39m\u001B[38;5;241m=\u001B[39m XX\n\u001B[0;32m    409\u001B[0m     distances \u001B[38;5;241m+\u001B[39m\u001B[38;5;241m=\u001B[39m YY\n",
      "File \u001B[1;32m~\\anaconda3\\Lib\\site-packages\\sklearn\\utils\\extmath.py:205\u001B[0m, in \u001B[0;36msafe_sparse_dot\u001B[1;34m(a, b, dense_output)\u001B[0m\n\u001B[0;32m    203\u001B[0m         ret \u001B[38;5;241m=\u001B[39m np\u001B[38;5;241m.\u001B[39mdot(a, b)\n\u001B[0;32m    204\u001B[0m \u001B[38;5;28;01melse\u001B[39;00m:\n\u001B[1;32m--> 205\u001B[0m     ret \u001B[38;5;241m=\u001B[39m a \u001B[38;5;241m@\u001B[39m b\n\u001B[0;32m    207\u001B[0m \u001B[38;5;28;01mif\u001B[39;00m (\n\u001B[0;32m    208\u001B[0m     sparse\u001B[38;5;241m.\u001B[39missparse(a)\n\u001B[0;32m    209\u001B[0m     \u001B[38;5;129;01mand\u001B[39;00m sparse\u001B[38;5;241m.\u001B[39missparse(b)\n\u001B[0;32m    210\u001B[0m     \u001B[38;5;129;01mand\u001B[39;00m dense_output\n\u001B[0;32m    211\u001B[0m     \u001B[38;5;129;01mand\u001B[39;00m \u001B[38;5;28mhasattr\u001B[39m(ret, \u001B[38;5;124m\"\u001B[39m\u001B[38;5;124mtoarray\u001B[39m\u001B[38;5;124m\"\u001B[39m)\n\u001B[0;32m    212\u001B[0m ):\n\u001B[0;32m    213\u001B[0m     \u001B[38;5;28;01mreturn\u001B[39;00m ret\u001B[38;5;241m.\u001B[39mtoarray()\n",
      "File \u001B[1;32m~\\anaconda3\\Lib\\site-packages\\scipy\\sparse\\_base.py:695\u001B[0m, in \u001B[0;36m_spbase.__matmul__\u001B[1;34m(self, other)\u001B[0m\n\u001B[0;32m    692\u001B[0m \u001B[38;5;28;01mif\u001B[39;00m isscalarlike(other):\n\u001B[0;32m    693\u001B[0m     \u001B[38;5;28;01mraise\u001B[39;00m \u001B[38;5;167;01mValueError\u001B[39;00m(\u001B[38;5;124m\"\u001B[39m\u001B[38;5;124mScalar operands are not allowed, \u001B[39m\u001B[38;5;124m\"\u001B[39m\n\u001B[0;32m    694\u001B[0m                      \u001B[38;5;124m\"\u001B[39m\u001B[38;5;124muse \u001B[39m\u001B[38;5;124m'\u001B[39m\u001B[38;5;124m*\u001B[39m\u001B[38;5;124m'\u001B[39m\u001B[38;5;124m instead\u001B[39m\u001B[38;5;124m\"\u001B[39m)\n\u001B[1;32m--> 695\u001B[0m \u001B[38;5;28;01mreturn\u001B[39;00m \u001B[38;5;28mself\u001B[39m\u001B[38;5;241m.\u001B[39m_matmul_dispatch(other)\n",
      "File \u001B[1;32m~\\anaconda3\\Lib\\site-packages\\scipy\\sparse\\_base.py:606\u001B[0m, in \u001B[0;36m_spbase._matmul_dispatch\u001B[1;34m(self, other)\u001B[0m\n\u001B[0;32m    604\u001B[0m     \u001B[38;5;28;01mif\u001B[39;00m other\u001B[38;5;241m.\u001B[39mndim \u001B[38;5;241m==\u001B[39m \u001B[38;5;241m1\u001B[39m:\n\u001B[0;32m    605\u001B[0m         \u001B[38;5;28;01mraise\u001B[39;00m \u001B[38;5;167;01mValueError\u001B[39;00m(\u001B[38;5;124m'\u001B[39m\u001B[38;5;124mCannot yet multiply a 1d sparse array\u001B[39m\u001B[38;5;124m'\u001B[39m)\n\u001B[1;32m--> 606\u001B[0m     \u001B[38;5;28;01mreturn\u001B[39;00m \u001B[38;5;28mself\u001B[39m\u001B[38;5;241m.\u001B[39m_matmul_sparse(other)\n\u001B[0;32m    608\u001B[0m \u001B[38;5;66;03m# If it's a list or whatever, treat it like an array\u001B[39;00m\n\u001B[0;32m    609\u001B[0m other_a \u001B[38;5;241m=\u001B[39m np\u001B[38;5;241m.\u001B[39masanyarray(other)\n",
      "File \u001B[1;32m~\\anaconda3\\Lib\\site-packages\\scipy\\sparse\\_compressed.py:520\u001B[0m, in \u001B[0;36m_cs_matrix._matmul_sparse\u001B[1;34m(self, other)\u001B[0m\n\u001B[0;32m    516\u001B[0m idx_dtype \u001B[38;5;241m=\u001B[39m \u001B[38;5;28mself\u001B[39m\u001B[38;5;241m.\u001B[39m_get_index_dtype((\u001B[38;5;28mself\u001B[39m\u001B[38;5;241m.\u001B[39mindptr, \u001B[38;5;28mself\u001B[39m\u001B[38;5;241m.\u001B[39mindices,\n\u001B[0;32m    517\u001B[0m                              other\u001B[38;5;241m.\u001B[39mindptr, other\u001B[38;5;241m.\u001B[39mindices))\n\u001B[0;32m    519\u001B[0m fn \u001B[38;5;241m=\u001B[39m \u001B[38;5;28mgetattr\u001B[39m(_sparsetools, \u001B[38;5;28mself\u001B[39m\u001B[38;5;241m.\u001B[39mformat \u001B[38;5;241m+\u001B[39m \u001B[38;5;124m'\u001B[39m\u001B[38;5;124m_matmat_maxnnz\u001B[39m\u001B[38;5;124m'\u001B[39m)\n\u001B[1;32m--> 520\u001B[0m nnz \u001B[38;5;241m=\u001B[39m fn(M, N,\n\u001B[0;32m    521\u001B[0m          np\u001B[38;5;241m.\u001B[39masarray(\u001B[38;5;28mself\u001B[39m\u001B[38;5;241m.\u001B[39mindptr, dtype\u001B[38;5;241m=\u001B[39midx_dtype),\n\u001B[0;32m    522\u001B[0m          np\u001B[38;5;241m.\u001B[39masarray(\u001B[38;5;28mself\u001B[39m\u001B[38;5;241m.\u001B[39mindices, dtype\u001B[38;5;241m=\u001B[39midx_dtype),\n\u001B[0;32m    523\u001B[0m          np\u001B[38;5;241m.\u001B[39masarray(other\u001B[38;5;241m.\u001B[39mindptr, dtype\u001B[38;5;241m=\u001B[39midx_dtype),\n\u001B[0;32m    524\u001B[0m          np\u001B[38;5;241m.\u001B[39masarray(other\u001B[38;5;241m.\u001B[39mindices, dtype\u001B[38;5;241m=\u001B[39midx_dtype))\n\u001B[0;32m    526\u001B[0m idx_dtype \u001B[38;5;241m=\u001B[39m \u001B[38;5;28mself\u001B[39m\u001B[38;5;241m.\u001B[39m_get_index_dtype((\u001B[38;5;28mself\u001B[39m\u001B[38;5;241m.\u001B[39mindptr, \u001B[38;5;28mself\u001B[39m\u001B[38;5;241m.\u001B[39mindices,\n\u001B[0;32m    527\u001B[0m                              other\u001B[38;5;241m.\u001B[39mindptr, other\u001B[38;5;241m.\u001B[39mindices),\n\u001B[0;32m    528\u001B[0m                             maxval\u001B[38;5;241m=\u001B[39mnnz)\n\u001B[0;32m    530\u001B[0m indptr \u001B[38;5;241m=\u001B[39m np\u001B[38;5;241m.\u001B[39mempty(major_axis \u001B[38;5;241m+\u001B[39m \u001B[38;5;241m1\u001B[39m, dtype\u001B[38;5;241m=\u001B[39midx_dtype)\n",
      "\u001B[1;31mKeyboardInterrupt\u001B[0m: "
     ]
    }
   ],
   "execution_count": 110
  },
  {
   "metadata": {
    "ExecuteTime": {
     "end_time": "2025-06-20T15:28:32.989579Z",
     "start_time": "2025-06-20T15:28:32.936506Z"
    }
   },
   "cell_type": "code",
   "source": [
    "from sklearn.cluster import AgglomerativeClustering\n",
    "\n",
    "model = AgglomerativeClustering(n_clusters=3, metric='cosine', linkage='average')\n",
    "labels = model.fit_predict(X_tfidf.toarray())\n",
    "\n",
    "data_combined['cluster'] = labels"
   ],
   "id": "686140163d9a6be3",
   "outputs": [
    {
     "ename": "MemoryError",
     "evalue": "Unable to allocate 26.7 GiB for an array with shape (717268, 5000) and data type float64",
     "output_type": "error",
     "traceback": [
      "\u001B[1;31m---------------------------------------------------------------------------\u001B[0m",
      "\u001B[1;31mMemoryError\u001B[0m                               Traceback (most recent call last)",
      "Cell \u001B[1;32mIn[109], line 4\u001B[0m\n\u001B[0;32m      1\u001B[0m \u001B[38;5;28;01mfrom\u001B[39;00m \u001B[38;5;21;01msklearn\u001B[39;00m\u001B[38;5;21;01m.\u001B[39;00m\u001B[38;5;21;01mcluster\u001B[39;00m \u001B[38;5;28;01mimport\u001B[39;00m AgglomerativeClustering\n\u001B[0;32m      3\u001B[0m model \u001B[38;5;241m=\u001B[39m AgglomerativeClustering(n_clusters\u001B[38;5;241m=\u001B[39m\u001B[38;5;241m3\u001B[39m, metric\u001B[38;5;241m=\u001B[39m\u001B[38;5;124m'\u001B[39m\u001B[38;5;124mcosine\u001B[39m\u001B[38;5;124m'\u001B[39m, linkage\u001B[38;5;241m=\u001B[39m\u001B[38;5;124m'\u001B[39m\u001B[38;5;124maverage\u001B[39m\u001B[38;5;124m'\u001B[39m)\n\u001B[1;32m----> 4\u001B[0m labels \u001B[38;5;241m=\u001B[39m model\u001B[38;5;241m.\u001B[39mfit_predict(X_tfidf\u001B[38;5;241m.\u001B[39mtoarray())\n\u001B[0;32m      6\u001B[0m data_combined[\u001B[38;5;124m'\u001B[39m\u001B[38;5;124mcluster\u001B[39m\u001B[38;5;124m'\u001B[39m] \u001B[38;5;241m=\u001B[39m labels\n",
      "File \u001B[1;32m~\\anaconda3\\Lib\\site-packages\\scipy\\sparse\\_compressed.py:1106\u001B[0m, in \u001B[0;36m_cs_matrix.toarray\u001B[1;34m(self, order, out)\u001B[0m\n\u001B[0;32m   1104\u001B[0m \u001B[38;5;28;01mif\u001B[39;00m out \u001B[38;5;129;01mis\u001B[39;00m \u001B[38;5;28;01mNone\u001B[39;00m \u001B[38;5;129;01mand\u001B[39;00m order \u001B[38;5;129;01mis\u001B[39;00m \u001B[38;5;28;01mNone\u001B[39;00m:\n\u001B[0;32m   1105\u001B[0m     order \u001B[38;5;241m=\u001B[39m \u001B[38;5;28mself\u001B[39m\u001B[38;5;241m.\u001B[39m_swap(\u001B[38;5;124m'\u001B[39m\u001B[38;5;124mcf\u001B[39m\u001B[38;5;124m'\u001B[39m)[\u001B[38;5;241m0\u001B[39m]\n\u001B[1;32m-> 1106\u001B[0m out \u001B[38;5;241m=\u001B[39m \u001B[38;5;28mself\u001B[39m\u001B[38;5;241m.\u001B[39m_process_toarray_args(order, out)\n\u001B[0;32m   1107\u001B[0m \u001B[38;5;28;01mif\u001B[39;00m \u001B[38;5;129;01mnot\u001B[39;00m (out\u001B[38;5;241m.\u001B[39mflags\u001B[38;5;241m.\u001B[39mc_contiguous \u001B[38;5;129;01mor\u001B[39;00m out\u001B[38;5;241m.\u001B[39mflags\u001B[38;5;241m.\u001B[39mf_contiguous):\n\u001B[0;32m   1108\u001B[0m     \u001B[38;5;28;01mraise\u001B[39;00m \u001B[38;5;167;01mValueError\u001B[39;00m(\u001B[38;5;124m'\u001B[39m\u001B[38;5;124mOutput array must be C or F contiguous\u001B[39m\u001B[38;5;124m'\u001B[39m)\n",
      "File \u001B[1;32m~\\anaconda3\\Lib\\site-packages\\scipy\\sparse\\_base.py:1327\u001B[0m, in \u001B[0;36m_spbase._process_toarray_args\u001B[1;34m(self, order, out)\u001B[0m\n\u001B[0;32m   1325\u001B[0m     \u001B[38;5;28;01mreturn\u001B[39;00m out\n\u001B[0;32m   1326\u001B[0m \u001B[38;5;28;01melse\u001B[39;00m:\n\u001B[1;32m-> 1327\u001B[0m     \u001B[38;5;28;01mreturn\u001B[39;00m np\u001B[38;5;241m.\u001B[39mzeros(\u001B[38;5;28mself\u001B[39m\u001B[38;5;241m.\u001B[39mshape, dtype\u001B[38;5;241m=\u001B[39m\u001B[38;5;28mself\u001B[39m\u001B[38;5;241m.\u001B[39mdtype, order\u001B[38;5;241m=\u001B[39morder)\n",
      "\u001B[1;31mMemoryError\u001B[0m: Unable to allocate 26.7 GiB for an array with shape (717268, 5000) and data type float64"
     ]
    }
   ],
   "execution_count": 109
  },
  {
   "metadata": {},
   "cell_type": "markdown",
   "source": [
    "#### 3.2 plan b\n",
    "\n",
    "Цель:\n",
    "\n",
    "Сгруппировать вакансии с похожими названиями (на русском и английском, с разным порядком слов) и для каждой группы собрать топ-скиллов.\n",
    "1. Предобработка текста вакансий и скиллов\n",
    "\n",
    "    Очистка и нормализация текста:\n",
    "\n",
    "        Привести к нижнему регистру (lowercase).\n",
    "\n",
    "        Убрать пунктуацию и спецсимволы.\n",
    "\n",
    "        Убрать лишние пробелы.\n",
    "\n",
    "        Заменить числа на пустоту или единый токен.\n",
    "\n",
    "        Заменить синонимы и вариации вручную (например, “разработчик python” = “python разработчик” = “python developer”).\n",
    "\n",
    "    Почему?\n",
    "    Убираем шум и стандартизируем, чтобы простые текстовые сравнения были эффективнее.\n",
    "\n",
    "2. Представление вакансий числовыми векторами (эмбеддингами)\n",
    "\n",
    "    Использовать предобученные языковые модели с мультилингвальной поддержкой:\n",
    "\n",
    "        Multilingual Sentence Transformers (например, sentence-transformers/paraphrase-multilingual-MiniLM) — создают вектор для каждого текста (названия вакансии).\n",
    "\n",
    "        Или простые TF-IDF векторы для быстрой проверки (хотя хуже по смыслу).\n",
    "\n",
    "    Почему?\n",
    "    Чтобы понять не просто точное совпадение текста, а смысловую близость, даже если порядок слов разный или часть слов отличается.\n",
    "\n",
    "3. Кластеризация вакансий по смыслу\n",
    "\n",
    "    Применить кластеризацию к эмбеддингам вакансий:\n",
    "\n",
    "        Алгоритмы: DBSCAN, HDBSCAN (не требует заранее задавать число кластеров, умеет выделять шум).\n",
    "\n",
    "        Или Agglomerative Clustering с порогом расстояния.\n",
    "\n",
    "    Почему?\n",
    "    Чтобы автоматически сгруппировать похожие вакансии вместе (например, все варианты \"python developer\" в один кластер).\n",
    "\n",
    "4. Обработка скиллов в каждой группе\n",
    "\n",
    "    Для каждой группы вакансий собрать все скиллы из вакансий этого кластера.\n",
    "\n",
    "    Подсчитать частоту каждого скилла.\n",
    "\n",
    "    Отсортировать по убыванию и выбрать топ N (например, топ 10).\n",
    "\n",
    "    Можно применить ту же очистку скиллов, как в пункте 1 (привести к нижнему регистру, убрать лишние символы).\n",
    "\n",
    "5. Проверка и корректировка результатов\n",
    "\n",
    "    Проанализировать образовавшиеся кластеры.\n",
    "\n",
    "    При необходимости вручную добавить синонимы в словарь для замены.\n",
    "\n",
    "    Проверить топ-скиллы — убрать слишком общие, нерелевантные.\n",
    "\n",
    "Итог:\n",
    "Вакансия (кластер)\tТоп-скиллы\n",
    "python developer / питон разработчик\tpython, django, sql, git, ...\n",
    "data analyst / аналитик данных\tsql, tableau, excel, power bi\n",
    "Инструменты:\n",
    "\n",
    "    Python: pandas, numpy\n",
    "\n",
    "    Очистка текста: re, str.lower(), словари для замены\n",
    "\n",
    "    Векторизация: sentence-transformers, scikit-learn (TF-IDF)\n",
    "\n",
    "    Кластеризация: hdbscan, sklearn.cluster\n",
    "\n",
    "    Подсчёт частот: collections.Counter или pandas.Series.value_counts()\n",
    "\n"
   ],
   "id": "2aa483f4f9ec9da2"
  },
  {
   "metadata": {
    "ExecuteTime": {
     "end_time": "2025-06-17T20:43:55.235963Z",
     "start_time": "2025-06-17T20:43:55.229265Z"
    }
   },
   "cell_type": "code",
   "outputs": [],
   "execution_count": 29,
   "source": "# todo: plan b :)",
   "id": "f4993674991a406e"
  },
  {
   "metadata": {},
   "cell_type": "code",
   "outputs": [],
   "execution_count": null,
   "source": "",
   "id": "bca5597014b6977"
  },
  {
   "metadata": {},
   "cell_type": "code",
   "outputs": [],
   "execution_count": null,
   "source": "",
   "id": "39499f78e6e36a4c"
  }
 ],
 "metadata": {
  "kernelspec": {
   "display_name": "Python 3",
   "language": "python",
   "name": "python3"
  },
  "language_info": {
   "codemirror_mode": {
    "name": "ipython",
    "version": 2
   },
   "file_extension": ".py",
   "mimetype": "text/x-python",
   "name": "python",
   "nbconvert_exporter": "python",
   "pygments_lexer": "ipython2",
   "version": "2.7.6"
  }
 },
 "nbformat": 4,
 "nbformat_minor": 5
}
