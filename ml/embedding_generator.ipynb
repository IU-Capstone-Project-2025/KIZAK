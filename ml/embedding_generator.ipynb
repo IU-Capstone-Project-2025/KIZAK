{
 "cells": [
  {
   "metadata": {},
   "cell_type": "markdown",
   "source": "# Download Multi-Platform Online Courses Dataset from Kaggle",
   "id": "25b381940dbfecdd"
  },
  {
   "metadata": {
    "collapsed": true,
    "ExecuteTime": {
     "end_time": "2025-06-29T21:22:12.132287Z",
     "start_time": "2025-06-29T21:22:11.343218Z"
    }
   },
   "cell_type": "code",
   "source": [
    "import kagglehub\n",
    "\n",
    "# Download latest version\n",
    "path = kagglehub.dataset_download(\"everydaycodings/multi-platform-online-courses-dataset\")\n",
    "\n",
    "print(\"Path to dataset files:\", path)"
   ],
   "id": "initial_id",
   "outputs": [
    {
     "name": "stdout",
     "output_type": "stream",
     "text": [
      "Path to dataset files: C:\\Users\\flees\\.cache\\kagglehub\\datasets\\everydaycodings\\multi-platform-online-courses-dataset\\versions\\2\n"
     ]
    }
   ],
   "execution_count": 13
  },
  {
   "metadata": {},
   "cell_type": "markdown",
   "source": "## Functions to clean kaggle datasets",
   "id": "8d13545c236a6a9c"
  },
  {
   "metadata": {
    "ExecuteTime": {
     "end_time": "2025-06-29T21:22:12.230254Z",
     "start_time": "2025-06-29T21:22:12.200557Z"
    }
   },
   "cell_type": "code",
   "source": [
    "import pandas as pd\n",
    "import numpy as np\n",
    "\n",
    "target_columns = [\n",
    "    'url', 'title', 'author', 'students', 'rating',\n",
    "    'difficulty', 'skills', 'description', 'price', 'source'\n",
    "]\n",
    "\n",
    "coursera_rename_map = {\n",
    "    'course': 'title',\n",
    "    'reviewcount': 'students',\n",
    "    'level': 'difficulty'\n",
    "}\n",
    "\n",
    "coursera_kaggle_df = pd.read_csv(\"multi-platform-online-courses-dataset/Coursera.csv\")\n",
    "print(f\"Columns before preprocessing: \\n{coursera_kaggle_df.columns}\\nSize: {len(coursera_kaggle_df)}\\n\")\n",
    "\n",
    "# rename columns using map\n",
    "coursera_kaggle_df = coursera_kaggle_df.rename(columns=coursera_rename_map)\n",
    "# delete non-target columns\n",
    "coursera_kaggle_df = coursera_kaggle_df[[col for col in coursera_kaggle_df.columns if col in target_columns]]\n",
    "\n",
    "for col in target_columns:\n",
    "    if col not in coursera_kaggle_df.columns:\n",
    "        coursera_kaggle_df[col] = np.nan\n",
    "\n",
    "coursera_kaggle_df = coursera_kaggle_df[target_columns]\n",
    "\n",
    "coursera_kaggle_df = coursera_kaggle_df[~coursera_kaggle_df['skills'].isna()]\n",
    "coursera_kaggle_df = coursera_kaggle_df[coursera_kaggle_df['skills'].astype(str).str.strip() != \"\"]\n",
    "coursera_kaggle_df = coursera_kaggle_df[coursera_kaggle_df['skills'].astype(str) != \"[]\"]\n",
    "\n",
    "print(f\"Columns after preprocessing: \\n{coursera_kaggle_df.columns}\\nSize: {len(coursera_kaggle_df)}\")"
   ],
   "id": "421a7a34cb5f26d4",
   "outputs": [
    {
     "name": "stdout",
     "output_type": "stream",
     "text": [
      "Columns before preprocessing: \n",
      "Index(['partner', 'course', 'skills', 'rating', 'reviewcount', 'level',\n",
      "       'certificatetype', 'duration', 'crediteligibility'],\n",
      "      dtype='object')\n",
      "Size: 1139\n",
      "\n",
      "Columns after preprocessing: \n",
      "Index(['url', 'title', 'author', 'students', 'rating', 'difficulty', 'skills',\n",
      "       'description', 'price', 'source'],\n",
      "      dtype='object')\n",
      "Size: 1088\n"
     ]
    }
   ],
   "execution_count": 14
  },
  {
   "metadata": {},
   "cell_type": "markdown",
   "source": "## Clean edx data set",
   "id": "cf6b1521b30e2b4f"
  },
  {
   "metadata": {
    "ExecuteTime": {
     "end_time": "2025-06-29T21:22:12.309382Z",
     "start_time": "2025-06-29T21:22:12.261891Z"
    }
   },
   "cell_type": "code",
   "source": [
    "edx_kaggle_df = pd.read_csv(\"multi-platform-online-courses-dataset/edx.csv\")\n",
    "print(f\"Columns before preprocessing: \\n{edx_kaggle_df.columns}\\nSize: {len(edx_kaggle_df)}\\n\")\n",
    "\n",
    "edx_rename_map = {\n",
    "    'link': 'url',\n",
    "    'institution': 'author',\n",
    "    'level': 'difficulty',\n",
    "    'associatedskills': 'skills'\n",
    "}\n",
    "\n",
    "# rename columns using map\n",
    "edx_kaggle_df = edx_kaggle_df.rename(columns=edx_rename_map)\n",
    "\n",
    "edx_kaggle_df = edx_kaggle_df[edx_kaggle_df['language'] == \"English\"]\n",
    "\n",
    "valid_subjects = [\"Data Analysis & Statistics\", \"Computer Science\"]\n",
    "edx_kaggle_df = edx_kaggle_df[edx_kaggle_df[\"subject\"].isin(valid_subjects)]\n",
    "\n",
    "# delete non-target columns\n",
    "edx_kaggle_df = edx_kaggle_df[[col for col in edx_kaggle_df.columns if col in target_columns]]\n",
    "\n",
    "# add missing target columns\n",
    "for col in target_columns:\n",
    "    if col not in edx_kaggle_df.columns:\n",
    "        edx_kaggle_df[col] = np.nan\n",
    "\n",
    "\n",
    "edx_kaggle_df[\"source\"] = \"edx\"\n",
    "\n",
    "edx_kaggle_df = edx_kaggle_df[target_columns]\n",
    "\n",
    "edx_kaggle_df = edx_kaggle_df[~edx_kaggle_df['skills'].isna()]\n",
    "edx_kaggle_df = edx_kaggle_df[edx_kaggle_df['skills'].astype(str).str.strip() != \"\"]\n",
    "edx_kaggle_df = edx_kaggle_df[edx_kaggle_df['skills'].astype(str) != \"[]\"]\n",
    "\n",
    "\n",
    "print(f\"Columns after preprocessing: \\n{edx_kaggle_df.columns}\\nSize: {len(edx_kaggle_df)}\")\n"
   ],
   "id": "b1ba8c653c692a3f",
   "outputs": [
    {
     "name": "stdout",
     "output_type": "stream",
     "text": [
      "Columns before preprocessing: \n",
      "Index(['title', 'link', 'institution', 'subject', 'level', 'prerequisites',\n",
      "       'language', 'videotranscript', 'associatedprograms',\n",
      "       'associatedskills'],\n",
      "      dtype='object')\n",
      "Size: 816\n",
      "\n",
      "Columns after preprocessing: \n",
      "Index(['url', 'title', 'author', 'students', 'rating', 'difficulty', 'skills',\n",
      "       'description', 'price', 'source'],\n",
      "      dtype='object')\n",
      "Size: 210\n"
     ]
    }
   ],
   "execution_count": 15
  },
  {
   "metadata": {},
   "cell_type": "markdown",
   "source": [
    "## Move files into ml directory & check content\n",
    "\n",
    " We will not use skillshare.csv and Udemy.csv dataset due to lack of skill columns.\n",
    "\n"
   ],
   "id": "1674c3d405093f16"
  },
  {
   "metadata": {
    "ExecuteTime": {
     "end_time": "2025-06-29T21:22:12.374316Z",
     "start_time": "2025-06-29T21:22:12.343090Z"
    }
   },
   "cell_type": "code",
   "source": [
    "import os\n",
    "\n",
    "path = \"multi-platform-online-courses-dataset\"\n",
    "datasets = []\n",
    "df = pd.DataFrame()\n",
    "\n",
    "for filename in os.listdir(path):\n",
    "    if filename.endswith(\".json\"):\n",
    "        dataset = pd.read_json(os.path.join(path, filename))\n",
    "        datasets.append(dataset)\n",
    "        df = pd.concat([df, dataset], ignore_index=True)\n",
    "        print(filename)\n",
    "        print(f\"{dataset.columns}\\n\\n\")\n",
    "\n",
    "df = pd.concat([df, edx_kaggle_df], ignore_index=True)\n",
    "\n",
    "df.to_csv(\"courses.csv\", index=False)"
   ],
   "id": "8c881a26795846c7",
   "outputs": [
    {
     "name": "stdout",
     "output_type": "stream",
     "text": [
      "coursera_clear.json\n",
      "Index(['url', 'title', 'author', 'students', 'rating', 'difficulty', 'skills',\n",
      "       'description', 'price', 'source'],\n",
      "      dtype='object')\n",
      "\n",
      "\n",
      "stepik_clear.json\n",
      "Index(['url', 'title', 'author', 'students', 'rating', 'difficulty', 'skills',\n",
      "       'description', 'price', 'source'],\n",
      "      dtype='object')\n",
      "\n",
      "\n"
     ]
    }
   ],
   "execution_count": 16
  },
  {
   "metadata": {},
   "cell_type": "markdown",
   "source": [
    "## Data normalization\n",
    "\n",
    "#### Skills normalization\n",
    "Google Cloud, Cloud Computing, Network Security, Management, Cloud Automation ----> ['Google Cloud', 'Cloud Computing', 'Network Security', 'Management', 'Cloud Automation']"
   ],
   "id": "d6edada349310f03"
  },
  {
   "metadata": {
    "ExecuteTime": {
     "end_time": "2025-06-29T21:22:12.440753Z",
     "start_time": "2025-06-29T21:22:12.406654Z"
    }
   },
   "cell_type": "code",
   "outputs": [],
   "execution_count": 17,
   "source": [
    "def normalize_skills(skills):\n",
    "    if isinstance(skills, str):\n",
    "        return [skill for skill in skills.split(\", \")]\n",
    "    elif isinstance(skills, list):\n",
    "        return skills\n",
    "\n",
    "df[\"skills\"] = df[\"skills\"].apply(normalize_skills)\n",
    "df.to_csv(\"courses1.csv\", index=False)"
   ],
   "id": "abb913c058c569be"
  },
  {
   "metadata": {},
   "cell_type": "markdown",
   "source": "## Generate pseudo-description for missing values",
   "id": "121496eb3c6594cb"
  },
  {
   "metadata": {
    "ExecuteTime": {
     "end_time": "2025-06-29T21:22:12.477563Z",
     "start_time": "2025-06-29T21:22:12.456781Z"
    }
   },
   "cell_type": "code",
   "source": [
    "# import requests\n",
    "#\n",
    "# def generate_pseudo_description(course_line):\n",
    "#     skills_str = \", \".join(course_line[\"skills\"]) if isinstance(course_line[\"skills\"], list) else str(course_line[\"skills\"])\n",
    "#     title = course_line.get(\"title\", \"Untitled course\")\n",
    "#\n",
    "#     prompt = f\"Write a short course description for a course titled '{title}'. The course covers the following skills: {skills_str}.\"\n",
    "#\n",
    "#     try:\n",
    "#         response = requests.post(\n",
    "#             \"http://localhost:11434/api/generate\",  # или другой порт, который ты настроила в Docker\n",
    "#             json={\n",
    "#                 \"model\": \"llama3\",  # замени на свою модель, если другая\n",
    "#                 \"prompt\": prompt,\n",
    "#                 \"stream\": False\n",
    "#             }\n",
    "#         )\n",
    "#         response.raise_for_status()\n",
    "#         return response.json()[\"response\"].strip()\n",
    "#\n",
    "#     except Exception as e:\n",
    "#         print(f\"Error generating description: {e}\")\n",
    "#         return f\"This course will teach you: {skills_str}. It is titled '{title}'.\"\n",
    "#\n",
    "\n",
    "# def generate_pseudo_description(course_line):\n",
    "#     skills_str = str(course_line[\"skills\"])\n",
    "#     return f\"This course will teach you: {skills_str}. It is titled '{course_line['title']}'.\"\n",
    "\n",
    "\n",
    "\n",
    "\n",
    "# df['description'] = df['description'].fillna(df.apply(generate_pseudo_description, axis=1))"
   ],
   "id": "39dc7c54bdd4151a",
   "outputs": [],
   "execution_count": 18
  },
  {
   "metadata": {},
   "cell_type": "markdown",
   "source": "Put .json's in main dataframe",
   "id": "8ab8d23d58d06846"
  },
  {
   "metadata": {
    "ExecuteTime": {
     "end_time": "2025-06-29T21:22:12.509229Z",
     "start_time": "2025-06-29T21:22:12.493257Z"
    }
   },
   "cell_type": "code",
   "source": [
    "def course_to_text(course):\n",
    "    skills_str = str(course[\"skills\"])\n",
    "    return f\"{course['title']} . {course['description']} . Skills: {skills_str}\""
   ],
   "id": "2962672e7d72408e",
   "outputs": [],
   "execution_count": 19
  },
  {
   "metadata": {
    "ExecuteTime": {
     "end_time": "2025-06-29T21:22:24.907177Z",
     "start_time": "2025-06-29T21:22:12.541179Z"
    }
   },
   "cell_type": "code",
   "source": [
    "from sentence_transformers import SentenceTransformer\n",
    "\n",
    "model = SentenceTransformer('all-MiniLM-L6-v2')\n",
    "#\n",
    "# course_texts = [course_to_text(course) for course in df]\n",
    "# embeddings = model.encode(course_texts, show_progress_bar=True)\n"
   ],
   "id": "413663b653fdc31e",
   "outputs": [
    {
     "ename": "TypeError",
     "evalue": "string indices must be integers",
     "output_type": "error",
     "traceback": [
      "\u001B[1;31m---------------------------------------------------------------------------\u001B[0m",
      "\u001B[1;31mTypeError\u001B[0m                                 Traceback (most recent call last)",
      "Cell \u001B[1;32mIn[20], line 5\u001B[0m\n\u001B[0;32m      1\u001B[0m \u001B[38;5;28;01mfrom\u001B[39;00m\u001B[38;5;250m \u001B[39m\u001B[38;5;21;01msentence_transformers\u001B[39;00m\u001B[38;5;250m \u001B[39m\u001B[38;5;28;01mimport\u001B[39;00m SentenceTransformer\n\u001B[0;32m      3\u001B[0m model \u001B[38;5;241m=\u001B[39m SentenceTransformer(\u001B[38;5;124m'\u001B[39m\u001B[38;5;124mall-MiniLM-L6-v2\u001B[39m\u001B[38;5;124m'\u001B[39m)\n\u001B[1;32m----> 5\u001B[0m course_texts \u001B[38;5;241m=\u001B[39m [course_to_text(course) \u001B[38;5;28;01mfor\u001B[39;00m course \u001B[38;5;129;01min\u001B[39;00m df]\n\u001B[0;32m      6\u001B[0m embeddings \u001B[38;5;241m=\u001B[39m model\u001B[38;5;241m.\u001B[39mencode(course_texts, show_progress_bar\u001B[38;5;241m=\u001B[39m\u001B[38;5;28;01mTrue\u001B[39;00m)\n",
      "Cell \u001B[1;32mIn[20], line 5\u001B[0m, in \u001B[0;36m<listcomp>\u001B[1;34m(.0)\u001B[0m\n\u001B[0;32m      1\u001B[0m \u001B[38;5;28;01mfrom\u001B[39;00m\u001B[38;5;250m \u001B[39m\u001B[38;5;21;01msentence_transformers\u001B[39;00m\u001B[38;5;250m \u001B[39m\u001B[38;5;28;01mimport\u001B[39;00m SentenceTransformer\n\u001B[0;32m      3\u001B[0m model \u001B[38;5;241m=\u001B[39m SentenceTransformer(\u001B[38;5;124m'\u001B[39m\u001B[38;5;124mall-MiniLM-L6-v2\u001B[39m\u001B[38;5;124m'\u001B[39m)\n\u001B[1;32m----> 5\u001B[0m course_texts \u001B[38;5;241m=\u001B[39m [\u001B[43mcourse_to_text\u001B[49m\u001B[43m(\u001B[49m\u001B[43mcourse\u001B[49m\u001B[43m)\u001B[49m \u001B[38;5;28;01mfor\u001B[39;00m course \u001B[38;5;129;01min\u001B[39;00m df]\n\u001B[0;32m      6\u001B[0m embeddings \u001B[38;5;241m=\u001B[39m model\u001B[38;5;241m.\u001B[39mencode(course_texts, show_progress_bar\u001B[38;5;241m=\u001B[39m\u001B[38;5;28;01mTrue\u001B[39;00m)\n",
      "Cell \u001B[1;32mIn[19], line 2\u001B[0m, in \u001B[0;36mcourse_to_text\u001B[1;34m(course)\u001B[0m\n\u001B[0;32m      1\u001B[0m \u001B[38;5;28;01mdef\u001B[39;00m\u001B[38;5;250m \u001B[39m\u001B[38;5;21mcourse_to_text\u001B[39m(course):\n\u001B[1;32m----> 2\u001B[0m     skills_str \u001B[38;5;241m=\u001B[39m \u001B[38;5;28mstr\u001B[39m(\u001B[43mcourse\u001B[49m\u001B[43m[\u001B[49m\u001B[38;5;124;43m\"\u001B[39;49m\u001B[38;5;124;43mskills\u001B[39;49m\u001B[38;5;124;43m\"\u001B[39;49m\u001B[43m]\u001B[49m)\n\u001B[0;32m      3\u001B[0m     \u001B[38;5;28;01mreturn\u001B[39;00m \u001B[38;5;124mf\u001B[39m\u001B[38;5;124m\"\u001B[39m\u001B[38;5;132;01m{\u001B[39;00mcourse[\u001B[38;5;124m'\u001B[39m\u001B[38;5;124mtitle\u001B[39m\u001B[38;5;124m'\u001B[39m]\u001B[38;5;132;01m}\u001B[39;00m\u001B[38;5;124m . \u001B[39m\u001B[38;5;132;01m{\u001B[39;00mcourse[\u001B[38;5;124m'\u001B[39m\u001B[38;5;124mdescription\u001B[39m\u001B[38;5;124m'\u001B[39m]\u001B[38;5;132;01m}\u001B[39;00m\u001B[38;5;124m . Skills: \u001B[39m\u001B[38;5;132;01m{\u001B[39;00mskills_str\u001B[38;5;132;01m}\u001B[39;00m\u001B[38;5;124m\"\u001B[39m\n",
      "\u001B[1;31mTypeError\u001B[0m: string indices must be integers"
     ]
    }
   ],
   "execution_count": 20
  }
 ],
 "metadata": {
  "kernelspec": {
   "display_name": "Python 3",
   "language": "python",
   "name": "python3"
  },
  "language_info": {
   "codemirror_mode": {
    "name": "ipython",
    "version": 2
   },
   "file_extension": ".py",
   "mimetype": "text/x-python",
   "name": "python",
   "nbconvert_exporter": "python",
   "pygments_lexer": "ipython2",
   "version": "2.7.6"
  }
 },
 "nbformat": 4,
 "nbformat_minor": 5
}
